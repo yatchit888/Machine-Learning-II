{
 "cells": [
  {
   "cell_type": "markdown",
   "metadata": {},
   "source": [
    "### Assignmant 7\n",
    "Instructions\n",
    "This task tests your ability to apply Video processing and Face detection techniques to place a cartoon mask instead of your face in the video.\n",
    "\n",
    "Please take the help of the attached notebook which contains the helper code to detect faces from webcam video."
   ]
  },
  {
   "cell_type": "code",
   "execution_count": 2,
   "metadata": {},
   "outputs": [
    {
     "ename": "KeyboardInterrupt",
     "evalue": "",
     "output_type": "error",
     "traceback": [
      "\u001b[1;31m---------------------------------------------------------------------------\u001b[0m",
      "\u001b[1;31mKeyboardInterrupt\u001b[0m                         Traceback (most recent call last)",
      "\u001b[1;32mc:\\Users\\yatch\\Desktop\\Machine Learning II\\Module 13_Videos\\YatChit_Task7_Cartoonify_Faces.ipynb Cell 2\u001b[0m line \u001b[0;36m1\n\u001b[0;32m     <a href='vscode-notebook-cell:/c%3A/Users/yatch/Desktop/Machine%20Learning%20II/Module%2013_Videos/YatChit_Task7_Cartoonify_Faces.ipynb#W1sZmlsZQ%3D%3D?line=13'>14</a>\u001b[0m ret, frame \u001b[39m=\u001b[39m video_capture\u001b[39m.\u001b[39mread()\n\u001b[0;32m     <a href='vscode-notebook-cell:/c%3A/Users/yatch/Desktop/Machine%20Learning%20II/Module%2013_Videos/YatChit_Task7_Cartoonify_Faces.ipynb#W1sZmlsZQ%3D%3D?line=14'>15</a>\u001b[0m gray \u001b[39m=\u001b[39m cv2\u001b[39m.\u001b[39mcvtColor(frame, cv2\u001b[39m.\u001b[39mCOLOR_BGR2GRAY)\n\u001b[1;32m---> <a href='vscode-notebook-cell:/c%3A/Users/yatch/Desktop/Machine%20Learning%20II/Module%2013_Videos/YatChit_Task7_Cartoonify_Faces.ipynb#W1sZmlsZQ%3D%3D?line=15'>16</a>\u001b[0m faces \u001b[39m=\u001b[39m faceCascade\u001b[39m.\u001b[39;49mdetectMultiScale(gray, scaleFactor\u001b[39m=\u001b[39;49m\u001b[39m1.1\u001b[39;49m, minNeighbors\u001b[39m=\u001b[39;49m\u001b[39m5\u001b[39;49m, minSize\u001b[39m=\u001b[39;49m(\u001b[39m60\u001b[39;49m, \u001b[39m60\u001b[39;49m), flags\u001b[39m=\u001b[39;49mcv2\u001b[39m.\u001b[39;49mCASCADE_SCALE_IMAGE)\n\u001b[0;32m     <a href='vscode-notebook-cell:/c%3A/Users/yatch/Desktop/Machine%20Learning%20II/Module%2013_Videos/YatChit_Task7_Cartoonify_Faces.ipynb#W1sZmlsZQ%3D%3D?line=16'>17</a>\u001b[0m \u001b[39mfor\u001b[39;00m (x, y, w, h) \u001b[39min\u001b[39;00m faces:\n\u001b[0;32m     <a href='vscode-notebook-cell:/c%3A/Users/yatch/Desktop/Machine%20Learning%20II/Module%2013_Videos/YatChit_Task7_Cartoonify_Faces.ipynb#W1sZmlsZQ%3D%3D?line=17'>18</a>\u001b[0m     \u001b[39m# Resize the cartoon image to fit on face\u001b[39;00m\n\u001b[0;32m     <a href='vscode-notebook-cell:/c%3A/Users/yatch/Desktop/Machine%20Learning%20II/Module%2013_Videos/YatChit_Task7_Cartoonify_Faces.ipynb#W1sZmlsZQ%3D%3D?line=18'>19</a>\u001b[0m     resized_cartoon \u001b[39m=\u001b[39m cv2\u001b[39m.\u001b[39mresize(imgCartoon, (w, h))\n",
      "\u001b[1;31mKeyboardInterrupt\u001b[0m: "
     ]
    }
   ],
   "source": [
    "import cv2\n",
    "import os\n",
    "import numpy as np\n",
    "\n",
    "cascPathface = os.path.dirname(cv2.__file__) + \"/data/haarcascade_frontalface_alt2.xml\"\n",
    "faceCascade = cv2.CascadeClassifier(cascPathface)\n",
    "\n",
    "# Load the overlay image: mask.png\n",
    "imgCartoon = cv2.imread('mask.png')\n",
    "\n",
    "video_capture = cv2.VideoCapture(0)\n",
    "while True:\n",
    "    # Capture frame-by-frame\n",
    "    ret, frame = video_capture.read()\n",
    "    gray = cv2.cvtColor(frame, cv2.COLOR_BGR2GRAY)\n",
    "    faces = faceCascade.detectMultiScale(gray, scaleFactor=1.1, minNeighbors=5, minSize=(60, 60), flags=cv2.CASCADE_SCALE_IMAGE)\n",
    "    for (x, y, w, h) in faces:\n",
    "        # Resize the cartoon image to fit on face\n",
    "        resized_cartoon = cv2.resize(imgCartoon, (w, h))\n",
    "        mask_cartoon = cv2.cvtColor(resized_cartoon, cv2.COLOR_BGR2GRAY)\n",
    "        _, mask_cartoon = cv2.threshold(mask_cartoon, 1, 255, cv2.THRESH_BINARY_INV)\n",
    "        roi = frame[y:y+h, x:x+w]\n",
    "        roi_no_cartoon = cv2.bitwise_and(roi, roi, mask=mask_cartoon)\n",
    "        roi_cartoon = cv2.bitwise_and(resized_cartoon, resized_cartoon, mask=~mask_cartoon)\n",
    "        frame[y:y+h, x:x+w] = cv2.add(roi_no_cartoon, roi_cartoon)\n",
    "\n",
    "    # Display the resulting frame\n",
    "    cv2.imshow('Video', frame)\n",
    "    if cv2.waitKey(1) & 0xFF == ord('q'):\n",
    "        break\n",
    "\n",
    "video_capture.release()\n",
    "cv2.destroyAllWindows()"
   ]
  }
 ],
 "metadata": {
  "kernelspec": {
   "display_name": "Python 3",
   "language": "python",
   "name": "python3"
  },
  "language_info": {
   "codemirror_mode": {
    "name": "ipython",
    "version": 3
   },
   "file_extension": ".py",
   "mimetype": "text/x-python",
   "name": "python",
   "nbconvert_exporter": "python",
   "pygments_lexer": "ipython3",
   "version": "3.9.0"
  }
 },
 "nbformat": 4,
 "nbformat_minor": 2
}
