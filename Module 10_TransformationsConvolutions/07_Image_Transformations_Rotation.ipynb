{
 "cells": [
  {
   "cell_type": "markdown",
   "metadata": {},
   "source": [
    "# Image Transformations - Rotation\n",
    "## This notebook outlines the different techniques used on images using OpenCV library\n",
    "\n",
    "**Image Transformations**\n",
    "- Translation\n",
    "- **Rotation**\n",
    "- Resizing"
   ]
  },
  {
   "cell_type": "markdown",
   "metadata": {},
   "source": [
    "### Import the necessary libraries"
   ]
  },
  {
   "cell_type": "code",
   "execution_count": null,
   "metadata": {},
   "outputs": [],
   "source": []
  },
  {
   "cell_type": "markdown",
   "metadata": {},
   "source": [
    "### Load an image\n",
    "#### imread( )"
   ]
  },
  {
   "cell_type": "code",
   "execution_count": null,
   "metadata": {},
   "outputs": [],
   "source": []
  },
  {
   "cell_type": "code",
   "execution_count": null,
   "metadata": {
    "scrolled": true
   },
   "outputs": [],
   "source": []
  },
  {
   "cell_type": "markdown",
   "metadata": {},
   "source": [
    "### Load your favorite image and display it\n"
   ]
  },
  {
   "cell_type": "code",
   "execution_count": null,
   "metadata": {},
   "outputs": [],
   "source": []
  },
  {
   "cell_type": "markdown",
   "metadata": {},
   "source": [
    "# Rotate an image"
   ]
  },
  {
   "cell_type": "markdown",
   "metadata": {},
   "source": [
    "Rotation is rotating an image by some angle θ\n",
    "- **θ** to represent by how many degrees to rotate the image\n",
    "\n",
    "When we rotate an image, we need to specify **around which point** we want to rotate. In most cases, you will want to rotate around the center of an image; however, OpenCV allows you to specify any **arbitrary point** you want to rotate around. Let’s just go ahead and rotate around the center of the image."
   ]
  },
  {
   "cell_type": "markdown",
   "metadata": {},
   "source": [
    "### Steps\n",
    "- Find the center of the image\n",
    "- Rotation Matrix R\n",
    "- Rotate the image "
   ]
  },
  {
   "cell_type": "markdown",
   "metadata": {},
   "source": [
    "#### Finding the Center of the image"
   ]
  },
  {
   "cell_type": "code",
   "execution_count": null,
   "metadata": {},
   "outputs": [],
   "source": []
  },
  {
   "cell_type": "markdown",
   "metadata": {},
   "source": [
    "#### Rotation Matrix R\n",
    "Hint: Use **getRotationMatrix2D**\n",
    "\n",
    "**cv2.getRotationMatrix2D** function takes three arguments\n",
    "- the point at which we want to rotate the image around\n",
    "- θ, the number of degrees we are going to rotate the image\n",
    "- Scale of the image\n",
    "    - 1.0 --> No change in dimensions\n",
    "    - 2.0 --> Double the size\n",
    "    - 0.5 --> Half the size"
   ]
  },
  {
   "cell_type": "code",
   "execution_count": null,
   "metadata": {},
   "outputs": [],
   "source": []
  },
  {
   "cell_type": "markdown",
   "metadata": {},
   "source": [
    "### cv2. warpAffine function\n",
    "\n",
    "- The first argument is the image we wish to rotate \n",
    "- Second argument is our Rotation matrix R\n",
    "- Third argument is the dimensions (width and height) of our image"
   ]
  },
  {
   "cell_type": "code",
   "execution_count": null,
   "metadata": {},
   "outputs": [],
   "source": []
  },
  {
   "cell_type": "markdown",
   "metadata": {},
   "source": [
    "#### Display the rotated image"
   ]
  },
  {
   "cell_type": "code",
   "execution_count": null,
   "metadata": {},
   "outputs": [],
   "source": []
  },
  {
   "cell_type": "markdown",
   "metadata": {},
   "source": [
    "### Rotate the image by -90 degrees"
   ]
  },
  {
   "cell_type": "code",
   "execution_count": null,
   "metadata": {},
   "outputs": [],
   "source": []
  },
  {
   "cell_type": "markdown",
   "metadata": {},
   "source": [
    "### Rotate the image by 180 degrees"
   ]
  },
  {
   "cell_type": "code",
   "execution_count": null,
   "metadata": {},
   "outputs": [],
   "source": []
  },
  {
   "cell_type": "markdown",
   "metadata": {},
   "source": [
    "### Finally, let's write a helper function **rotate( )** to rotate the image to 10 degrees\n",
    "\n",
    "Name of the function: rotate\n",
    "Parameters: \n",
    "- image\n",
    "- angle in degrees\n",
    "- center\n",
    "- scale"
   ]
  },
  {
   "cell_type": "code",
   "execution_count": 23,
   "metadata": {},
   "outputs": [],
   "source": [
    "def rotate(image, angle, center = None, scale = 1.0):\n",
    "    # Grab the dimensions of the image\n",
    "    \n",
    "    \n",
    "    # Calculate the center\n",
    "    \n",
    "        \n",
    "    # Perform the rotation\n",
    "    \n",
    "    \n",
    "    \n",
    "    return rotated"
   ]
  },
  {
   "cell_type": "code",
   "execution_count": null,
   "metadata": {},
   "outputs": [],
   "source": []
  },
  {
   "cell_type": "markdown",
   "metadata": {},
   "source": [
    "### Rotate the image 10 degrees around a point in the image (200,200)"
   ]
  },
  {
   "cell_type": "code",
   "execution_count": null,
   "metadata": {},
   "outputs": [],
   "source": []
  },
  {
   "cell_type": "markdown",
   "metadata": {},
   "source": [
    "### Homework: Take any misaligned image and rotate them to position correctly\n",
    "- Load the image\n",
    "- Display the image\n",
    "- Note the coordinates for correct positioning\n",
    "- Rotate the image accordingly\n",
    "- Display the Rotated image"
   ]
  },
  {
   "cell_type": "code",
   "execution_count": null,
   "metadata": {},
   "outputs": [],
   "source": []
  }
 ],
 "metadata": {
  "kernelspec": {
   "display_name": "testing",
   "language": "python",
   "name": "testing"
  },
  "language_info": {
   "codemirror_mode": {
    "name": "ipython",
    "version": 3
   },
   "file_extension": ".py",
   "mimetype": "text/x-python",
   "name": "python",
   "nbconvert_exporter": "python",
   "pygments_lexer": "ipython3",
   "version": "3.8.5"
  }
 },
 "nbformat": 4,
 "nbformat_minor": 4
}
