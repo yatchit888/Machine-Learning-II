{
 "cells": [
  {
   "cell_type": "markdown",
   "metadata": {},
   "source": [
    "# Recommendation System - Content Based Filtering\n",
    "## This notebook outlines the concepts involved in Content Based Filtering Recommendation System"
   ]
  },
  {
   "cell_type": "markdown",
   "metadata": {},
   "source": [
    "Dataset: \n",
    "- https://raw.githubusercontent.com/subashgandyer/datasets/main/restaurant_data/restaurants.csv"
   ]
  },
  {
   "cell_type": "markdown",
   "metadata": {},
   "source": [
    "### Steps\n",
    "- Import the necessary libraries\n",
    "- Load the dataset\n",
    "- Prepare the dataset\n",
    "- Compute similarity scores between restaurants\n",
    "    - Use TfidfVectorizer\n",
    "- Recommend top X restaurants for a specific cuisine in some location"
   ]
  },
  {
   "cell_type": "markdown",
   "metadata": {},
   "source": [
    "### Import the necessary libraries"
   ]
  },
  {
   "cell_type": "code",
   "execution_count": 1,
   "metadata": {},
   "outputs": [],
   "source": [
    "import numpy as np \n",
    "import pandas as pd \n",
    "import re\n",
    "from sklearn.feature_extraction.text import TfidfVectorizer\n",
    "from sklearn.metrics.pairwise import linear_kernel\n",
    "from nltk.tokenize import word_tokenize\n",
    "import seaborn as sns\n",
    "import matplotlib.pyplot as plt"
   ]
  },
  {
   "cell_type": "markdown",
   "metadata": {},
   "source": [
    "### Load the dataset"
   ]
  },
  {
   "cell_type": "code",
   "execution_count": null,
   "metadata": {},
   "outputs": [],
   "source": []
  },
  {
   "cell_type": "markdown",
   "metadata": {},
   "source": [
    "### Prepare and Explore the dataset\n",
    "#### Find out how many restaurants in each city"
   ]
  },
  {
   "cell_type": "code",
   "execution_count": null,
   "metadata": {
    "scrolled": true
   },
   "outputs": [],
   "source": []
  },
  {
   "cell_type": "markdown",
   "metadata": {},
   "source": [
    "#### Collect a specific city data"
   ]
  },
  {
   "cell_type": "code",
   "execution_count": null,
   "metadata": {},
   "outputs": [],
   "source": []
  },
  {
   "cell_type": "markdown",
   "metadata": {},
   "source": [
    "#### Collect 'Restaurant Name','Cuisines','Locality','Aggregate rating'"
   ]
  },
  {
   "cell_type": "code",
   "execution_count": null,
   "metadata": {},
   "outputs": [],
   "source": []
  },
  {
   "cell_type": "markdown",
   "metadata": {},
   "source": [
    "#### Find how many restaurants in a specific locality in the chosen city"
   ]
  },
  {
   "cell_type": "code",
   "execution_count": null,
   "metadata": {},
   "outputs": [],
   "source": []
  },
  {
   "cell_type": "markdown",
   "metadata": {},
   "source": [
    "#### List the restaurants in that locality"
   ]
  },
  {
   "cell_type": "code",
   "execution_count": null,
   "metadata": {
    "scrolled": true
   },
   "outputs": [],
   "source": []
  },
  {
   "cell_type": "markdown",
   "metadata": {},
   "source": [
    "### Computing Similarity score between restaurants\n",
    "**Steps to follow** :\n",
    "1. Data consist of the only location\n",
    "2. Reset index for cosine similarity because the Cosine similarity index has to be same value with the result of TF-IDF vectorizer\n",
    "3. Feature Extraction\n",
    "4. Applying TF-IDF Vectorizer\n",
    "5. Compute Cosine Similarity\n",
    "6. Aggregate rating added with cosine score in a list\n",
    "7. Sort the restaurant names based on the Cosine similarity scores"
   ]
  },
  {
   "cell_type": "markdown",
   "metadata": {},
   "source": [
    "### Initialize an empty list"
   ]
  },
  {
   "cell_type": "code",
   "execution_count": null,
   "metadata": {},
   "outputs": [],
   "source": []
  },
  {
   "cell_type": "markdown",
   "metadata": {},
   "source": [
    "### Choose a subset of restaurants data according to the location = \"Connaught Place\""
   ]
  },
  {
   "cell_type": "code",
   "execution_count": null,
   "metadata": {},
   "outputs": [],
   "source": []
  },
  {
   "cell_type": "markdown",
   "metadata": {},
   "source": [
    "### Reset Index for cosine similarty index as it has to be same value with result of tf-idf vectorizer"
   ]
  },
  {
   "cell_type": "code",
   "execution_count": null,
   "metadata": {},
   "outputs": [],
   "source": []
  },
  {
   "cell_type": "markdown",
   "metadata": {},
   "source": [
    "### Feature Extraction"
   ]
  },
  {
   "cell_type": "code",
   "execution_count": 13,
   "metadata": {},
   "outputs": [
    {
     "name": "stderr",
     "output_type": "stream",
     "text": [
      "<ipython-input-13-d07f0708b5c2>:1: SettingWithCopyWarning: \n",
      "A value is trying to be set on a copy of a slice from a DataFrame.\n",
      "Try using .loc[row_indexer,col_indexer] = value instead\n",
      "\n",
      "See the caveats in the documentation: https://pandas.pydata.org/pandas-docs/stable/user_guide/indexing.html#returning-a-view-versus-a-copy\n",
      "  data_sample['Split']=\"X\"\n",
      "/Users/subashgandyer/opt/anaconda3/envs/testing/lib/python3.8/site-packages/pandas/core/indexing.py:670: SettingWithCopyWarning: \n",
      "A value is trying to be set on a copy of a slice from a DataFrame\n",
      "\n",
      "See the caveats in the documentation: https://pandas.pydata.org/pandas-docs/stable/user_guide/indexing.html#returning-a-view-versus-a-copy\n",
      "  iloc._setitem_with_indexer(indexer, value)\n",
      "<ipython-input-13-d07f0708b5c2>:7: SettingWithCopyWarning: \n",
      "A value is trying to be set on a copy of a slice from a DataFrame\n",
      "\n",
      "See the caveats in the documentation: https://pandas.pydata.org/pandas-docs/stable/user_guide/indexing.html#returning-a-view-versus-a-copy\n",
      "  data_sample['Split'].iloc[i]=split_data\n"
     ]
    }
   ],
   "source": [
    "data_sample['Split']=\"X\"\n",
    "for i in range(0,data_sample.index[-1]):\n",
    "    split_data=re.split(r'[,]', data_sample['Cuisines'][i])\n",
    "    for k,l in enumerate(split_data):\n",
    "        split_data[k]=(split_data[k].replace(\" \", \"\"))\n",
    "    split_data=' '.join(split_data[:])\n",
    "    data_sample['Split'].iloc[i]=split_data"
   ]
  },
  {
   "cell_type": "markdown",
   "metadata": {},
   "source": [
    "### TF-IDF vectorizer\n",
    "- Stopwords\n",
    "- Replacing NaN for empty strings\n",
    "- Applying Tf-IDF"
   ]
  },
  {
   "cell_type": "code",
   "execution_count": null,
   "metadata": {},
   "outputs": [],
   "source": [
    "#Extracting Stopword\n",
    "tfidf = \n",
    "\n",
    "#Replace NaN for empty string\n",
    "data_sample['Split'] = \n",
    "\n",
    "#Applying TF-IDF Vectorizer\n",
    "tfidf_matrix = "
   ]
  },
  {
   "cell_type": "markdown",
   "metadata": {},
   "source": [
    "### Compute the cosine similarity matrix"
   ]
  },
  {
   "cell_type": "code",
   "execution_count": null,
   "metadata": {},
   "outputs": [],
   "source": []
  },
  {
   "cell_type": "markdown",
   "metadata": {},
   "source": [
    "### Constructing a reverse map of indices"
   ]
  },
  {
   "cell_type": "code",
   "execution_count": 17,
   "metadata": {},
   "outputs": [],
   "source": [
    "# Column names are using for index\n",
    "corpus_index=[n for n in data_sample['Split']]\n",
    "\n",
    "#Construct a reverse map of indices    \n",
    "indices = pd.Series(data_sample.index, index=data_sample['Restaurant Name']).drop_duplicates() \n",
    "\n",
    "# Collect index of the restaurant matches the cuisines of the title\n",
    "title=\"Pizza Hut\"\n",
    "idx = indices[title]\n",
    "#Aggregate rating added with cosine score in sim_score list.\n",
    "sim_scores=[]\n",
    "for i,j in enumerate(cosine_sim[idx]):\n",
    "    k=data_sample['Aggregate rating'].iloc[i]\n",
    "    if j != 0 :\n",
    "        sim_scores.append((i,j,k))"
   ]
  },
  {
   "cell_type": "markdown",
   "metadata": {},
   "source": [
    "### Sort the restaurant names based on the similarity scores"
   ]
  },
  {
   "cell_type": "code",
   "execution_count": 18,
   "metadata": {},
   "outputs": [],
   "source": [
    "sim_scores = sorted(sim_scores, key=lambda x: (x[1],x[2]) , reverse=True)\n",
    "\n",
    "# 10 similar cuisines\n",
    "sim_scores = sim_scores[0:10]\n",
    "rest_indices = [i[0] for i in sim_scores] "
   ]
  },
  {
   "cell_type": "markdown",
   "metadata": {},
   "source": [
    "### Display the restaurants"
   ]
  },
  {
   "cell_type": "code",
   "execution_count": 20,
   "metadata": {},
   "outputs": [
    {
     "data": {
      "text/html": [
       "<div>\n",
       "<style scoped>\n",
       "    .dataframe tbody tr th:only-of-type {\n",
       "        vertical-align: middle;\n",
       "    }\n",
       "\n",
       "    .dataframe tbody tr th {\n",
       "        vertical-align: top;\n",
       "    }\n",
       "\n",
       "    .dataframe thead th {\n",
       "        text-align: right;\n",
       "    }\n",
       "</style>\n",
       "<table border=\"1\" class=\"dataframe\">\n",
       "  <thead>\n",
       "    <tr style=\"text-align: right;\">\n",
       "      <th></th>\n",
       "      <th>Restaurant Name</th>\n",
       "      <th>Aggregate rating</th>\n",
       "      <th>Cosine Similarity</th>\n",
       "    </tr>\n",
       "  </thead>\n",
       "  <tbody>\n",
       "    <tr>\n",
       "      <th>63</th>\n",
       "      <td>Pizza Hut</td>\n",
       "      <td>3.5</td>\n",
       "      <td>1.00</td>\n",
       "    </tr>\n",
       "    <tr>\n",
       "      <th>32</th>\n",
       "      <td>Domino's Pizza</td>\n",
       "      <td>3.7</td>\n",
       "      <td>0.90</td>\n",
       "    </tr>\n",
       "    <tr>\n",
       "      <th>91</th>\n",
       "      <td>Ovenstory Pizza</td>\n",
       "      <td>0.0</td>\n",
       "      <td>0.90</td>\n",
       "    </tr>\n",
       "    <tr>\n",
       "      <th>70</th>\n",
       "      <td>Sbarro</td>\n",
       "      <td>3.5</td>\n",
       "      <td>0.86</td>\n",
       "    </tr>\n",
       "    <tr>\n",
       "      <th>26</th>\n",
       "      <td>Caffe Tonino</td>\n",
       "      <td>3.9</td>\n",
       "      <td>0.68</td>\n",
       "    </tr>\n",
       "    <tr>\n",
       "      <th>83</th>\n",
       "      <td>The Rolling Joint</td>\n",
       "      <td>3.9</td>\n",
       "      <td>0.52</td>\n",
       "    </tr>\n",
       "    <tr>\n",
       "      <th>8</th>\n",
       "      <td>Indian Coffee House</td>\n",
       "      <td>3.3</td>\n",
       "      <td>0.52</td>\n",
       "    </tr>\n",
       "    <tr>\n",
       "      <th>58</th>\n",
       "      <td>Nizam's Kathi Kabab</td>\n",
       "      <td>3.8</td>\n",
       "      <td>0.45</td>\n",
       "    </tr>\n",
       "    <tr>\n",
       "      <th>82</th>\n",
       "      <td>The Luggage Room Kitchen And Bar</td>\n",
       "      <td>3.5</td>\n",
       "      <td>0.36</td>\n",
       "    </tr>\n",
       "    <tr>\n",
       "      <th>49</th>\n",
       "      <td>Life Caffe</td>\n",
       "      <td>3.6</td>\n",
       "      <td>0.36</td>\n",
       "    </tr>\n",
       "  </tbody>\n",
       "</table>\n",
       "</div>"
      ],
      "text/plain": [
       "                     Restaurant Name  Aggregate rating  Cosine Similarity\n",
       "63                         Pizza Hut               3.5               1.00\n",
       "32                    Domino's Pizza               3.7               0.90\n",
       "91                   Ovenstory Pizza               0.0               0.90\n",
       "70                            Sbarro               3.5               0.86\n",
       "26                      Caffe Tonino               3.9               0.68\n",
       "83                 The Rolling Joint               3.9               0.52\n",
       "8                Indian Coffee House               3.3               0.52\n",
       "58               Nizam's Kathi Kabab               3.8               0.45\n",
       "82  The Luggage Room Kitchen And Bar               3.5               0.36\n",
       "49                        Life Caffe               3.6               0.36"
      ]
     },
     "execution_count": 20,
     "metadata": {},
     "output_type": "execute_result"
    }
   ],
   "source": [
    "data_x = data_sample[['Restaurant Name','Aggregate rating']].iloc[rest_indices]\n",
    "    \n",
    "data_x['Cosine Similarity']=0\n",
    "for i,j in enumerate(sim_scores):\n",
    "    data_x['Cosine Similarity'].iloc[i]=round(sim_scores[i][1],2)\n",
    "    \n",
    "data_x"
   ]
  },
  {
   "cell_type": "markdown",
   "metadata": {},
   "source": [
    "### Putting all of the above logic inside a `restaurant_recommender( )` function"
   ]
  },
  {
   "cell_type": "code",
   "execution_count": 21,
   "metadata": {},
   "outputs": [],
   "source": [
    "data_sample=[]\n",
    "def restaurant_recommender(location,title):   \n",
    "    global data_sample       \n",
    "    global cosine_sim\n",
    "    global sim_scores\n",
    "    global tfidf_matrix\n",
    "    global corpus_index\n",
    "    global feature\n",
    "    global rest_indices\n",
    "    global idx\n",
    "    \n",
    "    \n",
    "   \n",
    "    return data_x"
   ]
  },
  {
   "cell_type": "markdown",
   "metadata": {},
   "source": [
    "### Top 10 similar restaurant with cuisine of 'Pizza Hut' restaurant in Connaught Place"
   ]
  },
  {
   "cell_type": "code",
   "execution_count": null,
   "metadata": {},
   "outputs": [],
   "source": []
  },
  {
   "cell_type": "markdown",
   "metadata": {},
   "source": [
    "### Top 10 similar restaurant with cuisine of 'Barbeque Nation' restaurant in Connaught Place"
   ]
  },
  {
   "cell_type": "code",
   "execution_count": null,
   "metadata": {
    "scrolled": true
   },
   "outputs": [],
   "source": []
  },
  {
   "cell_type": "code",
   "execution_count": null,
   "metadata": {},
   "outputs": [],
   "source": []
  }
 ],
 "metadata": {
  "kernelspec": {
   "display_name": "testing",
   "language": "python",
   "name": "testing"
  },
  "language_info": {
   "codemirror_mode": {
    "name": "ipython",
    "version": 3
   },
   "file_extension": ".py",
   "mimetype": "text/x-python",
   "name": "python",
   "nbconvert_exporter": "python",
   "pygments_lexer": "ipython3",
   "version": "3.8.5"
  }
 },
 "nbformat": 4,
 "nbformat_minor": 2
}
