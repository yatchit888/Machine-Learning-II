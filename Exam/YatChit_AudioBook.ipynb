{
 "cells": [
  {
   "cell_type": "markdown",
   "metadata": {},
   "source": [
    "# Create an Audiobook from a PDF\n",
    "## This task tests your ability to apply Text to Speech conversion and Extraction of Text from PDF files in the creation of an audiobook from a PDF file"
   ]
  },
  {
   "cell_type": "markdown",
   "metadata": {},
   "source": [
    "### Steps\n",
    "- Extract text from PDF file\n",
    "- Clean the text\n",
    "- Convert the text into speech\n",
    "- Save the speech\n",
    "- Play the speech"
   ]
  },
  {
   "cell_type": "markdown",
   "metadata": {},
   "source": [
    "## 1. Extract text from PDF\n",
    "- Use PyPDF2"
   ]
  },
  {
   "cell_type": "markdown",
   "metadata": {},
   "source": [
    "### Install the library"
   ]
  },
  {
   "cell_type": "code",
   "execution_count": null,
   "metadata": {},
   "outputs": [],
   "source": [
    "# ! pip install PyPDF2"
   ]
  },
  {
   "cell_type": "markdown",
   "metadata": {},
   "source": [
    "### Import the library"
   ]
  },
  {
   "cell_type": "code",
   "execution_count": 9,
   "metadata": {},
   "outputs": [],
   "source": [
    "import PyPDF2"
   ]
  },
  {
   "cell_type": "markdown",
   "metadata": {},
   "source": [
    "### Extract the text"
   ]
  },
  {
   "cell_type": "code",
   "execution_count": 10,
   "metadata": {},
   "outputs": [],
   "source": [
    "# Open the PDF file\n",
    "pdf_file = open('article.pdf', 'rb')"
   ]
  },
  {
   "cell_type": "markdown",
   "metadata": {},
   "source": [
    "### Print the extracted text"
   ]
  },
  {
   "cell_type": "code",
   "execution_count": 11,
   "metadata": {},
   "outputs": [
    {
     "name": "stdout",
     "output_type": "stream",
     "text": [
      "Universal Declaration of Human Rights \n",
      "Preamble \n",
      "Whereas recognition of the inherent di gnity and of the equal  and inalienable \n",
      "rights of all members of the human fam ily is the foundation of freedom, justice \n",
      "and peace in the world,  \n",
      "Whereas disregard and contempt for hum an rights have resulted in barbarous \n",
      "acts which have outraged the conscience of  mankind, and the advent of a w\n",
      "orld \n",
      "in which human beings shall enjoy freedom of speech and belief and freedom \n",
      "from fear and want has been proclaimed as the highest aspiration of the common \n",
      "people,  \n",
      "Whereas it is essential, if  man is not to be compelled to have recourse, as a last \n",
      "resort, to rebellion against tyranny and oppression, that human \n",
      "rights should be \n",
      "protected by the rule of law,  \n",
      "Whereas it is essential to  promote the development of fri endly relations between \n",
      "nations,  \n",
      "Whereas the peoples of the United Nations have in the Charte r reaffirmed their \n",
      "faith in fundamental human rights, in t he dignity and wo\n",
      "rth of the human person \n",
      "and in the equal rights of men and women and have determined to promote \n",
      "social progress and better standards of life in larger freedom,  \n",
      "Whereas Member States have pledged themselves to achieve, in cooperation \n",
      "with the United Nations, the promotion of universal respect for and observanc\n",
      "e of \n",
      "human rights and fundamental freedoms,  \n",
      "Whereas a common understanding of t hese rights and freedoms is of the \n",
      "greatest importance for the full realization of this pledge,\n",
      "  \n",
      "Now, therefore,  \n",
      "The General Assembly,  \n",
      "Proclaims this Universal Declaration of Human Rights as a common standard of \n",
      "achievement for all peoples and all nations , to the end that every individual and \n",
      "every organ of society, keeping this Declarat ion constantly in mind, shall strive by \n",
      " \n",
      "teaching and education to promote res pect for these rights and freedoms and by \n",
      "progressive measures, national and internat ional, to secure their universal and \n",
      "effective recognition and observance, bot h among the peoples of Member States \n",
      "themselves and among the peoples of terr itories under their jurisdiction.  \n",
      "Article I  \n",
      "All human beings are born free and equal in dignity and rights. They are \n",
      "endowed with reason and conscience and should act towards one another in a \n",
      "spirit of brotherhood.  \n",
      "Article 2  \n",
      "Everyone is entitled to all the rights and fr eedoms set forth in this Declaration, \n",
      "without distinction of any kind, such as  race, colour, sex, language, religion, \n",
      "political or other opinion, national or social origin, propert y, birth or other status.  \n",
      "Furthermore, no distinction shall be made on the basis of the political, \n",
      "jurisdictional or international status of the country or territory to which a person \n",
      "belongs, whether it be independent, trust, non-self-gov erning or under any other \n",
      "limitation of sovereignty.  \n",
      "Article 3  \n",
      "Everyone has the right to life, liberty and the security of person.  \n",
      "Article 4  \n",
      "No one shall be held in slav ery or servitude; slavery and the slave trade shall be \n",
      "prohibited in all their forms.  \n",
      "Article 5  \n",
      "No one shall be subjected to torture or to cruel, inhu man or degrading treatment \n",
      "or punishment.  \n",
      " \n",
      " \n",
      "Article 6  \n",
      "Everyone has the right to recognition ev erywhere as a person before the law.  \n",
      "Article 7  \n",
      "All are equal before the la w and are entitled without any discrimination to equal \n",
      "protection of the law. All are entitled to equal protection against any \n",
      "discrimination in violation of this Decl aration and against any incitement to such \n",
      "discrimination.  \n",
      "Article 8  \n",
      "Everyone has the right to an effective rem edy by the competent national tribunals \n",
      "for acts violating the fundament al rights granted him by the constitution or by law.  \n",
      "Article 9  \n",
      "No one shall be subjected to arbitr ary arrest, detention or exile.  \n",
      "Article 10  \n",
      "Everyone is entitled in full equality to a fair and public hearing by an independent \n",
      "and impartial tribunal, in the determination of his rights and obligations and of any \n",
      "criminal charge against him.  \n",
      "Article 11  \n",
      "1. Everyone charged with a penal off ence has the right to be presumed \n",
      "innocent until proved guilty according to  law in a public trial at which he \n",
      "has had all the guarantees necessary for his defence.  \n",
      "2. No one shall be held guilty of any penal  offence on account of any act or \n",
      "omission which did not constitute a penal offence, under national or \n",
      "international law, at the time when it was committed. Nor shall a heavier \n",
      " \n",
      " \n",
      "penalty be imposed than the one that was applicable at the time the penal \n",
      "offence was committed.  \n",
      "Article 12  \n",
      "No one shall be subjected to arbitrary in terference with his privacy, family, home \n",
      "or correspondence, nor to  attacks upon his honour and reputation. Everyone has \n",
      "the right to the protecti on of the law against such interference or attacks.  \n",
      "Article 13  \n",
      "1. Everyone has the right to freedom of movement and residence within the \n",
      "borders of each State.  \n",
      "2. Everyone has the right to leave any country, including his own, and to \n",
      "return to his country.  \n",
      "Article 14  \n",
      "1. Everyone has the right to seek and to  enjoy in other countries asylum from \n",
      "persecution.  \n",
      "2. This right may not be invoked in  the case of prosecutions genuinely \n",
      "arising from non-political crimes or fr om acts contrary to the purposes and \n",
      "principles of the United Nations.  \n",
      "Article 15  \n",
      "1. Everyone has the right to a nationality.  \n",
      "2. No one shall be arbitrarily deprived of  his nationality nor denied the right to \n",
      "change his nationality.  \n",
      "Article 16  \n",
      " \n",
      " \n",
      "1. Men and women of full age, without any limitation due to race, nationality \n",
      "or religion, have the right to marry and to found a family. They are entitled \n",
      "to equal rights as to marriage, dur ing marriage and at its dissolution.  \n",
      "2. Marriage shall be entered into only wit h the free and full consent of the \n",
      "intending spouses.  \n",
      "3. The family is the natural and fund amental group unit of society and is \n",
      "entitled to protection by society and the State.  \n",
      "Article 17  \n",
      "1. Everyone has the right to own property  alone as well as in association with \n",
      "others.  \n",
      "2. No one shall be arbitrarily deprived of his property.  \n",
      "Article 18  \n",
      "Everyone has the right to freedom of t hought, conscience and religion; this right \n",
      "includes freedom to change his religion or belief, and freedom, either alone or in \n",
      "community with others and in publi c or private, to manifest  his religion or belief in \n",
      "teaching, practice, worship and observance.  \n",
      "Article 19  \n",
      "Everyone has the right to freedom of opini on and expression; this right includes \n",
      "freedom to hold opinions wit hout interference and to seek, receive and impart \n",
      "information and ideas through any medi a and regardless of frontiers.  \n",
      "Article 20  \n",
      "1. Everyone has the right to freedom of  peaceful assembly and association.  \n",
      "2. No one may be compelled to belong to an association.  \n",
      "Article 21  \n",
      " \n",
      "1. Everyone has the right to take par t in the governm ent of his c ountry, \n",
      "directly or through freely c hosen repres entatives.  \n",
      "2. Everyone has the right of equal access to public servic e in his country.  \n",
      "3. The will of the people shall be the basis of the authority  of government; \n",
      "this will shall be expressed in periodic and genuine elections which shall \n",
      "be by universal and equal suffrage and sha ll be held by secret vote or by \n",
      "equivalent free voting procedures.  \n",
      "Article 22  \n",
      "Everyone, as a member of society, has t he right to social security and is entitled \n",
      "to realization, through nat ional effort and internat\n",
      "ional co-operation and in \n",
      "accordance with the organization and resour ces of each State, of the economic, \n",
      "social and cultural rights indispensable for his dignity and the free development \n",
      "of his personality.  \n",
      "Article 23  \n",
      "1. Everyone has the right to work, to fr ee choice of employment, to just and \n",
      "favourable conditions of work and to  protection against unemploy\n",
      "ment.  \n",
      "2. Everyone, without any discrimination,  has the right to equal pay for equal \n",
      "work.  \n",
      "3. Everyone who works has the right to just and favourable remuneration \n",
      "ensuring for himself and his family \n",
      "an existence worthy of human dignity, \n",
      "and supplemented, if necessary, by other  means of social protection.  \n",
      "4. Everyone has the right to form and to join trade unions for the protection of \n",
      "his interests.  \n",
      "Article 24  Everyone has the right to rest and leis ure, including reas onable limit\n",
      " ation of \n",
      "working hours and periodic holidays with pay.  \n",
      " \n",
      "Article 25  \n",
      "1. Everyone has the right to a st andard of living adequate for the health and \n",
      "well-being of himself and of his fam ily, including food, clothing, housing \n",
      "and medical care and necessary social services, and the right to security \n",
      "in the event of unemployment, sickne ss, disability, widowhood, old age or \n",
      "other lack of livelihood in circ umstances beyond his control.  \n",
      "2. Motherhood and childhood are entitled to special care and assistance. All \n",
      "children, whether born in or out of w edlock, shall enjoy the same social \n",
      "protection.  \n",
      "Article 26  \n",
      "1. Everyone has the right to education. E ducation shall be free, at least in the \n",
      "elementary and fundamental stages. Elementary education shall be \n",
      "compulsory. Technical and prof essional education shall be made \n",
      "generally available and higher education shall be equa lly accessible to all \n",
      "on the basis of merit.  \n",
      "2. Education shall be directed to the full development of the human \n",
      "personality and to the strengthening of respect for human rights and \n",
      "fundamental freedoms. It shall promote understanding, tolerance and \n",
      "friendship among all nations, racial or  religious groups, and shall further \n",
      "the activities of the United Nati ons for the maintenance of peace.  \n",
      "3. Parents have a prior right to choos e the kind of education that shall be \n",
      "given to their children.  \n",
      "Article 27  \n",
      "1. Everyone has the right freely to part icipate in the cultural life of the \n",
      "community, to enjoy the arts and to share in scientific advancement and \n",
      "its benefits.  \n",
      " \n",
      " \n",
      "2. Everyone has the right to the protec tion of the moral and material interests \n",
      "resulting from any scientific, literary or artistic production of which he is the \n",
      "author.  \n",
      "Article 28  \n",
      "Everyone is entitled to a social and in ternational order in  which the rights and \n",
      "freedoms set forth in this Declar ation can be fully realized.  \n",
      "Article 29  \n",
      "1. Everyone has duties to the community in which alone the free and full \n",
      "development of his personality is possible.  \n",
      "2. In the exercise of his rights and freedoms, everyone shall be subject only \n",
      "to such limitations as are determin ed by law solely for the purpose of \n",
      "securing due recognition and respect for the rights and freedoms of others \n",
      "and of meeting the just requirement s of morality, public order and the \n",
      "general welfare in a democratic society.  \n",
      "3. These rights and freedoms may in no ca se be exercised contrary to the \n",
      "purposes and principles of the United Nations.  \n",
      "Article 30  \n",
      "Nothing in this Declaration may be interpre ted as implying for any  State, group or \n",
      "person any right to engage in any activity  or to perform any act aimed at the \n",
      "destruction of any of the right s and freedoms set forth herein.  \n",
      " \n"
     ]
    }
   ],
   "source": [
    "# Create a PDF file reader object\n",
    "pdf_reader = PyPDF2.PdfReader(pdf_file)\n",
    "\n",
    "# Get the number of pages in the PDF\n",
    "num_pages = len(pdf_reader.pages)\n",
    "\n",
    "# Loop through each page in the PDF\n",
    "for page_num in range(num_pages):\n",
    "    # Extract the text from the page\n",
    "    text = pdf_reader.pages[page_num].extract_text()\n",
    "\n",
    "    # Print the extracted text\n",
    "    print(text)"
   ]
  },
  {
   "cell_type": "markdown",
   "metadata": {},
   "source": [
    "## 2. Convert the Text into Speech\n",
    "- Use **pyttsx3** OR **gTTS**"
   ]
  },
  {
   "cell_type": "markdown",
   "metadata": {},
   "source": [
    "### Install the library"
   ]
  },
  {
   "cell_type": "code",
   "execution_count": null,
   "metadata": {},
   "outputs": [],
   "source": [
    "# !pip install pyttsx3"
   ]
  },
  {
   "cell_type": "markdown",
   "metadata": {},
   "source": [
    "### Import the library"
   ]
  },
  {
   "cell_type": "code",
   "execution_count": 12,
   "metadata": {},
   "outputs": [],
   "source": [
    "import pyttsx3"
   ]
  },
  {
   "cell_type": "markdown",
   "metadata": {},
   "source": [
    "### Initialize a Speaker object"
   ]
  },
  {
   "cell_type": "code",
   "execution_count": 13,
   "metadata": {},
   "outputs": [],
   "source": [
    "# Initialize the Speaker object (speech engine)\n",
    "speaker = pyttsx3.init()"
   ]
  },
  {
   "cell_type": "markdown",
   "metadata": {},
   "source": [
    "### Convert the text"
   ]
  },
  {
   "cell_type": "code",
   "execution_count": 17,
   "metadata": {},
   "outputs": [],
   "source": [
    "# Loop through each page in the PDF\n",
    "for page_num in range(num_pages):\n",
    "    # Extract the text from the page\n",
    "    text = pdf_reader.pages[page_num].extract_text()\n",
    "\n",
    "    # Pass the extracted text to the text to speech engine\n",
    "    speaker.say(text)"
   ]
  },
  {
   "cell_type": "markdown",
   "metadata": {},
   "source": [
    "### Save the audio"
   ]
  },
  {
   "cell_type": "code",
   "execution_count": 19,
   "metadata": {},
   "outputs": [],
   "source": [
    "# Save the speech audio into an mp3 file\n",
    "speaker.save_to_file(text, 'audiobook.mp3')\n",
    "speaker.runAndWait()"
   ]
  },
  {
   "cell_type": "code",
   "execution_count": 20,
   "metadata": {},
   "outputs": [],
   "source": [
    "# Close the PDF file\n",
    "pdf_file.close()"
   ]
  },
  {
   "cell_type": "code",
   "execution_count": null,
   "metadata": {},
   "outputs": [],
   "source": []
  }
 ],
 "metadata": {
  "kernelspec": {
   "display_name": "Python 3",
   "language": "python",
   "name": "python3"
  },
  "language_info": {
   "codemirror_mode": {
    "name": "ipython",
    "version": 3
   },
   "file_extension": ".py",
   "mimetype": "text/x-python",
   "name": "python",
   "nbconvert_exporter": "python",
   "pygments_lexer": "ipython3",
   "version": "3.9.0"
  }
 },
 "nbformat": 4,
 "nbformat_minor": 4
}
