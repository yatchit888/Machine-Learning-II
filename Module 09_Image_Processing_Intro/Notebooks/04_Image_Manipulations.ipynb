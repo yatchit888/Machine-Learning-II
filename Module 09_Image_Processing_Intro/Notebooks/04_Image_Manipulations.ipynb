{
 "cells": [
  {
   "cell_type": "markdown",
   "metadata": {},
   "source": [
    "# Image Manipulations\n",
    "## This notebook outlines the different techniques used on images using OpenCV library\n",
    "\n",
    "**Image Manipulations**\n",
    "- Cropping an image\n",
    "- Flipping an image\n",
    "- Masking an image"
   ]
  },
  {
   "cell_type": "markdown",
   "metadata": {},
   "source": [
    "### Import the necessary libraries"
   ]
  },
  {
   "cell_type": "code",
   "execution_count": null,
   "metadata": {},
   "outputs": [],
   "source": []
  },
  {
   "cell_type": "markdown",
   "metadata": {},
   "source": [
    "### Load an image\n",
    "#### imread( )"
   ]
  },
  {
   "cell_type": "code",
   "execution_count": null,
   "metadata": {},
   "outputs": [],
   "source": []
  },
  {
   "cell_type": "code",
   "execution_count": null,
   "metadata": {
    "scrolled": true
   },
   "outputs": [],
   "source": []
  },
  {
   "cell_type": "markdown",
   "metadata": {},
   "source": [
    "### Load your favorite image and display it\n"
   ]
  },
  {
   "cell_type": "code",
   "execution_count": null,
   "metadata": {},
   "outputs": [],
   "source": []
  },
  {
   "cell_type": "markdown",
   "metadata": {},
   "source": [
    "# Cropping an image\n",
    "\n",
    "Cropping removes the outer parts of the image that we are not interested in.\n",
    "\n",
    "Cropping an image is as simple as using **array slices** in NumPy! \n",
    "\n",
    "Let's crop out the **face of the T-Rex**. \n",
    "\n",
    "\n",
    "We are supplying NumPy array slices to extract a rectangular region of the image, starting at (240, 30) and ending at (335,120). The order in which we supply the indexes to the crop may seem counterintuitive; however, remember that OpenCV represents images as NumPy arrays with the the height first and the width second. This means that we need to supply our y-axis values before our x-axis.\n",
    "\n",
    "The order in which we specify the coordinates is:\n",
    "- startY:endY\n",
    "- startX:endX\n",
    "\n",
    "In this case, we are \n",
    "- starting at Y=?? and ending at Y=??\n",
    "- start at X=?? and end at X=??"
   ]
  },
  {
   "cell_type": "code",
   "execution_count": null,
   "metadata": {},
   "outputs": [],
   "source": []
  },
  {
   "cell_type": "markdown",
   "metadata": {},
   "source": [
    "# Flipping an image\n",
    "- Horizontal\n",
    "- Vertical\n",
    "- Both Axes\n",
    "\n",
    "The **cv2.flip method** requires two arguments\n",
    "- the **image** we want to flip\n",
    "- **flip code** that is used to determine how we are going to flip the image\n",
    "    - 1 --> horizontal flipping (y-axis)\n",
    "    - 0 --> vertical (x-axis)\n",
    "    - -1 --> both axes"
   ]
  },
  {
   "cell_type": "markdown",
   "metadata": {},
   "source": [
    "### Flip the image horizontally"
   ]
  },
  {
   "cell_type": "code",
   "execution_count": null,
   "metadata": {},
   "outputs": [],
   "source": []
  },
  {
   "cell_type": "markdown",
   "metadata": {},
   "source": [
    "### Flip the image vertically"
   ]
  },
  {
   "cell_type": "code",
   "execution_count": null,
   "metadata": {},
   "outputs": [],
   "source": []
  },
  {
   "cell_type": "markdown",
   "metadata": {},
   "source": [
    "### Flip the image along both axes"
   ]
  },
  {
   "cell_type": "code",
   "execution_count": null,
   "metadata": {},
   "outputs": [],
   "source": []
  },
  {
   "cell_type": "code",
   "execution_count": null,
   "metadata": {},
   "outputs": [],
   "source": []
  },
  {
   "cell_type": "markdown",
   "metadata": {},
   "source": [
    "# Masking an image\n",
    "Using a mask allows us to focus only on the portions of the image that **interests** us\n",
    "\n",
    "For example, let’s say that we were building a computer vision system to recognize faces. The only part of the image we are interested in finding and describing are the parts of the image that contain **faces** – we simply don’t care about the rest of the content of the image. \n",
    "\n",
    "Assuming that we could find the faces in the image, we might construct a mask to show only the faces in the image and not the unwanted rest of the parts of the image\n",
    "\n",
    "\n",
    "A mask is the same size as our image, but has only two pixel values, 0 and 255\n",
    "- Mask Pixels with a value of **0** are **ignored** in the orignal image\n",
    "- Mask Pixels with a value of **255** are **allowed** to be kept\n",
    "\n",
    "For example, let's construct a mask with a **150x150 square** at the center of it and mask our image\n",
    "\n",
    "#### Steps\n",
    "- Construct a NumPy array filled with **zeros** as same as the input image\n",
    "- Draw a **rectangle**\n",
    "- Apply **bitwise_and**\n",
    "- Display the mask applied to image"
   ]
  },
  {
   "cell_type": "markdown",
   "metadata": {},
   "source": [
    "#### Construct a Zeros NumPy array with the same size of the input image"
   ]
  },
  {
   "cell_type": "code",
   "execution_count": null,
   "metadata": {},
   "outputs": [],
   "source": []
  },
  {
   "cell_type": "markdown",
   "metadata": {},
   "source": [
    "### Find center"
   ]
  },
  {
   "cell_type": "code",
   "execution_count": null,
   "metadata": {},
   "outputs": [],
   "source": []
  },
  {
   "cell_type": "markdown",
   "metadata": {},
   "source": [
    "### Draw rectangle"
   ]
  },
  {
   "cell_type": "code",
   "execution_count": null,
   "metadata": {},
   "outputs": [],
   "source": []
  },
  {
   "cell_type": "markdown",
   "metadata": {},
   "source": [
    "### Display the mask"
   ]
  },
  {
   "cell_type": "code",
   "execution_count": null,
   "metadata": {},
   "outputs": [],
   "source": []
  },
  {
   "cell_type": "markdown",
   "metadata": {},
   "source": [
    "#### Apply the bitwise_and\n",
    "- image\n",
    "- image\n",
    "- mask\n",
    "\n",
    "By supplying a mask, the cv2.bitwise_and function only examines pixels that are **“on”** in the mask. In this case, only pixels that are part of the white rectangle and omits all others"
   ]
  },
  {
   "cell_type": "code",
   "execution_count": null,
   "metadata": {},
   "outputs": [],
   "source": []
  },
  {
   "cell_type": "markdown",
   "metadata": {},
   "source": [
    "### Display the masked image"
   ]
  },
  {
   "cell_type": "code",
   "execution_count": null,
   "metadata": {},
   "outputs": [],
   "source": []
  },
  {
   "cell_type": "markdown",
   "metadata": {},
   "source": [
    "### Extract just the face of the T-rex using your custom mask"
   ]
  },
  {
   "cell_type": "code",
   "execution_count": null,
   "metadata": {},
   "outputs": [],
   "source": []
  },
  {
   "cell_type": "markdown",
   "metadata": {},
   "source": [
    "### Apply a circular mask instead of a rectangular mask"
   ]
  },
  {
   "cell_type": "code",
   "execution_count": null,
   "metadata": {},
   "outputs": [],
   "source": []
  },
  {
   "cell_type": "code",
   "execution_count": null,
   "metadata": {},
   "outputs": [],
   "source": []
  },
  {
   "cell_type": "markdown",
   "metadata": {},
   "source": [
    "### Homework: Take an 007 Bond walking and shooting iconic image and do a circular mask around him and extract only Bond just for fun\n",
    "- Load the image\n",
    "- Display the image\n",
    "- Note the coordinates for correct positioning\n",
    "- Create a Circular Mask with the coordinates\n",
    "- Apply the mask\n",
    "- Display the masked image"
   ]
  },
  {
   "cell_type": "code",
   "execution_count": null,
   "metadata": {},
   "outputs": [],
   "source": []
  }
 ],
 "metadata": {
  "kernelspec": {
   "display_name": "testing",
   "language": "python",
   "name": "testing"
  },
  "language_info": {
   "codemirror_mode": {
    "name": "ipython",
    "version": 3
   },
   "file_extension": ".py",
   "mimetype": "text/x-python",
   "name": "python",
   "nbconvert_exporter": "python",
   "pygments_lexer": "ipython3",
   "version": "3.8.5"
  }
 },
 "nbformat": 4,
 "nbformat_minor": 4
}
