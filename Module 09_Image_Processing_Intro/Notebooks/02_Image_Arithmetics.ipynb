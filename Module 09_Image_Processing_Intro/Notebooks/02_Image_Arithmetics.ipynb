{
 "cells": [
  {
   "cell_type": "markdown",
   "metadata": {},
   "source": [
    "# Images\n",
    "## This notebook outlines the math of the Image manipulation used in OpenCV library\n",
    "\n",
    "- Image Math\n",
    "- Numpy Arrays\n",
    "\n",
    "## **Image Operations**\n",
    "- add\n",
    "- subtract\n",
    "- bitwise"
   ]
  },
  {
   "cell_type": "markdown",
   "metadata": {},
   "source": [
    "### Import the necessary libraries"
   ]
  },
  {
   "cell_type": "code",
   "execution_count": null,
   "metadata": {},
   "outputs": [],
   "source": []
  },
  {
   "cell_type": "markdown",
   "metadata": {},
   "source": [
    "### Load an image\n",
    "#### imread( )"
   ]
  },
  {
   "cell_type": "code",
   "execution_count": null,
   "metadata": {},
   "outputs": [],
   "source": []
  },
  {
   "cell_type": "code",
   "execution_count": null,
   "metadata": {},
   "outputs": [],
   "source": []
  },
  {
   "cell_type": "markdown",
   "metadata": {},
   "source": [
    "Images are NumPy arrays, stored as unsigned 8 bit integers.\n",
    "\n",
    "- values of our image's pixels will **always** be in the range [0, 255]. \n",
    "- Why???"
   ]
  },
  {
   "cell_type": "code",
   "execution_count": null,
   "metadata": {},
   "outputs": [],
   "source": []
  },
  {
   "cell_type": "markdown",
   "metadata": {},
   "source": [
    "### Overflow the add and subtract functions"
   ]
  },
  {
   "cell_type": "code",
   "execution_count": null,
   "metadata": {},
   "outputs": [],
   "source": []
  },
  {
   "cell_type": "markdown",
   "metadata": {},
   "source": [
    "## Image Methods\n",
    "- cv2.add( )\n",
    "- cv2.subtract ( )"
   ]
  },
  {
   "cell_type": "markdown",
   "metadata": {},
   "source": [
    "## cv2.add( )\n",
    "\n",
    "**Image enhancer**\n",
    "- Increase the intensity of all pixels in our image by 100\n",
    "\n",
    "Steps\n",
    "- Constructing a NumPy array that is the same size of our matrix (filled with ones)\n",
    "- Multiplying it by 100 to create an array filled with 100's. \n",
    "- Simply add the images together\n",
    "\n",
    "You will notice how the image is \"brighter\" than the original.\n",
    "\n"
   ]
  },
  {
   "cell_type": "code",
   "execution_count": null,
   "metadata": {},
   "outputs": [],
   "source": []
  },
  {
   "cell_type": "code",
   "execution_count": null,
   "metadata": {},
   "outputs": [],
   "source": []
  },
  {
   "cell_type": "code",
   "execution_count": null,
   "metadata": {},
   "outputs": [],
   "source": []
  },
  {
   "cell_type": "code",
   "execution_count": null,
   "metadata": {},
   "outputs": [],
   "source": []
  },
  {
   "cell_type": "markdown",
   "metadata": {},
   "source": [
    "## Task: Take a low-contrast image from your desktop and enhance it\n",
    "- Load the low-contrast image\n",
    "- Study the loaded images' details\n",
    "- Create a brighter mask as above as the same size of the laoded image\n",
    "- Use cv2.add( ) to perform image enhancement"
   ]
  },
  {
   "cell_type": "code",
   "execution_count": null,
   "metadata": {},
   "outputs": [],
   "source": []
  },
  {
   "cell_type": "markdown",
   "metadata": {},
   "source": [
    "## cv2. subtract ( )\n",
    "**Image enhancer**\n",
    "- Decrease the intensity of all pixels in our image by 100\n",
    "\n",
    "Steps\n",
    "- Constructing a NumPy array that is the same size of our matrix (filled with ones)\n",
    "- Multiplying it by 100 to create an array filled with 100's. \n",
    "- Simply subtract the images together\n",
    "\n",
    "You will notice how the image is \"darker\" than the original.\n"
   ]
  },
  {
   "cell_type": "code",
   "execution_count": null,
   "metadata": {},
   "outputs": [],
   "source": []
  },
  {
   "cell_type": "code",
   "execution_count": null,
   "metadata": {},
   "outputs": [],
   "source": []
  },
  {
   "cell_type": "code",
   "execution_count": null,
   "metadata": {},
   "outputs": [],
   "source": []
  },
  {
   "cell_type": "markdown",
   "metadata": {},
   "source": [
    "## Task: Take a high-contrast image from your desktop and enhance it\n",
    "- Load the washed-out high-contrast image\n",
    "- Study the loaded images' details\n",
    "- Create a darker mask as above as the same size of the laoded image\n",
    "- Use cv2.subtract( ) to perform image enhancement"
   ]
  },
  {
   "cell_type": "code",
   "execution_count": null,
   "metadata": {},
   "outputs": [],
   "source": []
  },
  {
   "cell_type": "markdown",
   "metadata": {},
   "source": [
    "## Bitwise operations\n",
    "- AND\n",
    "- OR\n",
    "- XOR\n",
    "- NOT"
   ]
  },
  {
   "cell_type": "markdown",
   "metadata": {},
   "source": [
    "### Draw a rectangle"
   ]
  },
  {
   "cell_type": "code",
   "execution_count": null,
   "metadata": {},
   "outputs": [],
   "source": []
  },
  {
   "cell_type": "markdown",
   "metadata": {},
   "source": [
    "### Draw a circle"
   ]
  },
  {
   "cell_type": "code",
   "execution_count": null,
   "metadata": {},
   "outputs": [],
   "source": []
  },
  {
   "cell_type": "markdown",
   "metadata": {},
   "source": [
    "### Bitwise AND\n",
    "#### A bitwise 'AND' is only True when both rectangle and circle have a value that is 'ON'. \n",
    "\n",
    "- If both pixels have a value greater than zero, that pixel is turned 'ON' (i.e set to 255 in the output image). \n",
    "- If both pixels are not greater than zero, then the output pixel is left 'OFF' with a value of 0."
   ]
  },
  {
   "cell_type": "code",
   "execution_count": null,
   "metadata": {},
   "outputs": [],
   "source": []
  },
  {
   "cell_type": "markdown",
   "metadata": {},
   "source": [
    "### Bitwise OR\n",
    "#### A bitwise 'OR' is only True when either rectangle or circle have a value that is 'ON'. \n",
    "\n",
    "- If either pixels have a value greater than zero, that pixel is turned 'ON' (i.e set to 255 in the output image). \n",
    "- If both pixels are not greater than zero, then the output pixel is left 'OFF' with a value of 0."
   ]
  },
  {
   "cell_type": "code",
   "execution_count": null,
   "metadata": {},
   "outputs": [],
   "source": []
  },
  {
   "cell_type": "markdown",
   "metadata": {},
   "source": [
    "### Bitwise XOR\n",
    "#### A bitwise 'XOR' is identical to the 'OR' function, with one exception: \n",
    "\n",
    "- both rectangle and circle are not allowed to have values greater than 0."
   ]
  },
  {
   "cell_type": "code",
   "execution_count": null,
   "metadata": {},
   "outputs": [],
   "source": []
  },
  {
   "cell_type": "markdown",
   "metadata": {},
   "source": [
    "### Bitwise NOT\n",
    "### The bitwise 'NOT' inverts the values of the pixels\n",
    "- Pixels with a value of 255 become 0\n",
    "- Pixels with a value of 0 become 255"
   ]
  },
  {
   "cell_type": "code",
   "execution_count": null,
   "metadata": {},
   "outputs": [],
   "source": []
  },
  {
   "cell_type": "code",
   "execution_count": null,
   "metadata": {},
   "outputs": [],
   "source": []
  }
 ],
 "metadata": {
  "kernelspec": {
   "display_name": "testing",
   "language": "python",
   "name": "testing"
  },
  "language_info": {
   "codemirror_mode": {
    "name": "ipython",
    "version": 3
   },
   "file_extension": ".py",
   "mimetype": "text/x-python",
   "name": "python",
   "nbconvert_exporter": "python",
   "pygments_lexer": "ipython3",
   "version": "3.8.5"
  }
 },
 "nbformat": 4,
 "nbformat_minor": 4
}
