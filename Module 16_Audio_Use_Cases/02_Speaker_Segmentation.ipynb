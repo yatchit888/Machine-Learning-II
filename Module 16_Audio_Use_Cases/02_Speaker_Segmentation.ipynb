{
 "cells": [
  {
   "cell_type": "markdown",
   "metadata": {},
   "source": [
    "# Speaker Segmentation / Diarization\n",
    "## This notebook outlines the concepts behind segmenting different speakers in the audio file"
   ]
  },
  {
   "cell_type": "markdown",
   "metadata": {},
   "source": [
    "### Import the libraries"
   ]
  },
  {
   "cell_type": "code",
   "execution_count": null,
   "metadata": {},
   "outputs": [],
   "source": [
    "import os, sklearn.cluster\n",
    "from pyAudioAnalysis.MidTermFeatures import mid_feature_extraction as mT\n",
    "from pyAudioAnalysis.audioBasicIO import read_audio_file, stereo_to_mono\n",
    "from pyAudioAnalysis.audioSegmentation import labels_to_segments\n",
    "from pyAudioAnalysis.audioTrainTest import normalize_features\n",
    "import numpy as np\n",
    "import scipy.io.wavfile as wavfile\n",
    "import IPython"
   ]
  },
  {
   "cell_type": "markdown",
   "metadata": {},
   "source": [
    "### Read signal"
   ]
  },
  {
   "cell_type": "code",
   "execution_count": null,
   "metadata": {},
   "outputs": [],
   "source": []
  },
  {
   "cell_type": "code",
   "execution_count": null,
   "metadata": {},
   "outputs": [],
   "source": []
  },
  {
   "cell_type": "code",
   "execution_count": null,
   "metadata": {},
   "outputs": [],
   "source": []
  },
  {
   "cell_type": "markdown",
   "metadata": {},
   "source": [
    "### Specify parameters"
   ]
  },
  {
   "cell_type": "code",
   "execution_count": null,
   "metadata": {},
   "outputs": [],
   "source": [
    "mt_size, mt_step, st_win = 1, 0.1, 0.05"
   ]
  },
  {
   "cell_type": "markdown",
   "metadata": {},
   "source": [
    "### Extract Mid-term features"
   ]
  },
  {
   "cell_type": "code",
   "execution_count": null,
   "metadata": {},
   "outputs": [],
   "source": [
    "[mt_feats, st_feats, _] = mT(x, fs, mt_size * fs, mt_step * fs,\n",
    "                            round(fs * st_win), round(fs * st_win * 0.5))"
   ]
  },
  {
   "cell_type": "markdown",
   "metadata": {},
   "source": [
    "### Get normalized segment feature statistics"
   ]
  },
  {
   "cell_type": "code",
   "execution_count": null,
   "metadata": {},
   "outputs": [],
   "source": [
    "(mt_feats_norm, MEAN, STD) = None\n",
    "mt_feats_norm = None"
   ]
  },
  {
   "cell_type": "markdown",
   "metadata": {},
   "source": [
    "### Perform clustering"
   ]
  },
  {
   "cell_type": "code",
   "execution_count": null,
   "metadata": {},
   "outputs": [],
   "source": [
    "n_clusters = None\n",
    "x_clusters = None\n",
    "k_means = None\n",
    "k_means.fit(None)\n",
    "cls = None"
   ]
  },
  {
   "cell_type": "markdown",
   "metadata": {},
   "source": [
    "### Save clusters to concatenated wav files"
   ]
  },
  {
   "cell_type": "code",
   "execution_count": null,
   "metadata": {},
   "outputs": [],
   "source": [
    "segs, c = labels_to_segments(cls, mt_step)  # convert flags to segment limits\n",
    "for sp in range(n_clusters):                \n",
    "    count_cl = 0\n",
    "    for i in range(len(c)):     # for each segment in each cluster (>2 secs long)\n",
    "        if c[i] == sp and segs[i, 1]-segs[i, 0] > 2:\n",
    "            count_cl += 1\n",
    "            # get the signal and append it to the cluster's signal (followed by some silence)\n",
    "            cur_x = x[int(segs[i, 0] * fs): int(segs[i, 1] * fs)]\n",
    "            x_clusters[sp] = np.append(x_clusters[sp], cur_x)\n",
    "            x_clusters[sp] = np.append(x_clusters[sp], np.zeros((fs,)))\n",
    "    # write cluster's signal into a WAV file\n",
    "    print(f'speaker {sp}: {count_cl} segments {len(x_clusters[sp])/float(fs)} sec total dur')        \n",
    "    wavfile.write(f'diarization_cluster_{sp}.wav', fs, np.int16(x_clusters[sp]))\n",
    "    IPython.display.display(IPython.display.Audio(f'diarization_cluster_{sp}.wav'))"
   ]
  },
  {
   "cell_type": "markdown",
   "metadata": {},
   "source": [
    "### Try some other files with different speakers to group"
   ]
  },
  {
   "cell_type": "code",
   "execution_count": null,
   "metadata": {},
   "outputs": [],
   "source": []
  }
 ],
 "metadata": {
  "kernelspec": {
   "display_name": "testing",
   "language": "python",
   "name": "testing"
  },
  "language_info": {
   "codemirror_mode": {
    "name": "ipython",
    "version": 3
   },
   "file_extension": ".py",
   "mimetype": "text/x-python",
   "name": "python",
   "nbconvert_exporter": "python",
   "pygments_lexer": "ipython3",
   "version": "3.8.5"
  }
 },
 "nbformat": 4,
 "nbformat_minor": 4
}
