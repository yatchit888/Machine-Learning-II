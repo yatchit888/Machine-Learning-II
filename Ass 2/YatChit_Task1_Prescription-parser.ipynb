{
 "cells": [
  {
   "cell_type": "markdown",
   "metadata": {},
   "source": [
    "# Task 1: Create a Prescription Parser using CRF\n",
    "This task tests your ability to build a Doctor Prescription Parser with the help of CRF model\n",
    "\n",
    "Your job is to build a Prescription Parser that takes a prescription (sentence) as an input and find / label the words in that sentence with one of the already pre-defined labels\n",
    "\n",
    "### Problem: SEQUENCE PREDICTION - Label words in a sentence\n",
    "#### Input : Doctor Prescription in the form of a sentence split into tokens\n",
    "- Ex: Take 2 tablets once a day for 10 days\n",
    "\n",
    "#### Output : FHIR Labels\n",
    "- ('Take', 'Method')\n",
    "- ('2', 'Qty') \n",
    "- ('tablets', 'Form')\n",
    "- ('once', 'Frequency')\n",
    "- ('a', 'Period') \n",
    "- ('day', 'PeriodUnit')\n",
    "- ('for', 'FOR')\n",
    "- ('10', 'Duration')\n",
    "- ('days', 'DurationUnit') "
   ]
  },
  {
   "cell_type": "markdown",
   "metadata": {},
   "source": [
    "### Major Steps\n",
    "- Install necessary library\n",
    "- Import the libraries\n",
    "- Create training data with labels\n",
    "    - Split the sentence into tokens\n",
    "    - Compute POS tags\n",
    "    - Create triples\n",
    "- Extract features\n",
    "- Split the data into training and testing set\n",
    "- Create CRF model\n",
    "- Save the CRF model\n",
    "- Load the CRF model\n",
    "- Predict on test data\n",
    "- Accuracy"
   ]
  },
  {
   "cell_type": "markdown",
   "metadata": {},
   "source": [
    "#### Install necesaary library"
   ]
  },
  {
   "cell_type": "markdown",
   "metadata": {},
   "source": [
    "#### Import the necessary libraries"
   ]
  },
  {
   "cell_type": "code",
   "execution_count": 34,
   "metadata": {},
   "outputs": [
    {
     "name": "stderr",
     "output_type": "stream",
     "text": [
      "[nltk_data] Downloading package averaged_perceptron_tagger to\n",
      "[nltk_data]     C:\\Users\\yatch\\AppData\\Roaming\\nltk_data...\n",
      "[nltk_data]   Unzipping taggers\\averaged_perceptron_tagger.zip.\n"
     ]
    },
    {
     "data": {
      "text/plain": [
       "True"
      ]
     },
     "execution_count": 34,
     "metadata": {},
     "output_type": "execute_result"
    }
   ],
   "source": [
    "import nltk\n",
    "from sklearn_crfsuite import CRF, metrics\n",
    "from sklearn.metrics import make_scorer,confusion_matrix\n",
    "from pprint import pprint\n",
    "from sklearn.metrics import f1_score,classification_report\n",
    "from sklearn.pipeline import Pipeline\n",
    "import string\n",
    "nltk.download('averaged_perceptron_tagger')"
   ]
  },
  {
   "cell_type": "markdown",
   "metadata": {},
   "source": [
    "### Input data (GIVEN)\n",
    "#### Creating the inputs to the ML model in the following form:\n",
    "- sigs --> ['take 3 tabs for 10 days']       INPUT SIG\n",
    "- input_sigs --> [['take', '3', 'tabs', 'for', '10', 'days']]      TOKENS\n",
    "- output_labels --> [['Method','Qty', 'Form', 'FOR', 'Duration', 'DurationUnit']]       LABELS"
   ]
  },
  {
   "cell_type": "code",
   "execution_count": 35,
   "metadata": {},
   "outputs": [],
   "source": [
    "sigs = [\"for 5 to 6 days\", \"inject 2 units\", \"x 2 weeks\", \"x 3 days\", \"every day\", \"every 2 weeks\", \"every 3 days\", \"every 1 to 2 months\", \"every 2 to 6 weeks\", \"every 4 to 6 days\", \"take two to four tabs\", \"take 2 to 4 tabs\", \"take 3 tabs orally bid for 10 days at bedtime\", \"swallow three capsules tid orally\", \"take 2 capsules po every 6 hours\", \"take 2 tabs po for 10 days\", \"take 100 caps by mouth tid for 10 weeks\", \"take 2 tabs after an hour\", \"2 tabs every 4-6 hours\", \"every 4 to 6 hours\", \"q46h\", \"q4-6h\", \"2 hours before breakfast\", \"before 30 mins at bedtime\", \"30 mins before bed\", \"and 100 tabs twice a month\", \"100 tabs twice a month\", \"100 tabs once a month\", \"100 tabs thrice a month\", \"3 tabs daily for 3 days then 1 tab per day at bed\", \"30 tabs 10 days tid\", \"take 30 tabs for 10 days three times a day\", \"qid q6h\", \"bid\", \"qid\", \"30 tabs before dinner and bedtime\", \"30 tabs before dinner & bedtime\", \"take 3 tabs at bedtime\", \"30 tabs thrice daily for 10 days \", \"30 tabs for 10 days three times a day\", \"Take 2 tablets a day\", \"qid for 10 days\", \"every day\", \"take 2 caps at bedtime\", \"apply 3 drops before bedtime\", \"take three capsules daily\", \"swallow 3 pills once a day\", \"swallow three pills thrice a day\", \"apply daily\", \"apply three drops before bedtime\", \"every 6 hours\", \"before food\", \"after food\", \"for 20 days\", \"for twenty days\", \"with meals\"]\n",
    "input_sigs = [['for', '5', 'to', '6', 'days'], ['inject', '2', 'units'], ['x', '2', 'weeks'], ['x', '3', 'days'], ['every', 'day'], ['every', '2', 'weeks'], ['every', '3', 'days'], ['every', '1', 'to', '2', 'months'], ['every', '2', 'to', '6', 'weeks'], ['every', '4', 'to', '6', 'days'], ['take', 'two', 'to', 'four', 'tabs'], ['take', '2', 'to', '4', 'tabs'], ['take', '3', 'tabs', 'orally', 'bid', 'for', '10', 'days', 'at', 'bedtime'], ['swallow', 'three', 'capsules', 'tid', 'orally'], ['take', '2', 'capsules', 'po', 'every', '6', 'hours'], ['take', '2', 'tabs', 'po', 'for', '10', 'days'], ['take', '100', 'caps', 'by', 'mouth', 'tid', 'for', '10', 'weeks'], ['take', '2', 'tabs', 'after', 'an', 'hour'], ['2', 'tabs', 'every', '4-6', 'hours'], ['every', '4', 'to', '6', 'hours'], ['q46h'], ['q4-6h'], ['2', 'hours', 'before', 'breakfast'], ['before', '30', 'mins', 'at', 'bedtime'], ['30', 'mins', 'before', 'bed'], ['and', '100', 'tabs', 'twice', 'a', 'month'], ['100', 'tabs', 'twice', 'a', 'month'], ['100', 'tabs', 'once', 'a', 'month'], ['100', 'tabs', 'thrice', 'a', 'month'], ['3', 'tabs', 'daily', 'for', '3', 'days', 'then', '1', 'tab', 'per', 'day', 'at', 'bed'], ['30', 'tabs', '10', 'days', 'tid'], ['take', '30', 'tabs', 'for', '10', 'days', 'three', 'times', 'a', 'day'], ['qid', 'q6h'], ['bid'], ['qid'], ['30', 'tabs', 'before', 'dinner', 'and', 'bedtime'], ['30', 'tabs', 'before', 'dinner', '&', 'bedtime'], ['take', '3', 'tabs', 'at', 'bedtime'], ['30', 'tabs', 'thrice', 'daily', 'for', '10', 'days'], ['30', 'tabs', 'for', '10', 'days', 'three', 'times', 'a', 'day'], ['take', '2', 'tablets', 'a', 'day'], ['qid', 'for', '10', 'days'], ['every', 'day'], ['take', '2', 'caps', 'at', 'bedtime'], ['apply', '3', 'drops', 'before', 'bedtime'], ['take', 'three', 'capsules', 'daily'], ['swallow', '3', 'pills', 'once', 'a', 'day'], ['swallow', 'three', 'pills', 'thrice', 'a', 'day'], ['apply', 'daily'], ['apply', 'three', 'drops', 'before', 'bedtime'], ['every', '6', 'hours'], ['before', 'food'], ['after', 'food'], ['for', '20', 'days'], ['for', 'twenty', 'days'], ['with', 'meals']]\n",
    "output_labels = [['FOR', 'Duration', 'TO', 'DurationMax', 'DurationUnit'], ['Method', 'Qty', 'Form'], ['FOR', 'Duration', 'DurationUnit'], ['FOR', 'Duration', 'DurationUnit'], ['EVERY', 'Period'], ['EVERY', 'Period', 'PeriodUnit'], ['EVERY', 'Period', 'PeriodUnit'], ['EVERY', 'Period', 'TO', 'PeriodMax', 'PeriodUnit'], ['EVERY', 'Period', 'TO', 'PeriodMax', 'PeriodUnit'], ['EVERY', 'Period', 'TO', 'PeriodMax', 'PeriodUnit'], ['Method', 'Qty', 'TO', 'Qty', 'Form'], ['Method', 'Qty', 'TO', 'Qty', 'Form'], ['Method', 'Qty', 'Form', 'PO', 'BID', 'FOR', 'Duration', 'DurationUnit', 'AT', 'WHEN'], ['Method', 'Qty', 'Form', 'TID', 'PO'], ['Method', 'Qty', 'Form', 'PO', 'EVERY', 'Period', 'PeriodUnit'], ['Method', 'Qty', 'Form', 'PO', 'FOR', 'Duration', 'DurationUnit'], ['Method', 'Qty', 'Form', 'BY', 'PO', 'TID', 'FOR', 'Duration', 'DurationUnit'], ['Method', 'Qty', 'Form', 'AFTER', 'Period', 'PeriodUnit'], ['Qty', 'Form', 'EVERY', 'Period', 'PeriodUnit'], ['EVERY', 'Period', 'TO', 'PeriodMax', 'PeriodUnit'], ['Q46H'], ['Q4-6H'], ['Qty', 'PeriodUnit', 'BEFORE', 'WHEN'], ['BEFORE', 'Qty', 'M', 'AT', 'WHEN'], ['Qty', 'M', 'BEFORE', 'WHEN'], ['AND', 'Qty', 'Form', 'Frequency', 'Period', 'PeriodUnit'], ['Qty', 'Form', 'Frequency', 'Period', 'PeriodUnit'], ['Qty', 'Form', 'Frequency', 'Period', 'PeriodUnit'], ['Qty', 'Form', 'Frequency', 'Period', 'PeriodUnit'], ['Qty', 'Form', 'Frequency', 'FOR', 'Duration', 'DurationUnit', 'THEN', 'Qty', 'Form', 'Frequency', 'PeriodUnit', 'AT', 'WHEN'], ['Qty', 'Form', 'Duration', 'DurationUnit', 'TID'], ['Method', 'Qty', 'Form', 'FOR', 'Duration', 'DurationUnit', 'Qty', 'TIMES', 'Period', 'PeriodUnit'], ['QID', 'Q6H'], ['BID'], ['QID'],['Qty', 'Form', 'BEFORE', 'WHEN', 'AND', 'WHEN'], ['Qty', 'Form', 'BEFORE', 'WHEN', 'AND', 'WHEN'], ['Method', 'Qty', 'Form', 'AT', 'WHEN'], ['Qty', 'Form', 'Frequency', 'DAILY', 'FOR', 'Duration', 'DurationUnit'], ['Qty', 'Form', 'FOR', 'Duration', 'DurationUnit', 'Frequency', 'TIMES', 'Period', 'PeriodUnit'], ['Method', 'Qty', 'Form', 'Period', 'PeriodUnit'], ['QID', 'FOR', 'Duration', 'DurationUnit'], ['EVERY', 'PeriodUnit'], ['Method', 'Qty', 'Form', 'AT', 'WHEN'], ['Method', 'Qty', 'Form', 'BEFORE', 'WHEN'], ['Method', 'Qty', 'Form', 'DAILY'], ['Method', 'Qty', 'Form', 'Frequency', 'Period', 'PeriodUnit'], ['Method', 'Qty', 'Form', 'Frequency', 'Period', 'PeriodUnit'], ['Method', 'DAILY'], ['Method', 'Qty', 'Form', 'BEFORE', 'WHEN'], ['EVERY', 'Period', 'PeriodUnit'], ['BEFORE', 'FOOD'], ['AFTER', 'FOOD'], ['FOR', 'Duration', 'DurationUnit'], ['FOR', 'Duration', 'DurationUnit'], ['WITH', 'FOOD']]"
   ]
  },
  {
   "cell_type": "code",
   "execution_count": 36,
   "metadata": {},
   "outputs": [
    {
     "data": {
      "text/plain": [
       "(56, 56, 56)"
      ]
     },
     "execution_count": 36,
     "metadata": {},
     "output_type": "execute_result"
    }
   ],
   "source": [
    "len(sigs), len(input_sigs) , len(output_labels)"
   ]
  },
  {
   "cell_type": "markdown",
   "metadata": {},
   "source": [
    "### Creating a Tuples Maker method\n",
    "Create the tuples as given below by writing a function **tuples_maker(input_sigs, output_labels)** and returns **output** as given below\n",
    "\n",
    "Input(s): \n",
    "- input_sigs\n",
    "- output_lables\n",
    "\n",
    "Output:\n",
    "\n",
    "[[('for', 'FOR'),\n",
    "  ('5', 'Duration'),\n",
    "  ('to', 'TO'),\n",
    "  ('6', 'DurationMax'),\n",
    "  ('days', 'DurationUnit')], [second sentence], ...]"
   ]
  },
  {
   "cell_type": "code",
   "execution_count": 37,
   "metadata": {},
   "outputs": [],
   "source": [
    "def tuples_maker(input_sigs, output_labels):\n",
    "    output = []\n",
    "    for sigs, labels in zip(input_sigs, output_labels):\n",
    "        sentence = [(sig, label) for sig, label in zip(sigs, labels)]\n",
    "        output.append(sentence)\n",
    "    return output"
   ]
  },
  {
   "cell_type": "code",
   "execution_count": 38,
   "metadata": {},
   "outputs": [
    {
     "data": {
      "text/plain": [
       "[[('for', 'FOR'),\n",
       "  ('5', 'Duration'),\n",
       "  ('to', 'TO'),\n",
       "  ('6', 'DurationMax'),\n",
       "  ('days', 'DurationUnit')],\n",
       " [('inject', 'Method'), ('2', 'Qty'), ('units', 'Form')],\n",
       " [('x', 'FOR'), ('2', 'Duration'), ('weeks', 'DurationUnit')],\n",
       " [('x', 'FOR'), ('3', 'Duration'), ('days', 'DurationUnit')],\n",
       " [('every', 'EVERY'), ('day', 'Period')],\n",
       " [('every', 'EVERY'), ('2', 'Period'), ('weeks', 'PeriodUnit')],\n",
       " [('every', 'EVERY'), ('3', 'Period'), ('days', 'PeriodUnit')],\n",
       " [('every', 'EVERY'),\n",
       "  ('1', 'Period'),\n",
       "  ('to', 'TO'),\n",
       "  ('2', 'PeriodMax'),\n",
       "  ('months', 'PeriodUnit')],\n",
       " [('every', 'EVERY'),\n",
       "  ('2', 'Period'),\n",
       "  ('to', 'TO'),\n",
       "  ('6', 'PeriodMax'),\n",
       "  ('weeks', 'PeriodUnit')],\n",
       " [('every', 'EVERY'),\n",
       "  ('4', 'Period'),\n",
       "  ('to', 'TO'),\n",
       "  ('6', 'PeriodMax'),\n",
       "  ('days', 'PeriodUnit')],\n",
       " [('take', 'Method'),\n",
       "  ('two', 'Qty'),\n",
       "  ('to', 'TO'),\n",
       "  ('four', 'Qty'),\n",
       "  ('tabs', 'Form')],\n",
       " [('take', 'Method'),\n",
       "  ('2', 'Qty'),\n",
       "  ('to', 'TO'),\n",
       "  ('4', 'Qty'),\n",
       "  ('tabs', 'Form')],\n",
       " [('take', 'Method'),\n",
       "  ('3', 'Qty'),\n",
       "  ('tabs', 'Form'),\n",
       "  ('orally', 'PO'),\n",
       "  ('bid', 'BID'),\n",
       "  ('for', 'FOR'),\n",
       "  ('10', 'Duration'),\n",
       "  ('days', 'DurationUnit'),\n",
       "  ('at', 'AT'),\n",
       "  ('bedtime', 'WHEN')],\n",
       " [('swallow', 'Method'),\n",
       "  ('three', 'Qty'),\n",
       "  ('capsules', 'Form'),\n",
       "  ('tid', 'TID'),\n",
       "  ('orally', 'PO')],\n",
       " [('take', 'Method'),\n",
       "  ('2', 'Qty'),\n",
       "  ('capsules', 'Form'),\n",
       "  ('po', 'PO'),\n",
       "  ('every', 'EVERY'),\n",
       "  ('6', 'Period'),\n",
       "  ('hours', 'PeriodUnit')],\n",
       " [('take', 'Method'),\n",
       "  ('2', 'Qty'),\n",
       "  ('tabs', 'Form'),\n",
       "  ('po', 'PO'),\n",
       "  ('for', 'FOR'),\n",
       "  ('10', 'Duration'),\n",
       "  ('days', 'DurationUnit')],\n",
       " [('take', 'Method'),\n",
       "  ('100', 'Qty'),\n",
       "  ('caps', 'Form'),\n",
       "  ('by', 'BY'),\n",
       "  ('mouth', 'PO'),\n",
       "  ('tid', 'TID'),\n",
       "  ('for', 'FOR'),\n",
       "  ('10', 'Duration'),\n",
       "  ('weeks', 'DurationUnit')],\n",
       " [('take', 'Method'),\n",
       "  ('2', 'Qty'),\n",
       "  ('tabs', 'Form'),\n",
       "  ('after', 'AFTER'),\n",
       "  ('an', 'Period'),\n",
       "  ('hour', 'PeriodUnit')],\n",
       " [('2', 'Qty'),\n",
       "  ('tabs', 'Form'),\n",
       "  ('every', 'EVERY'),\n",
       "  ('4-6', 'Period'),\n",
       "  ('hours', 'PeriodUnit')],\n",
       " [('every', 'EVERY'),\n",
       "  ('4', 'Period'),\n",
       "  ('to', 'TO'),\n",
       "  ('6', 'PeriodMax'),\n",
       "  ('hours', 'PeriodUnit')],\n",
       " [('q46h', 'Q46H')],\n",
       " [('q4-6h', 'Q4-6H')],\n",
       " [('2', 'Qty'),\n",
       "  ('hours', 'PeriodUnit'),\n",
       "  ('before', 'BEFORE'),\n",
       "  ('breakfast', 'WHEN')],\n",
       " [('before', 'BEFORE'),\n",
       "  ('30', 'Qty'),\n",
       "  ('mins', 'M'),\n",
       "  ('at', 'AT'),\n",
       "  ('bedtime', 'WHEN')],\n",
       " [('30', 'Qty'), ('mins', 'M'), ('before', 'BEFORE'), ('bed', 'WHEN')],\n",
       " [('and', 'AND'),\n",
       "  ('100', 'Qty'),\n",
       "  ('tabs', 'Form'),\n",
       "  ('twice', 'Frequency'),\n",
       "  ('a', 'Period'),\n",
       "  ('month', 'PeriodUnit')],\n",
       " [('100', 'Qty'),\n",
       "  ('tabs', 'Form'),\n",
       "  ('twice', 'Frequency'),\n",
       "  ('a', 'Period'),\n",
       "  ('month', 'PeriodUnit')],\n",
       " [('100', 'Qty'),\n",
       "  ('tabs', 'Form'),\n",
       "  ('once', 'Frequency'),\n",
       "  ('a', 'Period'),\n",
       "  ('month', 'PeriodUnit')],\n",
       " [('100', 'Qty'),\n",
       "  ('tabs', 'Form'),\n",
       "  ('thrice', 'Frequency'),\n",
       "  ('a', 'Period'),\n",
       "  ('month', 'PeriodUnit')],\n",
       " [('3', 'Qty'),\n",
       "  ('tabs', 'Form'),\n",
       "  ('daily', 'Frequency'),\n",
       "  ('for', 'FOR'),\n",
       "  ('3', 'Duration'),\n",
       "  ('days', 'DurationUnit'),\n",
       "  ('then', 'THEN'),\n",
       "  ('1', 'Qty'),\n",
       "  ('tab', 'Form'),\n",
       "  ('per', 'Frequency'),\n",
       "  ('day', 'PeriodUnit'),\n",
       "  ('at', 'AT'),\n",
       "  ('bed', 'WHEN')],\n",
       " [('30', 'Qty'),\n",
       "  ('tabs', 'Form'),\n",
       "  ('10', 'Duration'),\n",
       "  ('days', 'DurationUnit'),\n",
       "  ('tid', 'TID')],\n",
       " [('take', 'Method'),\n",
       "  ('30', 'Qty'),\n",
       "  ('tabs', 'Form'),\n",
       "  ('for', 'FOR'),\n",
       "  ('10', 'Duration'),\n",
       "  ('days', 'DurationUnit'),\n",
       "  ('three', 'Qty'),\n",
       "  ('times', 'TIMES'),\n",
       "  ('a', 'Period'),\n",
       "  ('day', 'PeriodUnit')],\n",
       " [('qid', 'QID'), ('q6h', 'Q6H')],\n",
       " [('bid', 'BID')],\n",
       " [('qid', 'QID')],\n",
       " [('30', 'Qty'),\n",
       "  ('tabs', 'Form'),\n",
       "  ('before', 'BEFORE'),\n",
       "  ('dinner', 'WHEN'),\n",
       "  ('and', 'AND'),\n",
       "  ('bedtime', 'WHEN')],\n",
       " [('30', 'Qty'),\n",
       "  ('tabs', 'Form'),\n",
       "  ('before', 'BEFORE'),\n",
       "  ('dinner', 'WHEN'),\n",
       "  ('&', 'AND'),\n",
       "  ('bedtime', 'WHEN')],\n",
       " [('take', 'Method'),\n",
       "  ('3', 'Qty'),\n",
       "  ('tabs', 'Form'),\n",
       "  ('at', 'AT'),\n",
       "  ('bedtime', 'WHEN')],\n",
       " [('30', 'Qty'),\n",
       "  ('tabs', 'Form'),\n",
       "  ('thrice', 'Frequency'),\n",
       "  ('daily', 'DAILY'),\n",
       "  ('for', 'FOR'),\n",
       "  ('10', 'Duration'),\n",
       "  ('days', 'DurationUnit')],\n",
       " [('30', 'Qty'),\n",
       "  ('tabs', 'Form'),\n",
       "  ('for', 'FOR'),\n",
       "  ('10', 'Duration'),\n",
       "  ('days', 'DurationUnit'),\n",
       "  ('three', 'Frequency'),\n",
       "  ('times', 'TIMES'),\n",
       "  ('a', 'Period'),\n",
       "  ('day', 'PeriodUnit')],\n",
       " [('take', 'Method'),\n",
       "  ('2', 'Qty'),\n",
       "  ('tablets', 'Form'),\n",
       "  ('a', 'Period'),\n",
       "  ('day', 'PeriodUnit')],\n",
       " [('qid', 'QID'),\n",
       "  ('for', 'FOR'),\n",
       "  ('10', 'Duration'),\n",
       "  ('days', 'DurationUnit')],\n",
       " [('every', 'EVERY'), ('day', 'PeriodUnit')],\n",
       " [('take', 'Method'),\n",
       "  ('2', 'Qty'),\n",
       "  ('caps', 'Form'),\n",
       "  ('at', 'AT'),\n",
       "  ('bedtime', 'WHEN')],\n",
       " [('apply', 'Method'),\n",
       "  ('3', 'Qty'),\n",
       "  ('drops', 'Form'),\n",
       "  ('before', 'BEFORE'),\n",
       "  ('bedtime', 'WHEN')],\n",
       " [('take', 'Method'),\n",
       "  ('three', 'Qty'),\n",
       "  ('capsules', 'Form'),\n",
       "  ('daily', 'DAILY')],\n",
       " [('swallow', 'Method'),\n",
       "  ('3', 'Qty'),\n",
       "  ('pills', 'Form'),\n",
       "  ('once', 'Frequency'),\n",
       "  ('a', 'Period'),\n",
       "  ('day', 'PeriodUnit')],\n",
       " [('swallow', 'Method'),\n",
       "  ('three', 'Qty'),\n",
       "  ('pills', 'Form'),\n",
       "  ('thrice', 'Frequency'),\n",
       "  ('a', 'Period'),\n",
       "  ('day', 'PeriodUnit')],\n",
       " [('apply', 'Method'), ('daily', 'DAILY')],\n",
       " [('apply', 'Method'),\n",
       "  ('three', 'Qty'),\n",
       "  ('drops', 'Form'),\n",
       "  ('before', 'BEFORE'),\n",
       "  ('bedtime', 'WHEN')],\n",
       " [('every', 'EVERY'), ('6', 'Period'), ('hours', 'PeriodUnit')],\n",
       " [('before', 'BEFORE'), ('food', 'FOOD')],\n",
       " [('after', 'AFTER'), ('food', 'FOOD')],\n",
       " [('for', 'FOR'), ('20', 'Duration'), ('days', 'DurationUnit')],\n",
       " [('for', 'FOR'), ('twenty', 'Duration'), ('days', 'DurationUnit')],\n",
       " [('with', 'WITH'), ('meals', 'FOOD')]]"
      ]
     },
     "execution_count": 38,
     "metadata": {},
     "output_type": "execute_result"
    }
   ],
   "source": [
    "tuples_maker(input_sigs, output_labels)"
   ]
  },
  {
   "cell_type": "markdown",
   "metadata": {},
   "source": [
    "### Creating the triples_maker( ) for feature extraction\n",
    "- input: tuples_maker_output\n",
    "- output: \n",
    "[[('for', 'IN', 'FOR'),\n",
    "  ('5', 'CD', 'Duration'),\n",
    "  ('to', 'TO', 'TO'),\n",
    "  ('6', 'CD', 'DurationMax'),\n",
    "  ('days', 'NNS', 'DurationUnit')], [second sentence], ... ]"
   ]
  },
  {
   "cell_type": "code",
   "execution_count": 39,
   "metadata": {},
   "outputs": [],
   "source": [
    "def triples_maker(tuples_maker_output, pos_tags):\n",
    "    output = []\n",
    "    for sentence, pos_sentence in zip(tuples_maker_output, pos_tags):\n",
    "        new_sentence = [(word, pos, label) for (word, label), pos in zip(sentence, pos_sentence)]\n",
    "        output.append(new_sentence)\n",
    "    return output\n",
    "\n",
    "def get_pos_tags(sentences):\n",
    "    pos_tags = []\n",
    "    for sentence in sentences:\n",
    "        tagged = nltk.pos_tag(sentence)\n",
    "        pos_tags.append([tag for word, tag in tagged])\n",
    "    return pos_tags"
   ]
  },
  {
   "cell_type": "code",
   "execution_count": 42,
   "metadata": {},
   "outputs": [
    {
     "data": {
      "text/plain": [
       "[[('for', 'IN', 'FOR'),\n",
       "  ('5', 'CD', 'Duration'),\n",
       "  ('to', 'TO', 'TO'),\n",
       "  ('6', 'CD', 'DurationMax'),\n",
       "  ('days', 'NNS', 'DurationUnit')],\n",
       " [('inject', 'JJ', 'Method'), ('2', 'CD', 'Qty'), ('units', 'NNS', 'Form')],\n",
       " [('x', 'RB', 'FOR'),\n",
       "  ('2', 'CD', 'Duration'),\n",
       "  ('weeks', 'NNS', 'DurationUnit')],\n",
       " [('x', 'RB', 'FOR'),\n",
       "  ('3', 'CD', 'Duration'),\n",
       "  ('days', 'NNS', 'DurationUnit')],\n",
       " [('every', 'DT', 'EVERY'), ('day', 'NN', 'Period')],\n",
       " [('every', 'DT', 'EVERY'),\n",
       "  ('2', 'CD', 'Period'),\n",
       "  ('weeks', 'NNS', 'PeriodUnit')],\n",
       " [('every', 'DT', 'EVERY'),\n",
       "  ('3', 'CD', 'Period'),\n",
       "  ('days', 'NNS', 'PeriodUnit')],\n",
       " [('every', 'DT', 'EVERY'),\n",
       "  ('1', 'CD', 'Period'),\n",
       "  ('to', 'TO', 'TO'),\n",
       "  ('2', 'CD', 'PeriodMax'),\n",
       "  ('months', 'NNS', 'PeriodUnit')],\n",
       " [('every', 'DT', 'EVERY'),\n",
       "  ('2', 'CD', 'Period'),\n",
       "  ('to', 'TO', 'TO'),\n",
       "  ('6', 'CD', 'PeriodMax'),\n",
       "  ('weeks', 'NNS', 'PeriodUnit')],\n",
       " [('every', 'DT', 'EVERY'),\n",
       "  ('4', 'CD', 'Period'),\n",
       "  ('to', 'TO', 'TO'),\n",
       "  ('6', 'CD', 'PeriodMax'),\n",
       "  ('days', 'NNS', 'PeriodUnit')],\n",
       " [('take', 'VB', 'Method'),\n",
       "  ('two', 'CD', 'Qty'),\n",
       "  ('to', 'TO', 'TO'),\n",
       "  ('four', 'CD', 'Qty'),\n",
       "  ('tabs', 'NNS', 'Form')],\n",
       " [('take', 'VB', 'Method'),\n",
       "  ('2', 'CD', 'Qty'),\n",
       "  ('to', 'TO', 'TO'),\n",
       "  ('4', 'CD', 'Qty'),\n",
       "  ('tabs', 'NNS', 'Form')],\n",
       " [('take', 'VB', 'Method'),\n",
       "  ('3', 'CD', 'Qty'),\n",
       "  ('tabs', 'NNS', 'Form'),\n",
       "  ('orally', 'RB', 'PO'),\n",
       "  ('bid', 'VBP', 'BID'),\n",
       "  ('for', 'IN', 'FOR'),\n",
       "  ('10', 'CD', 'Duration'),\n",
       "  ('days', 'NNS', 'DurationUnit'),\n",
       "  ('at', 'IN', 'AT'),\n",
       "  ('bedtime', 'NN', 'WHEN')],\n",
       " [('swallow', 'JJ', 'Method'),\n",
       "  ('three', 'CD', 'Qty'),\n",
       "  ('capsules', 'NNS', 'Form'),\n",
       "  ('tid', 'VBP', 'TID'),\n",
       "  ('orally', 'RB', 'PO')],\n",
       " [('take', 'VB', 'Method'),\n",
       "  ('2', 'CD', 'Qty'),\n",
       "  ('capsules', 'NNS', 'Form'),\n",
       "  ('po', 'RB', 'PO'),\n",
       "  ('every', 'DT', 'EVERY'),\n",
       "  ('6', 'CD', 'Period'),\n",
       "  ('hours', 'NNS', 'PeriodUnit')],\n",
       " [('take', 'VB', 'Method'),\n",
       "  ('2', 'CD', 'Qty'),\n",
       "  ('tabs', 'NNS', 'Form'),\n",
       "  ('po', 'NN', 'PO'),\n",
       "  ('for', 'IN', 'FOR'),\n",
       "  ('10', 'CD', 'Duration'),\n",
       "  ('days', 'NNS', 'DurationUnit')],\n",
       " [('take', 'VB', 'Method'),\n",
       "  ('100', 'CD', 'Qty'),\n",
       "  ('caps', 'NNS', 'Form'),\n",
       "  ('by', 'IN', 'BY'),\n",
       "  ('mouth', 'NN', 'PO'),\n",
       "  ('tid', 'NN', 'TID'),\n",
       "  ('for', 'IN', 'FOR'),\n",
       "  ('10', 'CD', 'Duration'),\n",
       "  ('weeks', 'NNS', 'DurationUnit')],\n",
       " [('take', 'VB', 'Method'),\n",
       "  ('2', 'CD', 'Qty'),\n",
       "  ('tabs', 'NNS', 'Form'),\n",
       "  ('after', 'IN', 'AFTER'),\n",
       "  ('an', 'DT', 'Period'),\n",
       "  ('hour', 'NN', 'PeriodUnit')],\n",
       " [('2', 'CD', 'Qty'),\n",
       "  ('tabs', 'JJ', 'Form'),\n",
       "  ('every', 'DT', 'EVERY'),\n",
       "  ('4-6', 'JJ', 'Period'),\n",
       "  ('hours', 'NNS', 'PeriodUnit')],\n",
       " [('every', 'DT', 'EVERY'),\n",
       "  ('4', 'CD', 'Period'),\n",
       "  ('to', 'TO', 'TO'),\n",
       "  ('6', 'CD', 'PeriodMax'),\n",
       "  ('hours', 'NNS', 'PeriodUnit')],\n",
       " [('q46h', 'NN', 'Q46H')],\n",
       " [('q4-6h', 'NN', 'Q4-6H')],\n",
       " [('2', 'CD', 'Qty'),\n",
       "  ('hours', 'NNS', 'PeriodUnit'),\n",
       "  ('before', 'IN', 'BEFORE'),\n",
       "  ('breakfast', 'NN', 'WHEN')],\n",
       " [('before', 'IN', 'BEFORE'),\n",
       "  ('30', 'CD', 'Qty'),\n",
       "  ('mins', 'NNS', 'M'),\n",
       "  ('at', 'IN', 'AT'),\n",
       "  ('bedtime', 'NN', 'WHEN')],\n",
       " [('30', 'CD', 'Qty'),\n",
       "  ('mins', 'NNS', 'M'),\n",
       "  ('before', 'IN', 'BEFORE'),\n",
       "  ('bed', 'NN', 'WHEN')],\n",
       " [('and', 'CC', 'AND'),\n",
       "  ('100', 'CD', 'Qty'),\n",
       "  ('tabs', 'NNS', 'Form'),\n",
       "  ('twice', 'RB', 'Frequency'),\n",
       "  ('a', 'DT', 'Period'),\n",
       "  ('month', 'NN', 'PeriodUnit')],\n",
       " [('100', 'CD', 'Qty'),\n",
       "  ('tabs', 'JJ', 'Form'),\n",
       "  ('twice', 'RB', 'Frequency'),\n",
       "  ('a', 'DT', 'Period'),\n",
       "  ('month', 'NN', 'PeriodUnit')],\n",
       " [('100', 'CD', 'Qty'),\n",
       "  ('tabs', 'NNS', 'Form'),\n",
       "  ('once', 'RB', 'Frequency'),\n",
       "  ('a', 'DT', 'Period'),\n",
       "  ('month', 'NN', 'PeriodUnit')],\n",
       " [('100', 'CD', 'Qty'),\n",
       "  ('tabs', 'JJ', 'Form'),\n",
       "  ('thrice', 'NN', 'Frequency'),\n",
       "  ('a', 'DT', 'Period'),\n",
       "  ('month', 'NN', 'PeriodUnit')],\n",
       " [('3', 'CD', 'Qty'),\n",
       "  ('tabs', 'JJ', 'Form'),\n",
       "  ('daily', 'RB', 'Frequency'),\n",
       "  ('for', 'IN', 'FOR'),\n",
       "  ('3', 'CD', 'Duration'),\n",
       "  ('days', 'NNS', 'DurationUnit'),\n",
       "  ('then', 'RB', 'THEN'),\n",
       "  ('1', 'CD', 'Qty'),\n",
       "  ('tab', 'NNS', 'Form'),\n",
       "  ('per', 'IN', 'Frequency'),\n",
       "  ('day', 'NN', 'PeriodUnit'),\n",
       "  ('at', 'IN', 'AT'),\n",
       "  ('bed', 'NN', 'WHEN')],\n",
       " [('30', 'CD', 'Qty'),\n",
       "  ('tabs', 'NNS', 'Form'),\n",
       "  ('10', 'CD', 'Duration'),\n",
       "  ('days', 'NNS', 'DurationUnit'),\n",
       "  ('tid', 'NN', 'TID')],\n",
       " [('take', 'VB', 'Method'),\n",
       "  ('30', 'CD', 'Qty'),\n",
       "  ('tabs', 'NNS', 'Form'),\n",
       "  ('for', 'IN', 'FOR'),\n",
       "  ('10', 'CD', 'Duration'),\n",
       "  ('days', 'NNS', 'DurationUnit'),\n",
       "  ('three', 'CD', 'Qty'),\n",
       "  ('times', 'NNS', 'TIMES'),\n",
       "  ('a', 'DT', 'Period'),\n",
       "  ('day', 'NN', 'PeriodUnit')],\n",
       " [('qid', 'NN', 'QID'), ('q6h', 'NN', 'Q6H')],\n",
       " [('bid', 'NN', 'BID')],\n",
       " [('qid', 'NN', 'QID')],\n",
       " [('30', 'CD', 'Qty'),\n",
       "  ('tabs', 'NNS', 'Form'),\n",
       "  ('before', 'IN', 'BEFORE'),\n",
       "  ('dinner', 'NN', 'WHEN'),\n",
       "  ('and', 'CC', 'AND'),\n",
       "  ('bedtime', 'NN', 'WHEN')],\n",
       " [('30', 'CD', 'Qty'),\n",
       "  ('tabs', 'NNS', 'Form'),\n",
       "  ('before', 'IN', 'BEFORE'),\n",
       "  ('dinner', 'NN', 'WHEN'),\n",
       "  ('&', 'CC', 'AND'),\n",
       "  ('bedtime', 'NN', 'WHEN')],\n",
       " [('take', 'VB', 'Method'),\n",
       "  ('3', 'CD', 'Qty'),\n",
       "  ('tabs', 'NNS', 'Form'),\n",
       "  ('at', 'IN', 'AT'),\n",
       "  ('bedtime', 'NN', 'WHEN')],\n",
       " [('30', 'CD', 'Qty'),\n",
       "  ('tabs', 'JJ', 'Form'),\n",
       "  ('thrice', 'JJ', 'Frequency'),\n",
       "  ('daily', 'RB', 'DAILY'),\n",
       "  ('for', 'IN', 'FOR'),\n",
       "  ('10', 'CD', 'Duration'),\n",
       "  ('days', 'NNS', 'DurationUnit')],\n",
       " [('30', 'CD', 'Qty'),\n",
       "  ('tabs', 'NNS', 'Form'),\n",
       "  ('for', 'IN', 'FOR'),\n",
       "  ('10', 'CD', 'Duration'),\n",
       "  ('days', 'NNS', 'DurationUnit'),\n",
       "  ('three', 'CD', 'Frequency'),\n",
       "  ('times', 'NNS', 'TIMES'),\n",
       "  ('a', 'DT', 'Period'),\n",
       "  ('day', 'NN', 'PeriodUnit')],\n",
       " [('take', 'VB', 'Method'),\n",
       "  ('2', 'CD', 'Qty'),\n",
       "  ('tablets', 'NNS', 'Form'),\n",
       "  ('a', 'DT', 'Period'),\n",
       "  ('day', 'NN', 'PeriodUnit')],\n",
       " [('qid', 'NN', 'QID'),\n",
       "  ('for', 'IN', 'FOR'),\n",
       "  ('10', 'CD', 'Duration'),\n",
       "  ('days', 'NNS', 'DurationUnit')],\n",
       " [('every', 'DT', 'EVERY'), ('day', 'NN', 'PeriodUnit')],\n",
       " [('take', 'VB', 'Method'),\n",
       "  ('2', 'CD', 'Qty'),\n",
       "  ('caps', 'NNS', 'Form'),\n",
       "  ('at', 'IN', 'AT'),\n",
       "  ('bedtime', 'NN', 'WHEN')],\n",
       " [('apply', 'RB', 'Method'),\n",
       "  ('3', 'CD', 'Qty'),\n",
       "  ('drops', 'NNS', 'Form'),\n",
       "  ('before', 'IN', 'BEFORE'),\n",
       "  ('bedtime', 'NN', 'WHEN')],\n",
       " [('take', 'VB', 'Method'),\n",
       "  ('three', 'CD', 'Qty'),\n",
       "  ('capsules', 'NNS', 'Form'),\n",
       "  ('daily', 'RB', 'DAILY')],\n",
       " [('swallow', 'JJ', 'Method'),\n",
       "  ('3', 'CD', 'Qty'),\n",
       "  ('pills', 'NNS', 'Form'),\n",
       "  ('once', 'RB', 'Frequency'),\n",
       "  ('a', 'DT', 'Period'),\n",
       "  ('day', 'NN', 'PeriodUnit')],\n",
       " [('swallow', 'JJ', 'Method'),\n",
       "  ('three', 'CD', 'Qty'),\n",
       "  ('pills', 'NNS', 'Form'),\n",
       "  ('thrice', 'VBP', 'Frequency'),\n",
       "  ('a', 'DT', 'Period'),\n",
       "  ('day', 'NN', 'PeriodUnit')],\n",
       " [('apply', 'VB', 'Method'), ('daily', 'JJ', 'DAILY')],\n",
       " [('apply', 'RB', 'Method'),\n",
       "  ('three', 'CD', 'Qty'),\n",
       "  ('drops', 'NNS', 'Form'),\n",
       "  ('before', 'IN', 'BEFORE'),\n",
       "  ('bedtime', 'NN', 'WHEN')],\n",
       " [('every', 'DT', 'EVERY'),\n",
       "  ('6', 'CD', 'Period'),\n",
       "  ('hours', 'NNS', 'PeriodUnit')],\n",
       " [('before', 'IN', 'BEFORE'), ('food', 'NN', 'FOOD')],\n",
       " [('after', 'IN', 'AFTER'), ('food', 'NN', 'FOOD')],\n",
       " [('for', 'IN', 'FOR'),\n",
       "  ('20', 'CD', 'Duration'),\n",
       "  ('days', 'NNS', 'DurationUnit')],\n",
       " [('for', 'IN', 'FOR'),\n",
       "  ('twenty', 'JJ', 'Duration'),\n",
       "  ('days', 'NNS', 'DurationUnit')],\n",
       " [('with', 'IN', 'WITH'), ('meals', 'NNS', 'FOOD')]]"
      ]
     },
     "execution_count": 42,
     "metadata": {},
     "output_type": "execute_result"
    }
   ],
   "source": [
    "tuples_maker_output = tuples_maker(input_sigs, output_labels)\n",
    "pos_tags = get_pos_tags(input_sigs)\n",
    "triples_maker(tuples_maker_output, pos_tags)"
   ]
  },
  {
   "cell_type": "markdown",
   "metadata": {},
   "source": [
    "### Creating the features extractor method (GIVEN as a BASELINE)\n",
    "#### The features used are:\n",
    "- SOS, EOS, lowercase, uppercase, title, digit, postag, previous_tag, next_tag\n",
    "#### Feel free to include more features"
   ]
  },
  {
   "cell_type": "code",
   "execution_count": 43,
   "metadata": {},
   "outputs": [],
   "source": [
    "def token_to_features(doc, i):\n",
    "    word = doc[i][0]\n",
    "    postag = doc[i][1]\n",
    "\n",
    "    # Common features for all words\n",
    "    features = [\n",
    "        'bias',\n",
    "        'word.lower=' + word.lower(),\n",
    "        'word[-3:]=' + word[-3:],\n",
    "        'word[-2:]=' + word[-2:],\n",
    "        'word.isupper=%s' % word.isupper(),\n",
    "        'word.istitle=%s' % word.istitle(),\n",
    "        'word.isdigit=%s' % word.isdigit(),\n",
    "        'postag=' + postag\n",
    "    ]\n",
    "\n",
    "    # Features for words that are not\n",
    "    # at the beginning of a document\n",
    "    if i > 0:\n",
    "        word1 = doc[i-1][0]\n",
    "        postag1 = doc[i-1][1]\n",
    "        features.extend([\n",
    "            '-1:word.lower=' + word1.lower(),\n",
    "            '-1:word.istitle=%s' % word1.istitle(),\n",
    "            '-1:word.isupper=%s' % word1.isupper(),\n",
    "            '-1:word.isdigit=%s' % word1.isdigit(),\n",
    "            '-1:postag=' + postag1\n",
    "        ])\n",
    "    else:\n",
    "        # Indicate that it is the 'beginning of a document'\n",
    "        features.append('BOS')\n",
    "\n",
    "    # Features for words that are not\n",
    "    # at the end of a document\n",
    "    if i < len(doc)-1:\n",
    "        word1 = doc[i+1][0]\n",
    "        postag1 = doc[i+1][1]\n",
    "        features.extend([\n",
    "            '+1:word.lower=' + word1.lower(),\n",
    "            '+1:word.istitle=%s' % word1.istitle(),\n",
    "            '+1:word.isupper=%s' % word1.isupper(),\n",
    "            '+1:word.isdigit=%s' % word1.isdigit(),\n",
    "            '+1:postag=' + postag1\n",
    "        ])\n",
    "    else:\n",
    "        # Indicate that it is the 'end of a document'\n",
    "        features.append('EOS')\n",
    "\n",
    "    return features"
   ]
  },
  {
   "cell_type": "markdown",
   "metadata": {},
   "source": [
    "### Running the feature extractor on the training data \n",
    "- Feature extraction\n",
    "- Train-test-split"
   ]
  },
  {
   "cell_type": "code",
   "execution_count": 89,
   "metadata": {},
   "outputs": [],
   "source": [
    "output = triples_maker(tuples_maker_output, pos_tags)\n",
    "from sklearn.model_selection import train_test_split\n",
    "\n",
    "def get_features(doc):\n",
    "    return [token_to_features(doc, i) for i in range(len(doc))]\n",
    "\n",
    "def get_labels(doc):\n",
    "    return [label for token, postag, label in doc]\n",
    "\n",
    "features = [get_features(doc) for doc in output]\n",
    "labels = [get_labels(doc) for doc in output]\n",
    "\n",
    "features_train, features_test, labels_train, labels_test = train_test_split(features, labels, test_size=0.2)"
   ]
  },
  {
   "cell_type": "markdown",
   "metadata": {},
   "source": [
    "### Training the CRF model with the features extracted using the feature extractor method"
   ]
  },
  {
   "cell_type": "code",
   "execution_count": 90,
   "metadata": {},
   "outputs": [
    {
     "name": "stdout",
     "output_type": "stream",
     "text": [
      "Feature generation\n",
      "type: CRF1d\n",
      "feature.minfreq: 0.000000\n",
      "feature.possible_states: 0\n",
      "feature.possible_transitions: 1\n",
      "0....1....2....3....4....5....6....7....8....9....10\n",
      "Number of features: 1744\n",
      "Seconds required: 0.010\n",
      "\n",
      "L-BFGS optimization\n",
      "c1: 0.100000\n",
      "c2: 0.100000\n",
      "num_memories: 6\n",
      "max_iterations: 100\n",
      "epsilon: 0.000010\n",
      "stop: 10\n",
      "delta: 0.000010\n",
      "linesearch: MoreThuente\n",
      "linesearch.max_iterations: 20\n",
      "\n",
      "***** Iteration #1 *****\n",
      "Loss: 541.990421\n",
      "Feature norm: 1.000000\n",
      "Error norm: 108.551529\n",
      "Active features: 1732\n",
      "Line search trials: 1\n",
      "Line search step: 0.007091\n",
      "Seconds required for this iteration: 0.001\n",
      "\n",
      "***** Iteration #2 *****\n",
      "Loss: 325.980636\n",
      "Feature norm: 5.696520\n",
      "Error norm: 125.998703\n",
      "Active features: 1450\n",
      "Line search trials: 1\n",
      "Line search step: 1.000000\n",
      "Seconds required for this iteration: 0.003\n",
      "\n",
      "***** Iteration #3 *****\n",
      "Loss: 231.392172\n",
      "Feature norm: 7.100058\n",
      "Error norm: 57.041779\n",
      "Active features: 1301\n",
      "Line search trials: 1\n",
      "Line search step: 1.000000\n",
      "Seconds required for this iteration: 0.001\n",
      "\n",
      "***** Iteration #4 *****\n",
      "Loss: 204.846339\n",
      "Feature norm: 7.555475\n",
      "Error norm: 39.438147\n",
      "Active features: 1214\n",
      "Line search trials: 1\n",
      "Line search step: 1.000000\n",
      "Seconds required for this iteration: 0.001\n",
      "\n",
      "***** Iteration #5 *****\n",
      "Loss: 154.572131\n",
      "Feature norm: 8.922307\n",
      "Error norm: 29.719935\n",
      "Active features: 1109\n",
      "Line search trials: 1\n",
      "Line search step: 1.000000\n",
      "Seconds required for this iteration: 0.000\n",
      "\n",
      "***** Iteration #6 *****\n",
      "Loss: 109.426101\n",
      "Feature norm: 11.143850\n",
      "Error norm: 24.616459\n",
      "Active features: 1036\n",
      "Line search trials: 1\n",
      "Line search step: 1.000000\n",
      "Seconds required for this iteration: 0.001\n",
      "\n",
      "***** Iteration #7 *****\n",
      "Loss: 90.073361\n",
      "Feature norm: 13.345136\n",
      "Error norm: 29.757066\n",
      "Active features: 993\n",
      "Line search trials: 1\n",
      "Line search step: 1.000000\n",
      "Seconds required for this iteration: 0.000\n",
      "\n",
      "***** Iteration #8 *****\n",
      "Loss: 79.992583\n",
      "Feature norm: 13.784782\n",
      "Error norm: 9.593380\n",
      "Active features: 1045\n",
      "Line search trials: 1\n",
      "Line search step: 1.000000\n",
      "Seconds required for this iteration: 0.001\n",
      "\n",
      "***** Iteration #9 *****\n",
      "Loss: 77.324310\n",
      "Feature norm: 13.999428\n",
      "Error norm: 7.585433\n",
      "Active features: 1039\n",
      "Line search trials: 1\n",
      "Line search step: 1.000000\n",
      "Seconds required for this iteration: 0.001\n",
      "\n",
      "***** Iteration #10 *****\n",
      "Loss: 72.703188\n",
      "Feature norm: 14.506164\n",
      "Error norm: 4.384622\n",
      "Active features: 950\n",
      "Line search trials: 1\n",
      "Line search step: 1.000000\n",
      "Seconds required for this iteration: 0.000\n",
      "\n",
      "***** Iteration #11 *****\n",
      "Loss: 71.813061\n",
      "Feature norm: 14.690901\n",
      "Error norm: 9.837776\n",
      "Active features: 897\n",
      "Line search trials: 1\n",
      "Line search step: 1.000000\n",
      "Seconds required for this iteration: 0.001\n",
      "\n",
      "***** Iteration #12 *****\n",
      "Loss: 70.009966\n",
      "Feature norm: 14.719067\n",
      "Error norm: 3.240777\n",
      "Active features: 890\n",
      "Line search trials: 1\n",
      "Line search step: 1.000000\n",
      "Seconds required for this iteration: 0.000\n",
      "\n",
      "***** Iteration #13 *****\n",
      "Loss: 69.325118\n",
      "Feature norm: 14.691750\n",
      "Error norm: 2.690929\n",
      "Active features: 887\n",
      "Line search trials: 1\n",
      "Line search step: 1.000000\n",
      "Seconds required for this iteration: 0.000\n",
      "\n",
      "***** Iteration #14 *****\n",
      "Loss: 68.140457\n",
      "Feature norm: 14.636920\n",
      "Error norm: 2.515163\n",
      "Active features: 841\n",
      "Line search trials: 1\n",
      "Line search step: 1.000000\n",
      "Seconds required for this iteration: 0.001\n",
      "\n",
      "***** Iteration #15 *****\n",
      "Loss: 67.527387\n",
      "Feature norm: 14.557223\n",
      "Error norm: 7.749368\n",
      "Active features: 673\n",
      "Line search trials: 1\n",
      "Line search step: 1.000000\n",
      "Seconds required for this iteration: 0.000\n",
      "\n",
      "***** Iteration #16 *****\n",
      "Loss: 66.404025\n",
      "Feature norm: 14.613108\n",
      "Error norm: 3.813339\n",
      "Active features: 712\n",
      "Line search trials: 1\n",
      "Line search step: 1.000000\n",
      "Seconds required for this iteration: 0.001\n",
      "\n",
      "***** Iteration #17 *****\n",
      "Loss: 66.169413\n",
      "Feature norm: 14.602926\n",
      "Error norm: 1.384360\n",
      "Active features: 727\n",
      "Line search trials: 1\n",
      "Line search step: 1.000000\n",
      "Seconds required for this iteration: 0.000\n",
      "\n",
      "***** Iteration #18 *****\n",
      "Loss: 66.061287\n",
      "Feature norm: 14.622639\n",
      "Error norm: 1.186466\n",
      "Active features: 700\n",
      "Line search trials: 1\n",
      "Line search step: 1.000000\n",
      "Seconds required for this iteration: 0.001\n",
      "\n",
      "***** Iteration #19 *****\n",
      "Loss: 65.593431\n",
      "Feature norm: 14.836635\n",
      "Error norm: 2.052626\n",
      "Active features: 607\n",
      "Line search trials: 1\n",
      "Line search step: 1.000000\n",
      "Seconds required for this iteration: 0.000\n",
      "\n",
      "***** Iteration #20 *****\n",
      "Loss: 65.489787\n",
      "Feature norm: 14.861670\n",
      "Error norm: 1.575385\n",
      "Active features: 629\n",
      "Line search trials: 2\n",
      "Line search step: 0.500000\n",
      "Seconds required for this iteration: 0.001\n",
      "\n",
      "***** Iteration #21 *****\n",
      "Loss: 65.439294\n",
      "Feature norm: 14.870410\n",
      "Error norm: 1.030097\n",
      "Active features: 628\n",
      "Line search trials: 1\n",
      "Line search step: 1.000000\n",
      "Seconds required for this iteration: 0.000\n",
      "\n",
      "***** Iteration #22 *****\n",
      "Loss: 65.338544\n",
      "Feature norm: 14.927505\n",
      "Error norm: 1.291929\n",
      "Active features: 602\n",
      "Line search trials: 1\n",
      "Line search step: 1.000000\n",
      "Seconds required for this iteration: 0.001\n",
      "\n",
      "***** Iteration #23 *****\n",
      "Loss: 65.279136\n",
      "Feature norm: 14.953168\n",
      "Error norm: 0.642445\n",
      "Active features: 592\n",
      "Line search trials: 1\n",
      "Line search step: 1.000000\n",
      "Seconds required for this iteration: 0.000\n",
      "\n",
      "***** Iteration #24 *****\n",
      "Loss: 65.212166\n",
      "Feature norm: 14.986453\n",
      "Error norm: 0.565578\n",
      "Active features: 575\n",
      "Line search trials: 1\n",
      "Line search step: 1.000000\n",
      "Seconds required for this iteration: 0.001\n",
      "\n",
      "***** Iteration #25 *****\n",
      "Loss: 65.146711\n",
      "Feature norm: 15.016492\n",
      "Error norm: 0.885674\n",
      "Active features: 565\n",
      "Line search trials: 1\n",
      "Line search step: 1.000000\n",
      "Seconds required for this iteration: 0.000\n",
      "\n",
      "***** Iteration #26 *****\n",
      "Loss: 65.111052\n",
      "Feature norm: 15.015762\n",
      "Error norm: 0.638633\n",
      "Active features: 561\n",
      "Line search trials: 1\n",
      "Line search step: 1.000000\n",
      "Seconds required for this iteration: 0.001\n",
      "\n",
      "***** Iteration #27 *****\n",
      "Loss: 65.091031\n",
      "Feature norm: 15.010661\n",
      "Error norm: 0.382027\n",
      "Active features: 556\n",
      "Line search trials: 1\n",
      "Line search step: 1.000000\n",
      "Seconds required for this iteration: 0.000\n",
      "\n",
      "***** Iteration #28 *****\n",
      "Loss: 65.071903\n",
      "Feature norm: 15.014127\n",
      "Error norm: 0.497865\n",
      "Active features: 546\n",
      "Line search trials: 1\n",
      "Line search step: 1.000000\n",
      "Seconds required for this iteration: 0.001\n",
      "\n",
      "***** Iteration #29 *****\n",
      "Loss: 65.052906\n",
      "Feature norm: 15.014774\n",
      "Error norm: 0.463275\n",
      "Active features: 547\n",
      "Line search trials: 1\n",
      "Line search step: 1.000000\n",
      "Seconds required for this iteration: 0.000\n",
      "\n",
      "***** Iteration #30 *****\n",
      "Loss: 65.037320\n",
      "Feature norm: 15.032604\n",
      "Error norm: 0.438195\n",
      "Active features: 541\n",
      "Line search trials: 1\n",
      "Line search step: 1.000000\n",
      "Seconds required for this iteration: 0.001\n",
      "\n",
      "***** Iteration #31 *****\n",
      "Loss: 65.030931\n",
      "Feature norm: 15.036046\n",
      "Error norm: 0.682472\n",
      "Active features: 535\n",
      "Line search trials: 1\n",
      "Line search step: 1.000000\n",
      "Seconds required for this iteration: 0.000\n",
      "\n",
      "***** Iteration #32 *****\n",
      "Loss: 65.018453\n",
      "Feature norm: 15.050019\n",
      "Error norm: 0.297125\n",
      "Active features: 539\n",
      "Line search trials: 1\n",
      "Line search step: 1.000000\n",
      "Seconds required for this iteration: 0.001\n",
      "\n",
      "***** Iteration #33 *****\n",
      "Loss: 65.013751\n",
      "Feature norm: 15.052584\n",
      "Error norm: 0.189037\n",
      "Active features: 533\n",
      "Line search trials: 1\n",
      "Line search step: 1.000000\n",
      "Seconds required for this iteration: 0.000\n",
      "\n",
      "***** Iteration #34 *****\n",
      "Loss: 65.007627\n",
      "Feature norm: 15.057423\n",
      "Error norm: 0.183999\n",
      "Active features: 536\n",
      "Line search trials: 1\n",
      "Line search step: 1.000000\n",
      "Seconds required for this iteration: 0.000\n",
      "\n",
      "***** Iteration #35 *****\n",
      "Loss: 65.001807\n",
      "Feature norm: 15.069256\n",
      "Error norm: 0.287473\n",
      "Active features: 532\n",
      "Line search trials: 1\n",
      "Line search step: 1.000000\n",
      "Seconds required for this iteration: 0.001\n",
      "\n",
      "***** Iteration #36 *****\n",
      "Loss: 64.998965\n",
      "Feature norm: 15.068405\n",
      "Error norm: 0.360927\n",
      "Active features: 535\n",
      "Line search trials: 1\n",
      "Line search step: 1.000000\n",
      "Seconds required for this iteration: 0.000\n",
      "\n",
      "***** Iteration #37 *****\n",
      "Loss: 64.995997\n",
      "Feature norm: 15.070036\n",
      "Error norm: 0.120918\n",
      "Active features: 535\n",
      "Line search trials: 1\n",
      "Line search step: 1.000000\n",
      "Seconds required for this iteration: 0.001\n",
      "\n",
      "***** Iteration #38 *****\n",
      "Loss: 64.993694\n",
      "Feature norm: 15.069597\n",
      "Error norm: 0.113791\n",
      "Active features: 533\n",
      "Line search trials: 1\n",
      "Line search step: 1.000000\n",
      "Seconds required for this iteration: 0.000\n",
      "\n",
      "***** Iteration #39 *****\n",
      "Loss: 64.990292\n",
      "Feature norm: 15.070203\n",
      "Error norm: 0.275051\n",
      "Active features: 533\n",
      "Line search trials: 1\n",
      "Line search step: 1.000000\n",
      "Seconds required for this iteration: 0.000\n",
      "\n",
      "***** Iteration #40 *****\n",
      "Loss: 64.988462\n",
      "Feature norm: 15.067450\n",
      "Error norm: 0.247679\n",
      "Active features: 536\n",
      "Line search trials: 1\n",
      "Line search step: 1.000000\n",
      "Seconds required for this iteration: 0.001\n",
      "\n",
      "***** Iteration #41 *****\n",
      "Loss: 64.987082\n",
      "Feature norm: 15.067436\n",
      "Error norm: 0.092307\n",
      "Active features: 537\n",
      "Line search trials: 1\n",
      "Line search step: 1.000000\n",
      "Seconds required for this iteration: 0.000\n",
      "\n",
      "***** Iteration #42 *****\n",
      "Loss: 64.986014\n",
      "Feature norm: 15.065766\n",
      "Error norm: 0.091320\n",
      "Active features: 535\n",
      "Line search trials: 1\n",
      "Line search step: 1.000000\n",
      "Seconds required for this iteration: 0.001\n",
      "\n",
      "***** Iteration #43 *****\n",
      "Loss: 64.984113\n",
      "Feature norm: 15.064318\n",
      "Error norm: 0.152821\n",
      "Active features: 535\n",
      "Line search trials: 1\n",
      "Line search step: 1.000000\n",
      "Seconds required for this iteration: 0.000\n",
      "\n",
      "***** Iteration #44 *****\n",
      "Loss: 64.983365\n",
      "Feature norm: 15.063973\n",
      "Error norm: 0.110364\n",
      "Active features: 534\n",
      "Line search trials: 2\n",
      "Line search step: 0.500000\n",
      "Seconds required for this iteration: 0.001\n",
      "\n",
      "***** Iteration #45 *****\n",
      "Loss: 64.983061\n",
      "Feature norm: 15.063953\n",
      "Error norm: 0.155358\n",
      "Active features: 534\n",
      "Line search trials: 1\n",
      "Line search step: 1.000000\n",
      "Seconds required for this iteration: 0.001\n",
      "\n",
      "***** Iteration #46 *****\n",
      "Loss: 64.982486\n",
      "Feature norm: 15.062843\n",
      "Error norm: 0.138278\n",
      "Active features: 530\n",
      "Line search trials: 1\n",
      "Line search step: 1.000000\n",
      "Seconds required for this iteration: 0.000\n",
      "\n",
      "***** Iteration #47 *****\n",
      "Loss: 64.982208\n",
      "Feature norm: 15.063208\n",
      "Error norm: 0.147152\n",
      "Active features: 528\n",
      "Line search trials: 1\n",
      "Line search step: 1.000000\n",
      "Seconds required for this iteration: 0.000\n",
      "\n",
      "***** Iteration #48 *****\n",
      "Loss: 64.981721\n",
      "Feature norm: 15.062132\n",
      "Error norm: 0.094136\n",
      "Active features: 526\n",
      "Line search trials: 1\n",
      "Line search step: 1.000000\n",
      "Seconds required for this iteration: 0.001\n",
      "\n",
      "***** Iteration #49 *****\n",
      "Loss: 64.981594\n",
      "Feature norm: 15.062499\n",
      "Error norm: 0.117099\n",
      "Active features: 523\n",
      "Line search trials: 1\n",
      "Line search step: 1.000000\n",
      "Seconds required for this iteration: 0.000\n",
      "\n",
      "***** Iteration #50 *****\n",
      "Loss: 64.981279\n",
      "Feature norm: 15.061974\n",
      "Error norm: 0.064649\n",
      "Active features: 523\n",
      "Line search trials: 1\n",
      "Line search step: 1.000000\n",
      "Seconds required for this iteration: 0.001\n",
      "\n",
      "***** Iteration #51 *****\n",
      "Loss: 64.981185\n",
      "Feature norm: 15.062046\n",
      "Error norm: 0.094959\n",
      "Active features: 523\n",
      "Line search trials: 1\n",
      "Line search step: 1.000000\n",
      "Seconds required for this iteration: 0.000\n",
      "\n",
      "***** Iteration #52 *****\n",
      "Loss: 64.980993\n",
      "Feature norm: 15.061915\n",
      "Error norm: 0.081797\n",
      "Active features: 523\n",
      "Line search trials: 1\n",
      "Line search step: 1.000000\n",
      "Seconds required for this iteration: 0.000\n",
      "\n",
      "***** Iteration #53 *****\n",
      "Loss: 64.980864\n",
      "Feature norm: 15.062302\n",
      "Error norm: 0.070101\n",
      "Active features: 520\n",
      "Line search trials: 1\n",
      "Line search step: 1.000000\n",
      "Seconds required for this iteration: 0.001\n",
      "\n",
      "***** Iteration #54 *****\n",
      "Loss: 64.980759\n",
      "Feature norm: 15.062313\n",
      "Error norm: 0.072299\n",
      "Active features: 520\n",
      "Line search trials: 1\n",
      "Line search step: 1.000000\n",
      "Seconds required for this iteration: 0.000\n",
      "\n",
      "***** Iteration #55 *****\n",
      "Loss: 64.980647\n",
      "Feature norm: 15.062621\n",
      "Error norm: 0.033576\n",
      "Active features: 523\n",
      "Line search trials: 1\n",
      "Line search step: 1.000000\n",
      "Seconds required for this iteration: 0.001\n",
      "\n",
      "***** Iteration #56 *****\n",
      "Loss: 64.980529\n",
      "Feature norm: 15.062885\n",
      "Error norm: 0.041756\n",
      "Active features: 525\n",
      "Line search trials: 1\n",
      "Line search step: 1.000000\n",
      "Seconds required for this iteration: 0.000\n",
      "\n",
      "***** Iteration #57 *****\n",
      "Loss: 64.980459\n",
      "Feature norm: 15.062872\n",
      "Error norm: 0.065869\n",
      "Active features: 524\n",
      "Line search trials: 1\n",
      "Line search step: 1.000000\n",
      "Seconds required for this iteration: 0.001\n",
      "\n",
      "***** Iteration #58 *****\n",
      "Loss: 64.980335\n",
      "Feature norm: 15.063084\n",
      "Error norm: 0.048903\n",
      "Active features: 524\n",
      "Line search trials: 1\n",
      "Line search step: 1.000000\n",
      "Seconds required for this iteration: 0.000\n",
      "\n",
      "***** Iteration #59 *****\n",
      "Loss: 64.980222\n",
      "Feature norm: 15.062998\n",
      "Error norm: 0.032119\n",
      "Active features: 524\n",
      "Line search trials: 1\n",
      "Line search step: 1.000000\n",
      "Seconds required for this iteration: 0.001\n",
      "\n",
      "***** Iteration #60 *****\n",
      "Loss: 64.980131\n",
      "Feature norm: 15.062812\n",
      "Error norm: 0.045269\n",
      "Active features: 524\n",
      "Line search trials: 1\n",
      "Line search step: 1.000000\n",
      "Seconds required for this iteration: 0.000\n",
      "\n",
      "***** Iteration #61 *****\n",
      "Loss: 64.980055\n",
      "Feature norm: 15.062678\n",
      "Error norm: 0.056467\n",
      "Active features: 524\n",
      "Line search trials: 1\n",
      "Line search step: 1.000000\n",
      "Seconds required for this iteration: 0.001\n",
      "\n",
      "***** Iteration #62 *****\n",
      "Loss: 64.979982\n",
      "Feature norm: 15.062676\n",
      "Error norm: 0.044679\n",
      "Active features: 527\n",
      "Line search trials: 1\n",
      "Line search step: 1.000000\n",
      "Seconds required for this iteration: 0.000\n",
      "\n",
      "***** Iteration #63 *****\n",
      "Loss: 64.979924\n",
      "Feature norm: 15.062605\n",
      "Error norm: 0.025027\n",
      "Active features: 530\n",
      "Line search trials: 1\n",
      "Line search step: 1.000000\n",
      "Seconds required for this iteration: 0.001\n",
      "\n",
      "***** Iteration #64 *****\n",
      "Loss: 64.979894\n",
      "Feature norm: 15.062669\n",
      "Error norm: 0.020611\n",
      "Active features: 527\n",
      "Line search trials: 1\n",
      "Line search step: 1.000000\n",
      "Seconds required for this iteration: 0.003\n",
      "\n",
      "***** Iteration #65 *****\n",
      "Loss: 64.979852\n",
      "Feature norm: 15.062929\n",
      "Error norm: 0.021098\n",
      "Active features: 527\n",
      "Line search trials: 1\n",
      "Line search step: 1.000000\n",
      "Seconds required for this iteration: 0.002\n",
      "\n",
      "***** Iteration #66 *****\n",
      "Loss: 64.979817\n",
      "Feature norm: 15.063191\n",
      "Error norm: 0.022378\n",
      "Active features: 527\n",
      "Line search trials: 1\n",
      "Line search step: 1.000000\n",
      "Seconds required for this iteration: 0.001\n",
      "\n",
      "***** Iteration #67 *****\n",
      "Loss: 64.979788\n",
      "Feature norm: 15.063088\n",
      "Error norm: 0.014632\n",
      "Active features: 524\n",
      "Line search trials: 1\n",
      "Line search step: 1.000000\n",
      "Seconds required for this iteration: 0.001\n",
      "\n",
      "***** Iteration #68 *****\n",
      "Loss: 64.979759\n",
      "Feature norm: 15.063044\n",
      "Error norm: 0.013983\n",
      "Active features: 524\n",
      "Line search trials: 1\n",
      "Line search step: 1.000000\n",
      "Seconds required for this iteration: 0.001\n",
      "\n",
      "L-BFGS terminated with the stopping criteria\n",
      "Total seconds required for training: 0.042\n",
      "\n",
      "Storing the model\n",
      "Number of active features: 524 (1744)\n",
      "Number of active attributes: 265 (336)\n",
      "Number of active labels: 30 (30)\n",
      "Writing labels\n",
      "Writing attributes\n",
      "Writing feature references for transitions\n",
      "Writing feature references for attributes\n",
      "Seconds required: 0.002\n",
      "\n"
     ]
    }
   ],
   "source": [
    "import pycrfsuite\n",
    "\n",
    "# create a trainer\n",
    "trainer = pycrfsuite.Trainer(verbose=True)\n",
    "\n",
    "# submit training data to the trainer\n",
    "for xseq, yseq in zip(features_train, labels_train):\n",
    "    trainer.append(xseq, yseq)\n",
    "\n",
    "# set the parameters of the model\n",
    "trainer.set_params({\n",
    "    'c1': 0.1,\n",
    "    'c2': 0.1,\n",
    "    'max_iterations': 100,\n",
    "    'feature.possible_transitions': True\n",
    "})\n",
    "\n",
    "# provide a file name as a parameter to the train function\n",
    "trainer.train('crf_model.crfsuite')"
   ]
  },
  {
   "cell_type": "markdown",
   "metadata": {},
   "source": [
    "### Predicting the test data with the built model"
   ]
  },
  {
   "cell_type": "code",
   "execution_count": 91,
   "metadata": {
    "scrolled": true
   },
   "outputs": [],
   "source": [
    "# create a tagger\n",
    "tagger = pycrfsuite.Tagger()"
   ]
  },
  {
   "cell_type": "code",
   "execution_count": 92,
   "metadata": {},
   "outputs": [
    {
     "data": {
      "text/plain": [
       "<contextlib.closing at 0x1bd44488d10>"
      ]
     },
     "execution_count": 92,
     "metadata": {},
     "output_type": "execute_result"
    }
   ],
   "source": [
    "# load the trained model\n",
    "tagger.open('crf_model.crfsuite')"
   ]
  },
  {
   "cell_type": "code",
   "execution_count": 93,
   "metadata": {},
   "outputs": [],
   "source": [
    "# assuming features_test is your new data\n",
    "predictions = [tagger.tag(xseq) for xseq in features_test]"
   ]
  },
  {
   "cell_type": "code",
   "execution_count": 110,
   "metadata": {},
   "outputs": [],
   "source": [
    "def get_features(tokens):\n",
    "    # Get the part-of-speech tags of the words\n",
    "    pos_tags = nltk.pos_tag([token for token, _ in tokens])\n",
    "    \n",
    "    features = []\n",
    "    for i, (token, _) in enumerate(tokens):\n",
    "        word = token\n",
    "        postag = pos_tags[i][1]\n",
    "\n",
    "        # Common features for all words\n",
    "        feature_list = [\n",
    "            'bias',\n",
    "            'word.lower=' + word.lower(),\n",
    "            'word[-3:]=' + word[-3:],\n",
    "            'word[-2:]=' + word[-2:],\n",
    "            'word.isupper=%s' % word.isupper(),\n",
    "            'word.istitle=%s' % word.istitle(),\n",
    "            'word.isdigit=%s' % word.isdigit(),\n",
    "            'postag=' + postag\n",
    "        ]\n",
    "\n",
    "        # Features for words that are not at the beginning of a document\n",
    "        if i > 0:\n",
    "            word1 = tokens[i-1][0]\n",
    "            postag1 = pos_tags[i-1][1]\n",
    "            feature_list.extend([\n",
    "                '-1:word.lower=' + word1.lower(),\n",
    "                '-1:word.istitle=%s' % word1.istitle(),\n",
    "                '-1:word.isupper=%s' % word1.isupper(),\n",
    "                '-1:word.isdigit=%s' % word1.isdigit(),\n",
    "                '-1:postag=' + postag1\n",
    "            ])\n",
    "        else:\n",
    "            # Indicate that it is the 'beginning of a document'\n",
    "            feature_list.append('BOS')\n",
    "\n",
    "        # Features for words that are not at the end of a document\n",
    "        if i < len(tokens)-1:\n",
    "            word1 = tokens[i+1][0]\n",
    "            postag1 = pos_tags[i+1][1]\n",
    "            feature_list.extend([\n",
    "                '+1:word.lower=' + word1.lower(),\n",
    "                '+1:word.istitle=%s' % word1.istitle(),\n",
    "                '+1:word.isupper=%s' % word1.isupper(),\n",
    "                '+1:word.isdigit=%s' % word1.isdigit(),\n",
    "                '+1:postag=' + postag1\n",
    "            ])\n",
    "        else:\n",
    "            # Indicate that it is the 'end of a document'\n",
    "            feature_list.append('EOS')\n",
    "\n",
    "        features.append(feature_list)\n",
    "\n",
    "    return features"
   ]
  },
  {
   "cell_type": "code",
   "execution_count": null,
   "metadata": {},
   "outputs": [],
   "source": []
  },
  {
   "cell_type": "markdown",
   "metadata": {},
   "source": [
    "### Putting all the prediction logic inside a predict method"
   ]
  },
  {
   "cell_type": "code",
   "execution_count": 195,
   "metadata": {},
   "outputs": [],
   "source": [
    "def predict(sig):\n",
    "    # Load the trained CRF model\n",
    "    tagger = pycrfsuite.Tagger()\n",
    "    tagger.open('crf_model.crfsuite')\n",
    "    \n",
    "    # Tokenize the input sig and extract features\n",
    "    sig_tokens = [(token, '') for token in sig.split()]  # Use an empty string as placeholder for POS tags\n",
    "    features = get_features(sig_tokens)\n",
    "    \n",
    "    # Use the model to predict labels\n",
    "    predicted_labels = tagger.tag(features)\n",
    "    \n",
    "    # Combine tokens and predicted labels\n",
    "    labeled_sig = list(zip(sig_tokens, predicted_labels))\n",
    "    \n",
    "    return [labeled_sig]"
   ]
  },
  {
   "cell_type": "markdown",
   "metadata": {},
   "source": [
    "### Sample predictions"
   ]
  },
  {
   "cell_type": "code",
   "execution_count": 196,
   "metadata": {},
   "outputs": [
    {
     "data": {
      "text/plain": [
       "[[(('take', ''), 'Method'),\n",
       "  (('2', ''), 'Qty'),\n",
       "  (('tabs', ''), 'Form'),\n",
       "  (('every', ''), 'EVERY'),\n",
       "  (('6', ''), 'Period'),\n",
       "  (('hours', ''), 'PeriodUnit'),\n",
       "  (('x', ''), 'FOR'),\n",
       "  (('10', ''), 'Duration'),\n",
       "  (('days', ''), 'DurationUnit')]]"
      ]
     },
     "execution_count": 196,
     "metadata": {},
     "output_type": "execute_result"
    }
   ],
   "source": [
    "predictions = predict(\"take 2 tabs every 6 hours x 10 days\")\n",
    "predictions"
   ]
  },
  {
   "cell_type": "code",
   "execution_count": 114,
   "metadata": {},
   "outputs": [
    {
     "data": {
      "text/plain": [
       "[[(('2', ''), 'Qty'),\n",
       "  (('capsu', ''), 'Form'),\n",
       "  (('for', ''), 'FOR'),\n",
       "  (('10', ''), 'Duration'),\n",
       "  (('day', ''), 'PeriodUnit'),\n",
       "  (('at', ''), 'AT'),\n",
       "  (('bed', ''), 'WHEN')]]"
      ]
     },
     "execution_count": 114,
     "metadata": {},
     "output_type": "execute_result"
    }
   ],
   "source": [
    "predictions = predict(\"2 capsu for 10 day at bed\")\n",
    "predictions"
   ]
  },
  {
   "cell_type": "code",
   "execution_count": 119,
   "metadata": {},
   "outputs": [
    {
     "data": {
      "text/plain": [
       "[[(('2', ''), 'Qty'),\n",
       "  (('capsu', ''), 'Form'),\n",
       "  (('for', ''), 'FOR'),\n",
       "  (('10', ''), 'Duration'),\n",
       "  (('days', ''), 'DurationUnit'),\n",
       "  (('at', ''), 'AT'),\n",
       "  (('bed', ''), 'WHEN')]]"
      ]
     },
     "execution_count": 119,
     "metadata": {},
     "output_type": "execute_result"
    }
   ],
   "source": [
    "predictions = predict(\"2 capsu for 10 days at bed\")\n",
    "predictions"
   ]
  },
  {
   "cell_type": "code",
   "execution_count": 120,
   "metadata": {},
   "outputs": [
    {
     "data": {
      "text/plain": [
       "[[(('5', ''), 'Qty'),\n",
       "  (('days', ''), 'Form'),\n",
       "  (('2', ''), 'Qty'),\n",
       "  (('tabs', ''), 'Form'),\n",
       "  (('at', ''), 'AT'),\n",
       "  (('bed', ''), 'WHEN')]]"
      ]
     },
     "execution_count": 120,
     "metadata": {},
     "output_type": "execute_result"
    }
   ],
   "source": [
    "predictions = predict(\"5 days 2 tabs at bed\")\n",
    "predictions"
   ]
  },
  {
   "cell_type": "code",
   "execution_count": 121,
   "metadata": {},
   "outputs": [
    {
     "data": {
      "text/plain": [
       "[[(('3', ''), 'Qty'),\n",
       "  (('tabs', ''), 'Form'),\n",
       "  (('qid', ''), 'QID'),\n",
       "  (('x', ''), 'FOR'),\n",
       "  (('10', ''), 'Duration'),\n",
       "  (('weeks', ''), 'DurationUnit')]]"
      ]
     },
     "execution_count": 121,
     "metadata": {},
     "output_type": "execute_result"
    }
   ],
   "source": [
    "predictions = predict(\"3 tabs qid x 10 weeks\")\n",
    "predictions"
   ]
  },
  {
   "cell_type": "code",
   "execution_count": 122,
   "metadata": {},
   "outputs": [
    {
     "data": {
      "text/plain": [
       "[[(('x', ''), 'FOR'),\n",
       "  (('30', ''), 'Duration'),\n",
       "  (('days', ''), 'DurationUnit')]]"
      ]
     },
     "execution_count": 122,
     "metadata": {},
     "output_type": "execute_result"
    }
   ],
   "source": [
    "predictions = predict(\"x 30 days\")\n",
    "predictions"
   ]
  },
  {
   "cell_type": "code",
   "execution_count": 123,
   "metadata": {},
   "outputs": [
    {
     "data": {
      "text/plain": [
       "[[(('x', ''), 'FOR'),\n",
       "  (('20', ''), 'Duration'),\n",
       "  (('months', ''), 'DurationUnit')]]"
      ]
     },
     "execution_count": 123,
     "metadata": {},
     "output_type": "execute_result"
    }
   ],
   "source": [
    "predictions = predict(\"x 20 months\")\n",
    "predictions"
   ]
  },
  {
   "cell_type": "code",
   "execution_count": 124,
   "metadata": {},
   "outputs": [
    {
     "data": {
      "text/plain": [
       "[[(('take', ''), 'Method'),\n",
       "  (('2', ''), 'Qty'),\n",
       "  (('tabs', ''), 'Form'),\n",
       "  (('po', ''), 'PO'),\n",
       "  (('tid', ''), 'TID'),\n",
       "  (('for', ''), 'FOR'),\n",
       "  (('10', ''), 'Duration'),\n",
       "  (('days', ''), 'DurationUnit')]]"
      ]
     },
     "execution_count": 124,
     "metadata": {},
     "output_type": "execute_result"
    }
   ],
   "source": [
    "predictions = predict(\"take 2 tabs po tid for 10 days\")\n",
    "predictions"
   ]
  },
  {
   "cell_type": "code",
   "execution_count": 125,
   "metadata": {},
   "outputs": [
    {
     "data": {
      "text/plain": [
       "[[(('take', ''), 'Method'),\n",
       "  (('2', ''), 'Qty'),\n",
       "  (('capsules', ''), 'Form'),\n",
       "  (('po', ''), 'PO'),\n",
       "  (('every', ''), 'EVERY'),\n",
       "  (('6', ''), 'Period'),\n",
       "  (('hours', ''), 'PeriodUnit')]]"
      ]
     },
     "execution_count": 125,
     "metadata": {},
     "output_type": "execute_result"
    }
   ],
   "source": [
    "predictions = predict(\"take 2 capsules po every 6 hours\")\n",
    "predictions"
   ]
  },
  {
   "cell_type": "code",
   "execution_count": 126,
   "metadata": {},
   "outputs": [
    {
     "data": {
      "text/plain": [
       "[[(('inject', ''), 'Method'),\n",
       "  (('2', ''), 'Qty'),\n",
       "  (('units', ''), 'Form'),\n",
       "  (('pu', ''), 'Frequency'),\n",
       "  (('tid', ''), 'TID')]]"
      ]
     },
     "execution_count": 126,
     "metadata": {},
     "output_type": "execute_result"
    }
   ],
   "source": [
    "predictions = predict(\"inject 2 units pu tid\")\n",
    "predictions"
   ]
  },
  {
   "cell_type": "code",
   "execution_count": 127,
   "metadata": {},
   "outputs": [
    {
     "data": {
      "text/plain": [
       "[[(('swallow', ''), 'Method'),\n",
       "  (('3', ''), 'Qty'),\n",
       "  (('caps', ''), 'Form'),\n",
       "  (('tid', ''), 'TID'),\n",
       "  (('by', ''), 'BY'),\n",
       "  (('mouth', ''), 'PO')]]"
      ]
     },
     "execution_count": 127,
     "metadata": {},
     "output_type": "execute_result"
    }
   ],
   "source": [
    "predictions = predict(\"swallow 3 caps tid by mouth\")\n",
    "predictions"
   ]
  },
  {
   "cell_type": "code",
   "execution_count": 128,
   "metadata": {},
   "outputs": [
    {
     "data": {
      "text/plain": [
       "[[(('inject', ''), 'Method'),\n",
       "  (('3', ''), 'Qty'),\n",
       "  (('units', ''), 'Form'),\n",
       "  (('orally', ''), 'Frequency')]]"
      ]
     },
     "execution_count": 128,
     "metadata": {},
     "output_type": "execute_result"
    }
   ],
   "source": [
    "predictions = predict(\"inject 3 units orally\")\n",
    "predictions"
   ]
  },
  {
   "cell_type": "code",
   "execution_count": 129,
   "metadata": {},
   "outputs": [
    {
     "data": {
      "text/plain": [
       "[[(('orally', ''), 'Method'),\n",
       "  (('take', ''), 'Method'),\n",
       "  (('3', ''), 'Qty'),\n",
       "  (('tabs', ''), 'Form'),\n",
       "  (('tid', ''), 'TID')]]"
      ]
     },
     "execution_count": 129,
     "metadata": {},
     "output_type": "execute_result"
    }
   ],
   "source": [
    "predictions = predict(\"orally take 3 tabs tid\")\n",
    "predictions"
   ]
  },
  {
   "cell_type": "code",
   "execution_count": 130,
   "metadata": {},
   "outputs": [
    {
     "data": {
      "text/plain": [
       "[[(('by', ''), 'BY'),\n",
       "  (('mouth', ''), 'PO'),\n",
       "  (('take', ''), 'Method'),\n",
       "  (('three', ''), 'Qty'),\n",
       "  (('caps', ''), 'Form')]]"
      ]
     },
     "execution_count": 130,
     "metadata": {},
     "output_type": "execute_result"
    }
   ],
   "source": [
    "predictions = predict(\"by mouth take three caps\")\n",
    "predictions"
   ]
  },
  {
   "cell_type": "code",
   "execution_count": 131,
   "metadata": {},
   "outputs": [
    {
     "data": {
      "text/plain": [
       "[[(('take', ''), 'Method'),\n",
       "  (('3', ''), 'Qty'),\n",
       "  (('tabs', ''), 'Form'),\n",
       "  (('orally', ''), 'Frequency'),\n",
       "  (('three', ''), 'Frequency'),\n",
       "  (('times', ''), 'TIMES'),\n",
       "  (('a', ''), 'Period'),\n",
       "  (('day', ''), 'PeriodUnit'),\n",
       "  (('for', ''), 'FOR'),\n",
       "  (('10', ''), 'Duration'),\n",
       "  (('days', ''), 'DurationUnit'),\n",
       "  (('at', ''), 'AT'),\n",
       "  (('bedtime', ''), 'WHEN')]]"
      ]
     },
     "execution_count": 131,
     "metadata": {},
     "output_type": "execute_result"
    }
   ],
   "source": [
    "predictions = predict(\"take 3 tabs orally three times a day for 10 days at bedtime\")\n",
    "predictions"
   ]
  },
  {
   "cell_type": "code",
   "execution_count": 132,
   "metadata": {},
   "outputs": [
    {
     "data": {
      "text/plain": [
       "[[(('take', ''), 'Method'),\n",
       "  (('3', ''), 'Qty'),\n",
       "  (('tabs', ''), 'Form'),\n",
       "  (('orally', ''), 'Frequency'),\n",
       "  (('bid', ''), 'BID'),\n",
       "  (('for', ''), 'FOR'),\n",
       "  (('10', ''), 'Duration'),\n",
       "  (('days', ''), 'DurationUnit'),\n",
       "  (('at', ''), 'AT'),\n",
       "  (('bedtime', ''), 'WHEN')]]"
      ]
     },
     "execution_count": 132,
     "metadata": {},
     "output_type": "execute_result"
    }
   ],
   "source": [
    "predictions = predict(\"take 3 tabs orally bid for 10 days at bedtime\")\n",
    "predictions"
   ]
  },
  {
   "cell_type": "code",
   "execution_count": 133,
   "metadata": {},
   "outputs": [
    {
     "data": {
      "text/plain": [
       "[[(('take', ''), 'Method'),\n",
       "  (('3', ''), 'Qty'),\n",
       "  (('tabs', ''), 'Form'),\n",
       "  (('bid', ''), 'Frequency'),\n",
       "  (('orally', ''), 'PeriodUnit'),\n",
       "  (('at', ''), 'AT'),\n",
       "  (('bed', ''), 'WHEN')]]"
      ]
     },
     "execution_count": 133,
     "metadata": {},
     "output_type": "execute_result"
    }
   ],
   "source": [
    "predictions = predict(\"take 3 tabs bid orally at bed\")\n",
    "predictions"
   ]
  },
  {
   "cell_type": "code",
   "execution_count": 134,
   "metadata": {},
   "outputs": [
    {
     "data": {
      "text/plain": [
       "[[(('take', ''), 'Method'),\n",
       "  (('10', ''), 'Qty'),\n",
       "  (('capsules', ''), 'Form'),\n",
       "  (('by', ''), 'BY'),\n",
       "  (('mouth', ''), 'PO'),\n",
       "  (('qid', ''), 'QID')]]"
      ]
     },
     "execution_count": 134,
     "metadata": {},
     "output_type": "execute_result"
    }
   ],
   "source": [
    "predictions = predict(\"take 10 capsules by mouth qid\")\n",
    "predictions"
   ]
  },
  {
   "cell_type": "code",
   "execution_count": 187,
   "metadata": {},
   "outputs": [
    {
     "data": {
      "text/plain": [
       "[[(('inject', ''), 'Method'),\n",
       "  (('10', ''), 'Qty'),\n",
       "  (('units', ''), 'Form'),\n",
       "  (('orally', ''), 'Frequency'),\n",
       "  (('qid', ''), 'QID'),\n",
       "  (('x', ''), 'FOR'),\n",
       "  (('3', ''), 'Duration'),\n",
       "  (('months', ''), 'DurationUnit')]]"
      ]
     },
     "execution_count": 187,
     "metadata": {},
     "output_type": "execute_result"
    }
   ],
   "source": [
    "predictions = predict(\"inject 10 units orally qid x 3 months\")\n",
    "predictions"
   ]
  },
  {
   "cell_type": "code",
   "execution_count": 185,
   "metadata": {},
   "outputs": [
    {
     "data": {
      "text/plain": [
       "[[(('please', ''), 'Method'),\n",
       "  (('take', ''), 'Method'),\n",
       "  (('2', ''), 'Qty'),\n",
       "  (('tablets', ''), 'Form'),\n",
       "  (('per', ''), 'Frequency'),\n",
       "  (('day', ''), 'PeriodUnit'),\n",
       "  (('for', ''), 'FOR'),\n",
       "  (('a', ''), 'Period'),\n",
       "  (('month', ''), 'PeriodUnit'),\n",
       "  (('in', ''), 'AFTER'),\n",
       "  (('the', ''), 'Period'),\n",
       "  (('morning', ''), 'PeriodUnit'),\n",
       "  (('and', ''), 'Period'),\n",
       "  (('evening', ''), 'PeriodUnit'),\n",
       "  (('each', ''), 'Period'),\n",
       "  (('day', ''), 'PeriodUnit')]]"
      ]
     },
     "execution_count": 185,
     "metadata": {},
     "output_type": "execute_result"
    }
   ],
   "source": [
    "prediction = predict(\"please take 2 tablets per day for a month in the morning and evening each day\")\n",
    "prediction"
   ]
  },
  {
   "cell_type": "code",
   "execution_count": 184,
   "metadata": {},
   "outputs": [
    {
     "data": {
      "text/plain": [
       "[[(('Amoxcicillin', ''), 'Method'),\n",
       "  (('QID', ''), 'Method'),\n",
       "  (('30', ''), 'Qty'),\n",
       "  (('tablets', ''), 'Form')]]"
      ]
     },
     "execution_count": 184,
     "metadata": {},
     "output_type": "execute_result"
    }
   ],
   "source": [
    "prediction = predict(\"Amoxcicillin QID 30 tablets\")\n",
    "prediction"
   ]
  },
  {
   "cell_type": "code",
   "execution_count": 183,
   "metadata": {},
   "outputs": [
    {
     "data": {
      "text/plain": [
       "[[(('take', ''), 'Method'),\n",
       "  (('3', ''), 'Qty'),\n",
       "  (('tabs', ''), 'Form'),\n",
       "  (('TID', ''), 'Frequency'),\n",
       "  (('for', ''), 'FOR'),\n",
       "  (('90', ''), 'Duration'),\n",
       "  (('days', ''), 'DurationUnit'),\n",
       "  (('with', ''), 'Frequency'),\n",
       "  (('food', ''), 'FOOD')]]"
      ]
     },
     "execution_count": 183,
     "metadata": {},
     "output_type": "execute_result"
    }
   ],
   "source": [
    "prediction = predict(\"take 3 tabs TID for 90 days with food\")\n",
    "prediction"
   ]
  },
  {
   "cell_type": "code",
   "execution_count": 182,
   "metadata": {},
   "outputs": [
    {
     "data": {
      "text/plain": [
       "[[(('with', ''), 'AFTER'),\n",
       "  (('food', ''), 'FOOD'),\n",
       "  (('take', ''), 'Method'),\n",
       "  (('3', ''), 'Qty'),\n",
       "  (('tablets', ''), 'Form'),\n",
       "  (('per', ''), 'Frequency'),\n",
       "  (('day', ''), 'PeriodUnit'),\n",
       "  (('for', ''), 'FOR'),\n",
       "  (('90', ''), 'Duration'),\n",
       "  (('days', ''), 'DurationUnit')]]"
      ]
     },
     "execution_count": 182,
     "metadata": {},
     "output_type": "execute_result"
    }
   ],
   "source": [
    "prediction = predict(\"with food take 3 tablets per day for 90 days\")\n",
    "prediction"
   ]
  },
  {
   "cell_type": "code",
   "execution_count": 181,
   "metadata": {},
   "outputs": [
    {
     "data": {
      "text/plain": [
       "[[(('with', ''), 'AFTER'),\n",
       "  (('food', ''), 'FOOD'),\n",
       "  (('take', ''), 'Method'),\n",
       "  (('3', ''), 'Qty'),\n",
       "  (('tablets', ''), 'Form'),\n",
       "  (('per', ''), 'Frequency'),\n",
       "  (('week', ''), 'PeriodUnit'),\n",
       "  (('for', ''), 'FOR'),\n",
       "  (('90', ''), 'Duration'),\n",
       "  (('weeks', ''), 'DurationUnit')]]"
      ]
     },
     "execution_count": 181,
     "metadata": {},
     "output_type": "execute_result"
    }
   ],
   "source": [
    "prediction = predict(\"with food take 3 tablets per week for 90 weeks\")\n",
    "prediction"
   ]
  },
  {
   "cell_type": "code",
   "execution_count": 180,
   "metadata": {},
   "outputs": [
    {
     "data": {
      "text/plain": [
       "[[(('take', ''), 'Method'), (('2-4', ''), 'Qty'), (('tabs', ''), 'Form')]]"
      ]
     },
     "execution_count": 180,
     "metadata": {},
     "output_type": "execute_result"
    }
   ],
   "source": [
    "prediction = predict(\"take 2-4 tabs\")\n",
    "prediction"
   ]
  },
  {
   "cell_type": "code",
   "execution_count": 179,
   "metadata": {},
   "outputs": [
    {
     "data": {
      "text/plain": [
       "[[(('take', ''), 'Method'),\n",
       "  (('2', ''), 'Qty'),\n",
       "  (('to', ''), 'TO'),\n",
       "  (('4', ''), 'Qty'),\n",
       "  (('tabs', ''), 'Form')]]"
      ]
     },
     "execution_count": 179,
     "metadata": {},
     "output_type": "execute_result"
    }
   ],
   "source": [
    "prediction = predict(\"take 2 to 4 tabs\")\n",
    "prediction"
   ]
  },
  {
   "cell_type": "code",
   "execution_count": 178,
   "metadata": {},
   "outputs": [
    {
     "data": {
      "text/plain": [
       "[[(('take', ''), 'Method'),\n",
       "  (('two', ''), 'Qty'),\n",
       "  (('to', ''), 'TO'),\n",
       "  (('four', ''), 'Qty'),\n",
       "  (('tabs', ''), 'Form')]]"
      ]
     },
     "execution_count": 178,
     "metadata": {},
     "output_type": "execute_result"
    }
   ],
   "source": [
    "prediction = predict(\"take two to four tabs\")\n",
    "prediction"
   ]
  },
  {
   "cell_type": "code",
   "execution_count": 177,
   "metadata": {},
   "outputs": [
    {
     "data": {
      "text/plain": [
       "[[(('take', ''), 'Method'),\n",
       "  (('2-4', ''), 'Qty'),\n",
       "  (('tabs', ''), 'Form'),\n",
       "  (('for', ''), 'FOR'),\n",
       "  (('8', ''), 'Duration'),\n",
       "  (('to', ''), 'TO'),\n",
       "  (('9', ''), 'PeriodMax'),\n",
       "  (('days', ''), 'PeriodUnit')]]"
      ]
     },
     "execution_count": 177,
     "metadata": {},
     "output_type": "execute_result"
    }
   ],
   "source": [
    "prediction = predict(\"take 2-4 tabs for 8 to 9 days\")\n",
    "prediction"
   ]
  },
  {
   "cell_type": "code",
   "execution_count": 176,
   "metadata": {},
   "outputs": [
    {
     "data": {
      "text/plain": [
       "[[(('take', ''), 'Method'),\n",
       "  (('20', ''), 'Qty'),\n",
       "  (('tabs', ''), 'Form'),\n",
       "  (('every', ''), 'EVERY'),\n",
       "  (('6', ''), 'Period'),\n",
       "  (('to', ''), 'TO'),\n",
       "  (('8', ''), 'PeriodMax'),\n",
       "  (('days', ''), 'PeriodUnit')]]"
      ]
     },
     "execution_count": 176,
     "metadata": {},
     "output_type": "execute_result"
    }
   ],
   "source": [
    "prediction = predict(\"take 20 tabs every 6 to 8 days\")\n",
    "prediction"
   ]
  },
  {
   "cell_type": "code",
   "execution_count": 175,
   "metadata": {},
   "outputs": [
    {
     "data": {
      "text/plain": [
       "[[(('take', ''), 'Method'),\n",
       "  (('2', ''), 'Qty'),\n",
       "  (('tabs', ''), 'Form'),\n",
       "  (('every', ''), 'EVERY'),\n",
       "  (('4', ''), 'Period'),\n",
       "  (('to', ''), 'TO'),\n",
       "  (('6', ''), 'PeriodMax'),\n",
       "  (('days', ''), 'PeriodUnit')]]"
      ]
     },
     "execution_count": 175,
     "metadata": {},
     "output_type": "execute_result"
    }
   ],
   "source": [
    "prediction = predict(\"take 2 tabs every 4 to 6 days\")\n",
    "prediction"
   ]
  },
  {
   "cell_type": "code",
   "execution_count": 174,
   "metadata": {},
   "outputs": [
    {
     "data": {
      "text/plain": [
       "[[(('take', ''), 'Method'),\n",
       "  (('2', ''), 'Qty'),\n",
       "  (('tabs', ''), 'Form'),\n",
       "  (('every', ''), 'EVERY'),\n",
       "  (('2', ''), 'Period'),\n",
       "  (('to', ''), 'TO'),\n",
       "  (('10', ''), 'PeriodMax'),\n",
       "  (('weeks', ''), 'PeriodUnit')]]"
      ]
     },
     "execution_count": 174,
     "metadata": {},
     "output_type": "execute_result"
    }
   ],
   "source": [
    "prediction = predict(\"take 2 tabs every 2 to 10 weeks\")\n",
    "prediction"
   ]
  },
  {
   "cell_type": "code",
   "execution_count": 173,
   "metadata": {},
   "outputs": [
    {
     "data": {
      "text/plain": [
       "[[(('take', ''), 'Method'),\n",
       "  (('2', ''), 'Qty'),\n",
       "  (('tabs', ''), 'Form'),\n",
       "  (('every', ''), 'EVERY'),\n",
       "  (('4', ''), 'Period'),\n",
       "  (('to', ''), 'TO'),\n",
       "  (('6', ''), 'PeriodMax'),\n",
       "  (('days', ''), 'PeriodUnit')]]"
      ]
     },
     "execution_count": 173,
     "metadata": {},
     "output_type": "execute_result"
    }
   ],
   "source": [
    "prediction = predict(\"take 2 tabs every 4 to 6 days\")\n",
    "prediction"
   ]
  },
  {
   "cell_type": "code",
   "execution_count": 172,
   "metadata": {},
   "outputs": [
    {
     "data": {
      "text/plain": [
       "[[(('take', ''), 'Method'),\n",
       "  (('2', ''), 'Qty'),\n",
       "  (('tabs', ''), 'Form'),\n",
       "  (('every', ''), 'EVERY'),\n",
       "  (('2', ''), 'Period'),\n",
       "  (('to', ''), 'TO'),\n",
       "  (('10', ''), 'PeriodMax'),\n",
       "  (('months', ''), 'PeriodUnit')]]"
      ]
     },
     "execution_count": 172,
     "metadata": {},
     "output_type": "execute_result"
    }
   ],
   "source": [
    "prediction = predict(\"take 2 tabs every 2 to 10 months\")\n",
    "prediction"
   ]
  },
  {
   "cell_type": "code",
   "execution_count": 171,
   "metadata": {},
   "outputs": [
    {
     "data": {
      "text/plain": [
       "[[(('every', ''), 'EVERY'),\n",
       "  (('60', ''), 'Period'),\n",
       "  (('mins', ''), 'PeriodUnit')]]"
      ]
     },
     "execution_count": 171,
     "metadata": {},
     "output_type": "execute_result"
    }
   ],
   "source": [
    "prediction = predict(\"every 60 mins\")\n",
    "prediction"
   ]
  },
  {
   "cell_type": "code",
   "execution_count": 170,
   "metadata": {},
   "outputs": [
    {
     "data": {
      "text/plain": [
       "[[(('every', ''), 'EVERY'),\n",
       "  (('10', ''), 'Period'),\n",
       "  (('mins', ''), 'PeriodUnit')]]"
      ]
     },
     "execution_count": 170,
     "metadata": {},
     "output_type": "execute_result"
    }
   ],
   "source": [
    "prediction = predict(\"every 10 mins\")\n",
    "prediction"
   ]
  },
  {
   "cell_type": "code",
   "execution_count": 169,
   "metadata": {},
   "outputs": [
    {
     "data": {
      "text/plain": [
       "[[(('every', ''), 'EVERY'),\n",
       "  (('two', ''), 'Period'),\n",
       "  (('to', ''), 'TO'),\n",
       "  (('four', ''), 'PeriodMax'),\n",
       "  (('months', ''), 'PeriodUnit')]]"
      ]
     },
     "execution_count": 169,
     "metadata": {},
     "output_type": "execute_result"
    }
   ],
   "source": [
    "prediction = predict(\"every two to four months\")\n",
    "prediction"
   ]
  },
  {
   "cell_type": "code",
   "execution_count": 168,
   "metadata": {},
   "outputs": [
    {
     "data": {
      "text/plain": [
       "[[(('take', ''), 'Method'),\n",
       "  (('2', ''), 'Qty'),\n",
       "  (('tabs', ''), 'Form'),\n",
       "  (('every', ''), 'EVERY'),\n",
       "  (('3', ''), 'Period'),\n",
       "  (('to', ''), 'TO'),\n",
       "  (('4', ''), 'PeriodMax'),\n",
       "  (('days', ''), 'PeriodUnit')]]"
      ]
     },
     "execution_count": 168,
     "metadata": {},
     "output_type": "execute_result"
    }
   ],
   "source": [
    "prediction = predict(\"take 2 tabs every 3 to 4 days\")\n",
    "prediction"
   ]
  },
  {
   "cell_type": "code",
   "execution_count": 167,
   "metadata": {},
   "outputs": [
    {
     "data": {
      "text/plain": [
       "[[(('every', ''), 'EVERY'),\n",
       "  (('3', ''), 'Period'),\n",
       "  (('to', ''), 'TO'),\n",
       "  (('4', ''), 'Duration'),\n",
       "  (('days', ''), 'DurationUnit'),\n",
       "  (('take', ''), 'Method'),\n",
       "  (('20', ''), 'Qty'),\n",
       "  (('tabs', ''), 'Form')]]"
      ]
     },
     "execution_count": 167,
     "metadata": {},
     "output_type": "execute_result"
    }
   ],
   "source": [
    "prediction = predict(\"every 3 to 4 days take 20 tabs\")\n",
    "prediction"
   ]
  },
  {
   "cell_type": "code",
   "execution_count": 166,
   "metadata": {},
   "outputs": [
    {
     "data": {
      "text/plain": [
       "[[(('once', ''), 'Frequency'),\n",
       "  (('in', ''), 'PO'),\n",
       "  (('every', ''), 'EVERY'),\n",
       "  (('3', ''), 'Period'),\n",
       "  (('days', ''), 'PeriodUnit'),\n",
       "  (('take', ''), 'Method'),\n",
       "  (('3', ''), 'Qty'),\n",
       "  (('tabs', ''), 'Form')]]"
      ]
     },
     "execution_count": 166,
     "metadata": {},
     "output_type": "execute_result"
    }
   ],
   "source": [
    "prediction = predict(\"once in every 3 days take 3 tabs\")\n",
    "prediction"
   ]
  },
  {
   "cell_type": "code",
   "execution_count": 165,
   "metadata": {},
   "outputs": [
    {
     "data": {
      "text/plain": [
       "[[(('take', ''), 'Method'),\n",
       "  (('3', ''), 'Qty'),\n",
       "  (('tabs', ''), 'Form'),\n",
       "  (('once', ''), 'Frequency'),\n",
       "  (('in', ''), 'PO'),\n",
       "  (('every', ''), 'EVERY'),\n",
       "  (('3', ''), 'Period'),\n",
       "  (('days', ''), 'PeriodUnit')]]"
      ]
     },
     "execution_count": 165,
     "metadata": {},
     "output_type": "execute_result"
    }
   ],
   "source": [
    "prediction = predict(\"take 3 tabs once in every 3 days\")\n",
    "prediction"
   ]
  },
  {
   "cell_type": "code",
   "execution_count": 164,
   "metadata": {},
   "outputs": [
    {
     "data": {
      "text/plain": [
       "[[(('orally', ''), 'Method'),\n",
       "  (('take', ''), 'Method'),\n",
       "  (('20', ''), 'Qty'),\n",
       "  (('tabs', ''), 'Form'),\n",
       "  (('every', ''), 'EVERY'),\n",
       "  (('4-6', ''), 'Period'),\n",
       "  (('weeks', ''), 'PeriodUnit')]]"
      ]
     },
     "execution_count": 164,
     "metadata": {},
     "output_type": "execute_result"
    }
   ],
   "source": [
    "prediction = predict(\"orally take 20 tabs every 4-6 weeks\")\n",
    "prediction"
   ]
  },
  {
   "cell_type": "code",
   "execution_count": 163,
   "metadata": {},
   "outputs": [
    {
     "data": {
      "text/plain": [
       "[[(('10', ''), 'Qty'),\n",
       "  (('tabs', ''), 'Form'),\n",
       "  (('x', ''), 'FOR'),\n",
       "  (('2', ''), 'Duration'),\n",
       "  (('days', ''), 'DurationUnit')]]"
      ]
     },
     "execution_count": 163,
     "metadata": {},
     "output_type": "execute_result"
    }
   ],
   "source": [
    "prediction = predict(\"10 tabs x 2 days\")\n",
    "prediction"
   ]
  },
  {
   "cell_type": "code",
   "execution_count": 162,
   "metadata": {},
   "outputs": [
    {
     "data": {
      "text/plain": [
       "[[(('3', ''), 'Qty'),\n",
       "  (('capsule', ''), 'Form'),\n",
       "  (('x', ''), 'FOR'),\n",
       "  (('15', ''), 'Duration'),\n",
       "  (('days', ''), 'DurationUnit')]]"
      ]
     },
     "execution_count": 162,
     "metadata": {},
     "output_type": "execute_result"
    }
   ],
   "source": [
    "prediction = predict(\"3 capsule x 15 days\")\n",
    "prediction"
   ]
  },
  {
   "cell_type": "code",
   "execution_count": 161,
   "metadata": {},
   "outputs": [
    {
     "data": {
      "text/plain": [
       "[[(('10', ''), 'Qty'), (('tabs', ''), 'Form')]]"
      ]
     },
     "execution_count": 161,
     "metadata": {},
     "output_type": "execute_result"
    }
   ],
   "source": [
    "prediction = predict(\"10 tabs\")\n",
    "prediction"
   ]
  }
 ],
 "metadata": {
  "kernelspec": {
   "display_name": ".venv",
   "language": "python",
   "name": "python3"
  },
  "language_info": {
   "codemirror_mode": {
    "name": "ipython",
    "version": 3
   },
   "file_extension": ".py",
   "mimetype": "text/x-python",
   "name": "python",
   "nbconvert_exporter": "python",
   "pygments_lexer": "ipython3",
   "version": "3.11.3"
  }
 },
 "nbformat": 4,
 "nbformat_minor": 2
}
