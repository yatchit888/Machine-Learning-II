{
 "cells": [
  {
   "cell_type": "markdown",
   "metadata": {},
   "source": [
    "# FAQ Chatbot\n",
    "## Task: Convert a FAQ sheet into a chatbot\n",
    "\n",
    "- Create CORPUS with all questions and its answers\n",
    "- Get the user query\n",
    "- Find the most similar question to that of all the available questions in the CORPUS\n",
    "- Pull the corresponding the answer\n",
    "- Display the answer\n",
    "\n",
    "### Steps\n",
    "- Collect and create FAQ sheet into Question and Answer pairs\n",
    "- Calculate Cosine between two sentences\n",
    "- Find most similar sentences to the user query\n",
    "- Write a Bot Class that will answer questions\n",
    "- Use Helper Event Class for Event Handling\n",
    "- Add pre-built responses"
   ]
  },
  {
   "cell_type": "markdown",
   "metadata": {},
   "source": [
    "### Import the libraries"
   ]
  },
  {
   "cell_type": "code",
   "execution_count": 1,
   "metadata": {},
   "outputs": [],
   "source": [
    "import re, math\n",
    "from collections import Counter"
   ]
  },
  {
   "cell_type": "markdown",
   "metadata": {},
   "source": [
    "### Create the CORPUS from FAQ Question and Answer Pairs"
   ]
  },
  {
   "cell_type": "code",
   "execution_count": 2,
   "metadata": {},
   "outputs": [],
   "source": [
    "CORPUS = [\n",
    "    {\n",
    "        \"Question\": \"Am I eligible for financial Aid?\",\n",
    "        \"Answer\": \"Virtually every student qualifies for some type of financial aid. See our HOW TO APPLY information and visit the PAIS (Preliminary Aid Information System) web site for the financial aid eligibility worksheet.\"\n",
    "    },\n",
    "    {\n",
    "        \"Question\": \"What is an Academic Year?\",\n",
    "        \"Answer\": \"The Academic Year begins with the fall semester. For example: the fall 2014 + spring 2015 semesters = one academic year.\"\n",
    "    },\n",
    "    {\n",
    "        \"Question\": \"Do I need to wait for a notice of admission to apply for financial aid?\",\n",
    "        \"Answer\": \"No. Submit the FAFSA by the priority processing deadline. Typically, financial aid applications should be submitted during the January preceding your enrollment. You will need to be admitted, however, before financial aid will be awarded.\"\n",
    "    },\n",
    "    {\n",
    "        \"Question\": \"I applied for financial aid . Why did you give me a loan?\",\n",
    "        \"Answer\": \"Loans are a form of financial aid; in fact, subsidized (interest paid while in college) loans comprise a major portion of the financial aid program.\"\n",
    "    },\n",
    "    {\n",
    "        \"Question\": \"Are my parent's required to pay the Expected Family Contribution (EFC) to the school?\",\n",
    "        \"Answer\": \"No. The Expected Family Contribution is a federal calculation that determines the amount the family (parent(s) and/or student) should pay toward the educational costs. The calculation examines the contribution by assessing prior year earnings, savings, etc. If the student or parent cannot meet the EFC because of a change in prior year income or other expenses such as medical or elementary school tuition, the student should contact a financial aid representative with this information.\"\n",
    "    },\n",
    "    {\n",
    "        \"Question\": \"If I am not eligible for a Pell Grant, are there other types of financial aid I can receive?\",\n",
    "        \"Answer\": \"Yes. Most students can apply for low interest loans. If you submit the FAFSA in a timely manner (early in the application cycle), the school may consider you for institutional aid and University grants. Grant funds are not endless -- they are limited to monies in these fund accounts. Grants are awarded until fund accounts are drained. Be prepared and file your FAFSA early!\"\n",
    "    },\n",
    "    {\n",
    "        \"Question\": \"Can I be independnet if my parents do not carry me as a tax exemption? If they are unwilling to pay for college? If I am living on my own? If I live with my grandparent (or other relative) who is not my legal guardian?\",\n",
    "        \"Answer\": \"You must be 24-years or older prior to the first day of the calendar year of the award year; or a veteran, or married, or have legal dependents other than a spouse, or be an orphan/ward of the court; or have extenuating circumstances in which a financial aid counselor deems acceptable to warrant a professional judgment override.\"\n",
    "    },\n",
    "    {\n",
    "        \"Question\": \"Are students who report parental data automatically ineligible?\",\n",
    "        \"Answer\": \"No, it depends on the parents household size, number in college, income, assets and other factors.\"\n",
    "    },\n",
    "    {\n",
    "        \"Question\": \"Does a Pell Grant cover California State University, Fresno fees?\",\n",
    "        \"Answer\": \"Sometimes. The amount of Pell Grant you receive will depend on your eligibility (as calculated by federal standards) and on your student enrollment status (attending and semester units enrolled).\"\n",
    "    },\n",
    "    {\n",
    "        \"Question\": \"Why are students offered so many loans?\",\n",
    "        \"Answer\": \"Stafford/Direct Loans are entitlements (your prerogative) so funding is always available. Other assistance programs, like Grants ( excluding the Pell Grant) have limited funding available per award year.\"\n",
    "    },\n",
    "    {\n",
    "        \"Question\": \"What special circumstances are considered to revise my income?\",\n",
    "        \"Answer\": \"Common circumstances include loss of employment or non-taxable income, death of one or both parents, and natural disasters. Other cases should be discussed with a financial aid representative.\"\n",
    "    },\n",
    "    {\n",
    "        \"Question\": \"What is verification and why are students selected for verification?\",\n",
    "        \"Answer\": \"Verification is the process where documents are audited for completeness and accuracy leading to a financial aid award. Students are selected by the U.S. Department of Education. While others are selected by the school based upon quality control measures implemented at the campus level. Documents required are those used to complete the initial application for aid\"\n",
    "    },\n",
    "    {\n",
    "        \"Question\": \"Who is eligible for in-state tuition, fee waivers, and scholarships in California?\",\n",
    "        \"Answer\": \"The chart provided can help you determine eligibility.\"\n",
    "    }\n",
    "]"
   ]
  },
  {
   "cell_type": "markdown",
   "metadata": {},
   "source": [
    "### Text to vector"
   ]
  },
  {
   "cell_type": "code",
   "execution_count": 3,
   "metadata": {},
   "outputs": [
    {
     "data": {
      "text/plain": [
       "re.compile(r'\\w+', re.UNICODE)"
      ]
     },
     "execution_count": 3,
     "metadata": {},
     "output_type": "execute_result"
    }
   ],
   "source": [
    "WORD = re.compile(r'\\w+')\n",
    "WORD"
   ]
  },
  {
   "cell_type": "code",
   "execution_count": 4,
   "metadata": {},
   "outputs": [],
   "source": [
    "def text_to_vector(text):\n",
    "    words = WORD.findall(text)\n",
    "    return Counter(words)"
   ]
  },
  {
   "cell_type": "markdown",
   "metadata": {},
   "source": [
    "### Calculate Cosine between sentences"
   ]
  },
  {
   "cell_type": "code",
   "execution_count": 5,
   "metadata": {},
   "outputs": [],
   "source": [
    "def get_cosine(vec1, vec2):\n",
    "    intersection = \n",
    "    numerator = \n",
    "\n",
    "    sum1 = \n",
    "    sum2 = \n",
    "    denominator = \n",
    "\n",
    "    if not denominator:\n",
    "        return 0.0\n",
    "    else:\n",
    "        return float(numerator) / denominator"
   ]
  },
  {
   "cell_type": "markdown",
   "metadata": {},
   "source": [
    "### Compare the similarity between sentences\n",
    "- Use text_to_vector\n",
    "- Use get_cosine"
   ]
  },
  {
   "cell_type": "code",
   "execution_count": 6,
   "metadata": {},
   "outputs": [],
   "source": [
    "def compare_similarity(sent_one, sent_two):\n",
    "    vector1 = \n",
    "    vector2 = \n",
    "    \n",
    "    return get_cosine(vector1, vector2)"
   ]
  },
  {
   "cell_type": "markdown",
   "metadata": {},
   "source": [
    "### Find Most similar sentences to the User Query\n",
    "- Use compare_similarity"
   ]
  },
  {
   "cell_type": "code",
   "execution_count": 7,
   "metadata": {},
   "outputs": [],
   "source": [
    "def find_most_similar(sent):\n",
    "    max = {\"answer\": None, \"score\": 0, \"question\": None}\n",
    "\n",
    "    for each in CORPUS:\n",
    "        score = \n",
    "        if score > max['score']:\n",
    "            \n",
    "            \n",
    "            \n",
    "    return {\"score\": max['score'], \"answer\": max['answer'], \"question\": max['question']}"
   ]
  },
  {
   "cell_type": "markdown",
   "metadata": {},
   "source": [
    "### Answer question"
   ]
  },
  {
   "cell_type": "code",
   "execution_count": 8,
   "metadata": {},
   "outputs": [],
   "source": [
    "class Bot:\n",
    "\n",
    "    def __init__(self):\n",
    "        self.event_stack = []\n",
    "        self.settings = {\n",
    "            \"min_score\": 0.2,\n",
    "            \"help_email\": \"god@iamgod.com\",\n",
    "            \"faq_page\": \"www.ItsAnAmazingFAQChatbot.com\"\n",
    "        }\n",
    "\n",
    "        print(\"Ask a question:\")\n",
    "        while(True):\n",
    "            self.allow_question()\n",
    "\n",
    "    def allow_question(self):\n",
    "        # Check for event stack\n",
    "        potential_event = None\n",
    "        if(len(self.event_stack)):\n",
    "            potential_event = self.event_stack.pop()\n",
    "        if potential_event:\n",
    "            text = input(\"Response: \")\n",
    "            potential_event.handle_response(text, self)\n",
    "        else:\n",
    "            text = input(\"Question: \")\n",
    "            answer = None\n",
    "            if not answer:\n",
    "                answer = None\n",
    "                self.answer_question(answer, text)\n",
    "\n",
    "    def answer_question(self, answer, text):\n",
    "        if answer['score'] > self.settings['min_score']:\n",
    "            # set off event asking if the response question is what they were looking for\n",
    "            print(\"\\nBest-fit question: %s (Score: %s)\\nAnswer: %s\\n\" % (answer['question'],\n",
    "                                                                          answer['score'],\n",
    "                                                                          answer['answer']))\n",
    "        else:\n",
    "            print(\"Woops! I'm having trouble finding the answer to your question. \" \\\n",
    "                  \"Would you like to see the list of questions that I am able to answer?\\n\")\n",
    "            # set off event for corpus dump\n",
    "            self.event_stack.append(Event(\"corpus_dump\", text))\n",
    "\n",
    "    def pre_built_responses_or_none(self, text):\n",
    "        # only return answer if exact match is found\n",
    "        \n",
    "        \n",
    "        \n",
    "        \n",
    "        \n",
    "        \n",
    "        \n",
    "        for each_question in pre_built:\n",
    "            if each_question['Question'].lower() in text.lower():\n",
    "                print(each_question['Answer'])\n",
    "                return each_question\n",
    "\n",
    "\n",
    "    def dump_corpus(self):\n",
    "        question_stack = []\n",
    "        for each_item in CORPUS:\n",
    "            question_stack.append(each_item['Question'])\n",
    "        return question_stack"
   ]
  },
  {
   "cell_type": "markdown",
   "metadata": {},
   "source": [
    "### Event handling\n",
    "- Helper Class"
   ]
  },
  {
   "cell_type": "code",
   "execution_count": 9,
   "metadata": {},
   "outputs": [],
   "source": [
    "class Event:\n",
    "\n",
    "    def __init__(self, kind, text):\n",
    "        self.kind = kind\n",
    "        self.CONFIRMATIONS = [\"yes\", \"sure\", \"okay\", \"that would be nice\", \"yep\"]\n",
    "        self.NEGATIONS = [\"no\", \"don't\", \"dont\", \"nope\"]\n",
    "        self.original_text = text\n",
    "\n",
    "    def handle_response(self, text, bot):\n",
    "        if self.kind == \"corpus_dump\":\n",
    "            self.corpus_dump(text, bot)\n",
    "\n",
    "    def corpus_dump(self, text, bot):\n",
    "        for each_confirmation in self.CONFIRMATIONS:\n",
    "            for each_word in text.split(\" \"):\n",
    "                if each_confirmation.lower() == each_word.lower():\n",
    "                    corpus = bot.dump_corpus()\n",
    "                    corpus = [\"-\" + s for s in corpus]\n",
    "                    print(\"%s%s%s\" % (\"\\n\", \"\\n\".join(corpus), \"\\n\"))\n",
    "                    return 0\n",
    "        for each_negation in self.NEGATIONS:\n",
    "            for each_word in text.split(\" \"):\n",
    "                if each_negation.lower() == each_word.lower():\n",
    "                    print(\"Feel free to ask another question or send an email to %s.\\n\" % bot.settings['help_email'])\n",
    "                    bot.allow_question()\n",
    "                    return 0\n",
    "        # base case, no confirmation or negation found\n",
    "        print(\"I'm having trouble understanding what you are saying. At this time, my ability is quite limited and I am still learning from you. \" \\\n",
    "              \"Please refer to %s or email %s if I was not able to answer your question correctly. \" \\\n",
    "              \"For convenience, a google link has been generated below for your perusal: \\n%s\\n\" % (bot.settings['faq_page'],\n",
    "                                                                                 bot.settings['help_email'],\n",
    "                                                                                 \"https://www.google.com/search?q=%s\" %\n",
    "                                                                                 (\"+\".join(self.original_text.split(\" \")))))\n",
    "        return 0"
   ]
  },
  {
   "cell_type": "markdown",
   "metadata": {},
   "source": [
    "### Run Bot( )"
   ]
  },
  {
   "cell_type": "code",
   "execution_count": null,
   "metadata": {},
   "outputs": [],
   "source": []
  },
  {
   "cell_type": "code",
   "execution_count": null,
   "metadata": {},
   "outputs": [],
   "source": []
  }
 ],
 "metadata": {
  "kernelspec": {
   "display_name": "Python 3",
   "language": "python",
   "name": "python3"
  },
  "language_info": {
   "codemirror_mode": {
    "name": "ipython",
    "version": 3
   },
   "file_extension": ".py",
   "mimetype": "text/x-python",
   "name": "python",
   "nbconvert_exporter": "python",
   "pygments_lexer": "ipython3",
   "version": "3.8.5"
  }
 },
 "nbformat": 4,
 "nbformat_minor": 2
}
