{
 "cells": [
  {
   "cell_type": "markdown",
   "metadata": {},
   "source": [
    "# Image Smoothing\n",
    "## This notebook outlines the techniques used to smooth an image"
   ]
  },
  {
   "cell_type": "markdown",
   "metadata": {},
   "source": [
    "### Blurring of images\n",
    "- It’s what happens when your camera takes a picture **out of focus** \n",
    "- Sharper regions in the image lose their detail, normally as a disc/circular shape\n",
    "\n",
    "Practically, \n",
    "- each pixel in the image is **mixed** in with its surrounding pixel intensities\n",
    "- This **“mixture”** of pixels in a neighborhood becomes a **blurred pixel**\n",
    "\n",
    "While this effect is usually unwanted in our photographs, it’s actually quite helpful when performing image processing tasks\n",
    "\n",
    "**Uses**\n",
    "\n",
    "In fact, many image processing and computer vision functions, such as thresholding and edge detection, perform better if the image is first smoothed or blurred."
   ]
  },
  {
   "cell_type": "markdown",
   "metadata": {},
   "source": [
    "## Types of Blurring\n",
    "- Averaging\n",
    "- Gaussian\n",
    "- Median\n",
    "- Bilateral"
   ]
  },
  {
   "cell_type": "markdown",
   "metadata": {},
   "source": [
    "# Averaging Blur"
   ]
  },
  {
   "cell_type": "markdown",
   "metadata": {},
   "source": [
    "Define a **k × k sliding window** on top of our image, where k is always an odd number\n",
    "- This window is going to slide from left-to-right and from top-to-bottom\n",
    "- The pixel at the center of this matrix (we have to use an odd number, otherwise there would not be a true “center”) is then set to be the **AVERAGE** of all other pixels surrounding it\n",
    "\n",
    "We call this sliding window a **“convolution kernel”** or just a **“kernel”**\n",
    "\n",
    "Note: As the size of the kernel increases, the more blurred our image will become"
   ]
  },
  {
   "cell_type": "markdown",
   "metadata": {},
   "source": [
    "### Steps\n",
    "- Import the libraries\n",
    "- Load the image\n",
    "- Blur the image\n",
    "- Display both the images"
   ]
  },
  {
   "cell_type": "markdown",
   "metadata": {},
   "source": [
    "### Import the necessary libraries"
   ]
  },
  {
   "cell_type": "code",
   "execution_count": 3,
   "metadata": {},
   "outputs": [],
   "source": [
    "import matplotlib.pyplot as plt\n",
    "import numpy as np\n",
    "import cv2"
   ]
  },
  {
   "cell_type": "markdown",
   "metadata": {},
   "source": [
    "#### Load the image"
   ]
  },
  {
   "cell_type": "code",
   "execution_count": 4,
   "metadata": {},
   "outputs": [],
   "source": [
    "image = cv2.imread(\"image.jpg\")"
   ]
  },
  {
   "cell_type": "markdown",
   "metadata": {},
   "source": [
    "#### Blur the image\n",
    "- Use 3 x 3 kernel\n",
    "- Use blur( )\n",
    "    - image to blur as a NumPy array\n",
    "    - kernel size as a tuple"
   ]
  },
  {
   "cell_type": "code",
   "execution_count": 3,
   "metadata": {},
   "outputs": [],
   "source": [
    "blur = cv2.blur(image, (3, 3))"
   ]
  },
  {
   "cell_type": "markdown",
   "metadata": {},
   "source": [
    "#### Display the blurred / smoothed image\n",
    "- Use np.hstack( )"
   ]
  },
  {
   "cell_type": "code",
   "execution_count": 4,
   "metadata": {},
   "outputs": [
    {
     "data": {
      "text/plain": [
       "13"
      ]
     },
     "execution_count": 4,
     "metadata": {},
     "output_type": "execute_result"
    }
   ],
   "source": [
    "cv2.imshow(\"Smoothing Image\", np.hstack([image, blur]))\n",
    "cv2.waitKey(0)"
   ]
  },
  {
   "cell_type": "markdown",
   "metadata": {},
   "source": [
    "#### Try with different kernel sizes\n",
    "- 3 x 3\n",
    "- 5 x 5\n",
    "- 7 x 7\n",
    "- 9 x 9\n",
    "- Display all the results in one imshow() using hstack()"
   ]
  },
  {
   "cell_type": "code",
   "execution_count": 6,
   "metadata": {},
   "outputs": [],
   "source": [
    "blur3 = cv2.blur(image, (3, 3))\n",
    "blur5 = cv2.blur(image, (5, 5))\n",
    "blur7 = cv2.blur(image, (7, 7))\n",
    "blur9 = cv2.blur(image, (9, 9))"
   ]
  },
  {
   "cell_type": "code",
   "execution_count": 7,
   "metadata": {},
   "outputs": [
    {
     "data": {
      "text/plain": [
       "13"
      ]
     },
     "execution_count": 7,
     "metadata": {},
     "output_type": "execute_result"
    }
   ],
   "source": [
    "cv2.imshow(\"Smoothed Images using Averaging Blur\", np.hstack([image, blur3, blur5, blur7, blur9]))\n",
    "cv2.waitKey(0)"
   ]
  },
  {
   "cell_type": "markdown",
   "metadata": {},
   "source": [
    "# Gaussian Blur\n",
    "Gaussian blurring is similar to average blurring, but instead of using a simple mean, we are now using a **weighted mean**\n",
    "\n",
    "**Weighted Mean**: Neighborhood pixels that are closer to the central pixel contribute more **“weight”** to the average\n",
    "\n",
    "**Result**: Our image is less blurred, but **more naturally blurred**, than using the average blur method"
   ]
  },
  {
   "cell_type": "markdown",
   "metadata": {},
   "source": [
    "### Steps\n",
    "- Import the libraries\n",
    "- Load the image\n",
    "- Blur the image\n",
    "- Display both the images"
   ]
  },
  {
   "cell_type": "markdown",
   "metadata": {},
   "source": [
    "#### Load the image"
   ]
  },
  {
   "cell_type": "code",
   "execution_count": 8,
   "metadata": {},
   "outputs": [],
   "source": [
    "image = cv2.imread(\"image.jpg\")"
   ]
  },
  {
   "cell_type": "markdown",
   "metadata": {},
   "source": [
    "#### Blur the image\n",
    "- Use 3 x 3 kernel\n",
    "- Use **GaussianBlur( )**\n",
    "    - image to blur as a NumPy array\n",
    "    - kernel size as a tuple\n",
    "    - sigmaX --> Standard Deviation in x-axis direction"
   ]
  },
  {
   "cell_type": "code",
   "execution_count": 10,
   "metadata": {},
   "outputs": [],
   "source": [
    "gaussianblur = cv2.GaussianBlur(image, (3, 3), 0)"
   ]
  },
  {
   "cell_type": "markdown",
   "metadata": {},
   "source": [
    "#### Display the blurred / smoothed image\n",
    "- Use np.hstack( )"
   ]
  },
  {
   "cell_type": "code",
   "execution_count": 12,
   "metadata": {},
   "outputs": [
    {
     "data": {
      "text/plain": [
       "13"
      ]
     },
     "execution_count": 12,
     "metadata": {},
     "output_type": "execute_result"
    }
   ],
   "source": [
    "cv2.imshow(\"Smoothing Images using Gaussian\", np.hstack([image, gaussianblur]))\n",
    "cv2.waitKey(0)"
   ]
  },
  {
   "cell_type": "markdown",
   "metadata": {},
   "source": [
    "#### Try with different kernel sizes\n",
    "- 3 x 3\n",
    "- 5 x 5\n",
    "- 7 x 7\n",
    "- 9 x 9\n",
    "- Display all the results in one imshow() using hstack()"
   ]
  },
  {
   "cell_type": "code",
   "execution_count": 14,
   "metadata": {},
   "outputs": [],
   "source": [
    "gaussianblur3 = cv2.GaussianBlur(image, (3, 3), 0)\n",
    "gaussianblur5 = cv2.GaussianBlur(image, (5, 5), 0)\n",
    "gaussianblur7 = cv2.GaussianBlur(image, (7, 7), 0)\n",
    "gaussianblur9 = cv2.GaussianBlur(image, (9, 9), 0)"
   ]
  },
  {
   "cell_type": "code",
   "execution_count": 15,
   "metadata": {},
   "outputs": [
    {
     "data": {
      "text/plain": [
       "13"
      ]
     },
     "execution_count": 15,
     "metadata": {},
     "output_type": "execute_result"
    }
   ],
   "source": [
    "cv2.imshow(\"Smoothing Images using Gaussian Blur\", np.hstack([image, gaussianblur3, gaussianblur5, gaussianblur7, gaussianblur9]))\n",
    "cv2.waitKey(0)"
   ]
  },
  {
   "cell_type": "markdown",
   "metadata": {},
   "source": [
    "### Test it with Avergaing Blur results"
   ]
  },
  {
   "cell_type": "code",
   "execution_count": 16,
   "metadata": {},
   "outputs": [
    {
     "data": {
      "text/plain": [
       "13"
      ]
     },
     "execution_count": 16,
     "metadata": {},
     "output_type": "execute_result"
    }
   ],
   "source": [
    "cv2.imshow(\"Smoothed Images using Averaging Blur Method\", np.hstack([image, blur3, blur5, blur7, blur9]))\n",
    "cv2.waitKey(0)"
   ]
  },
  {
   "cell_type": "markdown",
   "metadata": {},
   "source": [
    "# Median Blur\n",
    "Unlike the averaging method, instead of replacing the central pixel with the average of the neighborhood, we instead **replace the central pixel** with the **median** of the neighborhood\n",
    "\n",
    "Median blurring is more effective at removing **salt-and-pepper style noise** from an image because each central pixel is always replaced with a pixel intensity that exists in the image\n",
    "\n",
    "**Major difference between the previous methods**\n",
    "- Averaging and Gaussian methods can compute means or weighted means for the neighborhood\n",
    "- This **average pixel intensity** may or may **not exist** in the neighborhood\n",
    "- The **median pixel** must **exist** in our neighborhood\n",
    "- By replacing our central pixel with a median rather than an average, we can substantially **reduce noise**"
   ]
  },
  {
   "cell_type": "markdown",
   "metadata": {},
   "source": [
    "### Steps\n",
    "- Import the libraries\n",
    "- Load the image\n",
    "- Blur the image\n",
    "- Display both the images"
   ]
  },
  {
   "cell_type": "markdown",
   "metadata": {},
   "source": [
    "#### Load the image"
   ]
  },
  {
   "cell_type": "code",
   "execution_count": 17,
   "metadata": {},
   "outputs": [],
   "source": [
    "image = cv2.imread(\"image.jpg\")"
   ]
  },
  {
   "cell_type": "markdown",
   "metadata": {},
   "source": [
    "#### Blur the image\n",
    "- Use 3 x 3 kernel\n",
    "- Use **medianBlur( )**\n",
    "    - image to blur as a NumPy array\n",
    "    - kernel size as an integer"
   ]
  },
  {
   "cell_type": "code",
   "execution_count": 19,
   "metadata": {},
   "outputs": [],
   "source": [
    "medianblur = cv2.medianBlur(image, 3)"
   ]
  },
  {
   "cell_type": "markdown",
   "metadata": {},
   "source": [
    "#### Display the blurred / smoothed image\n",
    "- Use np.hstack( )"
   ]
  },
  {
   "cell_type": "code",
   "execution_count": 20,
   "metadata": {},
   "outputs": [
    {
     "data": {
      "text/plain": [
       "13"
      ]
     },
     "execution_count": 20,
     "metadata": {},
     "output_type": "execute_result"
    }
   ],
   "source": [
    "cv2.imshow(\"Smoothing Images using Median\", np.hstack([image, medianblur]))\n",
    "cv2.waitKey(0)"
   ]
  },
  {
   "cell_type": "markdown",
   "metadata": {},
   "source": [
    "#### Try with different kernel sizes\n",
    "- 3 x 3\n",
    "- 5 x 5\n",
    "- 7 x 7\n",
    "- 9 x 9\n",
    "- Display all the results in one imshow() using hstack()"
   ]
  },
  {
   "cell_type": "code",
   "execution_count": 21,
   "metadata": {},
   "outputs": [],
   "source": [
    "medianblur3 = cv2.medianBlur(image, 3)\n",
    "medianblur5 = cv2.medianBlur(image, 5)\n",
    "medianblur7 = cv2.medianBlur(image, 7)\n",
    "medianblur9 = cv2.medianBlur(image, 9)"
   ]
  },
  {
   "cell_type": "code",
   "execution_count": 22,
   "metadata": {},
   "outputs": [
    {
     "data": {
      "text/plain": [
       "13"
      ]
     },
     "execution_count": 22,
     "metadata": {},
     "output_type": "execute_result"
    }
   ],
   "source": [
    "cv2.imshow(\"Smoothing Images using Median\", np.hstack([image, medianblur3, medianblur5, medianblur7, medianblur9]))\n",
    "cv2.waitKey(0)"
   ]
  },
  {
   "cell_type": "markdown",
   "metadata": {},
   "source": [
    "#### Test it with other Blurring Methods"
   ]
  },
  {
   "cell_type": "code",
   "execution_count": 24,
   "metadata": {},
   "outputs": [
    {
     "data": {
      "text/plain": [
       "13"
      ]
     },
     "execution_count": 24,
     "metadata": {},
     "output_type": "execute_result"
    }
   ],
   "source": [
    "cv2.imshow(\"Smoothed Images using Averaging Blur Method\", np.hstack([image, blur3, blur5, blur7, blur9]))\n",
    "cv2.imshow(\"Smoothing Images using Gaussian Blur\", np.hstack([image, gaussianblur3, gaussianblur5, gaussianblur7, gaussianblur9]))\n",
    "cv2.waitKey(0)"
   ]
  },
  {
   "cell_type": "markdown",
   "metadata": {},
   "source": [
    "# Bilateral Blur\n",
    "Drawbacks in previous methods\n",
    "- Losing edge information in the blurred image\n",
    "\n",
    "**Solution**: Bilateral blurring method\n",
    "\n",
    "Use bilateral blurring in order to reduce noise while still maintaining edges\n",
    "\n",
    "**How it is done?**\n",
    "- Bilateral blurring accomplishes this by introducing **two Gaussian distributions**\n",
    "- The first Gaussian function only considers **spatial neighbors**\n",
    "    - pixels that appear close together in the (x, y) coordinate space of the image\n",
    "- The second Gaussian then models the **pixel intensity** of the neighborhood\n",
    "    - pixels with similar intensity are included in the actual computation of the blur\n",
    "    \n",
    "Overall, this method is able to **preserve edges** of an image, while still reducing noise. \n",
    "\n",
    "**Drawbacks**\n",
    "- Considerably **slower** than averaging, Gaussian, and median blurring methods"
   ]
  },
  {
   "cell_type": "markdown",
   "metadata": {},
   "source": [
    "### Steps\n",
    "- Import the libraries\n",
    "- Load the image\n",
    "- Blur the image\n",
    "- Display both the images"
   ]
  },
  {
   "cell_type": "markdown",
   "metadata": {},
   "source": [
    "#### Load the image"
   ]
  },
  {
   "cell_type": "code",
   "execution_count": 25,
   "metadata": {},
   "outputs": [],
   "source": [
    "image = cv2.imread(\"image.jpg\")"
   ]
  },
  {
   "cell_type": "markdown",
   "metadata": {},
   "source": [
    "#### Blur the image\n",
    "- Use 3 x 3 kernel\n",
    "- Use **bilateralFilter( )**\n",
    "    - image to blur as a NumPy array\n",
    "    - diameter of the pixel neighborhood\n",
    "    - color\n",
    "        - Larger value --> more colors in the neighborhood will be be considered when computing the blur\n",
    "    - space\n",
    "        - Larger value --> Pixels farther out from the centra; pixel will influence the blurring computation provided their colors are similar enough"
   ]
  },
  {
   "cell_type": "code",
   "execution_count": 26,
   "metadata": {},
   "outputs": [],
   "source": [
    "bilblur = cv2.bilateralFilter(image, 3, 21, 21)"
   ]
  },
  {
   "cell_type": "markdown",
   "metadata": {},
   "source": [
    "#### Display the blurred / smoothed image\n",
    "- Use np.hstack( )"
   ]
  },
  {
   "cell_type": "code",
   "execution_count": 27,
   "metadata": {},
   "outputs": [
    {
     "data": {
      "text/plain": [
       "13"
      ]
     },
     "execution_count": 27,
     "metadata": {},
     "output_type": "execute_result"
    }
   ],
   "source": [
    "cv2.imshow(\"Smoothing Images using Bilateral Blur\", np.hstack([image, bilblur]))\n",
    "cv2.waitKey(0)"
   ]
  },
  {
   "cell_type": "markdown",
   "metadata": {},
   "source": [
    "#### Try with different kernel sizes\n",
    "- 3 x 3\n",
    "- 5 x 5\n",
    "- 7 x 7\n",
    "- 9 x 9\n",
    "- Display all the results in one imshow() using hstack()"
   ]
  },
  {
   "cell_type": "code",
   "execution_count": 28,
   "metadata": {},
   "outputs": [],
   "source": [
    "bilblur3 = cv2.bilateralFilter(image, 3, 21, 21)\n",
    "bilblur5 = cv2.bilateralFilter(image, 5, 21, 21)\n",
    "bilblur7 = cv2.bilateralFilter(image, 7, 21, 21)\n",
    "bilblur9 = cv2.bilateralFilter(image, 9, 21, 21)"
   ]
  },
  {
   "cell_type": "code",
   "execution_count": 29,
   "metadata": {},
   "outputs": [
    {
     "data": {
      "text/plain": [
       "13"
      ]
     },
     "execution_count": 29,
     "metadata": {},
     "output_type": "execute_result"
    }
   ],
   "source": [
    "cv2.imshow(\"Smoothing Images using Bilateral Blur with varying diameters\", np.hstack([image, bilblur3, bilblur5, bilblur7, bilblur9]))\n",
    "cv2.waitKey(0)"
   ]
  },
  {
   "cell_type": "markdown",
   "metadata": {},
   "source": [
    "#### Try changing different sigma values in color and space parameters\n",
    "- Large sigma gives a cartoonish feel\n",
    "- Small sigma gives no effect"
   ]
  },
  {
   "cell_type": "code",
   "execution_count": 30,
   "metadata": {},
   "outputs": [],
   "source": [
    "bilblur0 = cv2.bilateralFilter(image, 5, 21, 21)\n",
    "bilblur1 = cv2.bilateralFilter(image, 7, 31, 31)\n",
    "bilblur2 = cv2.bilateralFilter(image, 9, 41, 41)"
   ]
  },
  {
   "cell_type": "code",
   "execution_count": 31,
   "metadata": {},
   "outputs": [
    {
     "data": {
      "text/plain": [
       "13"
      ]
     },
     "execution_count": 31,
     "metadata": {},
     "output_type": "execute_result"
    }
   ],
   "source": [
    "cv2.imshow(\"Smoothing Images using Bilateral Blur with varying hyperparameters\", np.hstack([image, bilblur0, bilblur1, bilblur2]))\n",
    "cv2.waitKey(0)"
   ]
  },
  {
   "cell_type": "code",
   "execution_count": 42,
   "metadata": {},
   "outputs": [
    {
     "data": {
      "text/plain": [
       "13"
      ]
     },
     "execution_count": 42,
     "metadata": {},
     "output_type": "execute_result"
    }
   ],
   "source": [
    "bilblurlargesigma = cv2.bilateralFilter(image, 17, 11, 11)\n",
    "cv2.imshow(\"Test\", bilblurlargesigma)\n",
    "cv2.waitKey(0)"
   ]
  },
  {
   "cell_type": "code",
   "execution_count": null,
   "metadata": {},
   "outputs": [],
   "source": []
  }
 ],
 "metadata": {
  "kernelspec": {
   "display_name": "testing",
   "language": "python",
   "name": "testing"
  },
  "language_info": {
   "codemirror_mode": {
    "name": "ipython",
    "version": 3
   },
   "file_extension": ".py",
   "mimetype": "text/x-python",
   "name": "python",
   "nbconvert_exporter": "python",
   "pygments_lexer": "ipython3",
   "version": "3.8.5"
  }
 },
 "nbformat": 4,
 "nbformat_minor": 4
}
