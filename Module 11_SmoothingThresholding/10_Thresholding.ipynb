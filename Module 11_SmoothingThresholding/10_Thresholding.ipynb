{
 "cells": [
  {
   "cell_type": "markdown",
   "metadata": {},
   "source": [
    "# Thresholding\n",
    "## This notebook outlines the concepts behind Thresholding used in Image processing"
   ]
  },
  {
   "cell_type": "markdown",
   "metadata": {},
   "source": [
    "Thresholding is the **binarization** of an image\n",
    "- Convert a grayscale image to a binary image, where the pixels are either 0 or 255\n",
    "\n",
    "A **simple thresholding example** would be as follows:\n",
    "- selecting a pixel value p\n",
    "- Setting all pixel intensities less than p to zero\n",
    "- Setting all pixel values greater than p to 255\n",
    "\n",
    "In this way, we are able to create a **binary representation** of the image\n",
    "\n",
    "Normally, we use thresholding to focus on objects or **areas of particular interest** in an image"
   ]
  },
  {
   "cell_type": "markdown",
   "metadata": {},
   "source": [
    "### Types of Thresholding\n",
    "- Simple Thresholding\n",
    "- Adaptive Thresholding\n",
    "- Otsu and Riddler-Calvard Thresholding\n",
    "- Watershed"
   ]
  },
  {
   "cell_type": "markdown",
   "metadata": {},
   "source": [
    "## SIMPLE THRESHOLDING\n",
    "\n",
    "Applying simple thresholding methods requires **human intervention**\n",
    "- Specify a threshold value **T**\n",
    "- All pixel intensities **below** T are set to **0**\n",
    "- All pixel intensities **greater** than T are set to **255**\n",
    "\n",
    "**Inverse Binarization**\n",
    "\n",
    "- Setting all pixels **below** T to **255**\n",
    "- Setting all pixel intensities **greater** than T to **0**"
   ]
  },
  {
   "cell_type": "markdown",
   "metadata": {},
   "source": [
    "### Steps\n",
    "- Import the libraries\n",
    "- Load the image\n",
    "- Convert the image into grayscale\n",
    "- Blur the image (optional)\n",
    "- Threshold the image\n",
    "- Display the image"
   ]
  },
  {
   "cell_type": "markdown",
   "metadata": {},
   "source": [
    "#### Import the necessary libraries"
   ]
  },
  {
   "cell_type": "code",
   "execution_count": null,
   "metadata": {},
   "outputs": [],
   "source": []
  },
  {
   "cell_type": "markdown",
   "metadata": {},
   "source": [
    "#### Load the image"
   ]
  },
  {
   "cell_type": "code",
   "execution_count": null,
   "metadata": {},
   "outputs": [],
   "source": []
  },
  {
   "cell_type": "markdown",
   "metadata": {},
   "source": [
    "#### Convert the image into grayscale"
   ]
  },
  {
   "cell_type": "code",
   "execution_count": null,
   "metadata": {},
   "outputs": [],
   "source": []
  },
  {
   "cell_type": "markdown",
   "metadata": {},
   "source": [
    "#### Blur the image"
   ]
  },
  {
   "cell_type": "code",
   "execution_count": null,
   "metadata": {},
   "outputs": [],
   "source": []
  },
  {
   "cell_type": "markdown",
   "metadata": {},
   "source": [
    "#### Threshold the image\n",
    "- Use **cv2.threshold( )**\n",
    "    - image\n",
    "    - threshold value **T** (manual setting)\n",
    "    - Maximum value **M** to be set during thresholding\n",
    "        - If a pixel intensity p is greater than T, it is set to M\n",
    "        - If a pixel intensity p is lesser than T, it is set to 0\n",
    "    - Thresholding method\n",
    "        - **THRESH_BINARY**\n",
    "            - Pixel values greater than T are set to maximum value M\n",
    "    - Returns\n",
    "        - T (manually set)\n",
    "        - thresholded image"
   ]
  },
  {
   "cell_type": "code",
   "execution_count": null,
   "metadata": {},
   "outputs": [],
   "source": []
  },
  {
   "cell_type": "markdown",
   "metadata": {},
   "source": [
    "#### Display the thresholded image"
   ]
  },
  {
   "cell_type": "code",
   "execution_count": null,
   "metadata": {},
   "outputs": [],
   "source": []
  },
  {
   "cell_type": "markdown",
   "metadata": {},
   "source": [
    "### Homework:\n",
    "- Test whether using Blurring before Thresholding helps or not\n",
    "    - Take more images\n",
    "    - Run results with Blurring\n",
    "    - Run results without Blurring\n",
    "    - Compare and study the effects of blurring\n",
    "- Also, try the other Thresholding methods\n",
    "    - cv2.THRESH_TRUNC\n",
    "    - cv2.THRESH_TOZERO\n",
    "    - cv2.THRESH_TOZERO_INV"
   ]
  },
  {
   "cell_type": "markdown",
   "metadata": {},
   "source": [
    "### Inverse Thresholding"
   ]
  },
  {
   "cell_type": "code",
   "execution_count": null,
   "metadata": {},
   "outputs": [],
   "source": []
  },
  {
   "cell_type": "code",
   "execution_count": null,
   "metadata": {},
   "outputs": [],
   "source": []
  },
  {
   "cell_type": "markdown",
   "metadata": {},
   "source": [
    "### Extract the foreground"
   ]
  },
  {
   "cell_type": "code",
   "execution_count": null,
   "metadata": {},
   "outputs": [],
   "source": []
  },
  {
   "cell_type": "code",
   "execution_count": null,
   "metadata": {},
   "outputs": [],
   "source": []
  },
  {
   "cell_type": "markdown",
   "metadata": {},
   "source": [
    "## ADAPTIVE THRESHOLDING"
   ]
  },
  {
   "cell_type": "markdown",
   "metadata": {},
   "source": [
    "Drawbacks of Previous method\n",
    "- Manually supply Threshold Value T\n",
    "- Requires lots of experiments with different T\n",
    "\n",
    "**Solution**: Adaptive Thresholding\n",
    "\n",
    "Consider **small neighbors** of pixels and then find an **optimal threshold value** T for each neighbor\n",
    "\n",
    "Useful\n",
    "- High ranges of pixel intensities in the image\n",
    "- Optimal value of T may change for different parts of the image"
   ]
  },
  {
   "cell_type": "markdown",
   "metadata": {},
   "source": [
    "### Steps\n",
    "- Import the libraries\n",
    "- Load the image\n",
    "- Convert the image into grayscale\n",
    "- Blur the image (optional)\n",
    "- Adaptive Threshold the image\n",
    "- Display the image"
   ]
  },
  {
   "cell_type": "markdown",
   "metadata": {},
   "source": [
    "#### Import the libraries"
   ]
  },
  {
   "cell_type": "code",
   "execution_count": null,
   "metadata": {},
   "outputs": [],
   "source": []
  },
  {
   "cell_type": "markdown",
   "metadata": {},
   "source": [
    "#### Load the image"
   ]
  },
  {
   "cell_type": "code",
   "execution_count": null,
   "metadata": {},
   "outputs": [],
   "source": []
  },
  {
   "cell_type": "markdown",
   "metadata": {},
   "source": [
    "#### Convert the image into grayscale"
   ]
  },
  {
   "cell_type": "code",
   "execution_count": null,
   "metadata": {},
   "outputs": [],
   "source": []
  },
  {
   "cell_type": "markdown",
   "metadata": {},
   "source": [
    "#### Blur the image"
   ]
  },
  {
   "cell_type": "code",
   "execution_count": null,
   "metadata": {},
   "outputs": [],
   "source": []
  },
  {
   "cell_type": "markdown",
   "metadata": {},
   "source": [
    "#### Threshold the image\n",
    "- Use **cv2.adaptiveThreshold( )**\n",
    "    - image\n",
    "    - Maximum value **M** to be set during thresholding\n",
    "        - If a pixel intensity p is greater than T, it is set to M\n",
    "        - If a pixel intensity p is lesser than T, it is set to 0\n",
    "    - Method to compute the thresholding\n",
    "        - **ADAPTIVE_THRESH_MEAN_C**\n",
    "            - Compute the mean of the neighborhood of pixels and treat it as T\n",
    "        - **ADAPTIVE_THRESH_GAUSSIAN_C**\n",
    "            - Compute the Weighted mean of the neighborhood of pixels and treat it as T\n",
    "    - Thresholding Method\n",
    "        - **THRESH_BINARY_INV**\n",
    "            - If any pixel greater than T in the neighborhood should be set to 255\n",
    "            - If any pixel less than T, set to 0\n",
    "    - Neighborhood size\n",
    "        - Smaller square region for consideration to compute threshold\n",
    "    - C\n",
    "        - Integer that is subtracted from the mean allowing us to fine-tune our thresholding\n",
    "    - Returns\n",
    "        - T (manually set)\n",
    "        - thresholded image"
   ]
  },
  {
   "cell_type": "code",
   "execution_count": null,
   "metadata": {},
   "outputs": [],
   "source": []
  },
  {
   "cell_type": "markdown",
   "metadata": {},
   "source": [
    "#### Display the Thresholded image"
   ]
  },
  {
   "cell_type": "code",
   "execution_count": null,
   "metadata": {},
   "outputs": [],
   "source": []
  },
  {
   "cell_type": "markdown",
   "metadata": {},
   "source": [
    "### Try Gaussian Thresholding"
   ]
  },
  {
   "cell_type": "code",
   "execution_count": null,
   "metadata": {},
   "outputs": [],
   "source": []
  },
  {
   "cell_type": "code",
   "execution_count": null,
   "metadata": {},
   "outputs": [],
   "source": []
  },
  {
   "cell_type": "markdown",
   "metadata": {},
   "source": [
    "### Extract Foreground"
   ]
  },
  {
   "cell_type": "code",
   "execution_count": null,
   "metadata": {},
   "outputs": [],
   "source": []
  },
  {
   "cell_type": "code",
   "execution_count": null,
   "metadata": {},
   "outputs": [],
   "source": []
  },
  {
   "cell_type": "markdown",
   "metadata": {},
   "source": [
    "## OTSU THRESHOLDING"
   ]
  },
  {
   "cell_type": "markdown",
   "metadata": {},
   "source": [
    "Otsu’s method assumes there are **two peaks** in the grayscale histogram of the image\n",
    "It then tries to find an optimal value to **separate** these two peaks – thus our value of T\n",
    "\n",
    "Note: Please install **mahotas**"
   ]
  },
  {
   "cell_type": "markdown",
   "metadata": {},
   "source": [
    "### Steps\n",
    "- Import the libraries\n",
    "- Load the image\n",
    "- Convert the image into grayscale\n",
    "- Blur the image (optional)\n",
    "- Otsu Threshold the image\n",
    "- Display the image"
   ]
  },
  {
   "cell_type": "markdown",
   "metadata": {},
   "source": [
    "#### Import the ncessary libraries"
   ]
  },
  {
   "cell_type": "code",
   "execution_count": null,
   "metadata": {},
   "outputs": [],
   "source": []
  },
  {
   "cell_type": "markdown",
   "metadata": {},
   "source": [
    "#### Load the image"
   ]
  },
  {
   "cell_type": "code",
   "execution_count": null,
   "metadata": {},
   "outputs": [],
   "source": []
  },
  {
   "cell_type": "markdown",
   "metadata": {},
   "source": [
    "#### Convert the image into grayscale"
   ]
  },
  {
   "cell_type": "code",
   "execution_count": null,
   "metadata": {},
   "outputs": [],
   "source": []
  },
  {
   "cell_type": "markdown",
   "metadata": {},
   "source": [
    "#### Blur the image"
   ]
  },
  {
   "cell_type": "code",
   "execution_count": null,
   "metadata": {},
   "outputs": [],
   "source": []
  },
  {
   "cell_type": "markdown",
   "metadata": {},
   "source": [
    "#### OTSU Thresholding of image\n",
    "- Find the optimal threshold for the image\n",
    "    - Use mahotas.thresholding.**otsu**\n",
    "- Apply threshold\n",
    "    - Copy the image\n",
    "    - Set to white pixel if pixel intensity greater than T\n",
    "    - Set to black pixel if pixel intensity less than 255\n",
    "    - Invert the thresholding\n",
    "        - Use **cv2.bitwise_not**"
   ]
  },
  {
   "cell_type": "markdown",
   "metadata": {},
   "source": [
    "##### Find the optimal threshold of the image - Use OTSU"
   ]
  },
  {
   "cell_type": "code",
   "execution_count": null,
   "metadata": {},
   "outputs": [],
   "source": []
  },
  {
   "cell_type": "markdown",
   "metadata": {},
   "source": [
    "##### What's the value of T?"
   ]
  },
  {
   "cell_type": "code",
   "execution_count": null,
   "metadata": {},
   "outputs": [],
   "source": []
  },
  {
   "cell_type": "markdown",
   "metadata": {},
   "source": [
    "#### Apply threshold\n",
    "##### Copy the image"
   ]
  },
  {
   "cell_type": "code",
   "execution_count": null,
   "metadata": {},
   "outputs": [],
   "source": []
  },
  {
   "cell_type": "markdown",
   "metadata": {},
   "source": [
    "##### Set to white pixel if pixel intensity greater than T"
   ]
  },
  {
   "cell_type": "code",
   "execution_count": null,
   "metadata": {},
   "outputs": [],
   "source": []
  },
  {
   "cell_type": "markdown",
   "metadata": {},
   "source": [
    "##### Set to black pixel if pixel intensity less than 255"
   ]
  },
  {
   "cell_type": "code",
   "execution_count": null,
   "metadata": {},
   "outputs": [],
   "source": []
  },
  {
   "cell_type": "markdown",
   "metadata": {},
   "source": [
    "##### Invert the thresholding\n",
    "- Use cv2.bitwise_not"
   ]
  },
  {
   "cell_type": "code",
   "execution_count": null,
   "metadata": {},
   "outputs": [],
   "source": []
  },
  {
   "cell_type": "markdown",
   "metadata": {},
   "source": [
    "##### Display the image"
   ]
  },
  {
   "cell_type": "code",
   "execution_count": null,
   "metadata": {},
   "outputs": [],
   "source": []
  },
  {
   "cell_type": "markdown",
   "metadata": {},
   "source": [
    "## RIDDLER-CALVARD THRESHOLDING\n",
    "\n",
    "#### RC Thresholding of image\n",
    "- Find the optimal threshold for the image\n",
    "    - Use mahotas.thresholding.**rc**\n",
    "- Apply threshold\n",
    "    - Copy the image\n",
    "    - Set to white pixel if pixel intensity greater than T\n",
    "    - Set to black pixel if pixel intensity less than 255\n",
    "    - Invert the thresholding\n",
    "        - Use **cv2.bitwise_not**"
   ]
  },
  {
   "cell_type": "code",
   "execution_count": null,
   "metadata": {},
   "outputs": [],
   "source": []
  },
  {
   "cell_type": "code",
   "execution_count": null,
   "metadata": {},
   "outputs": [],
   "source": []
  },
  {
   "cell_type": "code",
   "execution_count": null,
   "metadata": {},
   "outputs": [],
   "source": []
  },
  {
   "cell_type": "code",
   "execution_count": null,
   "metadata": {},
   "outputs": [],
   "source": []
  },
  {
   "cell_type": "code",
   "execution_count": null,
   "metadata": {},
   "outputs": [],
   "source": []
  },
  {
   "cell_type": "code",
   "execution_count": null,
   "metadata": {},
   "outputs": [],
   "source": []
  },
  {
   "cell_type": "code",
   "execution_count": null,
   "metadata": {},
   "outputs": [],
   "source": []
  },
  {
   "cell_type": "code",
   "execution_count": null,
   "metadata": {},
   "outputs": [],
   "source": []
  },
  {
   "cell_type": "markdown",
   "metadata": {},
   "source": [
    "# Assignment: Try to segment foreground objects from the background"
   ]
  },
  {
   "cell_type": "code",
   "execution_count": null,
   "metadata": {},
   "outputs": [],
   "source": []
  }
 ],
 "metadata": {
  "kernelspec": {
   "display_name": "testing",
   "language": "python",
   "name": "testing"
  },
  "language_info": {
   "codemirror_mode": {
    "name": "ipython",
    "version": 3
   },
   "file_extension": ".py",
   "mimetype": "text/x-python",
   "name": "python",
   "nbconvert_exporter": "python",
   "pygments_lexer": "ipython3",
   "version": "3.8.5"
  }
 },
 "nbformat": 4,
 "nbformat_minor": 4
}
