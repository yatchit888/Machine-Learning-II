{
 "cells": [
  {
   "cell_type": "markdown",
   "metadata": {},
   "source": [
    "# Librosa\n",
    "## This notebook outlines the installation and usage of Librosa library for Audio Processing"
   ]
  },
  {
   "cell_type": "markdown",
   "metadata": {},
   "source": [
    "### Installation"
   ]
  },
  {
   "cell_type": "code",
   "execution_count": 1,
   "metadata": {},
   "outputs": [],
   "source": [
    "#! pip install librosa"
   ]
  },
  {
   "cell_type": "markdown",
   "metadata": {},
   "source": [
    "### Import the library"
   ]
  },
  {
   "cell_type": "code",
   "execution_count": 2,
   "metadata": {},
   "outputs": [],
   "source": [
    "import librosa\n",
    "import numpy as np"
   ]
  },
  {
   "cell_type": "markdown",
   "metadata": {},
   "source": [
    "### Get the file path to an included audio example\n",
    "- Use nutcracker"
   ]
  },
  {
   "cell_type": "code",
   "execution_count": 3,
   "metadata": {},
   "outputs": [],
   "source": [
    "filename = librosa.example('nutcracker')"
   ]
  },
  {
   "cell_type": "markdown",
   "metadata": {},
   "source": [
    "### Load the audio \n",
    "- Store the audio as a waveform `y`\n",
    "- Store the sampling rate as `sr`"
   ]
  },
  {
   "cell_type": "code",
   "execution_count": 4,
   "metadata": {},
   "outputs": [],
   "source": [
    "y, sr = librosa.load(filename)"
   ]
  },
  {
   "cell_type": "markdown",
   "metadata": {},
   "source": [
    "### Set the hop length; at 22050 Hz, 512 samples ~ 23ms"
   ]
  },
  {
   "cell_type": "code",
   "execution_count": 5,
   "metadata": {},
   "outputs": [],
   "source": [
    "hop_length = 512"
   ]
  },
  {
   "cell_type": "markdown",
   "metadata": {},
   "source": [
    "### Separate harmonics and percussives into two waveforms"
   ]
  },
  {
   "cell_type": "code",
   "execution_count": 6,
   "metadata": {},
   "outputs": [],
   "source": [
    "y_harmonic, y_percussive = librosa.effects.hpss(y)"
   ]
  },
  {
   "cell_type": "code",
   "execution_count": 7,
   "metadata": {},
   "outputs": [
    {
     "data": {
      "text/plain": [
       "array([ 4.2039378e-06,  1.7493693e-06, -9.4658744e-06, ...,\n",
       "        0.0000000e+00,  0.0000000e+00,  0.0000000e+00], dtype=float32)"
      ]
     },
     "execution_count": 7,
     "metadata": {},
     "output_type": "execute_result"
    }
   ],
   "source": [
    "y_percussive"
   ]
  },
  {
   "cell_type": "code",
   "execution_count": 8,
   "metadata": {},
   "outputs": [
    {
     "data": {
      "text/plain": [
       "array([-1.9322511e-06,  3.5833498e-06,  2.2185450e-06, ...,\n",
       "        0.0000000e+00,  0.0000000e+00,  0.0000000e+00], dtype=float32)"
      ]
     },
     "execution_count": 8,
     "metadata": {},
     "output_type": "execute_result"
    }
   ],
   "source": [
    "y_harmonic"
   ]
  },
  {
   "cell_type": "markdown",
   "metadata": {},
   "source": [
    "### Run the default beat tracker"
   ]
  },
  {
   "cell_type": "code",
   "execution_count": 9,
   "metadata": {},
   "outputs": [],
   "source": [
    "tempo, beat_frames = librosa.beat.beat_track(y=y_percussive, sr=sr)"
   ]
  },
  {
   "cell_type": "code",
   "execution_count": 10,
   "metadata": {},
   "outputs": [
    {
     "name": "stdout",
     "output_type": "stream",
     "text": [
      "Estimated tempo: 107.67 beats per minute\n"
     ]
    }
   ],
   "source": [
    "print(f'Estimated tempo: {tempo:.2f} beats per minute')"
   ]
  },
  {
   "cell_type": "markdown",
   "metadata": {},
   "source": [
    "### Convert the frame indices of beat events into timestamps"
   ]
  },
  {
   "cell_type": "code",
   "execution_count": 11,
   "metadata": {},
   "outputs": [],
   "source": [
    "beat_times = librosa.frames_to_time(beat_frames, sr=sr)"
   ]
  },
  {
   "cell_type": "code",
   "execution_count": 12,
   "metadata": {
    "scrolled": true
   },
   "outputs": [
    {
     "data": {
      "text/plain": [
       "array([  1.18421769,   1.71827664,   2.32199546,   2.87927438,\n",
       "         3.45977324,   4.01705215,   4.59755102,   5.13160998,\n",
       "         5.71210884,   6.26938776,   6.84988662,   7.40716553,\n",
       "         7.9876644 ,   8.52172336,   9.12544218,   9.63628118,\n",
       "        10.19356009,  10.70439909,  11.261678  ,  11.77251701,\n",
       "        12.32979592,  12.86385488,  13.39791383,  13.93197279,\n",
       "        14.46603175,  15.0000907 ,  15.53414966,  16.06820862,\n",
       "        16.62548753,  17.15954649,  17.69360544,  18.2276644 ,\n",
       "        18.7385034 ,  19.29578231,  19.85306122,  20.36390023,\n",
       "        20.89795918,  21.43201814,  21.9660771 ,  22.50013605,\n",
       "        23.05741497,  23.56825397,  24.10231293,  24.63637188,\n",
       "        25.19365079,  25.7044898 ,  26.26176871,  26.81904762,\n",
       "        27.35310658,  27.88716553,  28.44444444,  28.9785034 ,\n",
       "        29.53578231,  30.09306122,  30.65034014,  31.20761905,\n",
       "        31.76489796,  32.32217687,  32.83301587,  33.36707483,\n",
       "        33.90113379,  34.43519274,  34.94603175,  35.45687075,\n",
       "        35.99092971,  36.52498866,  37.03582766,  37.56988662,\n",
       "        38.10394558,  38.63800454,  39.19528345,  39.75256236,\n",
       "        40.28662132,  40.82068027,  41.37795918,  41.9352381 ,\n",
       "        42.46929705,  43.00335601,  43.56063492,  44.11791383,\n",
       "        44.67519274,  45.2092517 ,  45.76653061,  46.30058957,\n",
       "        46.85786848,  47.39192744,  47.92598639,  48.46004535,\n",
       "        48.99410431,  49.50494331,  50.03900227,  50.54984127,\n",
       "        51.08390023,  51.59473923,  52.10557823,  52.61641723,\n",
       "        53.15047619,  53.68453515,  54.2185941 ,  54.72943311,\n",
       "        55.26349206,  55.82077098,  56.35482993,  56.91210884,\n",
       "        57.4461678 ,  58.00344671,  58.53750567,  59.07156463,\n",
       "        59.62884354,  60.18612245,  60.72018141,  61.25424036,\n",
       "        61.78829932,  62.32235828,  62.83319728,  63.34403628,\n",
       "        63.90131519,  64.43537415,  64.94621315,  65.45705215,\n",
       "        65.99111111,  66.50195011,  67.03600907,  67.57006803,\n",
       "        68.10412698,  68.61496599,  69.14902494,  69.6830839 ,\n",
       "        70.21714286,  70.82086168,  71.40136054,  71.98185941,\n",
       "        72.56235828,  73.14285714,  73.70013605,  74.28063492,\n",
       "        74.83791383,  75.37197279,  75.90603175,  76.50975057,\n",
       "        77.02058957,  77.55464853,  78.06548753,  78.59954649,\n",
       "        79.1568254 ,  79.69088435,  80.24816327,  80.80544218,\n",
       "        81.45560091,  82.03609977,  82.66303855,  83.24353741,\n",
       "        83.87047619,  84.45097506,  85.05469388,  85.63519274,\n",
       "        86.23891156,  86.84263039,  87.44634921,  88.02684807,\n",
       "        88.60734694,  89.1878458 ,  89.76834467,  90.32562358,\n",
       "        90.90612245,  91.48662132,  92.06712018,  92.62439909,\n",
       "        93.20489796,  93.76217687,  94.34267574,  94.89995465,\n",
       "        95.45723356,  96.01451247,  96.57179138,  97.12907029,\n",
       "        97.70956916,  98.24362812,  98.80090703,  99.35818594,\n",
       "        99.93868481, 100.47274376, 101.03002268, 101.56408163,\n",
       "       102.1445805 , 102.67863946, 103.25913832, 103.81641723,\n",
       "       104.37369615, 104.93097506, 105.48825397, 106.04553288,\n",
       "       106.57959184, 107.13687075, 107.69414966, 108.25142857,\n",
       "       108.80870748, 109.34276644, 109.92326531, 110.48054422,\n",
       "       111.01460317, 111.57188209, 112.129161  , 112.68643991,\n",
       "       113.24371882, 113.80099773, 114.35827664, 114.91555556,\n",
       "       115.47283447, 116.03011338, 116.58739229])"
      ]
     },
     "execution_count": 12,
     "metadata": {},
     "output_type": "execute_result"
    }
   ],
   "source": [
    "beat_times"
   ]
  },
  {
   "cell_type": "markdown",
   "metadata": {},
   "source": [
    "### Compute MFCC features from the raw signal"
   ]
  },
  {
   "cell_type": "code",
   "execution_count": 13,
   "metadata": {},
   "outputs": [],
   "source": [
    "mfcc = librosa.feature.mfcc(y=y, sr=sr, hop_length=hop_length, n_mfcc=13)"
   ]
  },
  {
   "cell_type": "markdown",
   "metadata": {},
   "source": [
    "### And the first-order differences (delta features)"
   ]
  },
  {
   "cell_type": "code",
   "execution_count": 14,
   "metadata": {},
   "outputs": [],
   "source": [
    "mfcc_delta = librosa.feature.delta(mfcc)"
   ]
  },
  {
   "cell_type": "markdown",
   "metadata": {},
   "source": [
    "### Stack and synchronize between beat events\n",
    "- Use the mean value (default) instead of median"
   ]
  },
  {
   "cell_type": "code",
   "execution_count": 15,
   "metadata": {},
   "outputs": [],
   "source": [
    "beat_mfcc_delta = librosa.util.sync(np.vstack([mfcc, mfcc_delta]),\n",
    "                                    beat_frames)"
   ]
  },
  {
   "cell_type": "markdown",
   "metadata": {},
   "source": [
    "### Compute chroma features from the harmonic signal"
   ]
  },
  {
   "cell_type": "code",
   "execution_count": 16,
   "metadata": {},
   "outputs": [],
   "source": [
    "chromagram = librosa.feature.chroma_cqt(y=y_harmonic,\n",
    "                                        sr=sr)"
   ]
  },
  {
   "cell_type": "markdown",
   "metadata": {},
   "source": [
    "### Aggregate chroma features between beat events\n",
    "- Use the median value of each feature between beat frames"
   ]
  },
  {
   "cell_type": "code",
   "execution_count": 17,
   "metadata": {},
   "outputs": [],
   "source": [
    "beat_chroma = librosa.util.sync(chromagram,\n",
    "                                beat_frames,\n",
    "                                aggregate=np.median)"
   ]
  },
  {
   "cell_type": "markdown",
   "metadata": {},
   "source": [
    "### Stack all beat-synchronous features together\n"
   ]
  },
  {
   "cell_type": "code",
   "execution_count": 18,
   "metadata": {},
   "outputs": [],
   "source": [
    "beat_features = np.vstack([beat_chroma, beat_mfcc_delta])"
   ]
  },
  {
   "cell_type": "code",
   "execution_count": null,
   "metadata": {},
   "outputs": [],
   "source": []
  }
 ],
 "metadata": {
  "kernelspec": {
   "display_name": "testing",
   "language": "python",
   "name": "testing"
  },
  "language_info": {
   "codemirror_mode": {
    "name": "ipython",
    "version": 3
   },
   "file_extension": ".py",
   "mimetype": "text/x-python",
   "name": "python",
   "nbconvert_exporter": "python",
   "pygments_lexer": "ipython3",
   "version": "3.8.5"
  }
 },
 "nbformat": 4,
 "nbformat_minor": 4
}
