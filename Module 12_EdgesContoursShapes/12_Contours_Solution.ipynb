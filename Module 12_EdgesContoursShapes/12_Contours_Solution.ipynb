{
 "cells": [
  {
   "cell_type": "markdown",
   "metadata": {},
   "source": [
    "# CONTOURS IN IMAGES\n",
    "## This notebook outlines the concepts used in Contours in the field of Image Processing"
   ]
  },
  {
   "cell_type": "markdown",
   "metadata": {},
   "source": [
    "## Contours\n",
    "\n",
    "A contour is a **curve of points**, with **no gaps** in the curve\n",
    "\n",
    "To find contours in an image:\n",
    "- Obtain the **binarization** of the image\n",
    "    - edge detection methods\n",
    "    - thresholding methods\n"
   ]
  },
  {
   "cell_type": "markdown",
   "metadata": {},
   "source": [
    "### Steps\n",
    "- Import the necessary libraries\n",
    "- Load the image\n",
    "- Convert the image into Grayscale\n",
    "- Blur the image\n",
    "- Apply edge detection methods\n",
    "    - Use Canny()\n",
    "- Find contours\n",
    "    - Use cv2.findContours()\n",
    "- Draw the contours\n",
    "- Display the drawn contours"
   ]
  },
  {
   "cell_type": "markdown",
   "metadata": {},
   "source": [
    "#### Import the libraries"
   ]
  },
  {
   "cell_type": "code",
   "execution_count": 3,
   "metadata": {},
   "outputs": [],
   "source": [
    "import cv2\n",
    "import numpy as np"
   ]
  },
  {
   "cell_type": "markdown",
   "metadata": {},
   "source": [
    "#### Load the image"
   ]
  },
  {
   "cell_type": "code",
   "execution_count": 26,
   "metadata": {},
   "outputs": [],
   "source": [
    "image = cv2.imread(\"coins.png\")"
   ]
  },
  {
   "cell_type": "markdown",
   "metadata": {},
   "source": [
    "#### Convert the image into Grayscale"
   ]
  },
  {
   "cell_type": "code",
   "execution_count": 27,
   "metadata": {},
   "outputs": [],
   "source": [
    "gray = cv2.cvtColor(image, cv2.COLOR_BGR2GRAY)"
   ]
  },
  {
   "cell_type": "markdown",
   "metadata": {},
   "source": [
    "#### Blur the image"
   ]
  },
  {
   "cell_type": "code",
   "execution_count": 28,
   "metadata": {},
   "outputs": [],
   "source": [
    "blurred = cv2.GaussianBlur(gray, (9, 9), 0)"
   ]
  },
  {
   "cell_type": "markdown",
   "metadata": {},
   "source": [
    "#### Apply Canny Edge Detection"
   ]
  },
  {
   "cell_type": "code",
   "execution_count": 29,
   "metadata": {},
   "outputs": [],
   "source": [
    "edged = cv2.Canny(blurred, 30, 150)"
   ]
  },
  {
   "cell_type": "markdown",
   "metadata": {},
   "source": [
    "#### Display intermediate results"
   ]
  },
  {
   "cell_type": "code",
   "execution_count": 30,
   "metadata": {},
   "outputs": [
    {
     "data": {
      "text/plain": [
       "13"
      ]
     },
     "execution_count": 30,
     "metadata": {},
     "output_type": "execute_result"
    }
   ],
   "source": [
    "cv2.imshow(\"Contour_Interim\", np.hstack([gray, blurred, edged]))\n",
    "cv2.waitKey(0)"
   ]
  },
  {
   "cell_type": "markdown",
   "metadata": {},
   "source": [
    "#### Find Contours"
   ]
  },
  {
   "cell_type": "markdown",
   "metadata": {},
   "source": [
    "**cv2.findContours()**\n",
    "- image (recommeded to send its copy rather the original)\n",
    "- type of contour\n",
    "    - cv2.RETR_EXTERNAL\n",
    "    - cv2.RETR_LIST\n",
    "    - cv2.RETR_COMP\n",
    "    - cv2.RETR_TREE\n",
    "- approximation of contour\n",
    "    - cv2.CHAIN_APPROX_SIMPLE\n",
    "    - cv2.CHAIN_APPROX_NONE\n",
    "- Returns a tuple\n",
    "    - output image after applying contour detection\n",
    "    - cnts list of contours detected\n",
    "    - hierarchy of the contours"
   ]
  },
  {
   "cell_type": "code",
   "execution_count": 31,
   "metadata": {},
   "outputs": [],
   "source": [
    "(cnts, _) = cv2.findContours(edged.copy(), \n",
    "                             cv2.RETR_EXTERNAL, \n",
    "                             cv2 .CHAIN_APPROX_SIMPLE\n",
    ")"
   ]
  },
  {
   "cell_type": "markdown",
   "metadata": {},
   "source": [
    "#### Draw the Contours\n",
    "cv2.drawContours()\n",
    "- image\n",
    "- contours list\n",
    "- contour index\n",
    "    - -1 --> draw all of the contours\n",
    "    - i --> draw single contour\n",
    "- color of the contour line\n",
    "    - Use green color\n",
    "- thickness of the line"
   ]
  },
  {
   "cell_type": "code",
   "execution_count": 32,
   "metadata": {
    "scrolled": true
   },
   "outputs": [
    {
     "data": {
      "text/plain": [
       "array([[[148, 159, 172],\n",
       "        [149, 160, 174],\n",
       "        [150, 162, 175],\n",
       "        ...,\n",
       "        [175, 190, 203],\n",
       "        [173, 188, 202],\n",
       "        [172, 188, 200]],\n",
       "\n",
       "       [[148, 160, 172],\n",
       "        [152, 164, 176],\n",
       "        [151, 162, 175],\n",
       "        ...,\n",
       "        [176, 192, 204],\n",
       "        [174, 189, 203],\n",
       "        [171, 186, 201]],\n",
       "\n",
       "       [[148, 160, 172],\n",
       "        [152, 162, 174],\n",
       "        [150, 162, 174],\n",
       "        ...,\n",
       "        [176, 192, 206],\n",
       "        [174, 190, 203],\n",
       "        [172, 186, 201]],\n",
       "\n",
       "       ...,\n",
       "\n",
       "       [[163, 172, 184],\n",
       "        [162, 171, 181],\n",
       "        [159, 170, 179],\n",
       "        ...,\n",
       "        [189, 202, 212],\n",
       "        [191, 203, 213],\n",
       "        [190, 202, 213]],\n",
       "\n",
       "       [[161, 170, 182],\n",
       "        [160, 169, 180],\n",
       "        [160, 170, 181],\n",
       "        ...,\n",
       "        [191, 203, 215],\n",
       "        [192, 204, 214],\n",
       "        [191, 203, 214]],\n",
       "\n",
       "       [[158, 167, 181],\n",
       "        [161, 170, 183],\n",
       "        [162, 171, 185],\n",
       "        ...,\n",
       "        [190, 202, 214],\n",
       "        [191, 203, 213],\n",
       "        [192, 204, 216]]], dtype=uint8)"
      ]
     },
     "execution_count": 32,
     "metadata": {},
     "output_type": "execute_result"
    }
   ],
   "source": [
    "coins = image.copy()\n",
    "cv2.drawContours(coins, cnts, -1, (0, 255, 0), 2)"
   ]
  },
  {
   "cell_type": "markdown",
   "metadata": {},
   "source": [
    "#### Display the Contours"
   ]
  },
  {
   "cell_type": "code",
   "execution_count": 33,
   "metadata": {},
   "outputs": [
    {
     "data": {
      "text/plain": [
       "13"
      ]
     },
     "execution_count": 33,
     "metadata": {},
     "output_type": "execute_result"
    }
   ],
   "source": [
    "cv2.imshow(\"Coins\", np.hstack([image, coins]))\n",
    "cv2.waitKey(0)"
   ]
  },
  {
   "cell_type": "code",
   "execution_count": 34,
   "metadata": {},
   "outputs": [
    {
     "data": {
      "text/plain": [
       "9"
      ]
     },
     "execution_count": 34,
     "metadata": {},
     "output_type": "execute_result"
    }
   ],
   "source": [
    "len(cnts)"
   ]
  },
  {
   "cell_type": "markdown",
   "metadata": {},
   "source": [
    "## Grab each coin"
   ]
  },
  {
   "cell_type": "code",
   "execution_count": 35,
   "metadata": {},
   "outputs": [
    {
     "name": "stdout",
     "output_type": "stream",
     "text": [
      "Coin #1\n",
      "Coin #2\n",
      "Coin #3\n",
      "Coin #4\n",
      "Coin #5\n",
      "Coin #6\n",
      "Coin #7\n",
      "Coin #8\n",
      "Coin #9\n"
     ]
    }
   ],
   "source": [
    "for (i, c) in enumerate(cnts):\n",
    "    (x, y, w, h) = cv2.boundingRect(c)\n",
    "    print(\"Coin #{}\".format(i + 1))\n",
    "    coin = image[y:y + h, x:x + w]\n",
    "    cv2.imshow(\"Coin\", coin)\n",
    "    \n",
    "    mask = np.zeros(image.shape[:2], dtype = \"uint8\")\n",
    "    ((centerX, centerY), radius) = cv2.minEnclosingCircle(c)\n",
    "    \n",
    "    cv2.circle(mask, (int(centerX), int(centerY)), int(radius), 255, -1)\n",
    "    mask = mask[y:y + h, x:x + w]\n",
    "    cv2.imshow(\"Masked Coin\", cv2.bitwise_and(coin, coin, mask = mask))\n",
    "    cv2.waitKey(0)"
   ]
  },
  {
   "cell_type": "code",
   "execution_count": null,
   "metadata": {},
   "outputs": [],
   "source": []
  },
  {
   "cell_type": "code",
   "execution_count": null,
   "metadata": {},
   "outputs": [],
   "source": []
  },
  {
   "cell_type": "code",
   "execution_count": null,
   "metadata": {},
   "outputs": [],
   "source": []
  },
  {
   "cell_type": "code",
   "execution_count": null,
   "metadata": {},
   "outputs": [],
   "source": []
  },
  {
   "cell_type": "code",
   "execution_count": null,
   "metadata": {},
   "outputs": [],
   "source": []
  },
  {
   "cell_type": "code",
   "execution_count": null,
   "metadata": {},
   "outputs": [],
   "source": []
  },
  {
   "cell_type": "code",
   "execution_count": null,
   "metadata": {},
   "outputs": [],
   "source": []
  },
  {
   "cell_type": "markdown",
   "metadata": {},
   "source": [
    "### Bonus Helper function to use old version codebase"
   ]
  },
  {
   "cell_type": "markdown",
   "metadata": {},
   "source": [
    "### grab_contours( )"
   ]
  },
  {
   "cell_type": "code",
   "execution_count": 2,
   "metadata": {},
   "outputs": [],
   "source": [
    "def grab_contours(cnts): \n",
    "    if len(cnts) == 2: \n",
    "        cnts = cnts[0]\n",
    "    elif len(cnts) == 3:\n",
    "        cnts = cnts[1]\n",
    "    else:\n",
    "        raise Exception((\"Contours tuple must have length 2 or \"\n",
    "                        \"3, otherwise OpenCV changed their cv2.findContours \" \n",
    "                        \"return signature yet again. \"\n",
    "                        \"Refer to OpenCV’s documentation in that case.\"))\n",
    "    return cnts"
   ]
  },
  {
   "cell_type": "code",
   "execution_count": null,
   "metadata": {},
   "outputs": [],
   "source": []
  },
  {
   "cell_type": "code",
   "execution_count": null,
   "metadata": {},
   "outputs": [],
   "source": []
  }
 ],
 "metadata": {
  "kernelspec": {
   "display_name": "testing",
   "language": "python",
   "name": "testing"
  },
  "language_info": {
   "codemirror_mode": {
    "name": "ipython",
    "version": 3
   },
   "file_extension": ".py",
   "mimetype": "text/x-python",
   "name": "python",
   "nbconvert_exporter": "python",
   "pygments_lexer": "ipython3",
   "version": "3.8.5"
  }
 },
 "nbformat": 4,
 "nbformat_minor": 4
}
