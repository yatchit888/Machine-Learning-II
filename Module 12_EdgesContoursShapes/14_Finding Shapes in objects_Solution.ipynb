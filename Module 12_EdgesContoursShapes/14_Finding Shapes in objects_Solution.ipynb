{
 "cells": [
  {
   "cell_type": "markdown",
   "metadata": {},
   "source": [
    "# SHAPES OF OBJECTS\n",
    "## This notebook outlines the concepts used in Shape detection of objects in an image"
   ]
  },
  {
   "cell_type": "markdown",
   "metadata": {},
   "source": [
    "## Shape detection of Objects in Images\n",
    "\n",
    "\n",
    "To find shapes of objects in an image:\n",
    "- Find **contours** of objects\n",
    "- Find **centers** of each object\n",
    "- Recognize **shapes** of each object\n",
    "    - Circle\n",
    "    - Square\n",
    "    - Rectangle\n",
    "    - Triangle\n",
    "    - Pentagon\n",
    "- Label color of a shape"
   ]
  },
  {
   "cell_type": "markdown",
   "metadata": {},
   "source": [
    "### Steps\n",
    "- Import the necessary libraries\n",
    "- Load the image\n",
    "- Convert the image into Grayscale\n",
    "- Blur the image\n",
    "- Apply edge detection methods\n",
    "    - Use Canny()\n",
    "- Find contours\n",
    "    - Use cv2.findContours()\n",
    "- **Find centers of each contour**\n",
    "- Draw the contours\n",
    "- Display the drawn contours"
   ]
  },
  {
   "cell_type": "markdown",
   "metadata": {},
   "source": [
    "#### Import the libraries"
   ]
  },
  {
   "cell_type": "code",
   "execution_count": 1,
   "metadata": {},
   "outputs": [],
   "source": [
    "import cv2\n",
    "import numpy as np"
   ]
  },
  {
   "cell_type": "markdown",
   "metadata": {},
   "source": [
    "#### Load the image\n",
    "![Shapes](https://raw.githubusercontent.com/subashgandyer/datasets/main/images/Shapes.png)"
   ]
  },
  {
   "cell_type": "code",
   "execution_count": 15,
   "metadata": {},
   "outputs": [],
   "source": [
    "image = cv2.imread(\"Shapes.png\")"
   ]
  },
  {
   "cell_type": "markdown",
   "metadata": {},
   "source": [
    "#### Convert the image into Grayscale"
   ]
  },
  {
   "cell_type": "code",
   "execution_count": 16,
   "metadata": {},
   "outputs": [],
   "source": [
    "gray = cv2.cvtColor(image, cv2.COLOR_BGR2GRAY)"
   ]
  },
  {
   "cell_type": "markdown",
   "metadata": {},
   "source": [
    "#### Blur the image"
   ]
  },
  {
   "cell_type": "code",
   "execution_count": 17,
   "metadata": {},
   "outputs": [],
   "source": [
    "blurred = cv2.GaussianBlur(gray, (7, 7), 0)"
   ]
  },
  {
   "cell_type": "markdown",
   "metadata": {},
   "source": [
    "#### Apply Canny Edge Detection"
   ]
  },
  {
   "cell_type": "code",
   "execution_count": 18,
   "metadata": {},
   "outputs": [],
   "source": [
    "edged = cv2.Canny(blurred, 30, 150)"
   ]
  },
  {
   "cell_type": "markdown",
   "metadata": {},
   "source": [
    "#### Display intermediate results"
   ]
  },
  {
   "cell_type": "code",
   "execution_count": 19,
   "metadata": {},
   "outputs": [
    {
     "data": {
      "text/plain": [
       "13"
      ]
     },
     "execution_count": 19,
     "metadata": {},
     "output_type": "execute_result"
    }
   ],
   "source": [
    "cv2.imshow(\"Shapes_Interim\", np.hstack([gray, blurred, edged]))\n",
    "cv2.waitKey(0)"
   ]
  },
  {
   "cell_type": "markdown",
   "metadata": {},
   "source": [
    "#### Find Contours"
   ]
  },
  {
   "cell_type": "markdown",
   "metadata": {},
   "source": [
    "**cv2.findContours()**\n",
    "- image (recommeded to send its copy rather the original)\n",
    "- type of contour\n",
    "    - cv2.RETR_EXTERNAL\n",
    "    - cv2.RETR_LIST\n",
    "    - cv2.RETR_COMP\n",
    "    - cv2.RETR_TREE\n",
    "- approximation of contour\n",
    "    - cv2.CHAIN_APPROX_SIMPLE\n",
    "    - cv2.CHAIN_APPROX_NONE\n",
    "- Returns a tuple\n",
    "    - output image after applying contour detection\n",
    "    - cnts list of contours detected\n",
    "    - hierarchy of the contours"
   ]
  },
  {
   "cell_type": "code",
   "execution_count": 20,
   "metadata": {},
   "outputs": [],
   "source": [
    "(cnts, _) = cv2.findContours(edged.copy(), \n",
    "                             cv2.RETR_EXTERNAL, \n",
    "                             cv2 .CHAIN_APPROX_SIMPLE\n",
    ")"
   ]
  },
  {
   "cell_type": "markdown",
   "metadata": {},
   "source": [
    "#### Compute the center of the contour\n",
    "- cv2.moments()\n",
    "    - m10 / m00 --> cX\n",
    "    - m01 / m00 --> cY"
   ]
  },
  {
   "cell_type": "code",
   "execution_count": 21,
   "metadata": {},
   "outputs": [],
   "source": [
    "M = cv2.moments(cnts[0])\n",
    "cX = int(M[\"m10\"] / M[\"m00\"])\n",
    "cY = int(M[\"m01\"] / M[\"m00\"])"
   ]
  },
  {
   "cell_type": "markdown",
   "metadata": {},
   "source": [
    "#### Draw the Contours\n",
    "cv2.drawContours()\n",
    "- image\n",
    "- contours list\n",
    "- contour index\n",
    "    - -1 --> draw all of the contours\n",
    "    - i --> draw single contour\n",
    "- color of the contour line\n",
    "    - Use green color\n",
    "- thickness of the line\n",
    "\n",
    "cv2.circle()\n",
    "\n",
    "cv2.putText()"
   ]
  },
  {
   "cell_type": "code",
   "execution_count": 9,
   "metadata": {
    "scrolled": true
   },
   "outputs": [
    {
     "data": {
      "text/plain": [
       "array([[[22, 24, 24],\n",
       "        [22, 24, 24],\n",
       "        [22, 24, 24],\n",
       "        ...,\n",
       "        [22, 24, 24],\n",
       "        [22, 24, 24],\n",
       "        [22, 24, 24]],\n",
       "\n",
       "       [[22, 24, 24],\n",
       "        [22, 24, 24],\n",
       "        [22, 24, 24],\n",
       "        ...,\n",
       "        [22, 24, 24],\n",
       "        [22, 24, 24],\n",
       "        [22, 24, 24]],\n",
       "\n",
       "       [[22, 24, 24],\n",
       "        [22, 24, 24],\n",
       "        [22, 24, 24],\n",
       "        ...,\n",
       "        [22, 24, 24],\n",
       "        [22, 24, 24],\n",
       "        [22, 24, 24]],\n",
       "\n",
       "       ...,\n",
       "\n",
       "       [[50, 52, 52],\n",
       "        [48, 50, 50],\n",
       "        [50, 52, 52],\n",
       "        ...,\n",
       "        [41, 41, 41],\n",
       "        [41, 41, 41],\n",
       "        [40, 40, 40]],\n",
       "\n",
       "       [[49, 51, 51],\n",
       "        [48, 50, 50],\n",
       "        [49, 51, 51],\n",
       "        ...,\n",
       "        [41, 41, 41],\n",
       "        [41, 41, 41],\n",
       "        [40, 40, 40]],\n",
       "\n",
       "       [[50, 52, 52],\n",
       "        [48, 50, 50],\n",
       "        [49, 51, 51],\n",
       "        ...,\n",
       "        [41, 41, 41],\n",
       "        [41, 41, 41],\n",
       "        [40, 40, 40]]], dtype=uint8)"
      ]
     },
     "execution_count": 9,
     "metadata": {},
     "output_type": "execute_result"
    }
   ],
   "source": [
    "shapes = image.copy()\n",
    "cv2.drawContours(shapes, [cnts[0]], -1, (0, 255, 0), 2)\n",
    "cv2.circle(shapes, (cX, cY), 7, (255, 255, 255), -1)\n",
    "cv2.putText(shapes, \n",
    "            \"center\", \n",
    "            (cX - 20, cY - 20),\n",
    "            cv2.FONT_HERSHEY_SIMPLEX, \n",
    "            0.5, \n",
    "            (255, 255, 255), \n",
    "            2\n",
    ")"
   ]
  },
  {
   "cell_type": "markdown",
   "metadata": {},
   "source": [
    "#### Display the Contours"
   ]
  },
  {
   "cell_type": "code",
   "execution_count": 10,
   "metadata": {},
   "outputs": [
    {
     "data": {
      "text/plain": [
       "13"
      ]
     },
     "execution_count": 10,
     "metadata": {},
     "output_type": "execute_result"
    }
   ],
   "source": [
    "cv2.imshow(\"Shapes\", np.hstack([image, shapes]))\n",
    "cv2.waitKey(0)"
   ]
  },
  {
   "cell_type": "markdown",
   "metadata": {},
   "source": [
    "### Let's do it for all objects there"
   ]
  },
  {
   "cell_type": "code",
   "execution_count": 11,
   "metadata": {},
   "outputs": [],
   "source": [
    "for c in cnts:\n",
    "    M = cv2.moments(c)\n",
    "    cX = int(M[\"m10\"] / M[\"m00\"])\n",
    "    cY = int(M[\"m01\"] / M[\"m00\"])\n",
    "    \n",
    "    cv2.drawContours(shapes, [c], -1, (0, 255, 0), 2)\n",
    "    cv2.circle(shapes, (cX, cY), 7, (255, 255, 255), -1)\n",
    "    cv2.putText(shapes, \n",
    "                \"center\", \n",
    "                (cX - 20, cY - 20),\n",
    "                cv2.FONT_HERSHEY_SIMPLEX, \n",
    "                0.5, \n",
    "                (255, 255, 255), \n",
    "                2\n",
    "    )\n",
    "    \n",
    "    cv2.imshow(\"Shapes\", np.hstack([image, shapes]))\n",
    "    cv2.waitKey(0)"
   ]
  },
  {
   "cell_type": "markdown",
   "metadata": {},
   "source": [
    "## Shape detection\n",
    "\n",
    "- **Contour Approximation**\n",
    "    - Algorithm for reducing the number of points in a curve with a reduced set of points\n",
    "    - Assumption: A curve can be approximated by a series of **short line segments**\n",
    "- **cv2.approxPolyDP()**\n",
    "    - contour\n",
    "    - 1-15% of contour perimeter\n",
    "- Shape analysis\n",
    "    - If vertices are 3 in the contour\n",
    "        - Traingle\n",
    "    - If vertices are 5 in the contour\n",
    "        - Pentagon\n",
    "    - If vertices are 4 in the contour\n",
    "        - If aspect ratio is between 0.95 to 1.05\n",
    "            - Square\n",
    "        - If aspect ration is skewed\n",
    "            - Rectangle"
   ]
  },
  {
   "cell_type": "code",
   "execution_count": 22,
   "metadata": {},
   "outputs": [],
   "source": [
    "class ShapeDetector:\n",
    "    def __init__(self):\n",
    "        pass\n",
    "    \n",
    "    def detect(self, c):\n",
    "        # initialize the shape name and approximate the contour\n",
    "        shape = \"unidentified\"\n",
    "        peri = cv2.arcLength(c, True)\n",
    "        approx = cv2.approxPolyDP(c, 0.04 * peri, True)\n",
    "        \n",
    "        if len(approx) == 3:\n",
    "            shape = \"triangle\"\n",
    "        elif len(approx) == 4:\n",
    "            # compute the bounding box of the contour & use the bounding box to compute the aspect ratio\n",
    "            (x, y, w, h) = cv2.boundingRect(approx)\n",
    "            ar = w / float(h)\n",
    "            \n",
    "            # a square will have an aspect ratio that is approximately\n",
    "            # equal to one, otherwise, the shape is a rectangle\n",
    "            shape = \"square\" if ar >= 0.95 and ar <= 1.05 else \"rectangle\"\n",
    "            \n",
    "        elif len(approx) == 5:\n",
    "            shape = \"pentagon\"\n",
    "        else:\n",
    "            shape = \"circle\"\n",
    "        \n",
    "        return shape"
   ]
  },
  {
   "cell_type": "code",
   "execution_count": 23,
   "metadata": {},
   "outputs": [],
   "source": [
    "sd = ShapeDetector()"
   ]
  },
  {
   "cell_type": "markdown",
   "metadata": {},
   "source": [
    "### Change this for loop to accommodate the shape as the display text"
   ]
  },
  {
   "cell_type": "code",
   "execution_count": 24,
   "metadata": {},
   "outputs": [],
   "source": [
    "for c in cnts:\n",
    "    M = cv2.moments(c)\n",
    "    cX = int(M[\"m10\"] / M[\"m00\"])\n",
    "    cY = int(M[\"m01\"] / M[\"m00\"])\n",
    "    \n",
    "    shape = sd.detect(c)\n",
    "    \n",
    "    cv2.drawContours(shapes, [c], -1, (0, 255, 0), 2)\n",
    "    cv2.putText(shapes, \n",
    "                shape, \n",
    "                (cX, cY),\n",
    "                cv2.FONT_HERSHEY_SIMPLEX, \n",
    "                0.5, \n",
    "                (255, 255, 255), \n",
    "                2\n",
    "    )\n",
    "    \n",
    "    cv2.imshow(\"Shapes\", np.hstack([image, shapes]))\n",
    "    cv2.waitKey(0)"
   ]
  },
  {
   "cell_type": "code",
   "execution_count": null,
   "metadata": {},
   "outputs": [],
   "source": []
  },
  {
   "cell_type": "code",
   "execution_count": null,
   "metadata": {},
   "outputs": [],
   "source": []
  },
  {
   "cell_type": "code",
   "execution_count": null,
   "metadata": {},
   "outputs": [],
   "source": []
  },
  {
   "cell_type": "code",
   "execution_count": null,
   "metadata": {},
   "outputs": [],
   "source": []
  },
  {
   "cell_type": "code",
   "execution_count": null,
   "metadata": {},
   "outputs": [],
   "source": []
  },
  {
   "cell_type": "code",
   "execution_count": null,
   "metadata": {},
   "outputs": [],
   "source": []
  },
  {
   "cell_type": "code",
   "execution_count": null,
   "metadata": {},
   "outputs": [],
   "source": []
  },
  {
   "cell_type": "code",
   "execution_count": null,
   "metadata": {},
   "outputs": [],
   "source": []
  },
  {
   "cell_type": "code",
   "execution_count": null,
   "metadata": {},
   "outputs": [],
   "source": []
  },
  {
   "cell_type": "markdown",
   "metadata": {},
   "source": [
    "### Bonus Helper function to use old version codebase"
   ]
  },
  {
   "cell_type": "markdown",
   "metadata": {},
   "source": [
    "### grab_contours( )"
   ]
  },
  {
   "cell_type": "code",
   "execution_count": 2,
   "metadata": {},
   "outputs": [],
   "source": [
    "def grab_contours(cnts): \n",
    "    if len(cnts) == 2: \n",
    "        cnts = cnts[0]\n",
    "    elif len(cnts) == 3:\n",
    "        cnts = cnts[1]\n",
    "    else:\n",
    "        raise Exception((\"Contours tuple must have length 2 or \"\n",
    "                        \"3, otherwise OpenCV changed their cv2.findContours \" \n",
    "                        \"return signature yet again. \"\n",
    "                        \"Refer to OpenCV’s documentation in that case.\"))\n",
    "    return cnts"
   ]
  },
  {
   "cell_type": "code",
   "execution_count": null,
   "metadata": {},
   "outputs": [],
   "source": []
  },
  {
   "cell_type": "code",
   "execution_count": null,
   "metadata": {},
   "outputs": [],
   "source": []
  }
 ],
 "metadata": {
  "kernelspec": {
   "display_name": "testing",
   "language": "python",
   "name": "testing"
  },
  "language_info": {
   "codemirror_mode": {
    "name": "ipython",
    "version": 3
   },
   "file_extension": ".py",
   "mimetype": "text/x-python",
   "name": "python",
   "nbconvert_exporter": "python",
   "pygments_lexer": "ipython3",
   "version": "3.8.5"
  }
 },
 "nbformat": 4,
 "nbformat_minor": 4
}
