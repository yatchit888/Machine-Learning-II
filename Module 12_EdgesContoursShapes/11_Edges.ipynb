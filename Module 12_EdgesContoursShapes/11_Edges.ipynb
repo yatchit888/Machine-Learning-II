{
 "cells": [
  {
   "cell_type": "markdown",
   "metadata": {},
   "source": [
    "# EDGES IN IMAGES\n",
    "## This notebook outlines the concepts used in Edge detection in Image Processing"
   ]
  },
  {
   "cell_type": "markdown",
   "metadata": {},
   "source": [
    "#### Edges = Points where brightness of pixel intensities changes drastically\n",
    "\n",
    "The first thing we are going to do is find the **“gradient”** of the grayscale image, allowing us to find edge-like regions in the x and y direction\n"
   ]
  },
  {
   "cell_type": "markdown",
   "metadata": {},
   "source": [
    "## Edge Detection Algorithms\n",
    "- Laplacian\n",
    "- Sobel\n",
    "- Canny"
   ]
  },
  {
   "cell_type": "markdown",
   "metadata": {},
   "source": [
    "## LAPLACIAN"
   ]
  },
  {
   "cell_type": "markdown",
   "metadata": {},
   "source": [
    "### Steps\n",
    "- Import the necessary libraries\n",
    "- Load the image\n",
    "- Convert the image into grayscale\n",
    "- Apply **Laplacian** Method\n",
    "- Display the detected edges"
   ]
  },
  {
   "cell_type": "markdown",
   "metadata": {},
   "source": [
    "#### Import the libraries"
   ]
  },
  {
   "cell_type": "code",
   "execution_count": null,
   "metadata": {},
   "outputs": [],
   "source": []
  },
  {
   "cell_type": "markdown",
   "metadata": {},
   "source": [
    "#### Load the image"
   ]
  },
  {
   "cell_type": "code",
   "execution_count": null,
   "metadata": {},
   "outputs": [],
   "source": []
  },
  {
   "cell_type": "markdown",
   "metadata": {},
   "source": [
    "#### Convert the image into grayscale"
   ]
  },
  {
   "cell_type": "code",
   "execution_count": null,
   "metadata": {},
   "outputs": [],
   "source": []
  },
  {
   "cell_type": "markdown",
   "metadata": {},
   "source": [
    "### Apply Laplacian\n",
    "\n",
    "When computing gradients and edges:\n",
    "- Compute them on a **single channel** (grayscale image)\n",
    "- Can also compute gradients for each channel of the RGB image\n",
    "\n",
    "cv2.Laplacian( )\n",
    "- image\n",
    "- datatype of the output image\n",
    "    - cv2.CV_64F (Floating point)"
   ]
  },
  {
   "cell_type": "markdown",
   "metadata": {},
   "source": [
    "### Why Floating Point suddenly?\n",
    "**Reason**: Transition of black-to-white and white-to-black in the image\n",
    "\n",
    "- Transitioning from black-to-white pixels\n",
    "    - **positive** slope\n",
    "- Transitioning from white-to-black pixels\n",
    "    - **negative** slope. \n",
    "\n",
    "- **8-bit unsigned integer** does not represent negative values\n",
    "- Either it will be clipped to zero\n",
    "\n",
    "If you don’t use a **floating point** data type when computing the gradient magnitude image, you will **miss edges**, specifically the white-to-black transitions\n",
    "\n",
    "To catch all edges:\n",
    "- Use a floating point data type\n",
    "- Take the absolute value of the gradient image\n",
    "- Convert it back to an 8-bit unsigned integer"
   ]
  },
  {
   "cell_type": "code",
   "execution_count": null,
   "metadata": {},
   "outputs": [],
   "source": []
  },
  {
   "cell_type": "code",
   "execution_count": null,
   "metadata": {},
   "outputs": [],
   "source": []
  },
  {
   "cell_type": "code",
   "execution_count": null,
   "metadata": {},
   "outputs": [],
   "source": []
  },
  {
   "cell_type": "markdown",
   "metadata": {},
   "source": [
    "### Laplacian with Gray Image"
   ]
  },
  {
   "cell_type": "code",
   "execution_count": null,
   "metadata": {},
   "outputs": [],
   "source": []
  },
  {
   "cell_type": "code",
   "execution_count": null,
   "metadata": {},
   "outputs": [],
   "source": []
  },
  {
   "cell_type": "code",
   "execution_count": null,
   "metadata": {},
   "outputs": [],
   "source": []
  },
  {
   "cell_type": "markdown",
   "metadata": {},
   "source": [
    "## SOBEL"
   ]
  },
  {
   "cell_type": "markdown",
   "metadata": {},
   "source": [
    "Compute gradient magnitude representations along the x and y axis, allowing us to find both horizontal and vertical edge-like regions"
   ]
  },
  {
   "cell_type": "markdown",
   "metadata": {},
   "source": [
    "### Steps\n",
    "- Import the necessary libraries\n",
    "- Load the image\n",
    "- Convert the image into grayscale\n",
    "- Apply **Sobel** Operator\n",
    "- Display the detected edges"
   ]
  },
  {
   "cell_type": "markdown",
   "metadata": {},
   "source": [
    "### Apply SOBEL Operator"
   ]
  },
  {
   "cell_type": "markdown",
   "metadata": {},
   "source": [
    "**cv2.Sobel( )**\n",
    "- image\n",
    "- floating point data type\n",
    "- order of the derivatives in the **x** direction\n",
    "    - Specify a value of 1 and 0 to find **vertical** edge-like regions\n",
    "- Order of the derivatives in the **y** direction\n",
    "    - 0 and 1 to find **horizontal** edge-like regions"
   ]
  },
  {
   "cell_type": "markdown",
   "metadata": {},
   "source": [
    "#### Find gradients in x-direction and y-direction"
   ]
  },
  {
   "cell_type": "code",
   "execution_count": null,
   "metadata": {},
   "outputs": [],
   "source": []
  },
  {
   "cell_type": "markdown",
   "metadata": {},
   "source": [
    "#### Take absolute value and convert it into unsigned 8-bit integer"
   ]
  },
  {
   "cell_type": "code",
   "execution_count": null,
   "metadata": {},
   "outputs": [],
   "source": []
  },
  {
   "cell_type": "markdown",
   "metadata": {},
   "source": [
    "#### Combine the x and y gradients using bitwise_or"
   ]
  },
  {
   "cell_type": "code",
   "execution_count": null,
   "metadata": {},
   "outputs": [],
   "source": []
  },
  {
   "cell_type": "markdown",
   "metadata": {},
   "source": [
    "#### Display the image"
   ]
  },
  {
   "cell_type": "code",
   "execution_count": null,
   "metadata": {},
   "outputs": [],
   "source": []
  },
  {
   "cell_type": "markdown",
   "metadata": {},
   "source": [
    "#### Insights?"
   ]
  },
  {
   "cell_type": "code",
   "execution_count": null,
   "metadata": {},
   "outputs": [],
   "source": []
  },
  {
   "cell_type": "markdown",
   "metadata": {},
   "source": [
    "## CANNY"
   ]
  },
  {
   "cell_type": "markdown",
   "metadata": {},
   "source": [
    "The Canny edge detector is a multi-step process\n",
    "- **Blur** the image to remove noise\n",
    "- Compute **Sobel** gradient images in the x and y direction\n",
    "- Suppress edges\n",
    "- Hysteresis **thresholding** stage that determines if a pixel is **“edge-like”** or not."
   ]
  },
  {
   "cell_type": "markdown",
   "metadata": {},
   "source": [
    "#### Load the image"
   ]
  },
  {
   "cell_type": "code",
   "execution_count": null,
   "metadata": {},
   "outputs": [],
   "source": []
  },
  {
   "cell_type": "markdown",
   "metadata": {},
   "source": [
    "#### Convert the image into Grayscale"
   ]
  },
  {
   "cell_type": "code",
   "execution_count": null,
   "metadata": {},
   "outputs": [],
   "source": []
  },
  {
   "cell_type": "markdown",
   "metadata": {},
   "source": [
    "#### Blur the image"
   ]
  },
  {
   "cell_type": "code",
   "execution_count": null,
   "metadata": {},
   "outputs": [],
   "source": []
  },
  {
   "cell_type": "markdown",
   "metadata": {},
   "source": [
    "#### Apply Canny Operator\n",
    "Use **cv2.Canny( )**\n",
    "- image\n",
    "- non-edge threshold\n",
    "    - If a pixel intensity is below non-edge threshold, it is non-edge\n",
    "- edge threshold\n",
    "    - If a pixel intensity is above edge threshold, it is edge\n",
    "    - If a pixel intensity is between edge and non-edge threshold, it is classified based on how their intensities are **\"connected\"**"
   ]
  },
  {
   "cell_type": "code",
   "execution_count": null,
   "metadata": {},
   "outputs": [],
   "source": []
  },
  {
   "cell_type": "markdown",
   "metadata": {},
   "source": [
    "#### Display the edges"
   ]
  },
  {
   "cell_type": "code",
   "execution_count": null,
   "metadata": {},
   "outputs": [],
   "source": []
  },
  {
   "cell_type": "markdown",
   "metadata": {},
   "source": [
    "#### Drawbacks ?"
   ]
  },
  {
   "cell_type": "code",
   "execution_count": null,
   "metadata": {},
   "outputs": [],
   "source": []
  },
  {
   "cell_type": "code",
   "execution_count": null,
   "metadata": {},
   "outputs": [],
   "source": []
  }
 ],
 "metadata": {
  "kernelspec": {
   "display_name": "testing",
   "language": "python",
   "name": "testing"
  },
  "language_info": {
   "codemirror_mode": {
    "name": "ipython",
    "version": 3
   },
   "file_extension": ".py",
   "mimetype": "text/x-python",
   "name": "python",
   "nbconvert_exporter": "python",
   "pygments_lexer": "ipython3",
   "version": "3.8.5"
  }
 },
 "nbformat": 4,
 "nbformat_minor": 4
}
