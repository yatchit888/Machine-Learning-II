{
 "cells": [
  {
   "cell_type": "markdown",
   "metadata": {},
   "source": [
    "# News Modeling\n",
    "\n",
    "Topic modeling involves **extracting features from document terms** and using\n",
    "mathematical structures and frameworks like matrix factorization and SVD to generate **clusters or groups of terms** that are distinguishable from each other and these clusters of words form topics or concepts\n",
    "\n",
    "Topic modeling is a method for **unsupervised classification** of documents, similar to clustering on numeric data\n",
    "\n",
    "These concepts can be used to interpret the main **themes** of a corpus and also make **semantic connections among words that co-occur together** frequently in various documents\n",
    "\n",
    "Topic modeling can help in the following areas:\n",
    "- discovering the **hidden themes** in the collection\n",
    "- **classifying** the documents into the discovered themes\n",
    "- using the classification to **organize/summarize/search** the documents\n",
    "\n",
    "Frameworks and algorithms to build topic models:\n",
    "- Latent semantic indexing\n",
    "- Latent Dirichlet allocation\n",
    "- Non-negative matrix factorization"
   ]
  },
  {
   "cell_type": "markdown",
   "metadata": {},
   "source": [
    "## Latent Dirichlet Allocation (LDA)\n",
    "The latent Dirichlet allocation (LDA) technique is a **generative probabilistic model** where each **document is assumed to have a combination of topics** similar to a probabilistic latent semantic indexing model\n",
    "\n",
    "In simple words, the idea behind LDA is that of two folds:\n",
    "- each **document** can be described by a **distribution of topics**\n",
    "- each **topic** can be described by a **distribution of words**"
   ]
  },
  {
   "cell_type": "markdown",
   "metadata": {},
   "source": [
    "### LDA Algorithm\n",
    "\n",
    "- 1. For each document, **randomly initialize each word to one of the K topics** (k is chosen beforehand)\n",
    "- 2. For each document D, go through each word w and compute:\n",
    "    - **P(T |D)** , which is a proportion of words in D assigned to topic T\n",
    "    - **P(W |T )** , which is a proportion of assignments to topic T over all documents having the word W\n",
    "- **Reassign word W with topic T** with probability P(T |D)´ P(W |T ) considering all other words and their topic assignments\n",
    "\n",
    "![LDA](https://raw.githubusercontent.com/subashgandyer/datasets/main/images/LDA.png)"
   ]
  },
  {
   "cell_type": "markdown",
   "metadata": {},
   "source": [
    "### Steps\n",
    "- Install the necessary library\n",
    "- Import the necessary libraries\n",
    "- Download the dataset\n",
    "- Load the dataset\n",
    "- Pre-process the dataset\n",
    "    - Stop words removal\n",
    "    - Email removal\n",
    "    - Non-alphabetic words removal\n",
    "    - Tokenize\n",
    "    - Lowercase\n",
    "    - BiGrams & TriGrams\n",
    "    - Lemmatization\n",
    "- Create a dictionary for the document\n",
    "- Filter low frequency words\n",
    "- Create an Index to word dictionary\n",
    "- Train the Topic Model\n",
    "- Predict on the dataset\n",
    "- Evaluate the Topic Model\n",
    "    - Model Perplexity\n",
    "    - Topic Coherence\n",
    "- Visualize the topics"
   ]
  },
  {
   "cell_type": "markdown",
   "metadata": {},
   "source": [
    "### Install the necessary library"
   ]
  },
  {
   "cell_type": "code",
   "execution_count": 1,
   "metadata": {},
   "outputs": [],
   "source": [
    "#! pip install pyLDAvis gensim spacy"
   ]
  },
  {
   "cell_type": "markdown",
   "metadata": {},
   "source": [
    "### Import the libraries"
   ]
  },
  {
   "cell_type": "code",
   "execution_count": 6,
   "metadata": {},
   "outputs": [],
   "source": [
    "from nltk.tokenize import word_tokenize\n",
    "from nltk.corpus import stopwords\n",
    "from gensim.models import LdaModel\n",
    "from gensim.corpora import Dictionary\n",
    "from pprint import pprint\n",
    "import pandas as pd\n",
    "import json\n",
    "from nltk.tokenize import RegexpTokenizer\n",
    "from nltk.stem.wordnet import WordNetLemmatizer\n",
    "from gensim import corpora, models\n",
    "import gensim\n",
    "import spacy\n",
    "import pyLDAvis.gensim"
   ]
  },
  {
   "cell_type": "markdown",
   "metadata": {},
   "source": [
    "### Download the dataset\n",
    "Dataset: https://raw.githubusercontent.com/subashgandyer/datasets/main/newsgroups.json\n",
    "\n",
    "#### 20-Newsgroups dataset\n",
    "- 11K newsgroups posts\n",
    "- 20 news topics"
   ]
  },
  {
   "cell_type": "code",
   "execution_count": 4,
   "metadata": {},
   "outputs": [
    {
     "name": "stderr",
     "output_type": "stream",
     "text": [
      "'wegt' is not recognized as an internal or external command,\n",
      "operable program or batch file.\n"
     ]
    }
   ],
   "source": []
  },
  {
   "cell_type": "markdown",
   "metadata": {},
   "source": [
    "### Load the dataset"
   ]
  },
  {
   "cell_type": "code",
   "execution_count": 7,
   "metadata": {},
   "outputs": [
    {
     "name": "stdout",
     "output_type": "stream",
     "text": [
      "                                             content  target  \\\n",
      "0  From: lerxst@wam.umd.edu (where's my thing)\\nS...       7   \n",
      "1  From: guykuo@carson.u.washington.edu (Guy Kuo)...       4   \n",
      "2  From: twillis@ec.ecn.purdue.edu (Thomas E Will...       4   \n",
      "3  From: jgreen@amber (Joe Green)\\nSubject: Re: W...       1   \n",
      "4  From: jcm@head-cfa.harvard.edu (Jonathan McDow...      14   \n",
      "\n",
      "            target_names  \n",
      "0              rec.autos  \n",
      "1  comp.sys.mac.hardware  \n",
      "2  comp.sys.mac.hardware  \n",
      "3          comp.graphics  \n",
      "4              sci.space  \n"
     ]
    }
   ],
   "source": [
    "# Load the dataset from the provided URL\n",
    "url = \"https://raw.githubusercontent.com/subashgandyer/datasets/main/newsgroups.json\"\n",
    "\n",
    "# Load JSON data into a DataFrame\n",
    "df = pd.read_json(url)\n",
    "\n",
    "# Display the first few rows of the dataset to check if it loaded correctly\n",
    "print(df.head())"
   ]
  },
  {
   "cell_type": "markdown",
   "metadata": {},
   "source": [
    "### Preprocess the data"
   ]
  },
  {
   "cell_type": "markdown",
   "metadata": {},
   "source": [
    "### Email Removal"
   ]
  },
  {
   "cell_type": "code",
   "execution_count": 8,
   "metadata": {},
   "outputs": [],
   "source": [
    "df['content'] = df['content'].str.replace(r'\\S*@\\S*\\s?', '', regex=True)"
   ]
  },
  {
   "cell_type": "markdown",
   "metadata": {},
   "source": [
    "### Newline Removal"
   ]
  },
  {
   "cell_type": "code",
   "execution_count": 9,
   "metadata": {},
   "outputs": [],
   "source": [
    "df['content'] = df['content'].str.replace(r'\\s+', ' ', regex=True)"
   ]
  },
  {
   "cell_type": "markdown",
   "metadata": {},
   "source": [
    "### Single Quotes Removal"
   ]
  },
  {
   "cell_type": "code",
   "execution_count": 33,
   "metadata": {},
   "outputs": [],
   "source": [
    "df['content'] = df['content'].str.replace(r\"\\'\", '', regex=True)"
   ]
  },
  {
   "cell_type": "markdown",
   "metadata": {},
   "source": [
    "### Tokenize\n",
    "- Create **sent_to_words()** \n",
    "    - Use **gensim.utils.simple_preprocess**\n",
    "    - Use **generator** instead of an usual function"
   ]
  },
  {
   "cell_type": "code",
   "execution_count": 40,
   "metadata": {},
   "outputs": [],
   "source": [
    "def sent_to_words(sentences):\n",
    "    for sentence in sentences:\n",
    "        yield(gensim.utils.simple_preprocess(str(sentence), deacc=True, min_len=1))"
   ]
  },
  {
   "cell_type": "code",
   "execution_count": 78,
   "metadata": {},
   "outputs": [],
   "source": [
    "data_words = list(sent_to_words(df['content']))"
   ]
  },
  {
   "cell_type": "markdown",
   "metadata": {},
   "source": [
    "### Stop words Removal\n",
    "- Extend the stop words corpus with the following words\n",
    "    - from\n",
    "    - subject\n",
    "    - re\n",
    "    - edu\n",
    "    - use"
   ]
  },
  {
   "cell_type": "code",
   "execution_count": 42,
   "metadata": {},
   "outputs": [],
   "source": [
    "from gensim.parsing.preprocessing import STOPWORDS\n",
    "additional_stopwords = set(['from', 'subject', 're', 'edu', 'use'])\n",
    "stop_words = STOPWORDS.union(additional_stopwords)"
   ]
  },
  {
   "cell_type": "markdown",
   "metadata": {},
   "source": [
    "#### remove_stopwords( )"
   ]
  },
  {
   "cell_type": "code",
   "execution_count": 43,
   "metadata": {},
   "outputs": [],
   "source": [
    "def remove_stopwords(texts):\n",
    "    return [[word for word in doc if word not in stop_words] for doc in texts]"
   ]
  },
  {
   "cell_type": "code",
   "execution_count": 44,
   "metadata": {},
   "outputs": [],
   "source": [
    "data_words_nostops = remove_stopwords(data_words)"
   ]
  },
  {
   "cell_type": "markdown",
   "metadata": {},
   "source": [
    "### Bigrams\n",
    "- Use **gensim.models.Phrases**\n",
    "- 100 as threshold"
   ]
  },
  {
   "cell_type": "code",
   "execution_count": 47,
   "metadata": {},
   "outputs": [],
   "source": [
    "from gensim.models import Phrases"
   ]
  },
  {
   "cell_type": "code",
   "execution_count": 17,
   "metadata": {},
   "outputs": [
    {
     "name": "stdout",
     "output_type": "stream",
     "text": [
      "['from', 'wheres', 'my', 'thing', 'subject', 'what', 'car', 'is', 'this', 'nntp_posting_host', 'rac_wam_umd_edu', 'organization', 'university', 'of', 'maryland_college_park', 'lines', 'was', 'wondering', 'if', 'anyone', 'out', 'there', 'could', 'enlighten', 'me', 'on', 'this', 'car', 'saw', 'the', 'other', 'day', 'it', 'was', 'door', 'sports', 'car', 'looked', 'to', 'be', 'from', 'the', 'late', 'early', 'it', 'was', 'called', 'bricklin', 'the', 'doors', 'were', 'really', 'small', 'in', 'addition', 'the', 'front_bumper', 'was', 'separate', 'from', 'the', 'rest', 'of', 'the', 'body', 'this', 'is', 'all', 'know', 'if', 'anyone', 'can', 'tellme', 'model', 'name', 'engine', 'specs', 'years', 'of', 'production', 'where', 'this', 'car', 'is', 'made', 'history', 'or', 'whatever', 'info', 'you', 'have', 'on', 'this', 'funky', 'looking', 'car', 'please', 'mail', 'thanks', 'il', 'brought', 'to', 'you', 'by', 'your', 'neighborhood', 'lerxst']\n"
     ]
    },
    {
     "name": "stderr",
     "output_type": "stream",
     "text": [
      "/Users/subashgandyer/.local/lib/python3.8/site-packages/ipykernel/ipkernel.py:283: DeprecationWarning: `should_run_async` will not call `transform_cell` automatically in the future. Please pass the result to `transformed_cell` argument and any exception that happen during thetransform in `preprocessing_exc_tuple` in IPython 7.17 and above.\n",
      "  and should_run_async(code)\n"
     ]
    }
   ],
   "source": []
  },
  {
   "cell_type": "markdown",
   "metadata": {},
   "source": [
    "#### make_bigrams( )"
   ]
  },
  {
   "cell_type": "code",
   "execution_count": 48,
   "metadata": {},
   "outputs": [],
   "source": [
    "def make_bigrams(texts):\n",
    "    bigram = Phrases(texts, min_count=1, threshold=100)\n",
    "    return [bigram[line] for line in texts]"
   ]
  },
  {
   "cell_type": "code",
   "execution_count": 50,
   "metadata": {},
   "outputs": [],
   "source": [
    "data_words_bigrams = make_bigrams(data_words_nostops)"
   ]
  },
  {
   "cell_type": "markdown",
   "metadata": {},
   "source": [
    "### Lemmatization\n",
    "- Use spacy\n",
    "    - Download spacy en model (if you have not done that before)\n",
    "    - Load the spacy model"
   ]
  },
  {
   "cell_type": "code",
   "execution_count": 51,
   "metadata": {},
   "outputs": [
    {
     "name": "stdout",
     "output_type": "stream",
     "text": [
      "\u001b[38;5;3m⚠ As of spaCy v3.0, shortcuts like 'en' are deprecated. Please use the\n",
      "full pipeline package name 'en_core_web_sm' instead.\u001b[0m\n",
      "Collecting en-core-web-sm==3.7.0\n",
      "  Downloading https://github.com/explosion/spacy-models/releases/download/en_core_web_sm-3.7.0/en_core_web_sm-3.7.0-py3-none-any.whl (12.8 MB)\n",
      "     ---------------------------------------- 0.0/12.8 MB ? eta -:--:--\n",
      "     - -------------------------------------- 0.4/12.8 MB 8.7 MB/s eta 0:00:02\n",
      "     -- ------------------------------------- 0.7/12.8 MB 9.3 MB/s eta 0:00:02\n",
      "     --- ------------------------------------ 1.1/12.8 MB 10.4 MB/s eta 0:00:02\n",
      "     ----- ---------------------------------- 1.7/12.8 MB 10.8 MB/s eta 0:00:02\n",
      "     ------- -------------------------------- 2.3/12.8 MB 11.2 MB/s eta 0:00:01\n",
      "     --------- ------------------------------ 3.0/12.8 MB 11.9 MB/s eta 0:00:01\n",
      "     ----------- ---------------------------- 3.5/12.8 MB 11.9 MB/s eta 0:00:01\n",
      "     ----------- ---------------------------- 3.8/12.8 MB 11.5 MB/s eta 0:00:01\n",
      "     ------------ --------------------------- 4.1/12.8 MB 11.0 MB/s eta 0:00:01\n",
      "     ------------- -------------------------- 4.4/12.8 MB 11.3 MB/s eta 0:00:01\n",
      "     --------------- ------------------------ 4.9/12.8 MB 10.5 MB/s eta 0:00:01\n",
      "     ----------------- ---------------------- 5.6/12.8 MB 10.9 MB/s eta 0:00:01\n",
      "     ------------------- -------------------- 6.2/12.8 MB 11.0 MB/s eta 0:00:01\n",
      "     ------------------- -------------------- 6.4/12.8 MB 11.0 MB/s eta 0:00:01\n",
      "     --------------------- ------------------ 6.7/12.8 MB 10.2 MB/s eta 0:00:01\n",
      "     ---------------------- ----------------- 7.3/12.8 MB 10.4 MB/s eta 0:00:01\n",
      "     ------------------------ --------------- 7.9/12.8 MB 10.5 MB/s eta 0:00:01\n",
      "     -------------------------- ------------- 8.6/12.8 MB 11.0 MB/s eta 0:00:01\n",
      "     ---------------------------- ----------- 9.2/12.8 MB 10.9 MB/s eta 0:00:01\n",
      "     ------------------------------ -------- 10.0/12.8 MB 11.2 MB/s eta 0:00:01\n",
      "     --------------------------------- ----- 10.9/12.8 MB 11.5 MB/s eta 0:00:01\n",
      "     ---------------------------------- ---- 11.4/12.8 MB 11.7 MB/s eta 0:00:01\n",
      "     ------------------------------------ -- 12.1/12.8 MB 11.5 MB/s eta 0:00:01\n",
      "     --------------------------------------  12.7/12.8 MB 11.7 MB/s eta 0:00:01\n",
      "     --------------------------------------- 12.8/12.8 MB 10.9 MB/s eta 0:00:00\n",
      "Requirement already satisfied: spacy<3.8.0,>=3.7.0 in c:\\users\\yatch\\poetry-demo\\.venv\\lib\\site-packages (from en-core-web-sm==3.7.0) (3.7.2)\n",
      "Requirement already satisfied: spacy-legacy<3.1.0,>=3.0.11 in c:\\users\\yatch\\poetry-demo\\.venv\\lib\\site-packages (from spacy<3.8.0,>=3.7.0->en-core-web-sm==3.7.0) (3.0.12)\n",
      "Requirement already satisfied: spacy-loggers<2.0.0,>=1.0.0 in c:\\users\\yatch\\poetry-demo\\.venv\\lib\\site-packages (from spacy<3.8.0,>=3.7.0->en-core-web-sm==3.7.0) (1.0.5)\n",
      "Requirement already satisfied: murmurhash<1.1.0,>=0.28.0 in c:\\users\\yatch\\poetry-demo\\.venv\\lib\\site-packages (from spacy<3.8.0,>=3.7.0->en-core-web-sm==3.7.0) (1.0.10)\n",
      "Requirement already satisfied: cymem<2.1.0,>=2.0.2 in c:\\users\\yatch\\poetry-demo\\.venv\\lib\\site-packages (from spacy<3.8.0,>=3.7.0->en-core-web-sm==3.7.0) (2.0.8)\n",
      "Requirement already satisfied: preshed<3.1.0,>=3.0.2 in c:\\users\\yatch\\poetry-demo\\.venv\\lib\\site-packages (from spacy<3.8.0,>=3.7.0->en-core-web-sm==3.7.0) (3.0.9)\n",
      "Requirement already satisfied: thinc<8.3.0,>=8.1.8 in c:\\users\\yatch\\poetry-demo\\.venv\\lib\\site-packages (from spacy<3.8.0,>=3.7.0->en-core-web-sm==3.7.0) (8.2.1)\n",
      "Requirement already satisfied: wasabi<1.2.0,>=0.9.1 in c:\\users\\yatch\\poetry-demo\\.venv\\lib\\site-packages (from spacy<3.8.0,>=3.7.0->en-core-web-sm==3.7.0) (1.1.2)\n",
      "Requirement already satisfied: srsly<3.0.0,>=2.4.3 in c:\\users\\yatch\\poetry-demo\\.venv\\lib\\site-packages (from spacy<3.8.0,>=3.7.0->en-core-web-sm==3.7.0) (2.4.8)\n",
      "Requirement already satisfied: catalogue<2.1.0,>=2.0.6 in c:\\users\\yatch\\poetry-demo\\.venv\\lib\\site-packages (from spacy<3.8.0,>=3.7.0->en-core-web-sm==3.7.0) (2.0.10)\n",
      "Requirement already satisfied: weasel<0.4.0,>=0.1.0 in c:\\users\\yatch\\poetry-demo\\.venv\\lib\\site-packages (from spacy<3.8.0,>=3.7.0->en-core-web-sm==3.7.0) (0.3.4)\n",
      "Requirement already satisfied: typer<0.10.0,>=0.3.0 in c:\\users\\yatch\\poetry-demo\\.venv\\lib\\site-packages (from spacy<3.8.0,>=3.7.0->en-core-web-sm==3.7.0) (0.9.0)\n",
      "Requirement already satisfied: smart-open<7.0.0,>=5.2.1 in c:\\users\\yatch\\poetry-demo\\.venv\\lib\\site-packages (from spacy<3.8.0,>=3.7.0->en-core-web-sm==3.7.0) (6.4.0)\n",
      "Requirement already satisfied: tqdm<5.0.0,>=4.38.0 in c:\\users\\yatch\\poetry-demo\\.venv\\lib\\site-packages (from spacy<3.8.0,>=3.7.0->en-core-web-sm==3.7.0) (4.66.1)\n",
      "Requirement already satisfied: requests<3.0.0,>=2.13.0 in c:\\users\\yatch\\poetry-demo\\.venv\\lib\\site-packages (from spacy<3.8.0,>=3.7.0->en-core-web-sm==3.7.0) (2.31.0)\n",
      "Requirement already satisfied: pydantic!=1.8,!=1.8.1,<3.0.0,>=1.7.4 in c:\\users\\yatch\\poetry-demo\\.venv\\lib\\site-packages (from spacy<3.8.0,>=3.7.0->en-core-web-sm==3.7.0) (2.4.2)\n",
      "Requirement already satisfied: jinja2 in c:\\users\\yatch\\poetry-demo\\.venv\\lib\\site-packages (from spacy<3.8.0,>=3.7.0->en-core-web-sm==3.7.0) (3.1.2)\n",
      "Requirement already satisfied: setuptools in c:\\users\\yatch\\poetry-demo\\.venv\\lib\\site-packages (from spacy<3.8.0,>=3.7.0->en-core-web-sm==3.7.0) (68.2.2)\n",
      "Requirement already satisfied: packaging>=20.0 in c:\\users\\yatch\\poetry-demo\\.venv\\lib\\site-packages (from spacy<3.8.0,>=3.7.0->en-core-web-sm==3.7.0) (23.1)\n",
      "Requirement already satisfied: langcodes<4.0.0,>=3.2.0 in c:\\users\\yatch\\poetry-demo\\.venv\\lib\\site-packages (from spacy<3.8.0,>=3.7.0->en-core-web-sm==3.7.0) (3.3.0)\n",
      "Requirement already satisfied: numpy>=1.19.0 in c:\\users\\yatch\\poetry-demo\\.venv\\lib\\site-packages (from spacy<3.8.0,>=3.7.0->en-core-web-sm==3.7.0) (1.25.2)\n",
      "Requirement already satisfied: annotated-types>=0.4.0 in c:\\users\\yatch\\poetry-demo\\.venv\\lib\\site-packages (from pydantic!=1.8,!=1.8.1,<3.0.0,>=1.7.4->spacy<3.8.0,>=3.7.0->en-core-web-sm==3.7.0) (0.6.0)\n",
      "Requirement already satisfied: pydantic-core==2.10.1 in c:\\users\\yatch\\poetry-demo\\.venv\\lib\\site-packages (from pydantic!=1.8,!=1.8.1,<3.0.0,>=1.7.4->spacy<3.8.0,>=3.7.0->en-core-web-sm==3.7.0) (2.10.1)\n",
      "Requirement already satisfied: typing-extensions>=4.6.1 in c:\\users\\yatch\\poetry-demo\\.venv\\lib\\site-packages (from pydantic!=1.8,!=1.8.1,<3.0.0,>=1.7.4->spacy<3.8.0,>=3.7.0->en-core-web-sm==3.7.0) (4.7.1)\n",
      "Requirement already satisfied: charset-normalizer<4,>=2 in c:\\users\\yatch\\poetry-demo\\.venv\\lib\\site-packages (from requests<3.0.0,>=2.13.0->spacy<3.8.0,>=3.7.0->en-core-web-sm==3.7.0) (3.2.0)\n",
      "Requirement already satisfied: idna<4,>=2.5 in c:\\users\\yatch\\poetry-demo\\.venv\\lib\\site-packages (from requests<3.0.0,>=2.13.0->spacy<3.8.0,>=3.7.0->en-core-web-sm==3.7.0) (3.4)\n",
      "Requirement already satisfied: urllib3<3,>=1.21.1 in c:\\users\\yatch\\poetry-demo\\.venv\\lib\\site-packages (from requests<3.0.0,>=2.13.0->spacy<3.8.0,>=3.7.0->en-core-web-sm==3.7.0) (2.0.5)\n",
      "Requirement already satisfied: certifi>=2017.4.17 in c:\\users\\yatch\\poetry-demo\\.venv\\lib\\site-packages (from requests<3.0.0,>=2.13.0->spacy<3.8.0,>=3.7.0->en-core-web-sm==3.7.0) (2023.7.22)\n",
      "Requirement already satisfied: blis<0.8.0,>=0.7.8 in c:\\users\\yatch\\poetry-demo\\.venv\\lib\\site-packages (from thinc<8.3.0,>=8.1.8->spacy<3.8.0,>=3.7.0->en-core-web-sm==3.7.0) (0.7.11)\n",
      "Requirement already satisfied: confection<1.0.0,>=0.0.1 in c:\\users\\yatch\\poetry-demo\\.venv\\lib\\site-packages (from thinc<8.3.0,>=8.1.8->spacy<3.8.0,>=3.7.0->en-core-web-sm==3.7.0) (0.1.3)\n",
      "Requirement already satisfied: colorama in c:\\users\\yatch\\poetry-demo\\.venv\\lib\\site-packages (from tqdm<5.0.0,>=4.38.0->spacy<3.8.0,>=3.7.0->en-core-web-sm==3.7.0) (0.4.6)\n",
      "Requirement already satisfied: click<9.0.0,>=7.1.1 in c:\\users\\yatch\\poetry-demo\\.venv\\lib\\site-packages (from typer<0.10.0,>=0.3.0->spacy<3.8.0,>=3.7.0->en-core-web-sm==3.7.0) (8.1.7)\n",
      "Requirement already satisfied: cloudpathlib<0.17.0,>=0.7.0 in c:\\users\\yatch\\poetry-demo\\.venv\\lib\\site-packages (from weasel<0.4.0,>=0.1.0->spacy<3.8.0,>=3.7.0->en-core-web-sm==3.7.0) (0.16.0)\n",
      "Requirement already satisfied: MarkupSafe>=2.0 in c:\\users\\yatch\\poetry-demo\\.venv\\lib\\site-packages (from jinja2->spacy<3.8.0,>=3.7.0->en-core-web-sm==3.7.0) (2.1.3)\n",
      "Installing collected packages: en-core-web-sm\n",
      "Successfully installed en-core-web-sm-3.7.0\n",
      "\u001b[38;5;2m✔ Download and installation successful\u001b[0m\n",
      "You can now load the package via spacy.load('en_core_web_sm')\n"
     ]
    },
    {
     "name": "stderr",
     "output_type": "stream",
     "text": [
      "\n",
      "[notice] A new release of pip is available: 23.2.1 -> 23.3.1\n",
      "[notice] To update, run: python.exe -m pip install --upgrade pip\n"
     ]
    }
   ],
   "source": [
    "! python -m spacy download en"
   ]
  },
  {
   "cell_type": "code",
   "execution_count": 54,
   "metadata": {},
   "outputs": [],
   "source": [
    "nlp = spacy.load(\"en_core_web_sm\")"
   ]
  },
  {
   "cell_type": "markdown",
   "metadata": {},
   "source": [
    "#### lemmatizaton( )"
   ]
  },
  {
   "cell_type": "code",
   "execution_count": 55,
   "metadata": {},
   "outputs": [],
   "source": [
    "def lemmatization(texts, allowed_postags=['NOUN', 'ADJ', 'VERB', 'ADV']):\n",
    "    \"\"\"https://spacy.io/api/annotation\"\"\"\n",
    "    texts_out = []\n",
    "    for sent in texts:\n",
    "        doc = nlp(\" \".join(sent)) \n",
    "        texts_out.append([token.lemma_ for token in doc if token.pos_ in allowed_postags])\n",
    "    return texts_out"
   ]
  },
  {
   "cell_type": "code",
   "execution_count": 56,
   "metadata": {},
   "outputs": [],
   "source": [
    "data_lemmatized = lemmatization(data_words_bigrams, allowed_postags=['NOUN', 'ADJ', 'VERB', 'ADV'])"
   ]
  },
  {
   "cell_type": "code",
   "execution_count": 57,
   "metadata": {},
   "outputs": [
    {
     "name": "stdout",
     "output_type": "stream",
     "text": [
      "[['s', 'thing', 'car', 'nntp_poste', 'host_rac', 'wam_umd', 'organization', 'university', 'park', 'line', 'wondering_enlighten', 'car', 'see', 'day', 'door', 'sport', 'car', 'look', 'late', 's', 'early', 'door', 'small', 'addition', 'bumper_separate', 'rest', 'body', 'know', 'tellme_model', 'engine', 'spec', 'year', 'production', 'car', 'history', 'look', 'car', 'e', 'mail', 'thank', 'bring']]\n"
     ]
    }
   ],
   "source": [
    "print(data_lemmatized[:1])"
   ]
  },
  {
   "cell_type": "markdown",
   "metadata": {},
   "source": [
    "### Create a Dictionary"
   ]
  },
  {
   "cell_type": "code",
   "execution_count": 58,
   "metadata": {},
   "outputs": [
    {
     "name": "stdout",
     "output_type": "stream",
     "text": [
      "Dictionary<11123 unique tokens: ['addition', 'body', 'brought', 'car', 'day']...>\n"
     ]
    }
   ],
   "source": [
    "# Create a Dictionary\n",
    "dictionary = Dictionary(data_words_bigrams)\n",
    "\n",
    "# Filter out tokens that appear in less than 10 documents (adjust the parameter as needed)\n",
    "dictionary.filter_extremes(no_below=10)\n",
    "\n",
    "# Create a corpus based on the dictionary\n",
    "corpus = [dictionary.doc2bow(doc) for doc in data_words_bigrams]\n",
    "\n",
    "# Print the dictionary\n",
    "print(dictionary)"
   ]
  },
  {
   "cell_type": "markdown",
   "metadata": {},
   "source": [
    "### Create Corpus"
   ]
  },
  {
   "cell_type": "code",
   "execution_count": 59,
   "metadata": {},
   "outputs": [],
   "source": [
    "# Create a corpus based on the dictionary\n",
    "corpus = [dictionary.doc2bow(doc) for doc in data_words_bigrams]"
   ]
  },
  {
   "cell_type": "markdown",
   "metadata": {},
   "source": [
    "### Filter low-frequency words"
   ]
  },
  {
   "cell_type": "code",
   "execution_count": 60,
   "metadata": {},
   "outputs": [],
   "source": [
    "# Filter out tokens that appear in less than `no_below` documents or more than `no_above` documents (adjust as needed)\n",
    "dictionary.filter_extremes(no_below=10, no_above=0.5)\n",
    "\n",
    "# Re-create the corpus based on the updated dictionary\n",
    "corpus = [dictionary.doc2bow(doc) for doc in data_words_bigrams]"
   ]
  },
  {
   "cell_type": "markdown",
   "metadata": {},
   "source": [
    "### Create Index 2 word dictionary"
   ]
  },
  {
   "cell_type": "code",
   "execution_count": 61,
   "metadata": {},
   "outputs": [],
   "source": [
    "# Create index to word dictionary\n",
    "index2word = {idx: word for idx, word in dictionary.items()}"
   ]
  },
  {
   "cell_type": "code",
   "execution_count": 62,
   "metadata": {},
   "outputs": [],
   "source": [
    "word_for_index_0 = index2word[0]"
   ]
  },
  {
   "cell_type": "markdown",
   "metadata": {},
   "source": [
    "### Build a News Topic Model\n",
    "\n",
    "#### LdaModel\n",
    "- **num_topics** : this is the number of topics you need to define beforehand\n",
    "- **chunksize** : the number of documents to be used in each training chunk\n",
    "- **alpha** : this is the hyperparameters that affect the sparsity of the topics\n",
    "- **passess** : total number of training assess"
   ]
  },
  {
   "cell_type": "code",
   "execution_count": 69,
   "metadata": {},
   "outputs": [],
   "source": [
    "from gensim.models import LdaModel\n",
    "\n",
    "# Set the number of topics\n",
    "num_topics = 20\n",
    "\n",
    "# Build the LDA model\n",
    "lda_model = LdaModel(\n",
    "    corpus=corpus,  # The corpus in bag-of-words format\n",
    "    id2word=dictionary,  # Mapping of word IDs to words\n",
    "    num_topics=num_topics,  # Number of topics\n",
    "    chunksize=100,  # Number of documents to be used in each training chunk\n",
    "    alpha='auto',  # Hyperparameter affecting sparsity of topics\n",
    "    passes=20  # Total number of training passes\n",
    ")"
   ]
  },
  {
   "cell_type": "markdown",
   "metadata": {},
   "source": [
    "### Print the Keyword in the 10 topics"
   ]
  },
  {
   "cell_type": "code",
   "execution_count": 70,
   "metadata": {},
   "outputs": [
    {
     "name": "stdout",
     "output_type": "stream",
     "text": [
      "(0, '0.072*\"jews\" + 0.052*\"jewish\" + 0.047*\"united_states\" + 0.045*\"war\" + 0.039*\"pl\" + 0.038*\"crime\" + 0.038*\"allowed\" + 0.034*\"died\" + 0.025*\"step\" + 0.024*\"state\"')\n",
      "(1, '0.068*\"year\" + 0.040*\"team\" + 0.036*\"game\" + 0.024*\"win\" + 0.022*\"points\" + 0.021*\"play\" + 0.021*\"games\" + 0.020*\"vs\" + 0.017*\"face\" + 0.017*\"lost\"')\n",
      "(2, '0.734*\"ax\" + 0.162*\"q\" + 0.034*\"f\" + 0.015*\"v\" + 0.008*\"mu\" + 0.005*\"g\" + 0.004*\"bc\" + 0.003*\"p\" + 0.003*\"icon\" + 0.002*\"jpl\"')\n",
      "(3, '0.086*\"talking\" + 0.058*\"lots\" + 0.056*\"washington\" + 0.049*\"die\" + 0.049*\"health\" + 0.040*\"ms\" + 0.039*\"treatment\" + 0.036*\"patients\" + 0.036*\"failed\" + 0.032*\"medical\"')\n",
      "(4, '0.157*\"o\" + 0.043*\"bike\" + 0.034*\"dr\" + 0.029*\"picture\" + 0.027*\"block\" + 0.025*\"dod\" + 0.024*\"dc\" + 0.023*\"ps\" + 0.020*\"disease\" + 0.019*\"rm\"')\n",
      "(5, '0.304*\"x\" + 0.050*\"c\" + 0.031*\"file\" + 0.023*\"code\" + 0.018*\"sun\" + 0.017*\"graphics\" + 0.017*\"version\" + 0.016*\"entry\" + 0.015*\"available\" + 0.015*\"thanks_advance\"')\n",
      "(6, '0.040*\"drive\" + 0.032*\"space\" + 0.025*\"software\" + 0.025*\"bit\" + 0.024*\"data\" + 0.021*\"mac\" + 0.021*\"card\" + 0.020*\"chip\" + 0.017*\"mb\" + 0.016*\"memory\"')\n",
      "(7, '0.073*\"sale\" + 0.061*\"pa\" + 0.045*\"season\" + 0.037*\"theyre\" + 0.034*\"chicago\" + 0.033*\"steve\" + 0.032*\"nhl\" + 0.031*\"player\" + 0.030*\"sound\" + 0.027*\"scott\"')\n",
      "(8, '0.070*\"windows\" + 0.057*\"program\" + 0.032*\"files\" + 0.029*\"book\" + 0.029*\"dos\" + 0.026*\"window\" + 0.026*\"books\" + 0.025*\"programs\" + 0.024*\"screen\" + 0.023*\"include\"')\n",
      "(9, '0.037*\"like\" + 0.035*\"dont\" + 0.030*\"know\" + 0.028*\"think\" + 0.023*\"good\" + 0.022*\"article\" + 0.020*\"im\" + 0.019*\"time\" + 0.017*\"way\" + 0.015*\"want\"')\n",
      "(10, '0.058*\"gun\" + 0.048*\"video\" + 0.037*\"guns\" + 0.034*\"mouse\" + 0.033*\"safety\" + 0.032*\"rate\" + 0.031*\"white\" + 0.028*\"ideas\" + 0.027*\"family\" + 0.026*\"risk\"')\n",
      "(11, '0.066*\"people\" + 0.041*\"said\" + 0.037*\"right\" + 0.027*\"come\" + 0.022*\"didnt\" + 0.021*\"day\" + 0.020*\"israel\" + 0.016*\"years\" + 0.015*\"thought\" + 0.015*\"remember\"')\n",
      "(12, '0.023*\"men\" + 0.022*\"children\" + 0.019*\"government\" + 0.019*\"church\" + 0.017*\"states\" + 0.016*\"country\" + 0.015*\"happened\" + 0.015*\"history\" + 0.014*\"people\" + 0.014*\"military\"')\n",
      "(13, '0.105*\"distribution_na\" + 0.046*\"community\" + 0.042*\"weight\" + 0.042*\"clinton\" + 0.038*\"al\" + 0.035*\"keith\" + 0.031*\"motto\" + 0.031*\"california_institute\" + 0.030*\"uk\" + 0.030*\"technology_pasadena\"')\n",
      "(14, '0.056*\"john\" + 0.038*\"new_york\" + 0.034*\"april\" + 0.032*\"young\" + 0.023*\"paul\" + 0.022*\"house\" + 0.022*\"looked\" + 0.021*\"city\" + 0.020*\"la\" + 0.019*\"lord\"')\n",
      "(15, '0.029*\"new\" + 0.020*\"science\" + 0.019*\"group\" + 0.019*\"information\" + 0.018*\"research\" + 0.013*\"list\" + 0.012*\"order\" + 0.012*\"free\" + 0.011*\"general\" + 0.011*\"high\"')\n",
      "(16, '0.075*\"key\" + 0.061*\"public\" + 0.044*\"government\" + 0.027*\"encryption\" + 0.025*\"security\" + 0.020*\"purpose\" + 0.020*\"private\" + 0.020*\"technology\" + 0.019*\"needs\" + 0.019*\"clipper\"')\n",
      "(17, '0.057*\"god\" + 0.029*\"evidence\" + 0.027*\"believe\" + 0.025*\"reason\" + 0.025*\"people\" + 0.017*\"jesus\" + 0.016*\"faith\" + 0.015*\"law\" + 0.015*\"christians\" + 0.014*\"life\"')\n",
      "(18, '0.047*\"nntp_posting\" + 0.039*\"university\" + 0.037*\"article\" + 0.031*\"host\" + 0.024*\"reply\" + 0.019*\"e\" + 0.017*\"mail\" + 0.017*\"help\" + 0.014*\"thanks\" + 0.014*\"s\"')\n",
      "(19, '0.089*\"m\" + 0.072*\"t\" + 0.065*\"r\" + 0.062*\"g\" + 0.061*\"w\" + 0.060*\"p\" + 0.059*\"d\" + 0.056*\"s\" + 0.054*\"o\" + 0.048*\"u\"')\n"
     ]
    }
   ],
   "source": [
    "# Print the topics\n",
    "topics = lda_model.print_topics(num_words=10)\n",
    "for topic in topics:\n",
    "    print(topic)"
   ]
  },
  {
   "cell_type": "markdown",
   "metadata": {},
   "source": [
    "## Evaluation of Topic Models\n",
    "- Model Perplexity\n",
    "- Topic Coherence\n",
    "\n",
    "### Model Perplexity\n",
    "\n",
    "Model perplexity is a measurement of **how well** a **probability distribution** or probability model **predicts a sample**"
   ]
  },
  {
   "cell_type": "code",
   "execution_count": 71,
   "metadata": {},
   "outputs": [
    {
     "name": "stdout",
     "output_type": "stream",
     "text": [
      "Model Perplexity: -12.696255525168604\n"
     ]
    }
   ],
   "source": [
    "# Compute Model Perplexity\n",
    "perplexity = lda_model.log_perplexity(corpus)\n",
    "print(f\"Model Perplexity: {perplexity}\")"
   ]
  },
  {
   "cell_type": "markdown",
   "metadata": {},
   "source": [
    "### Topic Coherence\n",
    "Topic Coherence measures score a single topic by measuring the **degree of semantic similarity** between **high scoring words** in the topic."
   ]
  },
  {
   "cell_type": "code",
   "execution_count": 72,
   "metadata": {},
   "outputs": [
    {
     "name": "stderr",
     "output_type": "stream",
     "text": [
      "c:\\Users\\yatch\\poetry-demo\\.venv\\Lib\\site-packages\\scipy\\sparse\\_sputils.py:44: DeprecationWarning: np.find_common_type is deprecated.  Please use `np.result_type` or `np.promote_types`.\n",
      "See https://numpy.org/devdocs/release/1.25.0-notes.html and the docs for more information.  (Deprecated NumPy 1.25)\n",
      "  upcast = np.find_common_type(args, [])\n",
      "c:\\Users\\yatch\\poetry-demo\\.venv\\Lib\\site-packages\\scipy\\sparse\\_sputils.py:44: DeprecationWarning: np.find_common_type is deprecated.  Please use `np.result_type` or `np.promote_types`.\n",
      "See https://numpy.org/devdocs/release/1.25.0-notes.html and the docs for more information.  (Deprecated NumPy 1.25)\n",
      "  upcast = np.find_common_type(args, [])\n",
      "c:\\Users\\yatch\\poetry-demo\\.venv\\Lib\\site-packages\\gensim\\topic_coherence\\direct_confirmation_measure.py:204: RuntimeWarning: divide by zero encountered in scalar divide\n",
      "  m_lr_i = np.log(numerator / denominator)\n",
      "c:\\Users\\yatch\\poetry-demo\\.venv\\Lib\\site-packages\\scipy\\sparse\\_sputils.py:44: DeprecationWarning: np.find_common_type is deprecated.  Please use `np.result_type` or `np.promote_types`.\n",
      "See https://numpy.org/devdocs/release/1.25.0-notes.html and the docs for more information.  (Deprecated NumPy 1.25)\n",
      "  upcast = np.find_common_type(args, [])\n",
      "c:\\Users\\yatch\\poetry-demo\\.venv\\Lib\\site-packages\\scipy\\sparse\\_sputils.py:44: DeprecationWarning: np.find_common_type is deprecated.  Please use `np.result_type` or `np.promote_types`.\n",
      "See https://numpy.org/devdocs/release/1.25.0-notes.html and the docs for more information.  (Deprecated NumPy 1.25)\n",
      "  upcast = np.find_common_type(args, [])\n",
      "c:\\Users\\yatch\\poetry-demo\\.venv\\Lib\\site-packages\\gensim\\topic_coherence\\indirect_confirmation_measure.py:323: RuntimeWarning: invalid value encountered in scalar divide\n",
      "  return cv1.T.dot(cv2)[0, 0] / (_magnitude(cv1) * _magnitude(cv2))\n"
     ]
    },
    {
     "name": "stdout",
     "output_type": "stream",
     "text": [
      "Topic Coherence: nan\n"
     ]
    }
   ],
   "source": [
    "from gensim.models import CoherenceModel\n",
    "\n",
    "# Compute Topic Coherence\n",
    "coherence_model_lda = CoherenceModel(model=lda_model, texts=data_lemmatized, dictionary=dictionary, coherence='c_v')\n",
    "coherence_lda = coherence_model_lda.get_coherence()\n",
    "print(f\"Topic Coherence: {coherence_lda}\")"
   ]
  },
  {
   "cell_type": "markdown",
   "metadata": {},
   "source": [
    "### Visualize the Topic Model\n",
    "- Use **pyLDAvis**\n",
    "    - designed to help users **interpret the topics** in a topic model that has been fit to a corpus of text data\n",
    "    - extracts information from a fitted LDA topic model to inform an interactive web-based visualization"
   ]
  },
  {
   "cell_type": "code",
   "execution_count": 73,
   "metadata": {},
   "outputs": [
    {
     "data": {
      "text/html": [
       "\n",
       "<link rel=\"stylesheet\" type=\"text/css\" href=\"https://cdn.jsdelivr.net/gh/bmabey/pyLDAvis@3.4.0/pyLDAvis/js/ldavis.v1.0.0.css\">\n",
       "\n",
       "\n",
       "<div id=\"ldavis_el2152830311278474568751177716\" style=\"background-color:white;\"></div>\n",
       "<script type=\"text/javascript\">\n",
       "\n",
       "var ldavis_el2152830311278474568751177716_data = {\"mdsDat\": {\"x\": [-0.22619639166081518, -0.1619206003435797, 0.010579299059799674, -0.12689928200934772, -0.16767650052977637, 0.10586841221897623, -0.22296065448086158, -0.048730221972375254, -0.08046303442947195, -0.007943948341834936, -0.06883235616060694, 0.02504035310321447, -0.037281483508668695, 0.0979986292730593, 0.12915440619872234, 0.14293419939304908, 0.15674378451255858, 0.1413729004248975, 0.1663299920225029, 0.1728824972305568], \"y\": [0.06633276916733678, -0.14335085187597615, -0.342300896794809, 0.048208316091192534, 0.1423147687447299, -0.11383396026202477, 0.14521467553112546, -0.1271182172712989, -0.22002285001827102, 0.04542860861223485, 0.10438015145414804, 0.03800143993057145, -0.011722719102056222, 0.06464194394730634, 0.05917932689617352, 0.056789088943355194, -0.061120750133135254, 0.09522693821867569, 0.07273112553923677, 0.08102109238148548], \"topics\": [1, 2, 3, 4, 5, 6, 7, 8, 9, 10, 11, 12, 13, 14, 15, 16, 17, 18, 19, 20], \"cluster\": [1, 1, 1, 1, 1, 1, 1, 1, 1, 1, 1, 1, 1, 1, 1, 1, 1, 1, 1, 1], \"Freq\": [19.45278970722073, 12.55582250435667, 10.225038048613989, 8.42901690817203, 7.207740618701224, 6.480393220938802, 6.163315131557967, 5.085272350392645, 3.9069009373161143, 3.5683656115130358, 3.531222263009985, 2.618800628652206, 2.480880566050356, 1.9598805760588205, 1.4904682739154245, 1.2974849815130394, 1.0892835720303298, 0.980236826399143, 0.7985457666163324, 0.6785415069711402]}, \"tinfo\": {\"Term\": [\"ax\", \"x\", \"q\", \"o\", \"m\", \"t\", \"r\", \"w\", \"g\", \"d\", \"p\", \"nntp_posting\", \"people\", \"c\", \"s\", \"dont\", \"article\", \"u\", \"like\", \"university\", \"god\", \"know\", \"f\", \"e\", \"host\", \"year\", \"think\", \"said\", \"v\", \"b\", \"dont\", \"good\", \"want\", \"thing\", \"doesnt\", \"probably\", \"far\", \"tell\", \"little\", \"try\", \"bad\", \"able\", \"real\", \"actually\", \"youre\", \"lot\", \"isnt\", \"yes\", \"idea\", \"getting\", \"kind\", \"hard\", \"theres\", \"wont\", \"pretty\", \"making\", \"lets\", \"arent\", \"sort\", \"force\", \"know\", \"think\", \"like\", \"sure\", \"way\", \"power\", \"look\", \"trying\", \"better\", \"im\", \"course\", \"time\", \"things\", \"work\", \"thats\", \"case\", \"article\", \"point\", \"problem\", \"ive\", \"read\", \"question\", \"going\", \"nntp_posting\", \"host\", \"help\", \"thanks\", \"mail\", \"car\", \"com\", \"university\", \"looking\", \"usa\", \"price\", \"net\", \"interested\", \"keywords\", \"buy\", \"ca\", \"anybody\", \"newsreader_tin\", \"nice\", \"reply\", \"check\", \"company\", \"distribution\", \"sell\", \"test\", \"version_pl\", \"originator\", \"cars\", \"looks\", \"includes\", \"distribution_usa\", \"hi\", \"copy\", \"distribution_world\", \"post\", \"article\", \"summary\", \"phone\", \"need\", \"email\", \"e\", \"wrote\", \"send\", \"info\", \"old\", \"s\", \"state\", \"new\", \"d\", \"c\", \"m\", \"t\", \"w\", \"j\", \"n\", \"l\", \"y\", \"max\", \"el\", \"million\", \"b\", \"physical\", \"ga\", \"direct\", \"sc\", \"peter\", \"va\", \"jr\", \"route\", \"rt\", \"ft\", \"diet\", \"pointers\", \"bell_labs\", \"zone\", \"gn\", \"excellent_condition\", \"adam\", \"trusted\", \"penn_state\", \"g\", \"p\", \"r\", \"u\", \"h\", \"k\", \"d\", \"o\", \"v\", \"s\", \"e\", \"f\", \"c\", \"em\", \"ma\", \"x\", \"mr\", \"st\", \"science\", \"group\", \"research\", \"general\", \"questions\", \"internet\", \"david\", \"oh\", \"working\", \"president\", \"office\", \"received\", \"california\", \"body\", \"exactly\", \"service\", \"parts\", \"week\", \"weeks\", \"services\", \"details\", \"study\", \"date\", \"shall\", \"related\", \"possibly\", \"scientific\", \"avoid\", \"references\", \"ground\", \"posting\", \"effect\", \"list\", \"control\", \"information\", \"free\", \"based\", \"new\", \"order\", \"large\", \"provide\", \"high\", \"note\", \"including\", \"following\", \"support\", \"known\", \"earth\", \"didnt\", \"israel\", \"said\", \"remember\", \"left\", \"told\", \"came\", \"truth\", \"guess\", \"wanted\", \"cause\", \"hear\", \"stop\", \"went\", \"asked\", \"prove\", \"israeli\", \"happen\", \"started\", \"story\", \"wasnt\", \"saw\", \"guy\", \"gave\", \"leave\", \"years_ago\", \"somebody\", \"realize\", \"forget\", \"land\", \"away\", \"thought\", \"come\", \"day\", \"right\", \"live\", \"people\", \"money\", \"says\", \"got\", \"heard\", \"years\", \"times\", \"going\", \"home\", \"world\", \"time\", \"ax\", \"q\", \"mu\", \"bc\", \"icon\", \"jpl\", \"nh\", \"tc\", \"communications_services\", \"ux\", \"aug\", \"jeffrey\", \"f\", \"ub\", \"v\", \"z\", \"qax\", \"ei\", \"qq\", \"mf\", \"tm\", \"yf\", \"pl_pl\", \"fq\", \"n_lj\", \"tm_tm\", \"ei_ei\", \"mq\", \"bhj_bhj\", \"wm\", \"g\", \"p\", \"au\", \"hi\", \"reply\", \"university\", \"god\", \"evidence\", \"jesus\", \"faith\", \"christians\", \"bible\", \"agree\", \"claim\", \"christian\", \"religion\", \"death\", \"exist\", \"argument\", \"drives\", \"laws\", \"christianity\", \"belief\", \"society\", \"religious\", \"atheists\", \"doubt\", \"explaining\", \"christ\", \"nature\", \"conclusion\", \"child\", \"rule\", \"follow\", \"logic\", \"playing\", \"law\", \"act\", \"sense\", \"believe\", \"reason\", \"word\", \"life\", \"hell\", \"human\", \"true\", \"fact\", \"people\", \"person\", \"man\", \"issue\", \"question\", \"world\", \"drive\", \"space\", \"mac\", \"chip\", \"memory\", \"pc\", \"cpu\", \"scsi\", \"hardware\", \"driver\", \"speed\", \"color\", \"drivers\", \"disk\", \"installed\", \"board\", \"motherboard\", \"performance\", \"controller\", \"apple\", \"ibm\", \"design\", \"ide\", \"nasa\", \"scan\", \"chips\", \"unit\", \"texas\", \"machines\", \"launch\", \"card\", \"software\", \"mb\", \"bus\", \"machine\", \"data\", \"bit\", \"running\", \"fast\", \"mode\", \"standard\", \"built\", \"s\", \"file\", \"code\", \"sun\", \"graphics\", \"entry\", \"thanks_advance\", \"input\", \"motif\", \"serial_number\", \"display\", \"request\", \"ftp\", \"mit\", \"directory\", \"output\", \"proposal\", \"draft\", \"noise\", \"cr\", \"stream\", \"regularly\", \"telnet\", \"ac\", \"sgi\", \"battery\", \"generated\", \"shell\", \"attached\", \"servers\", \"amp\", \"user\", \"x\", \"unix\", \"section\", \"version\", \"text\", \"c\", \"source\", \"available\", \"function\", \"build\", \"users\", \"number\", \"r\", \"info\", \"program\", \"information\", \"year\", \"team\", \"game\", \"points\", \"play\", \"games\", \"face\", \"lost\", \"teams\", \"division\", \"series\", \"dept\", \"pick\", \"mike\", \"wings\", \"won\", \"goal\", \"giving\", \"baseball\", \"college\", \"algorithm\", \"increased\", \"trade\", \"paper\", \"record\", \"son\", \"dave\", \"van\", \"kept\", \"worry\", \"th\", \"vs\", \"win\", \"night\", \"gets\", \"runs\", \"st\", \"age\", \"special\", \"years\", \"second\", \"center\", \"men\", \"church\", \"states\", \"military\", \"reported\", \"killed\", \"deny\", \"greek\", \"watch\", \"villages\", \"authority\", \"soldiers\", \"turkish\", \"armenians\", \"political\", \"mother\", \"turks\", \"born\", \"armenian\", \"returned\", \"meeting\", \"women\", \"countries\", \"nation\", \"fbi\", \"minor\", \"turkey\", \"western\", \"parties\", \"lived\", \"country\", \"children\", \"happened\", \"population\", \"history\", \"groups\", \"government\", \"people\", \"press\", \"windows\", \"files\", \"dos\", \"window\", \"books\", \"programs\", \"screen\", \"include\", \"size\", \"image\", \"monitor\", \"reference\", \"ny\", \"normal\", \"method\", \"format\", \"environment\", \"images\", \"library\", \"page\", \"create\", \"applications\", \"gateway\", \"command\", \"options\", \"responses\", \"provides\", \"pd\", \"features\", \"microsoft\", \"program\", \"main\", \"book\", \"application\", \"run\", \"set\", \"problem\", \"key\", \"public\", \"encryption\", \"security\", \"purpose\", \"private\", \"needs\", \"clipper\", \"clipper_chip\", \"law_enforcement\", \"nsa\", \"hey\", \"drugs\", \"pgp\", \"crypto\", \"protect\", \"federal\", \"agency\", \"developed\", \"privacy\", \"administration\", \"met\", \"unlikely\", \"official\", \"industry\", \"amendment\", \"nuclear\", \"sites\", \"cryptography\", \"providing\", \"government\", \"technology\", \"legal\", \"standards\", \"access\", \"message\", \"data\", \"u\", \"police\", \"s\", \"national\", \"state\", \"john\", \"new_york\", \"april\", \"young\", \"paul\", \"house\", \"looked\", \"lord\", \"btw\", \"areas\", \"approach\", \"studies\", \"analysis\", \"count\", \"persons\", \"detroit\", \"east\", \"moved\", \"corp\", \"sign\", \"immediately\", \"univ\", \"software_vax\", \"vms_vnews\", \"funny\", \"term\", \"spacecraft\", \"minnesota\", \"stars\", \"planet\", \"la\", \"held\", \"coming\", \"early\", \"city\", \"fairly\", \"news\", \"complete\", \"mark\", \"end\", \"gun\", \"video\", \"guns\", \"mouse\", \"rate\", \"white\", \"ideas\", \"family\", \"risk\", \"period\", \"manager\", \"mhz\", \"university_illinois\", \"switch\", \"weapons\", \"rates\", \"gun_control\", \"auto\", \"urbana\", \"firearms\", \"pack\", \"green\", \"sys\", \"lock\", \"blow\", \"opening\", \"factory\", \"meg\", \"arm\", \"weapon\", \"safety\", \"hp\", \"shot\", \"carry\", \"em\", \"sale\", \"pa\", \"season\", \"chicago\", \"steve\", \"nhl\", \"player\", \"sound\", \"scott\", \"ive_seen\", \"boston\", \"insurance\", \"tape\", \"pens\", \"toronto\", \"knowing\", \"san_jose\", \"pittsburgh\", \"miles\", \"guest\", \"middle\", \"thomas\", \"recall\", \"water\", \"duo\", \"canadian\", \"everybody\", \"leafs\", \"alan\", \"gary\", \"theyre\", \"offer\", \"bike\", \"dr\", \"picture\", \"block\", \"dod\", \"dc\", \"ps\", \"disease\", \"rm\", \"offers\", \"bikes\", \"michigan\", \"ride\", \"hr\", \"brings\", \"feature\", \"gif\", \"european\", \"cds\", \"dog\", \"ns\", \"mid\", \"rider\", \"charles\", \"zero\", \"attempts\", \"useless\", \"electrical\", \"luck\", \"fl\", \"o\", \"road\", \"jews\", \"jewish\", \"united_states\", \"pl\", \"crime\", \"allowed\", \"died\", \"step\", \"constitution\", \"trial\", \"muslims\", \"british\", \"nt\", \"ryan\", \"organized\", \"immediate\", \"foundation\", \"bobby\", \"prior\", \"minority\", \"utility\", \"innocent\", \"colorado_boulder\", \"guilty\", \"afford\", \"holocaust\", \"forgot\", \"unusual\", \"norway\", \"survive\", \"war\", \"muslim\", \"noted\", \"germany\", \"state\", \"citizens\", \"talking\", \"lots\", \"washington\", \"die\", \"health\", \"ms\", \"treatment\", \"patients\", \"failed\", \"medical\", \"produced\", \"impact\", \"upgrade\", \"baby\", \"mg\", \"hour\", \"regards\", \"russia\", \"procedure\", \"fi\", \"medicine\", \"rich\", \"jim_frost\", \"factors\", \"paying\", \"concepts\", \"brief\", \"centre\", \"shared\", \"programmer\", \"ex\", \"distribution_na\", \"weight\", \"al\", \"keith\", \"motto\", \"california_institute\", \"uk\", \"technology_pasadena\", \"notice\", \"pull\", \"san_francisco\", \"prefer\", \"cd_rom\", \"unknown\", \"catch\", \"uunet\", \"german\", \"benefit\", \"statistics\", \"legitimate\", \"access_unix\", \"orders\", \"keith_allan\", \"senate\", \"sam\", \"jonathan\", \"writer\", \"iowa_state\", \"ames_ia\", \"wk\", \"congress\", \"community\", \"clinton\", \"corporation\"], \"Freq\": [55137.0, 15708.0, 12204.0, 8375.0, 10548.0, 8576.0, 8350.0, 7224.0, 7729.0, 8765.0, 7610.0, 6898.0, 8011.0, 7107.0, 9886.0, 7918.0, 10308.0, 6163.0, 8789.0, 5642.0, 4061.0, 6873.0, 5745.0, 6763.0, 4570.0, 2821.0, 6320.0, 3463.0, 5235.0, 3904.0, 7917.0996201796115, 5286.901105522067, 3303.3549136588094, 1979.628850077308, 1971.4074526747524, 1914.1714951170486, 1855.2620182280853, 1836.0796678665179, 1766.6701017580663, 1673.7304379404375, 1656.5906760032667, 1532.5492215161776, 1523.3667110597526, 1522.4481344266915, 1411.1962788805747, 1377.8529763768142, 1295.8314140127902, 1240.468004224449, 1237.643270798177, 1162.7760193295167, 1124.4313789924915, 1038.969512924769, 936.2426913060398, 907.5080261975136, 868.5593161709103, 845.1873909302204, 798.9156422057135, 699.3504844773382, 696.8489753351097, 692.3079761003706, 6816.247387065477, 6213.20025203791, 8455.943857062066, 2480.1186790001807, 3829.613411335573, 1536.6672721914224, 1736.5764767758633, 1402.2622651442298, 2001.1968109629263, 4416.663911349617, 1784.3263923805098, 4341.644789104441, 2169.8643273161374, 2457.6411739066607, 1611.0990767448445, 1841.025655838632, 4902.25296949283, 1893.6985582396962, 1971.5899916855299, 1736.498440823615, 1689.6144827240666, 1691.3214010227755, 1656.9465115432633, 6896.897827940802, 4569.359521724845, 2457.951879832513, 2094.063834867199, 2476.332882365395, 1495.917388562827, 1354.1464563458633, 5636.1898066374715, 1294.6384148423836, 1233.8111691179365, 1081.375494411851, 1079.7817384388327, 1023.7464715412982, 1021.8589790888633, 988.4959925040492, 851.7156654432597, 789.7644522993045, 749.9221799471941, 718.9883323577507, 3502.120595340277, 697.4254444949853, 691.9504080251918, 641.8335278340965, 612.2852514200048, 610.1613055080255, 593.0254121183347, 591.3966762183885, 584.8040446413564, 537.5576877561516, 536.405180512541, 1234.202998531975, 864.8625591425927, 725.2984128971161, 1303.9940539033917, 1189.5847459241827, 5405.097224266509, 683.1134345086142, 756.1118644589934, 1986.2032301846943, 1083.4879159292998, 2714.5762837520037, 988.7607824160275, 963.6386191977815, 932.6951453493773, 1054.8607098004227, 2093.00616661152, 1158.163009702761, 1387.3670827629471, 1616.1080107441176, 1335.0510769331997, 10546.858703948716, 8574.74688555212, 7222.594765267486, 2955.760289489208, 2783.361045418291, 2545.6747828236225, 1812.9014795340001, 1509.2207843657216, 423.3531085125895, 295.5327085333656, 3881.034900867149, 236.21413031329317, 200.55284924601162, 200.2928135796819, 184.61974725367284, 181.75271636157578, 155.07741277643095, 148.7958697114149, 114.9988101588168, 91.99962089283831, 67.0555605491915, 66.67478171493624, 62.165741730306436, 62.053348521413284, 55.79034788608323, 53.77823893582632, 52.443391022211905, 49.9680698198307, 47.363172435010334, 46.316988125780085, 7369.501487801387, 7123.1235389253225, 7744.470020315922, 5733.00358905537, 2790.2163479823066, 3115.476649670752, 7019.375366955666, 6389.612347685769, 4008.297440773498, 6647.499714473073, 4047.31816568884, 3174.6481305960024, 3491.841019303801, 406.1753519657714, 464.0550597247464, 1917.7112694355112, 303.8601985850975, 210.08237455719467, 1956.6775879214242, 1886.8762054827139, 1775.0265190489836, 1119.129717826195, 1095.4357123280856, 992.5543780906722, 872.0619135911826, 855.9981933916192, 763.5536171230373, 761.3661175796337, 732.9410930865049, 670.3052541206131, 666.4836946482469, 637.2045500429705, 633.0534116142865, 596.2649911615616, 546.1657131256314, 537.9948673682145, 529.4598555229137, 523.1751006610554, 504.5943929805379, 496.04104085363036, 474.97574837331024, 471.32234607349227, 467.82353914989795, 459.5350971451563, 445.0493693139117, 409.26575054256506, 401.22465203790455, 382.6410317568342, 1066.0779730172637, 605.1700853146194, 1268.1685803449802, 780.5835015372688, 1861.002118470734, 1173.105667198079, 1099.427067310811, 2862.427003582898, 1211.2698363182283, 837.8038148688182, 754.0593129799978, 1117.2182326945656, 751.4356515037925, 622.1904582676704, 906.4899443520571, 767.0147877863617, 645.2321777700737, 659.1918626358284, 1816.3229217434314, 1673.4016710487124, 3459.8237517493435, 1271.0195489463026, 1160.7970895428318, 1027.5412941209572, 941.7889328596306, 931.0985198182308, 882.4408504304306, 882.168597239269, 824.7478463631668, 789.1117093216499, 741.6032161395392, 710.5956168410731, 698.9919336609968, 663.0399580117801, 647.3781612275961, 643.096711279281, 574.8429607848184, 571.6427794066042, 564.4685030977699, 521.4421084422519, 436.0102167391323, 428.3796945164645, 419.06109354505315, 414.0068585952961, 392.9477084527684, 388.6604990029821, 364.2710727969839, 347.89190675524225, 1154.6576166368247, 1275.6463744051325, 2231.253596591584, 1734.6622192907266, 3095.2619408747196, 915.8096118387512, 5500.01444845778, 1055.793516783201, 1045.509070764414, 1200.2071788388475, 849.7850997380141, 1343.5649841788568, 811.3249390292276, 1160.3367964117483, 795.6270286141978, 827.6131983450467, 876.9005991707224, 55136.33964669514, 12203.604311885305, 607.4973669988661, 271.98113269179305, 209.84936753401797, 187.2883770664492, 184.2021459955504, 114.52959698496917, 113.81903292879055, 59.52815677934071, 56.01090231389954, 26.481924810803044, 2569.146310364842, 52.320625317089224, 1151.4355952794365, 0.14024137723563704, 0.14005042678558907, 0.14005110161271414, 0.14003629812654017, 0.1400247406442589, 0.14002225488864634, 0.14000898044114812, 0.1400080066399803, 0.14000699867035046, 0.14000068604699065, 0.14000065187852861, 0.13999857614446037, 0.13999832842311066, 0.13999461260286503, 0.13999634665231298, 358.5009005831096, 259.18347464623014, 2.4956606397159833, 8.155669654959462, 5.87115480311049, 4.997457935212339, 4060.29756522795, 2106.267711838928, 1180.4477052860468, 1107.7255805823565, 1038.3848866299797, 982.8318021969186, 972.8703979075624, 939.667979749008, 844.6801105476703, 763.2777956034653, 699.0907753459687, 615.1493924480288, 548.1874399913506, 530.9642920368761, 495.9792153719978, 488.4609427187096, 482.82668896842017, 459.62730407369355, 453.54558044353365, 442.5000924368859, 441.61257334965273, 431.6759268196944, 426.72384251518054, 415.60471348494735, 402.0758957597683, 352.6171134959159, 350.6426821839331, 349.290223023706, 341.7607028937021, 336.27692574018323, 1102.7853427326083, 650.5124575389834, 420.1389107699466, 1910.4689750471123, 1819.5369193282145, 630.6965332656285, 999.0822097982755, 735.5173592411667, 514.2186626944446, 954.590719226094, 912.8595191674287, 1794.0393554855075, 733.3670280418488, 600.515227284785, 548.5753115552511, 512.3583367009771, 510.41468620545004, 2354.9226863959875, 1894.955454073006, 1231.028120038692, 1159.11805804158, 915.2216865264587, 848.8023976199211, 817.1708726947146, 810.6881120863268, 792.3530637484945, 783.8441555933429, 705.4865865713714, 688.5684906780264, 658.2300364458437, 603.8352946013484, 572.5008991784331, 519.0856797996317, 464.70642317406947, 434.62111383295354, 422.093214787405, 416.2264583846542, 405.903720409704, 405.1530442202619, 401.1183484624365, 383.727514094646, 340.94086576472023, 339.1757704548613, 338.95354108953654, 334.51246815896934, 332.1764240411133, 331.5858716048926, 1228.2497862190794, 1464.3171165847534, 976.3757813473035, 504.58865944796423, 719.4104890861487, 1413.4812294886392, 1450.9654533128844, 645.1336596378724, 531.831881993648, 453.7019237251411, 546.7996639833015, 464.150657568324, 560.2180454856796, 1425.6722640925593, 1043.0447594466712, 819.6108107828708, 788.7788175662376, 742.9485708995018, 683.1664115027218, 552.3066164003708, 522.0825487452264, 518.6509123106243, 464.80980144063744, 406.7189491750221, 402.29864268257904, 375.6856781753312, 293.94989658827063, 278.5322546574768, 196.00849016705146, 192.56928103027818, 183.42639277488087, 172.06938562421414, 163.31921264088538, 161.53751824285814, 158.54868449343203, 156.39669761555905, 136.53076816326887, 135.36905447795834, 122.93955019861943, 116.83264050978657, 112.50145565153124, 109.23664015041402, 103.31427025251399, 421.5834674391485, 13789.19016828705, 508.69616288206333, 566.9441645381398, 771.3598306866954, 335.70723183793325, 2279.2448089459563, 622.3112909119554, 700.3087310795406, 308.8160390809964, 337.7331300605738, 262.6394942205423, 417.01048345836205, 604.6058491703377, 333.9496899301178, 377.4333903360386, 322.41735046622784, 2820.4299799507044, 1671.3993885032178, 1477.8825514749296, 914.90070227346, 866.2845972886753, 864.4587122930036, 714.0827913208086, 712.0876730726785, 696.2216703330974, 644.4115189011297, 639.2417358829539, 625.7824519385794, 438.97722383098704, 424.9922841420687, 391.80391709416455, 391.25055672564133, 373.8922419108192, 363.90339560667957, 356.6078317813831, 351.72576841168313, 335.57050473717385, 334.08050459161126, 332.4183042171697, 325.76657427514425, 316.57628774800196, 292.8901443390972, 288.65441944315313, 280.3045000880258, 233.2262329270659, 229.900599149021, 675.3517269976038, 815.4417957663084, 980.9240964500873, 400.6653894227975, 542.8133453304004, 517.3501757063606, 697.0894146057208, 414.201853286269, 377.23440598606464, 488.42905286234924, 399.5583218962993, 368.30188035198245, 922.8534483493956, 774.6223924457704, 708.494105045508, 572.7182224428115, 515.1666057908159, 494.4420219644917, 477.0410191192921, 449.1221686300787, 419.874793268061, 416.85873942735043, 415.49040570958744, 379.0434634649016, 376.4282816424394, 375.00210308003807, 337.53950145381856, 316.9666793161301, 315.6954654528786, 309.99469776979936, 307.28925968678413, 300.9217319817235, 294.8761449643896, 293.6385055149179, 280.1943645867384, 274.461986240373, 272.30594072265046, 265.51511992574405, 257.3715038251749, 256.7373268089571, 251.03438565445774, 233.33096523323533, 648.1207123929023, 920.9963123485616, 612.3831225838176, 310.8482810062208, 605.9793894206264, 519.3855044727369, 782.3748980839432, 573.6759225864741, 300.0019341291422, 2132.05026595134, 968.8227457164319, 876.1256334715267, 793.8723956089483, 786.2076762364676, 755.7232205713756, 728.7456955458064, 685.5683759184915, 678.5506122056219, 671.0685154247036, 559.703630247915, 516.9344825757897, 493.86357659314154, 454.7664494783994, 443.99697637831946, 408.4795122204583, 398.61164272626075, 393.75172696854185, 383.68998003740523, 378.114448407577, 354.8044476569416, 325.59781284117395, 322.6794144679255, 296.9464547686585, 271.94107274952665, 270.9300313255353, 250.24984679471137, 242.56963080095838, 242.42826654960794, 228.2926332127302, 1722.3786450331563, 501.2299577276252, 877.011712177631, 395.14252044922154, 448.22526342666373, 440.68448874585516, 489.24026709488436, 2168.2315197020885, 1756.9455893987856, 786.4166091131883, 729.97614036244, 589.4216826513918, 576.7159361377014, 550.2757910846807, 537.3659643811021, 494.36521287685537, 393.87415033234504, 348.4617271275875, 313.666965584744, 290.52307189488914, 285.2382040108808, 281.1530372483953, 268.10996102204126, 253.80926540551926, 253.42071472632028, 243.4943217989657, 210.09044256366985, 209.04756546834878, 204.07205936339378, 201.97599132750258, 199.8118653075722, 193.83621089475628, 178.49946943106514, 177.06848367848434, 173.77247341819435, 171.73047939953727, 168.42816028065988, 1277.812131077749, 576.7084351593386, 269.37382229777546, 236.1973164691055, 336.728911085984, 372.42537059567513, 370.02634340154754, 428.6073770634042, 252.0421956384672, 451.81264482979276, 266.8346339650951, 291.19215916486115, 1265.1710610505102, 856.2868167654714, 766.336138131663, 720.3948206052623, 528.5751749206876, 501.84997531552864, 490.13591285864504, 431.86425723210994, 404.72061662357345, 351.3274218453884, 333.174739185057, 320.31965676574663, 305.17330721758367, 297.1210902964279, 273.1039904117929, 250.97368443850334, 248.82107932938214, 244.44374454409993, 230.7661288435195, 224.21318442905383, 220.40237034068713, 217.06176271666612, 209.4576365988946, 209.4576365988946, 208.30525193796424, 207.57759378405314, 190.85047181497762, 181.55871971438512, 181.5556298708441, 175.78972786355055, 459.6169779578428, 339.84139407449476, 376.77382832749004, 414.60900481395055, 469.9130138625157, 267.0287866007181, 318.9891405083451, 256.0554188978913, 243.83743682076573, 232.24370895548665, 1002.2104296759089, 830.860172343082, 640.399917183007, 589.1287202472786, 552.4273346862232, 531.8990275212082, 487.5935184955333, 467.3966287183275, 450.558494509396, 414.34515774728794, 375.45228436602787, 362.0902022445214, 336.3052148783644, 326.3668456181196, 326.04344327785935, 293.37645926119654, 224.59896607035847, 187.4253525773046, 187.00718598007953, 172.65764356274718, 160.17295163628822, 155.07700693689694, 143.58938370663884, 143.15951642755007, 142.89030417784704, 137.507057041112, 135.4068248827605, 134.4728062844978, 130.2628220870212, 128.68843659743405, 567.1387130453157, 292.2243846956294, 285.85071588003836, 221.35636431365276, 165.97288467873327, 1095.7251630753615, 911.9284966519411, 669.722865530716, 511.6186473492987, 495.9141231598864, 479.0974945332887, 468.70631773539634, 449.469528149938, 412.2382117792062, 387.4424972148591, 386.5092799659168, 337.98229125385626, 314.1500848298189, 297.8319249049218, 296.3890865261899, 244.85136254771683, 229.68511114065961, 224.87812041191316, 215.52280243102925, 203.88363250243893, 190.13851707322164, 187.16020230756058, 185.29805504961985, 173.0327379304146, 172.19385397082388, 170.73991920635515, 160.307537269003, 159.2519235228418, 159.22222107617236, 149.7542299461773, 553.7116097527663, 173.60394960527913, 544.0377843633571, 433.68079351002103, 369.2060470705798, 334.74349149331806, 315.3468900675972, 308.97725881369956, 285.7438416169282, 247.1478702499681, 242.15890643693663, 239.5599864131313, 215.55159345380324, 203.5578301997317, 196.84664313438512, 188.63183653446495, 186.0201543350476, 173.52757233134025, 168.97272244947294, 159.3331042196802, 158.5355799864799, 156.92360546412934, 152.4724997194953, 145.7719340777226, 143.40824976826283, 140.70009257864288, 139.62786986687732, 135.76662364536952, 131.63477225139135, 130.05699094978198, 121.96293687966188, 120.95024354188018, 1984.8825178137802, 236.92961380168862, 822.9269877823823, 591.6895011153271, 533.4110508786599, 438.34691639865, 429.51558826211044, 428.21250755573664, 382.4666986229483, 279.13646742694306, 254.3737000626153, 234.0764726177484, 226.98880931958143, 214.99284148919392, 200.34085756458376, 188.20834506518835, 176.53438978678204, 176.007729589018, 174.40835753575513, 172.1087230276431, 159.13195166431453, 142.8658721488764, 134.6357957048682, 134.40798838964434, 126.54906999360216, 121.02957458712942, 120.7396764945102, 119.97652939791097, 107.99418427985003, 104.10256594940283, 100.96593378998858, 100.61426246571588, 514.1711660753849, 214.09901373495347, 145.83839666888767, 154.46080087698712, 271.1781572136928, 137.84848006946243, 797.4375102696125, 536.3174218233553, 516.3945684697279, 450.9063289586849, 449.49600034688456, 372.81660376707595, 358.9725912966278, 335.91869046339946, 331.37769378002304, 297.4543048998603, 251.6635503756588, 244.27163005578677, 212.48211813671256, 202.74473189859754, 185.36611977661792, 185.31074345080302, 170.85217620912653, 149.5718699257133, 140.9639037715145, 138.84568601436243, 137.30904902191168, 132.50722656724136, 116.05305934373014, 96.66220502427848, 94.6054686129782, 82.87975150586898, 80.55618777815383, 80.1889380558778, 70.93577993244071, 69.00070415348588, 183.76715639316902, 827.595096736547, 330.5383324025301, 297.3772660020722, 278.259851447957, 246.71402335656606, 244.73817588516124, 239.3659668916211, 236.9461428357174, 214.19091043762685, 203.60150398009833, 192.85579642839332, 172.57816937388108, 152.46799521672068, 142.98929956297113, 142.01447663152467, 140.72224495266934, 135.26700558226779, 134.66458839864683, 130.9298040873767, 125.48779740852225, 124.2459759831797, 112.14152159544078, 107.45142634474519, 100.60639533538331, 82.91972342413581, 82.70478377489209, 71.03360111985229, 58.59983149314082, 48.249082416050896, 48.02963295415643, 234.92082297598148, 359.056936845619, 328.7019044520324, 187.15313649976227], \"Total\": [55137.0, 15708.0, 12204.0, 8375.0, 10548.0, 8576.0, 8350.0, 7224.0, 7729.0, 8765.0, 7610.0, 6898.0, 8011.0, 7107.0, 9886.0, 7918.0, 10308.0, 6163.0, 8789.0, 5642.0, 4061.0, 6873.0, 5745.0, 6763.0, 4570.0, 2821.0, 6320.0, 3463.0, 5235.0, 3904.0, 7918.558822688481, 5288.363868492951, 3304.8141161676776, 1981.0880525861767, 1972.866655183621, 1915.6306976259173, 1856.721220736954, 1837.5388703821257, 1768.129304266935, 1675.189640454456, 1658.0498785121354, 1534.0084240250462, 1524.8259135686212, 1523.9073369355601, 1412.6554813894434, 1379.312178885683, 1297.2906165216589, 1241.9272067333177, 1239.1024733070456, 1164.2352218383853, 1125.8905815054222, 1040.4287154336378, 937.7018938149084, 908.9672287063822, 870.0185186797789, 846.6465934390891, 800.3748447145822, 700.8096869862069, 698.3081778439783, 693.7671786320648, 6873.139289587832, 6320.236610709734, 8789.06343635008, 2531.761146825041, 3991.8861873246115, 1587.6490415916298, 1812.4198492692792, 1446.570110947243, 2121.4907551038746, 5370.232680392116, 1912.7176911876852, 5520.900773184696, 2489.0280968429556, 2962.917057636655, 1731.5209846363266, 2110.683955228427, 10308.738246140618, 2253.3083538658966, 2830.699069057672, 2100.0451332945095, 2079.8787441232216, 2205.078730228353, 2818.6659325795063, 6898.358356914545, 4570.820050698588, 2459.4124088154667, 2095.524363840941, 2478.069587082767, 1497.3779175365692, 1355.6069853196054, 5642.507821322708, 1296.0989438194952, 1235.2716980957407, 1082.836023385593, 1081.2592773974532, 1025.2070005150404, 1023.3195080626055, 989.9565214777914, 853.1761944237409, 791.2249812730466, 751.3827089209362, 720.4488613314928, 3509.3123068934115, 698.8859734805806, 693.410936998934, 643.2940568195289, 613.7457803937469, 611.6218344817677, 594.4859410920768, 592.8572051921307, 586.2645736150986, 539.0182167298938, 537.8657094862832, 1248.6721159995084, 874.3387856259619, 732.540504035664, 1425.3126105443102, 1352.467567204758, 10308.738246140618, 711.3660329656925, 816.0687184140867, 3286.2994189689516, 1372.0200197675763, 6763.306138183774, 1282.605745174031, 1226.2452291039133, 1268.0272025159854, 1746.598976800605, 9886.941007396861, 2366.8696318893494, 4251.175566836823, 8765.698958904386, 7107.470432184574, 10548.341542815171, 8576.229724427118, 7224.077604133943, 2957.243128387246, 2784.8438842984397, 2547.157621690079, 1814.3843184096688, 1510.7036233090575, 424.8359474299098, 297.0155475551736, 3904.1992277406857, 237.69696933589717, 202.03568819265664, 201.7756526474677, 186.10258620433868, 183.23555531062365, 156.56025172844897, 150.27870868052057, 116.48164944226869, 93.48245976446204, 68.53839943561394, 68.15762062428142, 63.64858074119513, 63.53618746852822, 57.273187107013946, 55.26107786733843, 53.926229986370004, 51.45090872728535, 48.846011542600806, 47.79982703611168, 7729.345255027236, 7610.6509260351195, 8350.480546615465, 6163.019410149975, 3043.1571329706526, 3679.7733886969295, 8765.698958904386, 8375.910369094792, 5235.999948945093, 9886.941007396861, 6763.306138183774, 5745.137307603584, 7107.470432184574, 573.554140306885, 766.4099238885054, 15708.306114851766, 800.886798596081, 1155.539565050935, 1958.1302185440522, 1888.3288361012799, 1776.4791496675496, 1120.582348448823, 1096.8883429466516, 994.0070087092382, 873.5145442097486, 857.450824035817, 765.0062477416033, 762.8187481981997, 734.3937237050709, 671.757884759552, 667.936325286924, 638.6571806615365, 634.5060422328525, 597.7176217801276, 547.6183437695645, 539.4474979867805, 530.9124861798354, 524.6277312796213, 506.0470236042538, 497.4936714721964, 476.42837899702613, 472.77497670542976, 469.276169768464, 460.9877277793447, 446.50199993247776, 410.71838117143085, 402.6772826564706, 384.09366237540024, 1124.7673810489737, 619.8999033719778, 1357.9777612797295, 834.0277459955597, 2384.96262078423, 1396.8606845895258, 1323.312829347282, 4251.175566836823, 1516.4278043616073, 985.0617235049187, 876.0242279464841, 1560.800481462629, 938.5519507670651, 704.8397757982259, 1481.0560973497838, 1360.344444314859, 797.3640300509331, 911.669575881055, 1817.7780229603895, 1674.85677227498, 3463.0677972229523, 1272.4746501760815, 1162.252190766493, 1028.9963953379154, 943.2440340833277, 932.5536210392511, 883.895951660831, 883.6236984562272, 826.2081984308988, 790.566810538608, 743.0583173564974, 712.0507180580313, 700.4470348779549, 664.4950592662617, 648.8332624642004, 644.5518124962391, 576.2980620017765, 573.0978806235623, 565.9236043147281, 522.89720965921, 437.4653179560905, 429.83479573342265, 420.51619476716115, 415.46195981225424, 394.40280970364773, 390.1156002360561, 365.7261740190919, 349.3470079722004, 1180.323625234432, 1324.7507241676587, 2492.1719669052577, 1918.2456703576622, 3655.5871491382513, 1001.909599601346, 8011.014272073804, 1290.0083695857734, 1347.9256053987654, 1699.860050915637, 1081.1008046639781, 2320.448097161385, 1139.4148778443246, 2818.6659325795063, 1238.4852144007389, 1945.5552941707938, 5520.900773184696, 55137.731353572744, 12204.996018789776, 608.8890739481071, 273.37283976530244, 211.24107553266498, 188.68008426344025, 185.59385558481785, 115.92130408765308, 115.21074002959371, 60.91986387225422, 57.402610882623314, 27.873631979935112, 5745.137307603584, 196.86436570661795, 5235.999948945093, 1.5324480516734544, 1.53176015826239, 1.5318507704205877, 1.5317524088910117, 1.5317556714127207, 1.5317606866287377, 1.5317240535057324, 1.5317186952632267, 1.5317170825355126, 1.5317084869115976, 1.531708466412408, 1.5317268274591407, 1.5317258793325736, 1.5317045378679153, 1.531726621270264, 7729.345255027236, 7610.6509260351195, 104.27368975072372, 874.3387856259619, 3509.3123068934115, 5642.507821322708, 4061.769034325013, 2107.7391809359906, 1181.9191743831102, 1109.19704967942, 1039.8563557270431, 984.3032712939821, 974.3418670186857, 941.1394488460716, 846.1515796447338, 764.7492647005288, 700.562244463996, 616.6208615502422, 549.6589090884141, 532.4357612034611, 497.4506844690613, 489.9324118157731, 484.2981580654837, 461.09877317075706, 455.01704954059716, 443.9715615339494, 443.08404245355734, 433.1473959167579, 428.19531161224404, 417.07618258201086, 403.5473648568318, 354.08858264743816, 352.11415128614647, 350.76169212591935, 343.232172026868, 337.74839488699064, 1209.9887598718142, 730.0591778596593, 436.89961281476434, 2750.1198213261832, 2653.628623006334, 727.5283465734985, 1345.1996085884239, 896.7400917820893, 562.5463163560086, 1566.0578243543252, 1835.415126504225, 8011.014272073804, 1265.548292851848, 1216.9265749320855, 1289.160220948512, 2205.078730228353, 1945.5552941707938, 2356.3826521806345, 1896.4154198576537, 1232.4880858233396, 1160.5780238327682, 916.6816523111065, 850.2623634113079, 818.6308384877832, 812.1480778709746, 793.8130295382922, 785.3041213779907, 706.9465523560192, 690.0284564745631, 659.6900022304915, 605.2952603859962, 573.9608649630809, 520.5456455842796, 466.1663889587172, 436.0810796223049, 423.5531805720527, 417.686424169302, 407.36368619435177, 406.6130100141216, 402.5783142470842, 385.18747987929373, 342.40083177516516, 340.6357362460494, 340.4135068882441, 335.9724339514757, 333.63638982576106, 333.04583738954034, 1290.121418991823, 1557.9780552170905, 1026.4023868740894, 523.9272415986421, 780.25674181465, 1784.893143839578, 1978.7984428910897, 812.7091707103459, 653.0292657710389, 502.30993036535193, 720.0168060459496, 626.2565628990656, 9886.941007396861, 1427.1257814600085, 1044.4982768107507, 821.0643281469505, 790.2323349303174, 744.4020882635815, 684.6199288735047, 553.7601337728713, 523.5360661093061, 520.1044297187374, 466.2633188047172, 408.17246657704993, 403.7521600466588, 377.13919553941093, 295.4034139523504, 279.98577202155656, 197.46200759450676, 194.02279844621955, 184.87991018109508, 173.52290326641946, 164.77273005975593, 162.99103567404222, 160.00220189701125, 157.8502149897474, 137.98428553768542, 136.82257184778146, 124.39306762382556, 118.28615790736202, 113.9549730539666, 110.69015751449382, 104.7677876165938, 435.5347613257761, 15708.306114851766, 538.6183768614541, 611.420766713194, 1034.233415734502, 476.2769658225024, 7107.470432184574, 1159.9241868341085, 1584.3586565576902, 501.7569364636712, 671.7979086320585, 484.8236912731314, 2130.9304711040713, 8350.480546615465, 1268.0272025159854, 2101.184193869883, 2384.96262078423, 2821.888954108647, 1672.8583626560105, 1479.3415256277224, 916.3596764303151, 867.7435714414682, 865.9176864457966, 715.5417654829109, 713.5466472295336, 697.6806444858904, 645.8704930539227, 640.70071004245, 627.2414260913723, 440.43619798378, 426.4512583074461, 393.2628912469575, 392.70953090046123, 375.35121607015253, 365.36236979434153, 358.06680593417605, 353.1847425644761, 337.0294789273598, 335.5394788180404, 333.87727836996265, 327.2255484279372, 318.0352619007949, 294.3491185151788, 290.1133935959461, 281.7634742501281, 234.68520708639923, 231.35957336751622, 706.8608673406171, 906.4187158277692, 1139.2529483280325, 447.9615856539649, 683.4593722489387, 646.4927715923144, 1155.539565050935, 544.4223608084175, 514.7696295951289, 2320.448097161385, 1285.3666533739624, 1044.8882525127785, 924.3063406291693, 776.0752847296062, 709.9469973318221, 574.1711147225851, 516.6194981461409, 495.89491424426535, 478.49391148322104, 450.57506090985237, 421.32768557976914, 418.3116317326838, 416.94329799996353, 380.49635574467527, 377.88117392221307, 376.45499535981173, 338.9923937335922, 318.4195715999659, 317.14835773265224, 311.4475900536351, 308.7421519665578, 302.3746242751042, 296.32903724416326, 295.09139779469155, 281.6472568730524, 275.91487852420875, 273.7588330089645, 266.9680122191248, 258.82439610494856, 258.19021908873077, 252.48727796940867, 234.78385751300905, 662.7677867372969, 999.3036162735401, 655.4377063613796, 322.93468439351926, 806.8732630932524, 923.5996531058329, 2061.565526606209, 8011.014272073804, 618.4392200282324, 2133.5005861892796, 970.2730659628909, 877.5759537094664, 795.322715846888, 787.6579964877786, 757.1735408144651, 730.196015783746, 687.0186961564311, 680.0009324520809, 672.5188356660128, 561.1539504858547, 518.3848028137294, 495.31389687196344, 456.2167697247599, 445.44729663065806, 409.92983246354777, 400.0619629642004, 395.2020472064815, 385.14030028188523, 379.56476864551666, 356.2547678989433, 327.0481330791136, 324.12973470586513, 298.39677500659815, 273.3913929874663, 272.38035158792366, 251.70016703919137, 244.0199512994176, 243.87858678754762, 229.7429534506699, 2101.184193869883, 557.2267763874627, 1207.2144833523682, 658.3256478337361, 1504.890829219304, 1538.6222876489212, 2830.699069057672, 2169.688803968163, 1758.4028736648602, 787.8738933792631, 731.4334246285148, 590.8789669611249, 578.1732204037762, 551.7330753883022, 538.8232486471769, 495.82249714293016, 395.33143459841983, 349.9190113936623, 315.1242498735244, 291.98035616096394, 286.6954882769556, 282.6103215144701, 269.5672452948192, 255.26654967159405, 254.87799899239508, 244.9516060650405, 211.54772682974465, 210.50484973442357, 205.5293436867509, 203.43327564144073, 201.26914957364698, 195.2934951675342, 179.95675369713993, 178.52576794455914, 175.22975768941902, 173.18776366561207, 169.88544468219453, 2061.565526606209, 1151.393568193354, 382.72332990760634, 316.5131819058496, 770.7334391423204, 1026.7817528848498, 1784.893143839578, 6163.019410149975, 552.1331201827835, 9886.941007396861, 1104.505932119972, 2366.8696318893494, 1266.6221134738155, 857.7378691820378, 767.7871905547697, 721.8458730483715, 530.026227337254, 503.30102773209506, 491.58696527521147, 433.31530964867636, 406.1716690401399, 352.77847426710474, 334.62579161222584, 321.77070918231306, 306.62435966439864, 298.5721427129943, 274.55504283896175, 252.42473686661455, 250.2721317459486, 245.89479696581625, 232.21718126008597, 225.66423685216063, 221.85342278734376, 218.51281513323258, 210.90868901546105, 210.90868901546105, 209.7563043545307, 209.0286462006196, 192.30152423154408, 183.00977213095157, 183.0066822989553, 177.240780280117, 469.9584294160669, 353.2585521059752, 440.77410863973836, 515.5998094519368, 648.0007269269969, 296.0174589022551, 1508.6196513228083, 573.5396152048081, 692.7305179192714, 1718.5473890053636, 1003.6651735578029, 832.314916224976, 641.8546610649009, 590.5834641291725, 553.8820785748202, 533.3537714031021, 489.04826238396754, 468.85137261834325, 452.01323845311305, 415.7999016384912, 376.90702824792174, 363.5449461331184, 337.75995876025826, 327.8215895000135, 327.49818715975323, 294.8312031430904, 226.05370995225238, 188.8800964591985, 188.46192986197343, 174.1123874446411, 161.62769554180224, 156.53175082810017, 145.04412766076763, 144.61426031614712, 144.34504805974095, 138.96180093177162, 136.8615687771009, 135.9275501850197, 131.7175660101588, 130.14318048966473, 598.7424327391436, 326.72400186261893, 345.80525960478104, 426.45886591049174, 573.554140306885, 1097.1856243258173, 913.388957984238, 671.1833267858757, 513.0791085997547, 497.3745844103424, 480.55795578374466, 470.16677899055594, 450.929989400394, 413.6986730296622, 388.90295846531507, 387.96974121637277, 339.44275250431224, 315.6105460802749, 299.2923861600814, 297.84954777664586, 246.31182383996762, 231.14557239111562, 226.33858166236917, 216.98326368148525, 205.34409375289493, 191.59897834651363, 188.62066356207868, 186.75851630007585, 174.49319919017998, 173.6543152212799, 172.2003804646698, 161.76799853283046, 160.7123847732978, 160.68268232662837, 151.2146911966333, 659.8327587837026, 460.3807826794731, 545.5021281934742, 435.14513734350754, 370.6703909281059, 336.20783532997535, 316.8112339010837, 310.4416026471861, 287.20818544704514, 248.61221409636457, 243.62325033847813, 241.02433024324833, 217.01593728392027, 205.02217407039913, 198.31098696450215, 190.0961803862353, 187.484498228178, 174.99191616145728, 170.43706627958997, 160.79744804979723, 159.99992381659692, 158.38794929424637, 153.93684355635136, 147.23627790783962, 144.87259359837986, 142.1644364087599, 141.0922137010564, 137.23096753831817, 133.09911608150838, 131.521334779899, 123.42728071908824, 122.41458737873626, 8375.910369094792, 433.6355783289722, 824.3732172988982, 593.135730631843, 534.8572804290637, 439.79314602458714, 430.9618177786262, 429.6587370842434, 383.91292815263535, 280.58269694999916, 255.81992957913116, 235.52270213426425, 228.43503883609728, 216.4390710150191, 201.78708709457769, 189.6545745817042, 177.98061930329789, 177.45395916842114, 175.85458705227097, 173.55495254415894, 160.57818118598024, 144.31210166539225, 136.0820252349911, 135.8542179061602, 127.99529951011799, 122.47580410839568, 122.18590601102603, 121.4227589144268, 109.44041379636586, 105.54879546591866, 102.41216330650441, 102.06049198223171, 784.2220971260581, 263.5106989928806, 203.51979783769087, 290.3916942009905, 2366.8696318893494, 293.2640899276962, 798.8969748223544, 537.7768863720352, 517.8540330184078, 452.3657935114268, 450.9554648955643, 374.2760683349413, 360.43205584530756, 337.3781550120792, 332.83715835102066, 298.91376944854005, 253.12301494900078, 245.73109462285993, 213.94158268539235, 204.20419646133712, 186.82558445689656, 186.77020801024804, 172.31164076840875, 151.03133449110464, 142.4233683201943, 140.3051505767115, 138.76851357059147, 133.96669111592115, 117.51252389240994, 98.12166957295828, 96.064933161658, 84.33921605454879, 82.01565234268331, 81.6484026045576, 72.39524448112051, 70.46016870731556, 218.34673361910893, 829.0542719730355, 331.9975076457217, 298.8364412520388, 279.7190266844455, 248.17319859711665, 246.19735112164975, 240.8251421761924, 238.40531807220592, 215.6500856806557, 205.06067921658683, 194.31497168723538, 174.0373446103696, 153.9271704532092, 144.4484748539185, 143.47365188207297, 142.18142020636154, 136.72618082806565, 136.12376364761823, 132.38897933172385, 126.94697264501076, 125.70515121966821, 113.60069684123863, 108.91060158123369, 102.06557057187182, 84.37889869242466, 84.1639590113806, 72.49277636040289, 60.05900672962933, 49.70825765253941, 49.48880832679076, 242.50913790265315, 438.683618450664, 491.0549882059636, 343.56463524711404], \"Category\": [\"Default\", \"Default\", \"Default\", \"Default\", \"Default\", \"Default\", \"Default\", \"Default\", \"Default\", \"Default\", \"Default\", \"Default\", \"Default\", \"Default\", \"Default\", \"Default\", \"Default\", \"Default\", \"Default\", \"Default\", \"Default\", \"Default\", \"Default\", \"Default\", \"Default\", \"Default\", \"Default\", \"Default\", \"Default\", \"Default\", \"Topic1\", \"Topic1\", \"Topic1\", \"Topic1\", \"Topic1\", \"Topic1\", \"Topic1\", \"Topic1\", \"Topic1\", \"Topic1\", \"Topic1\", \"Topic1\", \"Topic1\", \"Topic1\", \"Topic1\", \"Topic1\", \"Topic1\", \"Topic1\", \"Topic1\", \"Topic1\", \"Topic1\", \"Topic1\", \"Topic1\", \"Topic1\", \"Topic1\", \"Topic1\", \"Topic1\", \"Topic1\", \"Topic1\", \"Topic1\", \"Topic1\", \"Topic1\", \"Topic1\", \"Topic1\", \"Topic1\", \"Topic1\", \"Topic1\", \"Topic1\", \"Topic1\", \"Topic1\", \"Topic1\", \"Topic1\", \"Topic1\", \"Topic1\", \"Topic1\", \"Topic1\", \"Topic1\", \"Topic1\", \"Topic1\", \"Topic1\", \"Topic1\", \"Topic1\", \"Topic1\", \"Topic2\", \"Topic2\", \"Topic2\", \"Topic2\", \"Topic2\", \"Topic2\", \"Topic2\", \"Topic2\", \"Topic2\", \"Topic2\", \"Topic2\", \"Topic2\", \"Topic2\", \"Topic2\", \"Topic2\", \"Topic2\", \"Topic2\", \"Topic2\", \"Topic2\", \"Topic2\", \"Topic2\", \"Topic2\", \"Topic2\", \"Topic2\", \"Topic2\", \"Topic2\", \"Topic2\", \"Topic2\", \"Topic2\", \"Topic2\", \"Topic2\", \"Topic2\", \"Topic2\", \"Topic2\", \"Topic2\", \"Topic2\", \"Topic2\", \"Topic2\", \"Topic2\", \"Topic2\", \"Topic2\", \"Topic2\", \"Topic2\", \"Topic2\", \"Topic2\", \"Topic2\", \"Topic2\", \"Topic2\", \"Topic2\", \"Topic2\", \"Topic3\", \"Topic3\", \"Topic3\", \"Topic3\", \"Topic3\", \"Topic3\", \"Topic3\", \"Topic3\", \"Topic3\", \"Topic3\", \"Topic3\", \"Topic3\", \"Topic3\", \"Topic3\", \"Topic3\", \"Topic3\", \"Topic3\", \"Topic3\", \"Topic3\", \"Topic3\", \"Topic3\", \"Topic3\", \"Topic3\", \"Topic3\", \"Topic3\", \"Topic3\", \"Topic3\", \"Topic3\", \"Topic3\", \"Topic3\", \"Topic3\", \"Topic3\", \"Topic3\", \"Topic3\", \"Topic3\", \"Topic3\", \"Topic3\", \"Topic3\", \"Topic3\", \"Topic3\", \"Topic3\", \"Topic3\", \"Topic3\", \"Topic3\", \"Topic3\", \"Topic3\", \"Topic3\", \"Topic3\", \"Topic4\", \"Topic4\", \"Topic4\", \"Topic4\", \"Topic4\", \"Topic4\", \"Topic4\", \"Topic4\", \"Topic4\", \"Topic4\", \"Topic4\", \"Topic4\", \"Topic4\", \"Topic4\", \"Topic4\", \"Topic4\", \"Topic4\", \"Topic4\", \"Topic4\", \"Topic4\", \"Topic4\", \"Topic4\", \"Topic4\", \"Topic4\", \"Topic4\", \"Topic4\", \"Topic4\", \"Topic4\", \"Topic4\", \"Topic4\", \"Topic4\", \"Topic4\", \"Topic4\", \"Topic4\", \"Topic4\", \"Topic4\", \"Topic4\", \"Topic4\", \"Topic4\", \"Topic4\", \"Topic4\", \"Topic4\", \"Topic4\", \"Topic4\", \"Topic4\", \"Topic4\", \"Topic4\", \"Topic4\", \"Topic5\", \"Topic5\", \"Topic5\", \"Topic5\", \"Topic5\", \"Topic5\", \"Topic5\", \"Topic5\", \"Topic5\", \"Topic5\", \"Topic5\", \"Topic5\", \"Topic5\", \"Topic5\", \"Topic5\", \"Topic5\", \"Topic5\", \"Topic5\", \"Topic5\", \"Topic5\", \"Topic5\", \"Topic5\", \"Topic5\", \"Topic5\", \"Topic5\", \"Topic5\", \"Topic5\", \"Topic5\", \"Topic5\", \"Topic5\", \"Topic5\", \"Topic5\", \"Topic5\", \"Topic5\", \"Topic5\", \"Topic5\", \"Topic5\", \"Topic5\", \"Topic5\", \"Topic5\", \"Topic5\", \"Topic5\", \"Topic5\", \"Topic5\", \"Topic5\", \"Topic5\", \"Topic5\", \"Topic6\", \"Topic6\", \"Topic6\", \"Topic6\", \"Topic6\", \"Topic6\", \"Topic6\", \"Topic6\", \"Topic6\", \"Topic6\", \"Topic6\", \"Topic6\", \"Topic6\", \"Topic6\", \"Topic6\", \"Topic6\", \"Topic6\", \"Topic6\", \"Topic6\", \"Topic6\", \"Topic6\", \"Topic6\", \"Topic6\", \"Topic6\", \"Topic6\", \"Topic6\", \"Topic6\", \"Topic6\", \"Topic6\", \"Topic6\", \"Topic6\", \"Topic6\", \"Topic6\", \"Topic6\", \"Topic6\", \"Topic6\", \"Topic7\", \"Topic7\", \"Topic7\", \"Topic7\", \"Topic7\", \"Topic7\", \"Topic7\", \"Topic7\", \"Topic7\", \"Topic7\", \"Topic7\", \"Topic7\", \"Topic7\", \"Topic7\", \"Topic7\", \"Topic7\", \"Topic7\", \"Topic7\", \"Topic7\", \"Topic7\", \"Topic7\", \"Topic7\", \"Topic7\", \"Topic7\", \"Topic7\", \"Topic7\", \"Topic7\", \"Topic7\", \"Topic7\", \"Topic7\", \"Topic7\", \"Topic7\", \"Topic7\", \"Topic7\", \"Topic7\", \"Topic7\", \"Topic7\", \"Topic7\", \"Topic7\", \"Topic7\", \"Topic7\", \"Topic7\", \"Topic7\", \"Topic7\", \"Topic7\", \"Topic7\", \"Topic7\", \"Topic8\", \"Topic8\", \"Topic8\", \"Topic8\", \"Topic8\", \"Topic8\", \"Topic8\", \"Topic8\", \"Topic8\", \"Topic8\", \"Topic8\", \"Topic8\", \"Topic8\", \"Topic8\", \"Topic8\", \"Topic8\", \"Topic8\", \"Topic8\", \"Topic8\", \"Topic8\", \"Topic8\", \"Topic8\", \"Topic8\", \"Topic8\", \"Topic8\", \"Topic8\", \"Topic8\", \"Topic8\", \"Topic8\", \"Topic8\", \"Topic8\", \"Topic8\", \"Topic8\", \"Topic8\", \"Topic8\", \"Topic8\", \"Topic8\", \"Topic8\", \"Topic8\", \"Topic8\", \"Topic8\", \"Topic8\", \"Topic8\", \"Topic9\", \"Topic9\", \"Topic9\", \"Topic9\", \"Topic9\", \"Topic9\", \"Topic9\", \"Topic9\", \"Topic9\", \"Topic9\", \"Topic9\", \"Topic9\", \"Topic9\", \"Topic9\", \"Topic9\", \"Topic9\", \"Topic9\", \"Topic9\", \"Topic9\", \"Topic9\", \"Topic9\", \"Topic9\", \"Topic9\", \"Topic9\", \"Topic9\", \"Topic9\", \"Topic9\", \"Topic9\", \"Topic9\", \"Topic9\", \"Topic9\", \"Topic9\", \"Topic9\", \"Topic9\", \"Topic9\", \"Topic9\", \"Topic9\", \"Topic9\", \"Topic9\", \"Topic9\", \"Topic9\", \"Topic9\", \"Topic9\", \"Topic9\", \"Topic9\", \"Topic9\", \"Topic9\", \"Topic10\", \"Topic10\", \"Topic10\", \"Topic10\", \"Topic10\", \"Topic10\", \"Topic10\", \"Topic10\", \"Topic10\", \"Topic10\", \"Topic10\", \"Topic10\", \"Topic10\", \"Topic10\", \"Topic10\", \"Topic10\", \"Topic10\", \"Topic10\", \"Topic10\", \"Topic10\", \"Topic10\", \"Topic10\", \"Topic10\", \"Topic10\", \"Topic10\", \"Topic10\", \"Topic10\", \"Topic10\", \"Topic10\", \"Topic10\", \"Topic10\", \"Topic10\", \"Topic10\", \"Topic10\", \"Topic10\", \"Topic10\", \"Topic10\", \"Topic10\", \"Topic10\", \"Topic10\", \"Topic10\", \"Topic10\", \"Topic11\", \"Topic11\", \"Topic11\", \"Topic11\", \"Topic11\", \"Topic11\", \"Topic11\", \"Topic11\", \"Topic11\", \"Topic11\", \"Topic11\", \"Topic11\", \"Topic11\", \"Topic11\", \"Topic11\", \"Topic11\", \"Topic11\", \"Topic11\", \"Topic11\", \"Topic11\", \"Topic11\", \"Topic11\", \"Topic11\", \"Topic11\", \"Topic11\", \"Topic11\", \"Topic11\", \"Topic11\", \"Topic11\", \"Topic11\", \"Topic11\", \"Topic11\", \"Topic11\", \"Topic11\", \"Topic11\", \"Topic11\", \"Topic11\", \"Topic11\", \"Topic11\", \"Topic12\", \"Topic12\", \"Topic12\", \"Topic12\", \"Topic12\", \"Topic12\", \"Topic12\", \"Topic12\", \"Topic12\", \"Topic12\", \"Topic12\", \"Topic12\", \"Topic12\", \"Topic12\", \"Topic12\", \"Topic12\", \"Topic12\", \"Topic12\", \"Topic12\", \"Topic12\", \"Topic12\", \"Topic12\", \"Topic12\", \"Topic12\", \"Topic12\", \"Topic12\", \"Topic12\", \"Topic12\", \"Topic12\", \"Topic12\", \"Topic12\", \"Topic12\", \"Topic12\", \"Topic12\", \"Topic12\", \"Topic12\", \"Topic12\", \"Topic13\", \"Topic13\", \"Topic13\", \"Topic13\", \"Topic13\", \"Topic13\", \"Topic13\", \"Topic13\", \"Topic13\", \"Topic13\", \"Topic13\", \"Topic13\", \"Topic13\", \"Topic13\", \"Topic13\", \"Topic13\", \"Topic13\", \"Topic13\", \"Topic13\", \"Topic13\", \"Topic13\", \"Topic13\", \"Topic13\", \"Topic13\", \"Topic13\", \"Topic13\", \"Topic13\", \"Topic13\", \"Topic13\", \"Topic13\", \"Topic13\", \"Topic13\", \"Topic13\", \"Topic13\", \"Topic13\", \"Topic13\", \"Topic13\", \"Topic13\", \"Topic13\", \"Topic13\", \"Topic13\", \"Topic13\", \"Topic14\", \"Topic14\", \"Topic14\", \"Topic14\", \"Topic14\", \"Topic14\", \"Topic14\", \"Topic14\", \"Topic14\", \"Topic14\", \"Topic14\", \"Topic14\", \"Topic14\", \"Topic14\", \"Topic14\", \"Topic14\", \"Topic14\", \"Topic14\", \"Topic14\", \"Topic14\", \"Topic14\", \"Topic14\", \"Topic14\", \"Topic14\", \"Topic14\", \"Topic14\", \"Topic14\", \"Topic14\", \"Topic14\", \"Topic14\", \"Topic14\", \"Topic14\", \"Topic14\", \"Topic14\", \"Topic14\", \"Topic14\", \"Topic14\", \"Topic14\", \"Topic14\", \"Topic14\", \"Topic15\", \"Topic15\", \"Topic15\", \"Topic15\", \"Topic15\", \"Topic15\", \"Topic15\", \"Topic15\", \"Topic15\", \"Topic15\", \"Topic15\", \"Topic15\", \"Topic15\", \"Topic15\", \"Topic15\", \"Topic15\", \"Topic15\", \"Topic15\", \"Topic15\", \"Topic15\", \"Topic15\", \"Topic15\", \"Topic15\", \"Topic15\", \"Topic15\", \"Topic15\", \"Topic15\", \"Topic15\", \"Topic15\", \"Topic15\", \"Topic15\", \"Topic15\", \"Topic15\", \"Topic15\", \"Topic15\", \"Topic16\", \"Topic16\", \"Topic16\", \"Topic16\", \"Topic16\", \"Topic16\", \"Topic16\", \"Topic16\", \"Topic16\", \"Topic16\", \"Topic16\", \"Topic16\", \"Topic16\", \"Topic16\", \"Topic16\", \"Topic16\", \"Topic16\", \"Topic16\", \"Topic16\", \"Topic16\", \"Topic16\", \"Topic16\", \"Topic16\", \"Topic16\", \"Topic16\", \"Topic16\", \"Topic16\", \"Topic16\", \"Topic16\", \"Topic16\", \"Topic16\", \"Topic16\", \"Topic17\", \"Topic17\", \"Topic17\", \"Topic17\", \"Topic17\", \"Topic17\", \"Topic17\", \"Topic17\", \"Topic17\", \"Topic17\", \"Topic17\", \"Topic17\", \"Topic17\", \"Topic17\", \"Topic17\", \"Topic17\", \"Topic17\", \"Topic17\", \"Topic17\", \"Topic17\", \"Topic17\", \"Topic17\", \"Topic17\", \"Topic17\", \"Topic17\", \"Topic17\", \"Topic17\", \"Topic17\", \"Topic17\", \"Topic17\", \"Topic17\", \"Topic17\", \"Topic18\", \"Topic18\", \"Topic18\", \"Topic18\", \"Topic18\", \"Topic18\", \"Topic18\", \"Topic18\", \"Topic18\", \"Topic18\", \"Topic18\", \"Topic18\", \"Topic18\", \"Topic18\", \"Topic18\", \"Topic18\", \"Topic18\", \"Topic18\", \"Topic18\", \"Topic18\", \"Topic18\", \"Topic18\", \"Topic18\", \"Topic18\", \"Topic18\", \"Topic18\", \"Topic18\", \"Topic18\", \"Topic18\", \"Topic18\", \"Topic18\", \"Topic18\", \"Topic18\", \"Topic18\", \"Topic18\", \"Topic18\", \"Topic19\", \"Topic19\", \"Topic19\", \"Topic19\", \"Topic19\", \"Topic19\", \"Topic19\", \"Topic19\", \"Topic19\", \"Topic19\", \"Topic19\", \"Topic19\", \"Topic19\", \"Topic19\", \"Topic19\", \"Topic19\", \"Topic19\", \"Topic19\", \"Topic19\", \"Topic19\", \"Topic19\", \"Topic19\", \"Topic19\", \"Topic19\", \"Topic19\", \"Topic19\", \"Topic19\", \"Topic19\", \"Topic19\", \"Topic19\", \"Topic19\", \"Topic20\", \"Topic20\", \"Topic20\", \"Topic20\", \"Topic20\", \"Topic20\", \"Topic20\", \"Topic20\", \"Topic20\", \"Topic20\", \"Topic20\", \"Topic20\", \"Topic20\", \"Topic20\", \"Topic20\", \"Topic20\", \"Topic20\", \"Topic20\", \"Topic20\", \"Topic20\", \"Topic20\", \"Topic20\", \"Topic20\", \"Topic20\", \"Topic20\", \"Topic20\", \"Topic20\", \"Topic20\", \"Topic20\", \"Topic20\", \"Topic20\", \"Topic20\", \"Topic20\", \"Topic20\"], \"logprob\": [30.0, 29.0, 28.0, 27.0, 26.0, 25.0, 24.0, 23.0, 22.0, 21.0, 20.0, 19.0, 18.0, 17.0, 16.0, 15.0, 14.0, 13.0, 12.0, 11.0, 10.0, 9.0, 8.0, 7.0, 6.0, 5.0, 4.0, 3.0, 2.0, 1.0, -3.3495, -3.7533, -4.2236, -4.7356, -4.7398, -4.7692, -4.8005, -4.8109, -4.8494, -4.9035, -4.9138, -4.9916, -4.9976, -4.9982, -5.0741, -5.098, -5.1594, -5.203, -5.2053, -5.2677, -5.3012, -5.3803, -5.4844, -5.5156, -5.5594, -5.5867, -5.643, -5.7761, -5.7797, -5.7863, -3.4992, -3.5918, -3.2837, -4.5102, -4.0758, -4.9889, -4.8666, -5.0804, -4.7248, -3.9331, -4.8395, -3.9503, -4.6439, -4.5193, -4.9416, -4.8082, -3.8288, -4.78, -4.7397, -4.8667, -4.894, -4.893, -4.9135, -3.0496, -3.4613, -4.0814, -4.2416, -4.0739, -4.578, -4.6775, -3.2515, -4.7225, -4.7706, -4.9025, -4.904, -4.9573, -4.9591, -4.9923, -5.1412, -5.2167, -5.2685, -5.3106, -3.7274, -5.3411, -5.349, -5.4241, -5.4713, -5.4748, -5.5032, -5.506, -5.5172, -5.6014, -5.6036, -4.7703, -5.1259, -5.3019, -4.7153, -4.8071, -3.2934, -5.3618, -5.2603, -4.2945, -4.9005, -3.9821, -4.992, -5.0178, -5.0504, -4.9273, -4.2421, -4.8339, -4.6533, -4.5007, -4.6918, -2.4195, -2.6266, -2.7982, -3.6916, -3.7517, -3.841, -4.1804, -4.3638, -5.6349, -5.9944, -3.4193, -6.2184, -6.3821, -6.3833, -6.4648, -6.4805, -6.6392, -6.6806, -6.9382, -7.1613, -7.4776, -7.4833, -7.5533, -7.5551, -7.6615, -7.6983, -7.7234, -7.7717, -7.8253, -7.8476, -2.778, -2.812, -2.7284, -3.0291, -3.7493, -3.639, -2.8267, -2.9207, -3.387, -2.8811, -3.3773, -3.6202, -3.5249, -5.6763, -5.5431, -4.1242, -5.9666, -6.3356, -3.911, -3.9473, -4.0084, -4.4697, -4.4911, -4.5897, -4.7191, -4.7377, -4.852, -4.8549, -4.8929, -4.9822, -4.988, -5.0329, -5.0394, -5.0993, -5.187, -5.2021, -5.2181, -5.2301, -5.2662, -5.2833, -5.3267, -5.3344, -5.3419, -5.3598, -5.3918, -5.4756, -5.4954, -5.5429, -4.5182, -5.0845, -4.3446, -4.8299, -3.9611, -4.4226, -4.4874, -3.5305, -4.3905, -4.7592, -4.8645, -4.4714, -4.868, -5.0567, -4.6804, -4.8475, -5.0204, -4.999, -3.8289, -3.9108, -3.1845, -4.1859, -4.2766, -4.3985, -4.4857, -4.4971, -4.5508, -4.5511, -4.6184, -4.6625, -4.7246, -4.7673, -4.7838, -4.8366, -4.8605, -4.8672, -4.9793, -4.9849, -4.9976, -5.0768, -5.2558, -5.2734, -5.2954, -5.3076, -5.3598, -5.3707, -5.4355, -5.4816, -4.2819, -4.1822, -3.6231, -3.8749, -3.2958, -4.5136, -2.7209, -4.3714, -4.3812, -4.2432, -4.5885, -4.1304, -4.6348, -4.277, -4.6543, -4.6149, -4.5571, -0.3095, -1.8176, -4.8177, -5.6213, -5.8807, -5.9944, -6.011, -6.4862, -6.4925, -7.1406, -7.2015, -7.9506, -3.3757, -7.2697, -4.1783, -13.1915, -13.1928, -13.1928, -13.1929, -13.193, -13.193, -13.1931, -13.1931, -13.1931, -13.1932, -13.1932, -13.1932, -13.1932, -13.1932, -13.1932, -5.3451, -5.6695, -10.3125, -9.1284, -9.457, -9.6181, -2.8679, -3.5242, -4.1033, -4.1668, -4.2315, -4.2865, -4.2967, -4.3314, -4.4379, -4.5393, -4.6271, -4.755, -4.8703, -4.9022, -4.9704, -4.9856, -4.9972, -5.0465, -5.0598, -5.0845, -5.0865, -5.1092, -5.1208, -5.1472, -5.1803, -5.3115, -5.3171, -5.321, -5.3428, -5.359, -4.1713, -4.6991, -5.1363, -3.6218, -3.6706, -4.7301, -4.2701, -4.5763, -4.9343, -4.3156, -4.3603, -3.6847, -4.5793, -4.7791, -4.8696, -4.9379, -4.9417, -3.2204, -3.4377, -3.869, -3.9292, -4.1655, -4.2408, -4.2788, -4.2868, -4.3096, -4.3204, -4.4258, -4.45, -4.4951, -4.5813, -4.6346, -4.7326, -4.8432, -4.9102, -4.9394, -4.9534, -4.9785, -4.9804, -4.9904, -5.0347, -5.1529, -5.1581, -5.1588, -5.172, -5.179, -5.1808, -3.8713, -3.6955, -4.1008, -4.7609, -4.4062, -3.7308, -3.7047, -4.5152, -4.7083, -4.8672, -4.6806, -4.8444, -4.6563, -3.4586, -3.7711, -4.0122, -4.0505, -4.1104, -4.1943, -4.4069, -4.4632, -4.4698, -4.5794, -4.7129, -4.7238, -4.7923, -5.0376, -5.0915, -5.4429, -5.4606, -5.5092, -5.5731, -5.6253, -5.6363, -5.655, -5.6686, -5.8045, -5.813, -5.9093, -5.9603, -5.9981, -6.0275, -6.0833, -4.677, -1.1894, -4.4892, -4.3808, -4.0729, -4.9048, -2.9894, -4.2876, -4.1695, -4.9883, -4.8988, -5.1503, -4.6879, -4.3165, -4.91, -4.7876, -4.9452, -2.6858, -3.209, -3.332, -3.8116, -3.8662, -3.8683, -4.0594, -4.0622, -4.0847, -4.1621, -4.1701, -4.1914, -4.546, -4.5783, -4.6596, -4.661, -4.7064, -4.7335, -4.7538, -4.7675, -4.8146, -4.819, -4.824, -4.8442, -4.8728, -4.9506, -4.9652, -4.9945, -5.1784, -5.1928, -4.1152, -3.9267, -3.7419, -4.6373, -4.3336, -4.3817, -4.0835, -4.604, -4.6975, -4.4392, -4.64, -4.7215, -3.7925, -3.9676, -4.0568, -4.2695, -4.3754, -4.4165, -4.4523, -4.5126, -4.58, -4.5872, -4.5905, -4.6823, -4.6892, -4.693, -4.7983, -4.8611, -4.8652, -4.8834, -4.8921, -4.9131, -4.9334, -4.9376, -4.9845, -5.0051, -5.013, -5.0383, -5.0694, -5.0719, -5.0943, -5.1675, -4.1459, -3.7945, -4.2026, -4.8806, -4.2131, -4.3673, -3.9576, -4.2679, -4.9161, -2.6562, -3.4449, -3.5455, -3.6441, -3.6538, -3.6933, -3.7297, -3.7908, -3.801, -3.8121, -3.9936, -4.0731, -4.1187, -4.2012, -4.2252, -4.3086, -4.333, -4.3453, -4.3712, -4.3858, -4.4494, -4.5353, -4.5443, -4.6275, -4.7154, -4.7191, -4.7985, -4.8297, -4.8303, -4.8904, -2.8695, -4.1039, -3.5445, -4.3418, -4.2157, -4.2327, -4.1282, -2.5852, -2.7956, -3.5994, -3.6739, -3.8878, -3.9096, -3.9565, -3.9802, -4.0636, -4.2909, -4.4134, -4.5186, -4.5952, -4.6136, -4.628, -4.6755, -4.7303, -4.7319, -4.7718, -4.9194, -4.9243, -4.9484, -4.9588, -4.9695, -4.9999, -5.0823, -5.0904, -5.1092, -5.121, -5.1404, -3.114, -3.9096, -4.6708, -4.8022, -4.4476, -4.3469, -4.3533, -4.2064, -4.7373, -4.1536, -4.6803, -4.5929, -2.8882, -3.2786, -3.3896, -3.4514, -3.761, -3.8129, -3.8365, -3.9631, -4.028, -4.1695, -4.2225, -4.2619, -4.3103, -4.337, -4.4213, -4.5058, -4.5144, -4.5322, -4.5898, -4.6186, -4.6357, -4.651, -4.6867, -4.6867, -4.6922, -4.6957, -4.7797, -4.8296, -4.8296, -4.8619, -3.9008, -4.2027, -4.0995, -4.0038, -3.8786, -4.4438, -4.266, -4.4858, -4.5347, -4.5834, -2.8474, -3.0349, -3.2953, -3.3787, -3.4431, -3.4809, -3.5679, -3.6102, -3.6469, -3.7307, -3.8292, -3.8655, -3.9394, -3.9694, -3.9704, -4.0759, -4.3431, -4.524, -4.5262, -4.6061, -4.6811, -4.7135, -4.7904, -4.7934, -4.7953, -4.8337, -4.8491, -4.856, -4.8878, -4.9, -3.4168, -4.0799, -4.1019, -4.3576, -4.6456, -2.6195, -2.8032, -3.1119, -3.3811, -3.4123, -3.4468, -3.4687, -3.5107, -3.5971, -3.6592, -3.6616, -3.7957, -3.8688, -3.9222, -3.927, -4.1181, -4.182, -4.2032, -4.2457, -4.3012, -4.371, -4.3868, -4.3968, -4.4652, -4.4701, -4.4786, -4.5416, -4.5482, -4.5484, -4.6097, -3.3021, -4.4619, -3.1448, -3.3715, -3.5325, -3.6304, -3.6901, -3.7105, -3.7887, -3.9338, -3.9542, -3.965, -4.0706, -4.1279, -4.1614, -4.204, -4.218, -4.2875, -4.3141, -4.3728, -4.3778, -4.3881, -4.4168, -4.4618, -4.4781, -4.4972, -4.5048, -4.5329, -4.5638, -4.5758, -4.6401, -4.6484, -1.8505, -3.976, -2.6255, -2.9553, -3.059, -3.2553, -3.2757, -3.2787, -3.3917, -3.7066, -3.7995, -3.8827, -3.9134, -3.9677, -4.0383, -4.1008, -4.1648, -4.1678, -4.1769, -4.1902, -4.2686, -4.3764, -4.4358, -4.4374, -4.4977, -4.5423, -4.5447, -4.551, -4.6563, -4.693, -4.7235, -4.727, -3.0958, -3.9719, -4.3558, -4.2984, -3.7356, -4.4122, -2.4519, -2.8486, -2.8865, -3.0221, -3.0252, -3.2122, -3.2501, -3.3165, -3.3301, -3.4381, -3.6052, -3.635, -3.7745, -3.8214, -3.911, -3.9113, -3.9925, -4.1256, -4.1848, -4.2, -4.2111, -4.2467, -4.3793, -4.5621, -4.5836, -4.7159, -4.7444, -4.7489, -4.8716, -4.8992, -3.9197, -2.252, -3.1698, -3.2755, -3.3419, -3.4623, -3.4703, -3.4925, -3.5026, -3.6036, -3.6543, -3.7085, -3.8196, -3.9435, -4.0077, -4.0146, -4.0237, -4.0632, -4.0677, -4.0958, -4.1383, -4.1482, -4.2507, -4.2934, -4.3593, -4.5526, -4.5552, -4.7073, -4.8997, -5.0941, -5.0987, -3.5112, -3.087, -3.1753, -3.7386], \"loglift\": [30.0, 29.0, 28.0, 27.0, 26.0, 25.0, 24.0, 23.0, 22.0, 21.0, 20.0, 19.0, 18.0, 17.0, 16.0, 15.0, 14.0, 13.0, 12.0, 11.0, 10.0, 9.0, 8.0, 7.0, 6.0, 5.0, 4.0, 3.0, 2.0, 1.0, 1.637, 1.6369, 1.6367, 1.6364, 1.6364, 1.6364, 1.6364, 1.6364, 1.6364, 1.6363, 1.6363, 1.6362, 1.6362, 1.6362, 1.6361, 1.6361, 1.6361, 1.636, 1.636, 1.6359, 1.6359, 1.6358, 1.6356, 1.6356, 1.6355, 1.6355, 1.6354, 1.6351, 1.6351, 1.6351, 1.6289, 1.6201, 1.5985, 1.6166, 1.5957, 1.6045, 1.5944, 1.6061, 1.5788, 1.4417, 1.5677, 1.3969, 1.5, 1.4502, 1.5651, 1.5005, 0.8939, 1.4633, 1.2755, 1.4471, 1.4294, 1.3719, 1.1059, 2.0748, 2.0747, 2.0744, 2.0743, 2.0743, 2.074, 2.0739, 2.0739, 2.0739, 2.0738, 2.0736, 2.0736, 2.0736, 2.0736, 2.0735, 2.0733, 2.0731, 2.073, 2.073, 2.0729, 2.0729, 2.0729, 2.0727, 2.0726, 2.0726, 2.0725, 2.0725, 2.0725, 2.0723, 2.0723, 2.0633, 2.0641, 2.0651, 1.986, 1.9467, 1.4293, 2.0345, 1.9987, 1.5714, 1.8389, 1.1621, 1.8148, 1.834, 1.7678, 1.5707, 0.5224, 1.3603, 0.9552, 0.3842, 0.4028, 2.2802, 2.2802, 2.2801, 2.2798, 2.2798, 2.2797, 2.2795, 2.2793, 2.2768, 2.2753, 2.2744, 2.2741, 2.273, 2.273, 2.2723, 2.2722, 2.2708, 2.2704, 2.2675, 2.2643, 2.2585, 2.2583, 2.2568, 2.2567, 2.2541, 2.2531, 2.2524, 2.2511, 2.2495, 2.2488, 2.2327, 2.2141, 2.205, 2.208, 2.1936, 2.1139, 2.0582, 2.0096, 2.0131, 1.8834, 1.7669, 1.6872, 1.5696, 1.9353, 1.7786, 0.1773, 1.3112, 0.5755, 2.4727, 2.4727, 2.4727, 2.4722, 2.4722, 2.472, 2.4718, 2.4718, 2.4716, 2.4716, 2.4715, 2.4713, 2.4713, 2.4712, 2.4712, 2.4711, 2.4708, 2.4708, 2.4708, 2.4707, 2.4706, 2.4706, 2.4704, 2.4704, 2.4704, 2.4703, 2.4702, 2.4699, 2.4699, 2.4697, 2.4199, 2.4494, 2.4051, 2.4073, 2.2254, 2.2989, 2.2881, 2.078, 2.2488, 2.3116, 2.3236, 2.1391, 2.2511, 2.3488, 1.9826, 1.9005, 2.2618, 2.1492, 2.6292, 2.6291, 2.6291, 2.6289, 2.6288, 2.6286, 2.6285, 2.6285, 2.6284, 2.6284, 2.6282, 2.6282, 2.6281, 2.628, 2.6279, 2.6278, 2.6278, 2.6278, 2.6275, 2.6275, 2.6274, 2.6272, 2.6267, 2.6266, 2.6265, 2.6265, 2.6263, 2.6263, 2.626, 2.6258, 2.608, 2.5922, 2.5194, 2.5294, 2.4636, 2.5402, 2.2539, 2.4297, 2.376, 2.282, 2.3893, 2.0836, 2.2904, 1.7425, 2.1875, 1.7753, 0.7901, 2.7364, 2.7363, 2.7341, 2.7313, 2.7298, 2.729, 2.7289, 2.7243, 2.7242, 2.7133, 2.7118, 2.6852, 1.9316, 1.4113, 1.2218, 0.3451, 0.3442, 0.3442, 0.3441, 0.344, 0.344, 0.3439, 0.3439, 0.3439, 0.3439, 0.3439, 0.3439, 0.3439, 0.3439, 0.3439, -0.3345, -0.6434, -0.9961, -1.9384, -3.6567, -4.2928, 2.7862, 2.7859, 2.7853, 2.7852, 2.7851, 2.7851, 2.785, 2.785, 2.7848, 2.7846, 2.7845, 2.7842, 2.7839, 2.7838, 2.7836, 2.7835, 2.7835, 2.7834, 2.7833, 2.7832, 2.7832, 2.7832, 2.7831, 2.783, 2.7829, 2.7824, 2.7824, 2.7824, 2.7823, 2.7822, 2.6938, 2.6712, 2.7474, 2.4223, 2.4092, 2.6437, 2.4891, 2.5884, 2.6967, 2.2915, 2.0881, 1.2902, 2.2409, 2.0803, 1.9321, 1.3271, 1.4485, 2.9782, 2.9781, 2.9776, 2.9776, 2.9772, 2.9771, 2.977, 2.977, 2.977, 2.977, 2.9768, 2.9767, 2.9766, 2.9764, 2.9763, 2.976, 2.9757, 2.9755, 2.9754, 2.9753, 2.9752, 2.9752, 2.9752, 2.975, 2.9745, 2.9745, 2.9745, 2.9745, 2.9744, 2.9744, 2.9297, 2.9168, 2.9289, 2.9412, 2.8976, 2.7455, 2.6686, 2.7479, 2.7735, 2.877, 2.7036, 2.6793, 0.1082, 3.2414, 3.241, 3.2407, 3.2406, 3.2405, 3.2403, 3.2398, 3.2396, 3.2396, 3.2393, 3.2389, 3.2388, 3.2386, 3.2375, 3.2372, 3.235, 3.2349, 3.2345, 3.234, 3.2336, 3.2335, 3.2333, 3.2332, 3.2318, 3.2317, 3.2307, 3.2301, 3.2296, 3.2292, 3.2285, 3.2099, 3.1121, 3.1853, 3.1669, 2.9492, 2.8927, 2.1051, 2.6198, 2.426, 2.7571, 2.5547, 2.6294, 1.6112, 0.6169, 1.9082, 1.5256, 1.2413, 3.3325, 3.3322, 3.3321, 3.3315, 3.3314, 3.3314, 3.331, 3.331, 3.331, 3.3308, 3.3308, 3.3307, 3.3297, 3.3296, 3.3293, 3.3293, 3.3292, 3.3291, 3.329, 3.3289, 3.3287, 3.3287, 3.3287, 3.3286, 3.3285, 3.3281, 3.328, 3.3279, 3.3268, 3.3267, 3.2875, 3.2273, 3.1834, 3.2215, 3.1027, 3.1102, 2.8277, 3.0597, 3.0222, 1.7747, 2.1646, 2.2903, 3.342, 3.3417, 3.3415, 3.341, 3.3407, 3.3406, 3.3405, 3.3403, 3.3401, 3.34, 3.34, 3.3397, 3.3397, 3.3397, 3.3392, 3.339, 3.3389, 3.3389, 3.3388, 3.3387, 3.3386, 3.3386, 3.3384, 3.3382, 3.3382, 3.3381, 3.3379, 3.3379, 3.3378, 3.3373, 3.3212, 3.2619, 3.2756, 3.3054, 3.0572, 2.7679, 2.3746, 0.707, 2.6201, 3.6418, 3.641, 3.6408, 3.6406, 3.6406, 3.6405, 3.6405, 3.6403, 3.6403, 3.6403, 3.6399, 3.6397, 3.6395, 3.6393, 3.6392, 3.6389, 3.6388, 3.6388, 3.6387, 3.6386, 3.6384, 3.638, 3.638, 3.6376, 3.6371, 3.6371, 3.6367, 3.6365, 3.6365, 3.6361, 3.4437, 3.5365, 3.3229, 3.132, 2.4313, 2.3921, 1.887, 3.6959, 3.6957, 3.6947, 3.6946, 3.6941, 3.694, 3.6939, 3.6938, 3.6936, 3.6929, 3.6924, 3.6919, 3.6916, 3.6915, 3.6914, 3.6911, 3.6908, 3.6908, 3.6906, 3.6896, 3.6896, 3.6894, 3.6894, 3.6893, 3.6891, 3.6884, 3.6884, 3.6882, 3.6881, 3.6879, 3.2182, 3.0052, 3.3453, 3.4039, 2.8685, 2.6824, 2.123, 1.0308, 2.9124, 0.6109, 2.276, 1.6012, 3.9311, 3.9306, 3.9304, 3.9303, 3.9295, 3.9294, 3.9293, 3.9289, 3.9287, 3.9282, 3.9279, 3.9278, 3.9275, 3.9274, 3.927, 3.9265, 3.9265, 3.9264, 3.926, 3.9258, 3.9257, 3.9256, 3.9254, 3.9254, 3.9253, 3.9253, 3.9247, 3.9243, 3.9243, 3.9241, 3.91, 3.8936, 3.7754, 3.7143, 3.6109, 3.8292, 2.3785, 3.1259, 2.8881, 1.9308, 4.2046, 4.2043, 4.2038, 4.2036, 4.2034, 4.2033, 4.2031, 4.203, 4.2029, 4.2026, 4.2022, 4.2021, 4.2018, 4.2016, 4.2016, 4.2011, 4.1996, 4.1983, 4.1983, 4.1977, 4.197, 4.1967, 4.196, 4.196, 4.196, 4.1956, 4.1954, 4.1953, 4.195, 4.1948, 4.1519, 4.0945, 4.0157, 3.5503, 2.9661, 4.3434, 4.3431, 4.3426, 4.3419, 4.3418, 4.3417, 4.3416, 4.3415, 4.3412, 4.341, 4.341, 4.3404, 4.3401, 4.3399, 4.3398, 4.3388, 4.3384, 4.3383, 4.338, 4.3376, 4.3371, 4.337, 4.3369, 4.3363, 4.3363, 4.3362, 4.3357, 4.3356, 4.3356, 4.335, 4.1694, 3.3695, 4.517, 4.5163, 4.5157, 4.5153, 4.515, 4.5149, 4.5145, 4.5137, 4.5136, 4.5136, 4.5129, 4.5125, 4.5122, 4.5119, 4.5118, 4.5112, 4.511, 4.5105, 4.5105, 4.5104, 4.5101, 4.5097, 4.5095, 4.5093, 4.5092, 4.5089, 4.5086, 4.5085, 4.5077, 4.5076, 3.0798, 3.9152, 4.6234, 4.6227, 4.6224, 4.6218, 4.6218, 4.6218, 4.6214, 4.62, 4.6195, 4.619, 4.6188, 4.6184, 4.6179, 4.6175, 4.617, 4.6169, 4.6169, 4.6168, 4.6161, 4.6151, 4.6144, 4.6144, 4.6138, 4.6133, 4.6132, 4.6131, 4.6118, 4.6113, 4.6109, 4.6109, 4.203, 4.4175, 4.2919, 3.9938, 2.4586, 3.8702, 4.8283, 4.8274, 4.8273, 4.8269, 4.8269, 4.8262, 4.8261, 4.8258, 4.8257, 4.8252, 4.8244, 4.8242, 4.8233, 4.823, 4.8223, 4.8223, 4.8216, 4.8204, 4.8198, 4.8197, 4.8196, 4.8192, 4.8176, 4.8151, 4.8148, 4.8127, 4.8122, 4.8121, 4.8098, 4.8092, 4.6577, 4.9912, 4.9886, 4.9881, 4.9877, 4.9871, 4.987, 4.9869, 4.9868, 4.9862, 4.9858, 4.9854, 4.9846, 4.9835, 4.9828, 4.9828, 4.9827, 4.9823, 4.9822, 4.9819, 4.9814, 4.9813, 4.9801, 4.9795, 4.9786, 4.9755, 4.9755, 4.9726, 4.9684, 4.9632, 4.9631, 4.9612, 4.7927, 4.5916, 4.3855]}, \"token.table\": {\"Topic\": [1, 9, 2, 8, 12, 13, 20, 7, 11, 1, 3, 13, 18, 7, 10, 13, 7, 20, 16, 10, 18, 13, 20, 9, 14, 2, 8, 9, 12, 12, 14, 14, 14, 1, 7, 15, 11, 11, 1, 2, 5, 7, 9, 17, 6, 13, 6, 11, 15, 2, 8, 9, 13, 4, 5, 11, 6, 3, 4, 19, 1, 10, 4, 7, 12, 9, 6, 7, 1, 7, 3, 20, 1, 10, 7, 17, 17, 1, 8, 17, 15, 8, 18, 4, 7, 12, 12, 11, 16, 19, 17, 18, 14, 4, 9, 13, 1, 8, 9, 8, 11, 2, 2, 3, 9, 2, 4, 20, 5, 16, 2, 8, 15, 4, 15, 2, 1, 7, 9, 13, 20, 5, 20, 17, 2, 10, 19, 17, 2, 16, 7, 7, 11, 8, 8, 7, 7, 7, 7, 11, 13, 18, 11, 14, 7, 13, 20, 13, 13, 9, 10, 8, 18, 2, 5, 7, 7, 11, 14, 12, 6, 18, 20, 2, 12, 14, 19, 7, 11, 20, 18, 4, 13, 8, 2, 8, 14, 8, 20, 14, 11, 11, 13, 1, 7, 8, 9, 12, 18, 13, 13, 2, 3, 9, 8, 13, 4, 10, 4, 4, 5, 17, 7, 11, 10, 8, 4, 14, 13, 5, 19, 18, 3, 3, 9, 17, 8, 9, 2, 20, 2, 3, 2, 11, 10, 17, 1, 17, 1, 12, 7, 17, 9, 8, 8, 8, 7, 13, 16, 2, 3, 10, 14, 4, 7, 14, 4, 7, 3, 17, 3, 15, 2, 9, 13, 1, 3, 9, 10, 14, 9, 12, 17, 16, 7, 3, 19, 4, 3, 7, 7, 3, 6, 10, 1, 7, 11, 19, 15, 19, 12, 14, 7, 15, 1, 1, 8, 11, 17, 12, 13, 19, 9, 12, 15, 17, 7, 2, 4, 7, 8, 9, 11, 1, 5, 18, 12, 18, 4, 7, 12, 3, 9, 1, 9, 14, 3, 6, 3, 10, 10, 16, 12, 5, 4, 9, 20, 1, 18, 8, 10, 1, 17, 10, 3, 10, 7, 1, 5, 1, 2, 5, 10, 11, 13, 9, 11, 15, 4, 4, 1, 11, 12, 5, 16, 18, 15, 15, 15, 5, 2, 3, 5, 10, 11, 1, 8, 19, 5, 2, 5, 7, 14, 7, 10, 2, 13, 2, 6, 1, 4, 8, 7, 11, 18, 18, 2, 5, 2, 19, 14, 3, 15, 17, 7, 11, 8, 6, 8, 1, 15, 1, 2, 3, 12, 12, 18, 14, 19, 12, 2, 4, 9, 11, 10, 13, 2, 9, 4, 9, 13, 18, 9, 8, 16, 2, 4, 20, 1, 5, 5, 1, 4, 7, 11, 13, 1, 2, 16, 3, 6, 7, 18, 18, 19, 14, 20, 6, 3, 2, 3, 8, 20, 20, 10, 13, 2, 11, 1, 1, 2, 5, 16, 4, 7, 3, 3, 14, 5, 1, 4, 8, 8, 7, 13, 13, 7, 16, 5, 5, 7, 13, 20, 1, 12, 5, 7, 1, 2, 4, 9, 1, 5, 7, 11, 15, 7, 1, 9, 14, 2, 2, 14, 10, 1, 19, 17, 3, 3, 4, 8, 8, 9, 8, 2, 11, 12, 1, 5, 7, 15, 2, 10, 14, 3, 3, 8, 19, 19, 11, 15, 8, 11, 2, 7, 9, 13, 13, 12, 19, 15, 17, 12, 17, 16, 10, 16, 11, 3, 14, 11, 18, 9, 8, 9, 2, 5, 12, 11, 8, 9, 20, 15, 14, 3, 4, 19, 6, 11, 18, 18, 3, 8, 11, 4, 10, 11, 13, 7, 1, 2, 13, 2, 2, 4, 14, 2, 4, 14, 2, 6, 16, 2, 10, 11, 2, 9, 12, 18, 1, 4, 7, 8, 9, 8, 18, 20, 17, 13, 18, 13, 1, 2, 9, 11, 12, 3, 17, 4, 16, 17, 4, 13, 4, 2, 5, 15, 12, 1, 4, 20, 18, 2, 9, 3, 6, 11, 16, 15, 12, 10, 11, 4, 19, 14, 19, 8, 12, 3, 16, 1, 5, 7, 11, 13, 8, 15, 1, 7, 14, 3, 13, 2, 13, 3, 10, 17, 16, 18, 14, 10, 16, 7, 1, 7, 3, 10, 11, 13, 15, 11, 11, 20, 4, 2, 7, 2, 4, 7, 1, 11, 20, 4, 4, 11, 12, 1, 2, 18, 13, 13, 1, 1, 8, 12, 19, 19, 9, 12, 19, 12, 9, 13, 5, 4, 13, 12, 13, 17, 13, 20, 13, 6, 1, 7, 4, 3, 9, 15, 15, 1, 7, 9, 1, 5, 1, 7, 16, 4, 10, 12, 4, 19, 9, 4, 7, 7, 5, 2, 6, 11, 9, 4, 12, 11, 19, 17, 17, 1, 5, 13, 15, 17, 5, 17, 3, 3, 7, 1, 2, 9, 10, 12, 8, 9, 8, 10, 19, 18, 1, 2, 3, 8, 11, 13, 13, 15, 5, 11, 16, 20, 20, 16, 5, 5, 7, 3, 8, 4, 4, 16, 12, 8, 16, 1, 10, 11, 15, 1, 9, 13, 2, 20, 2, 9, 7, 13, 9, 10, 9, 4, 4, 1, 8, 9, 12, 9, 4, 19, 9, 11, 15, 14, 13, 12, 7, 8, 9, 14, 11, 5, 10, 1, 16, 4, 7, 9, 11, 8, 14, 9, 10, 8, 3, 8, 10, 1, 8, 13, 18, 14, 5, 2, 5, 7, 11, 13, 18, 11, 20, 18, 16, 5, 5, 9, 14, 4, 2, 4, 9, 1, 4, 8, 9, 1, 9, 18, 15, 15, 3, 19, 16, 6, 10, 10, 2, 8, 13, 20, 1, 9, 14, 2, 8, 7, 9, 3, 9, 10, 2, 9, 1, 5, 1, 13, 16, 1, 1, 7, 1, 7, 16, 5, 7, 1, 4, 5, 1, 4, 5, 5, 16, 10, 19, 18, 1, 7, 3, 5, 1, 1, 7, 11, 11, 11, 3, 13, 6, 16, 20, 8, 18, 14, 2, 6, 15, 8, 9, 20, 13, 18, 19, 15, 2, 17, 8, 9, 8, 9, 13, 18, 20, 6, 3, 6, 8, 3, 10, 8, 9, 2, 15, 11, 14, 8, 10, 15, 3, 1, 5, 11, 18, 19, 5, 11, 16, 1, 5, 7, 15, 15, 4, 4, 20, 5, 11, 15, 10, 12, 12, 12, 10, 20, 11, 10, 1, 2, 7, 1, 2, 8, 4, 4, 5, 7, 11, 10, 20, 2, 7, 3, 9, 3, 10, 4, 5, 10, 11, 5, 1, 14, 1, 17, 3], \"Freq\": [0.999342621585871, 0.9882786666469375, 0.06746820283010699, 0.39832188978543936, 0.09471497704995789, 0.43724585295665497, 0.9864353114957995, 0.8917085350650068, 0.10684065397092248, 0.9987483904766837, 0.9718001340855636, 0.992851234846503, 0.9902942487415937, 0.23694838655863948, 0.7604390080254011, 0.992631772848895, 0.9986227965110526, 0.9938546944129549, 0.9895279173694158, 0.9969454335845155, 0.9961394079973797, 0.989126533698018, 0.9656343285157946, 0.983126611176871, 0.9947024441692223, 0.9984517914600274, 0.9959624635331255, 0.3979793296252824, 0.6000070045877348, 0.996795171801638, 0.9951414635303729, 0.9976722839651982, 0.9949586655739143, 0.9974177197892493, 0.9969819299551328, 0.9869602357363153, 0.9943572591061473, 0.9961350084930576, 0.4755189124949612, 0.5243124687954437, 0.9979341266278512, 0.9978116581823561, 0.9916197334054535, 0.991029958030614, 0.019180293751771826, 0.9590146875885913, 0.9755653817647534, 0.9953391791898675, 0.9900460848207759, 0.2789772367327017, 0.1779900017163391, 0.44181915319658643, 0.10035606479751034, 0.9958161571280795, 0.9785451848179331, 0.02033340643777523, 0.9999685994775221, 0.9940578780980625, 0.005634958340159076, 0.9941029788701472, 0.9993667991984189, 0.9970206511285155, 0.8304914572180764, 0.11259620302592664, 0.05592026190549377, 0.9866793042758389, 0.9949781413307881, 0.9973195064984985, 0.30471399591451015, 0.6945151935521652, 0.9758218500395677, 0.9917445446885578, 0.9432046758563531, 0.05609263189750426, 0.9986759453798535, 0.9972463385276814, 0.9953186051834012, 0.26581787644399835, 0.7332732675289764, 0.9964074741780188, 0.99068171663787, 0.9970307203654645, 0.9910405752105328, 0.9974052109461606, 0.2725282081493796, 0.7264657706595925, 0.9978950299556765, 0.9953520589021548, 0.9975004720385348, 0.9876163596377964, 0.992082021488671, 0.9933511495485987, 0.9971153353878454, 0.42125763769681246, 0.5031274966131541, 0.07442714446940149, 0.16446933429837862, 0.740910399169395, 0.09101701024279206, 0.9638742938029142, 0.03435591542267813, 0.9980236288813263, 0.18783053868993307, 0.4913140382810834, 0.32064853758378836, 0.9986213932931693, 0.9971010331170532, 0.9951366206167745, 0.9986811111034095, 0.9930291648518391, 0.9990797797133031, 0.9518483934323264, 0.046507250493436146, 0.4783579761308491, 0.5182211408084199, 0.9978429984140081, 0.8722291157989873, 0.048325567523898265, 0.01847742287678463, 0.06064384944175468, 0.9897287629976532, 0.998537658627458, 0.9874799851934197, 0.9937504731705804, 0.6460020948429076, 0.3521907717069482, 0.9798109632035154, 0.9918092285372141, 0.9973014575307785, 0.9978967987944399, 0.9969256770740839, 0.07705365891413199, 0.9216418163625398, 0.9986403121544928, 0.9951979898994864, 0.9972084897245992, 0.9986390385925683, 0.9960557583675446, 0.9982147959986789, 0.9986144582223349, 0.5251239592204026, 0.4705656257949062, 0.2731478417306477, 0.7253078283243187, 0.9987892879769639, 0.32786552192088037, 0.6699860665339729, 0.9966162398304926, 0.9963242951793597, 0.9985655535829839, 0.9966455443237053, 0.9985095448384584, 0.9922239370201301, 0.9988145640019503, 0.8952030717087404, 0.10432666904718624, 0.04083724440065079, 0.10209311100162699, 0.8553133966136305, 0.9953190680208683, 0.9894910836499904, 0.17780467908849476, 0.8183574332406361, 0.9979652224623966, 0.5509645569768672, 0.44635103350024685, 0.9841210753763396, 0.9961655929598728, 0.02474133573642281, 0.9690356496765601, 0.9928858960201996, 0.9364196859754806, 0.0623480456731434, 0.9963329738901854, 0.9897063657311476, 0.008190673371568117, 0.994758435816501, 0.4511523716301997, 0.5442935064183699, 0.9947344628379964, 0.9941513477129483, 0.9777180076750616, 0.01961471311693796, 0.9327042920234825, 0.06639767101288245, 0.9980078462585215, 0.991223618106013, 0.9964778916325991, 0.9977682065116955, 0.994301972037537, 0.9931417575903031, 0.18435495076618305, 0.8007347768736626, 0.014716453371805454, 0.7916440291548328, 0.20729532256708288, 0.9970019019437231, 0.9961622123606717, 0.9982661488354281, 0.09487835828977297, 0.9044722617184401, 0.9953562839680852, 0.9977700133338027, 0.9968778882084617, 0.9980208161646653, 0.9960330585239622, 0.9979309756694219, 0.9943557953776637, 0.9920326872054789, 0.9990218701414962, 0.9969807763296491, 0.9950172864408598, 0.9830155364333681, 0.9911998666629516, 0.9952491613635286, 0.9935151452545302, 0.9978601180766388, 0.9972905464492559, 0.9979883899037918, 0.9987283438386652, 0.9882498249047837, 0.010411059743729488, 0.9148870152085566, 0.08419205661428436, 0.9971039193243242, 0.9942829240024701, 0.9990538361126858, 0.9912370271827442, 0.999803143132054, 0.9982041967959526, 0.9975534157187099, 0.9973683783978412, 0.9947284625600168, 0.9994132310474468, 0.9983393422465398, 0.9974381872928536, 0.9973034095226514, 0.9966423900091982, 0.9904735150452676, 0.40143088964609386, 0.5983759890967741, 0.19394886919430057, 0.8048878071563474, 0.7228496128798965, 0.27531904830478604, 0.9949170059923415, 0.975964017269677, 0.02097112764381124, 0.9956784555520394, 0.9884327909046471, 0.7078669152013554, 0.28942341853060344, 0.7893470826930521, 0.20918062117535174, 0.9976215820894562, 0.7564528091089741, 0.011637735524753447, 0.021529810720793876, 0.07448150735842206, 0.13499773208713997, 0.9981164906900624, 0.9973455037906329, 0.9888216630823607, 0.9890707769839184, 0.999174859512163, 0.1511357621569291, 0.8426963708143925, 0.997626433583591, 0.9642802772072725, 0.9973713806143905, 0.9973510266307167, 0.5526412738295994, 0.44716076613172945, 0.9978453172724719, 0.4140752623345291, 0.49743515067292776, 0.08771857531034104, 0.9885685845151232, 0.9863981628024976, 0.9944803087488112, 0.0945890154717043, 0.9019738261051803, 0.9989207961923755, 0.9960512590418492, 0.9990729783676029, 0.1837589925748805, 0.8146648670819702, 0.993575246542248, 0.9943316458084722, 0.9922970408665517, 0.995038324946126, 0.9906977714549552, 0.9992111547036472, 0.9986879302254695, 0.9936110953334968, 0.9884442907579332, 0.9949775241553832, 0.10127908069681592, 0.6117256474087681, 0.06414341777465007, 0.03105891808035688, 0.18297753912558073, 0.007427132584433167, 0.9974527785595894, 0.9952801463452222, 0.9868383739936691, 0.99529228587256, 0.9894538602412474, 0.8397401494227691, 0.10380419579394845, 0.05583949842708951, 0.9775541966506069, 0.9956603079313401, 0.3826553975580194, 0.6158360304449375, 0.9916269293553047, 0.9535089657440888, 0.04644636617396579, 0.9948737364080498, 0.999093160298361, 0.9977853709702272, 0.9919671085724483, 0.9965145601131278, 0.9957313931965607, 0.9985879230999726, 0.9888010831275719, 0.9873749064179863, 0.4648893294673974, 0.5303181980591052, 0.20337712180698805, 0.7944876053323346, 0.9989390272556479, 0.9915683465401091, 0.9962711819635164, 0.9771796368075589, 0.9964001286999961, 0.9995644670314675, 0.5878667566977666, 0.41154220746494224, 0.9997421001037624, 0.26296282435675894, 0.7059404680718362, 0.030002469893053038, 0.3793233782325339, 0.6199172345027856, 0.9984405409955465, 0.9965043318050675, 0.99021444007368, 0.9971526154099066, 0.9992962898855988, 0.3692075877825451, 0.5619317831646361, 0.0671286523240991, 0.9978550058326792, 0.9934544318839169, 0.9879502394849391, 0.9983409073048732, 0.9953386743686934, 0.9971104656904355, 0.9966504362838712, 0.082808737435784, 0.9168110216104658, 0.9975924162089791, 0.06407931614609161, 0.9337271781287634, 0.9986268012287202, 0.9977160496605268, 0.9956637294638016, 0.9980181174851742, 0.21274611859297188, 0.7862356556696787, 0.03396945361537937, 0.9624678524357488, 0.8207506352675156, 0.1784240511451121, 0.999425712901828, 0.996432360016801, 0.9893190308156397, 0.009149771383266031, 0.16529979524239236, 0.7156584158362491, 0.11788822606434184, 0.16359446524967383, 0.751047317737139, 0.08303658463430413, 0.9882826009955062, 0.35608014925990455, 0.6427206322242268, 0.9996018109051767, 0.9905220001138998, 0.9974150107780276, 0.10100268058627616, 0.8937206888240194, 0.9942335485962522, 0.9137025433381633, 0.08354867614181648, 0.9966524110013548, 0.9941248380338176, 0.9960794851803281, 0.9991102646223414, 0.9978565256957308, 0.8224969499231244, 0.16032824855870728, 0.0169452620427902, 0.997741571558351, 0.9969583983307316, 0.9918065554849571, 0.9916457327362475, 0.9929553293793902, 0.9985172220754249, 0.9965312726701518, 0.8824700610796113, 0.03546905390191364, 0.0808694428963631, 0.9954119293995947, 0.9933766602598588, 0.7357886314652923, 0.2634012892919696, 0.7803057304890008, 0.13501259818240635, 0.083858756635035, 0.9863514145181641, 0.9968214870202389, 0.9983259050891167, 0.9957496441044388, 0.9988226762844635, 0.9989869199106092, 0.9823672287089809, 0.9990051446412838, 0.9988913844421109, 0.9971745245346426, 0.033355047185959816, 0.4661949618316709, 0.42585862569981253, 0.02404666192476173, 0.050420420164822975, 0.8266489002912987, 0.17237724764138831, 0.9951068552606941, 0.9995796326736504, 0.9327812040682804, 0.998376221974644, 0.9980852095512217, 0.9983342286356687, 0.9871288281256323, 0.9987193390541977, 0.9861703391207725, 0.9910955929980693, 0.9914910855187145, 0.05924277855522987, 0.8465195192639497, 0.09375577340162525, 0.9938544520734918, 0.9824571570306806, 0.9928192871322358, 0.9992216376998054, 0.9987105610200829, 0.9961787987941898, 0.9983208123982222, 0.9916865805885249, 0.00785667185325416, 0.0002909878464168207, 0.9946741337077674, 0.8089153456781834, 0.18937398015101659, 0.9995455241245295, 0.019150630006110725, 0.9788099780901037, 0.9961442120829397, 0.1258804367697887, 0.8507081130087333, 0.0223336258785109, 0.996859779429349, 0.9115787159186929, 0.08760411957151536, 0.9966321054135948, 0.9970837622414579, 0.9893450353828468, 0.9963944438144632, 0.9989226169875687, 0.29263959431748787, 0.7028575970661093, 0.9846631029913947, 0.9982822489691409, 0.9970392600279674, 0.25646751441001636, 0.7426407156394388, 0.9621047863902558, 0.03777421819791449, 0.9337413587723732, 0.06480223941007006, 0.999361299954585, 0.9142541406574716, 0.08483799340162126, 0.9924021287838742, 0.9888374748616207, 0.9964100916892734, 0.958387208515904, 0.04082939172721756, 0.9967717507027002, 0.9991521142542894, 0.998110979001654, 0.9969645437874263, 0.9978324511291046, 0.9990486715728538, 0.9966958669718544, 0.9884362621393512, 0.999872819550853, 0.605420135540287, 0.3927402172362638, 0.9987926164638374, 0.9214915571608076, 0.07561613612307044, 0.9950952897355841, 0.9991648389966307, 0.09870308163683118, 0.8990953436373167, 0.9980551584901551, 0.5053714929631823, 0.49386710125345135, 0.9949403218698608, 0.5586588001960955, 0.08805733026346725, 0.352229321053869, 0.9988722981246805, 0.047739561624783045, 0.95089412542425, 0.9935975868489741, 0.9872556567402314, 0.9955149948971481, 0.9858192825339971, 0.9981655001964239, 0.9985866800088377, 0.46942789803750506, 0.061356758457184274, 0.10615693129893787, 0.36229704993765954, 0.9925590007766395, 0.9967509138755464, 0.990228402270473, 0.99575032977476, 0.9950143243040231, 0.9924134628527611, 0.9916034422670379, 0.9916545570320222, 0.9965968952390807, 0.9954684814634892, 0.9979603384904674, 0.9965808269515422, 0.9944824141399999, 0.9963740516660466, 0.9909078888724485, 0.9969793764400924, 0.903824456884191, 0.0935677301179669, 0.18061898317358763, 0.8185993400485344, 0.9979436115795753, 0.9955418205205385, 0.9974979127917768, 0.9970659784325433, 0.9952726619806307, 0.9973188139774496, 0.9922942779221161, 0.37957923708181796, 0.6193134920808608, 0.996590569253818, 0.9968975072325438, 0.18215579171340152, 0.8121112380555818, 0.993717956564768, 0.9993378859372204, 0.996917137909919, 0.9930598939265222, 0.5405131675971421, 0.13852347511283541, 0.07876825055435739, 0.24173704480475197, 0.9974196978227131, 0.39527743348704064, 0.6043271615898865, 0.9968588517426068, 0.9988353603767598, 0.3262626956223374, 0.6732255478522924, 0.9979738924390792, 0.4507431673740649, 0.33673166033238966, 0.21145157410636278, 0.9981597807555062, 0.9914121317228122, 0.9967580272785126, 0.9979889463232475, 0.8951660428976133, 0.10268737649199554, 0.9998030898303242, 0.9898317227693715, 0.9973329131993679, 0.98621098060122, 0.0021309422439167365, 0.8001688125907345, 0.03302960478070941, 0.08204127639079435, 0.08097580526883598, 0.2751575060263207, 0.7173749264257647, 0.9923483189192921, 0.9874179337993094, 0.9945158412913342, 0.9911436994293887, 0.991453514178228, 0.4359597896775437, 0.26842734089941334, 0.1956891628584884, 0.09948705641726507, 0.9973473450265357, 0.7629021465627962, 0.23698916446434282, 0.6190527726662802, 0.3779480085752026, 0.9957500960910687, 0.9981022118516489, 0.993694266725251, 0.9983079798920849, 0.6040310420498092, 0.3950534777387378, 0.9930786667607752, 0.9949106189033168, 0.2004711329650008, 0.798587309278342, 0.9859094452257131, 0.9944903028928852, 0.9968673650655409, 0.996479206730974, 0.9359252013034884, 0.03403125468729517, 0.029826620903536695, 0.9984793356958208, 0.989929352538586, 0.9958774660485467, 0.9962547287831741, 0.9941094934312339, 0.9970447597528883, 0.9959151030035425, 0.9980638178182057, 0.9889144443595673, 0.9985153248389789, 0.9958202134948952, 0.9623465784771156, 0.9956818608830559, 0.006491063207972392, 0.6865547623816952, 0.22394168067504752, 0.07165135156492601, 0.01123453247533683, 0.9975209205975154, 0.9956712312066488, 0.41958098556904444, 0.5791955977817506, 0.9943361344855215, 0.9932570111268574, 0.994086100597029, 0.9263925732494419, 0.07229783309750935, 0.9928607868218163, 0.996739146350017, 0.9954935949323508, 0.9940859324444917, 0.9959227513188964, 0.992999465031941, 0.9979906835396408, 0.9975183721124214, 0.9948233806186536, 0.8405418622580225, 0.15887750089143193, 0.9740987038203017, 0.9985162197057691, 0.3658537997740979, 0.4564116710053102, 0.17568227018855195, 0.997072519171707, 0.9630430394433074, 0.03406261554301087, 0.9978573664333695, 0.8798732249524168, 0.11904167161120933, 0.03556290898362953, 0.9477515244137269, 0.015114236318042549, 0.9680980870048875, 0.03149310627862354, 0.9940395286270773, 0.9976157531490991, 0.4268810765073213, 0.4850921323946833, 0.08569961005639405, 0.9988293137928552, 0.9983044308224504, 0.9901718827905243, 0.9926837936150915, 0.9979708150388618, 0.9991487411284763, 0.6966477014656561, 0.13035649180569325, 0.1727488468644553, 0.9900060759903228, 0.9955633629394505, 0.17942263277054993, 0.8195378610898858, 0.9792766788086904, 0.9984501032442274, 0.9925960056199316, 0.9941860692566519, 0.9977500821933687, 0.8607067886324047, 0.13812403371952384, 0.993245268530447, 0.9889016702653859, 0.9957933460525696, 0.9992021887100672, 0.9948274860853916, 0.9968200476473408, 0.9999183925346438, 0.7668660428396059, 0.2321912560223999, 0.9982784547225848, 0.9273717789976437, 0.07245092023419092, 0.9966020229799403, 0.9937889778165655, 0.8125473683382557, 0.12789207099288522, 0.059138062902725115, 0.9988025429313777, 0.9971403342102161, 0.31390978857330926, 0.6858533195719362, 0.990584010116838, 0.9973831572365076, 0.9967448203868732, 0.9973286199629834, 0.9958346727548038, 0.9923879735428227, 0.9939196921478298, 0.9972805570564266, 0.9977126297712574, 0.9977648100403622, 0.9988411162643771, 0.9979163134386622, 0.001709736687787542, 0.9968652012710468, 0.9971275216408342, 0.9991673700939151, 0.9949322644607936, 0.995453903321419, 0.9927840935095973, 0.99338923685183, 0.9870742039479798, 0.11325130084714138, 0.8466492176857551, 0.03966531068317754, 0.9977583876601036, 0.9933370467054238, 0.4496863489648114, 0.5465418702803092, 0.9872799754350746, 0.9841418404244258, 0.996835823604144, 0.11429400502708152, 0.41863501841314743, 0.05382450236740467, 0.11495850505630874, 0.29769601309379373, 0.793641837997521, 0.20425510869393565, 0.197991386175495, 0.7996995832244602, 0.9931713872847665, 0.9912758519779791, 0.0003034305552906168, 0.21169338407442034, 0.6723009670055766, 0.05664037032091514, 0.013148657395926728, 0.045716870330452936, 0.05010501738244133, 0.9469848285281411, 0.9991141388495448, 0.0005775226236124537, 0.9989193949505619, 0.9836582520773236, 0.9932327824468825, 0.995043935389871, 0.996371734971685, 0.7760072186554801, 0.2233060925576477, 0.9940753848357161, 0.9959087956419306, 0.999422807261055, 0.9966360734493801, 0.9958939364798485, 0.998362062024589, 0.9985863687888246, 0.9982369544375568, 0.5570395016243572, 0.3111952523041102, 0.03889940653801378, 0.09180259942971251, 0.07032800052107241, 0.9273482859406526, 0.9980402527690845, 0.997155531737217, 0.9895599410663024, 0.7861396538965124, 0.2128448647997819, 0.9613192314227813, 0.03433282969367076, 0.9978765231449103, 0.9973455468118064, 0.9847307334956813, 0.9971263658330631, 0.9968973594368503, 0.4686010372966311, 0.10073947403741723, 0.14363499201464006, 0.2866200519387161, 0.9928666838122185, 0.9962456204475989, 0.9807274014872017, 0.9891267251374476, 0.17061625976259234, 0.827055089696634, 0.9926251634934475, 0.9929820271075267, 0.998528042530072, 0.9976170546644457, 0.9396794743658983, 0.05905089593009743, 0.9909501641474755, 0.9960673585381739, 0.9964432056031706, 0.9954166041944194, 0.9981266468222993, 0.9957199799397678, 0.24225721231571182, 0.11552479163809745, 0.5362419432753479, 0.10431716259858054, 0.9992536340704508, 0.9932318569145767, 0.26419585030096915, 0.7323664379666571, 0.9972465353292523, 0.18173328404444847, 0.21375295789989893, 0.6031814237094314, 0.23888331293898077, 0.7597044894047819, 0.7456245537040567, 0.24959465992635796, 0.9944992046940078, 0.9977475856898291, 0.489253816263479, 0.16435210235448475, 0.06590984053290391, 0.04224989777750251, 0.12294720253253229, 0.1144972229770318, 0.9972575455081303, 0.98950834624804, 0.9943592496358348, 0.9972363195598907, 0.998575727729874, 0.9980843052108869, 0.9892413625779397, 0.9944969845552045, 0.9969976070896012, 0.9601245608432635, 0.03795514369365756, 0.998703721364497, 0.18083655285106748, 0.5638277887673526, 0.23596964823249048, 0.018377698460474337, 0.9795552803668102, 0.01974909839449214, 0.9896091821464438, 0.9944433510227568, 0.9928013103487399, 0.9998566124664764, 0.9976255075658833, 0.9948970460579436, 0.9920523315804276, 0.9988891093845745, 0.9975910977333636, 0.3699864336296706, 0.12853988773988556, 0.5011318596345539, 0.9941053409228888, 0.9991625372355766, 0.9937363243434841, 0.995078922342384, 0.997348305128541, 0.997105613874214, 0.2918469923481501, 0.7054718663955283, 0.01273235005052719, 0.029708816784563444, 0.9549262537895393, 0.9992725621008066, 0.9976338274636992, 0.9303958856371355, 0.0687257047739411, 0.9981850374557905, 0.15913123227399456, 0.8396066921885046, 0.9994507802998679, 0.8718262372178097, 0.12776071126049007, 0.9830328170739652, 0.016771523999652392, 0.9914078153926901, 0.9632000773592414, 0.0362332317501909, 0.7864658646084206, 0.05452008872573345, 0.15885088974241937, 0.0667009019083422, 0.21941086154059933, 0.7117688348377043, 0.9990316823825334, 0.9937903287399555, 0.9943773401438762, 0.9960268355100963, 0.993534796771327, 0.38951307577132327, 0.60981145469117, 0.9622075276096839, 0.9983340142548375, 0.9992898472950602, 0.9691891111188122, 0.029725486289664, 0.9929512204706978, 0.9950217844866749, 0.9963791149957009, 0.9302258549694378, 0.06960873744669262, 0.2641412518377973, 0.7263884425539426, 0.9924212972129917, 0.9958476768411303, 0.9965275214584837, 0.9930767669973489, 0.9988466438100244, 0.0008861308053673035, 0.9947893208931037, 0.05384146038422212, 0.945010459847209, 0.9899723769642889, 0.9929545663711037, 0.9853262610995995, 0.990924706356653, 0.9922428372507693, 0.9989705114286184, 0.991742123359893, 0.029848363791739038, 0.9689238092395288, 0.21451096939363534, 0.5424652399089048, 0.24132484056783976, 0.992048727720486, 0.9916907553416837, 0.984900427975625, 0.7654698317572558, 0.21982429549715604, 0.014323911522403738, 0.9900341771859488, 0.9937412957629751, 0.25236082689770806, 0.7454796840541492, 0.9975004604997939, 0.9984201698187269, 0.9968644626800098, 0.9909501641474755, 0.07391727336390395, 0.8991429521131601, 0.02427134349262518, 0.9998508315949809, 0.999451068621741, 0.9981624548333595, 0.34301507313528323, 0.6554265709722512, 0.9964197768093043, 0.9966009470181804, 0.9968488052762491, 0.9914426510768907, 0.959446191667827, 0.02054166781116496, 0.01979014337904917, 0.9912159785448342, 0.9954253573958796, 0.9973167027520147, 0.9963977374244923, 0.9969954363428951, 0.9985243775037586, 0.9953901464860614, 0.9974617758874365, 0.8610905957625262, 0.13780960604966017, 0.9983368815946877, 0.9992966553658371, 0.9967886844269666, 0.9699162623403725, 0.9963014923415325, 0.9956468311412219, 0.9989359036543498, 0.13057910450833907, 0.8673201573132838, 0.8295878528441165, 0.037463080417289234, 0.13263955499094296, 0.9986846542174344, 0.18863509101981982, 0.4255854369602474, 0.26213595754797847, 0.12284410559601344, 0.9941235482598486, 0.9794079295158811, 0.7710865195491597, 0.22766154065556587, 0.12210100732545467, 0.8778158446353986, 0.9992370313193171, 0.9993306065052997, 0.1560043512470011, 0.579198475347982, 0.2103042083108744, 0.05386890581733463, 0.9964811223320785, 0.9984482128075872, 0.9974428432477195, 0.9988281067739071, 0.9922588662236842, 0.97776992740713], \"Term\": [\"able\", \"ac\", \"access\", \"access\", \"access\", \"access\", \"access_unix\", \"act\", \"act\", \"actually\", \"adam\", \"administration\", \"afford\", \"age\", \"age\", \"agency\", \"agree\", \"al\", \"alan\", \"algorithm\", \"allowed\", \"amendment\", \"ames_ia\", \"amp\", \"analysis\", \"anybody\", \"apple\", \"application\", \"application\", \"applications\", \"approach\", \"april\", \"areas\", \"arent\", \"argument\", \"arm\", \"armenian\", \"armenians\", \"article\", \"article\", \"asked\", \"atheists\", \"attached\", \"attempts\", \"au\", \"au\", \"aug\", \"authority\", \"auto\", \"available\", \"available\", \"available\", \"available\", \"avoid\", \"away\", \"away\", \"ax\", \"b\", \"b\", \"baby\", \"bad\", \"baseball\", \"based\", \"based\", \"based\", \"battery\", \"bc\", \"belief\", \"believe\", \"believe\", \"bell_labs\", \"benefit\", \"better\", \"better\", \"bible\", \"bike\", \"bikes\", \"bit\", \"bit\", \"block\", \"blow\", \"board\", \"bobby\", \"body\", \"book\", \"book\", \"books\", \"born\", \"boston\", \"brief\", \"brings\", \"british\", \"btw\", \"build\", \"build\", \"build\", \"built\", \"built\", \"built\", \"bus\", \"bus\", \"buy\", \"c\", \"c\", \"c\", \"ca\", \"california\", \"california_institute\", \"came\", \"canadian\", \"car\", \"card\", \"card\", \"carry\", \"carry\", \"cars\", \"case\", \"case\", \"case\", \"case\", \"catch\", \"cause\", \"cd_rom\", \"cds\", \"center\", \"center\", \"centre\", \"charles\", \"check\", \"chicago\", \"child\", \"children\", \"children\", \"chip\", \"chips\", \"christ\", \"christian\", \"christianity\", \"christians\", \"church\", \"citizens\", \"citizens\", \"city\", \"city\", \"claim\", \"clinton\", \"clinton\", \"clipper\", \"clipper_chip\", \"code\", \"college\", \"color\", \"colorado_boulder\", \"com\", \"come\", \"come\", \"coming\", \"coming\", \"coming\", \"command\", \"communications_services\", \"community\", \"community\", \"company\", \"complete\", \"complete\", \"concepts\", \"conclusion\", \"congress\", \"congress\", \"constitution\", \"control\", \"control\", \"controller\", \"copy\", \"copy\", \"corp\", \"corporation\", \"corporation\", \"count\", \"countries\", \"country\", \"country\", \"course\", \"course\", \"cpu\", \"cr\", \"create\", \"crime\", \"crypto\", \"cryptography\", \"d\", \"d\", \"d\", \"data\", \"data\", \"date\", \"dave\", \"david\", \"day\", \"day\", \"dc\", \"death\", \"deny\", \"dept\", \"design\", \"details\", \"detroit\", \"developed\", \"didnt\", \"die\", \"died\", \"diet\", \"direct\", \"directory\", \"disease\", \"disk\", \"display\", \"distribution\", \"distribution_na\", \"distribution_usa\", \"distribution_usa\", \"distribution_world\", \"distribution_world\", \"division\", \"dod\", \"doesnt\", \"dog\", \"dont\", \"dos\", \"doubt\", \"dr\", \"draft\", \"drive\", \"driver\", \"drivers\", \"drives\", \"drugs\", \"duo\", \"e\", \"e\", \"early\", \"early\", \"earth\", \"earth\", \"east\", \"effect\", \"effect\", \"el\", \"electrical\", \"em\", \"em\", \"email\", \"email\", \"encryption\", \"end\", \"end\", \"end\", \"end\", \"end\", \"entry\", \"environment\", \"european\", \"everybody\", \"evidence\", \"ex\", \"ex\", \"exactly\", \"excellent_condition\", \"exist\", \"explaining\", \"f\", \"f\", \"face\", \"fact\", \"fact\", \"fact\", \"factors\", \"factory\", \"failed\", \"fairly\", \"fairly\", \"faith\", \"family\", \"far\", \"fast\", \"fast\", \"fbi\", \"feature\", \"features\", \"federal\", \"fi\", \"file\", \"files\", \"firearms\", \"fl\", \"follow\", \"following\", \"following\", \"following\", \"following\", \"following\", \"following\", \"force\", \"forget\", \"forgot\", \"format\", \"foundation\", \"free\", \"free\", \"free\", \"ft\", \"ftp\", \"function\", \"function\", \"funny\", \"g\", \"g\", \"ga\", \"game\", \"games\", \"gary\", \"gateway\", \"gave\", \"general\", \"generated\", \"german\", \"germany\", \"germany\", \"gets\", \"gets\", \"getting\", \"gif\", \"giving\", \"gn\", \"goal\", \"god\", \"going\", \"going\", \"good\", \"got\", \"got\", \"got\", \"government\", \"government\", \"graphics\", \"greek\", \"green\", \"ground\", \"group\", \"groups\", \"groups\", \"groups\", \"guess\", \"guest\", \"guilty\", \"gun\", \"gun_control\", \"guns\", \"guy\", \"h\", \"h\", \"happen\", \"happened\", \"happened\", \"hard\", \"hardware\", \"health\", \"hear\", \"heard\", \"heard\", \"held\", \"held\", \"hell\", \"hell\", \"help\", \"hey\", \"hi\", \"hi\", \"high\", \"high\", \"high\", \"history\", \"history\", \"history\", \"holocaust\", \"home\", \"home\", \"host\", \"hour\", \"house\", \"hp\", \"hp\", \"hr\", \"human\", \"human\", \"ibm\", \"icon\", \"ide\", \"idea\", \"ideas\", \"im\", \"im\", \"im\", \"image\", \"images\", \"immediate\", \"immediately\", \"impact\", \"include\", \"includes\", \"including\", \"including\", \"including\", \"increased\", \"industry\", \"info\", \"info\", \"information\", \"information\", \"information\", \"innocent\", \"input\", \"installed\", \"insurance\", \"interested\", \"internet\", \"iowa_state\", \"isnt\", \"israel\", \"israeli\", \"issue\", \"issue\", \"issue\", \"issue\", \"issue\", \"ive\", \"ive\", \"ive_seen\", \"j\", \"jeffrey\", \"jesus\", \"jewish\", \"jews\", \"jim_frost\", \"john\", \"jonathan\", \"jpl\", \"jr\", \"k\", \"k\", \"k\", \"keith\", \"keith_allan\", \"kept\", \"key\", \"keywords\", \"killed\", \"kind\", \"know\", \"know\", \"know\", \"knowing\", \"known\", \"known\", \"l\", \"la\", \"la\", \"land\", \"large\", \"large\", \"large\", \"launch\", \"law\", \"law\", \"law_enforcement\", \"laws\", \"leafs\", \"leave\", \"left\", \"legal\", \"legal\", \"legitimate\", \"lets\", \"library\", \"life\", \"life\", \"like\", \"like\", \"list\", \"list\", \"little\", \"live\", \"live\", \"lived\", \"lock\", \"logic\", \"look\", \"look\", \"looked\", \"looking\", \"looks\", \"lord\", \"lost\", \"lot\", \"lots\", \"luck\", \"m\", \"ma\", \"ma\", \"mac\", \"machine\", \"machine\", \"machines\", \"mail\", \"main\", \"main\", \"making\", \"man\", \"man\", \"manager\", \"mark\", \"mark\", \"mark\", \"max\", \"mb\", \"mb\", \"medical\", \"medicine\", \"meeting\", \"meg\", \"memory\", \"men\", \"message\", \"message\", \"message\", \"message\", \"met\", \"method\", \"mg\", \"mhz\", \"michigan\", \"microsoft\", \"mid\", \"middle\", \"mike\", \"miles\", \"military\", \"million\", \"minnesota\", \"minor\", \"minority\", \"mit\", \"mode\", \"mode\", \"money\", \"money\", \"monitor\", \"mother\", \"motherboard\", \"motif\", \"motto\", \"mouse\", \"moved\", \"mr\", \"mr\", \"ms\", \"mu\", \"muslim\", \"muslim\", \"muslims\", \"n\", \"nasa\", \"nation\", \"national\", \"national\", \"national\", \"national\", \"nature\", \"need\", \"need\", \"needs\", \"net\", \"new\", \"new\", \"new_york\", \"news\", \"news\", \"news\", \"newsreader_tin\", \"nh\", \"nhl\", \"nice\", \"night\", \"night\", \"nntp_posting\", \"noise\", \"normal\", \"norway\", \"note\", \"note\", \"note\", \"note\", \"note\", \"noted\", \"noted\", \"notice\", \"ns\", \"nsa\", \"nt\", \"nuclear\", \"number\", \"number\", \"number\", \"number\", \"ny\", \"o\", \"o\", \"offer\", \"offer\", \"offers\", \"office\", \"official\", \"oh\", \"old\", \"old\", \"opening\", \"options\", \"order\", \"order\", \"orders\", \"organized\", \"originator\", \"output\", \"p\", \"p\", \"p\", \"pa\", \"pack\", \"page\", \"paper\", \"parties\", \"parts\", \"patients\", \"paul\", \"paying\", \"pc\", \"pd\", \"penn_state\", \"pens\", \"people\", \"people\", \"people\", \"people\", \"people\", \"performance\", \"period\", \"person\", \"person\", \"persons\", \"peter\", \"pgp\", \"phone\", \"phone\", \"physical\", \"pick\", \"picture\", \"pittsburgh\", \"pl\", \"planet\", \"play\", \"player\", \"playing\", \"point\", \"point\", \"pointers\", \"points\", \"police\", \"police\", \"police\", \"political\", \"population\", \"population\", \"possibly\", \"post\", \"post\", \"posting\", \"posting\", \"posting\", \"power\", \"power\", \"prefer\", \"president\", \"press\", \"press\", \"press\", \"pretty\", \"price\", \"prior\", \"privacy\", \"private\", \"probably\", \"problem\", \"problem\", \"problem\", \"procedure\", \"produced\", \"program\", \"program\", \"programmer\", \"programs\", \"proposal\", \"protect\", \"prove\", \"provide\", \"provide\", \"provides\", \"providing\", \"ps\", \"public\", \"pull\", \"purpose\", \"q\", \"question\", \"question\", \"questions\", \"r\", \"r\", \"rate\", \"rates\", \"read\", \"read\", \"read\", \"real\", \"realize\", \"reason\", \"reason\", \"recall\", \"received\", \"record\", \"reference\", \"references\", \"regards\", \"regularly\", \"related\", \"religion\", \"religious\", \"remember\", \"reply\", \"reply\", \"reported\", \"request\", \"research\", \"responses\", \"returned\", \"rich\", \"ride\", \"rider\", \"right\", \"right\", \"right\", \"risk\", \"rm\", \"road\", \"road\", \"route\", \"rt\", \"rule\", \"run\", \"run\", \"run\", \"run\", \"run\", \"running\", \"running\", \"runs\", \"runs\", \"russia\", \"ryan\", \"s\", \"s\", \"s\", \"s\", \"s\", \"s\", \"safety\", \"safety\", \"said\", \"said\", \"sale\", \"sam\", \"san_francisco\", \"san_jose\", \"saw\", \"says\", \"says\", \"sc\", \"scan\", \"science\", \"scientific\", \"scott\", \"screen\", \"scsi\", \"season\", \"second\", \"second\", \"second\", \"second\", \"section\", \"section\", \"security\", \"sell\", \"senate\", \"send\", \"send\", \"sense\", \"sense\", \"serial_number\", \"series\", \"servers\", \"service\", \"services\", \"set\", \"set\", \"set\", \"set\", \"sgi\", \"shall\", \"shared\", \"shell\", \"shot\", \"shot\", \"sign\", \"sites\", \"size\", \"society\", \"software\", \"software\", \"software_vax\", \"soldiers\", \"somebody\", \"son\", \"sort\", \"sound\", \"source\", \"source\", \"source\", \"source\", \"space\", \"spacecraft\", \"special\", \"special\", \"speed\", \"st\", \"st\", \"st\", \"standard\", \"standard\", \"standards\", \"standards\", \"stars\", \"started\", \"state\", \"state\", \"state\", \"state\", \"state\", \"state\", \"states\", \"statistics\", \"step\", \"steve\", \"stop\", \"story\", \"stream\", \"studies\", \"study\", \"summary\", \"summary\", \"sun\", \"support\", \"support\", \"support\", \"support\", \"sure\", \"sure\", \"survive\", \"switch\", \"sys\", \"t\", \"talking\", \"tape\", \"tc\", \"team\", \"teams\", \"technology\", \"technology\", \"technology\", \"technology_pasadena\", \"tell\", \"telnet\", \"term\", \"test\", \"texas\", \"text\", \"text\", \"th\", \"th\", \"th\", \"thanks\", \"thanks_advance\", \"thats\", \"thats\", \"theres\", \"theyre\", \"theyre\", \"thing\", \"things\", \"things\", \"think\", \"think\", \"thomas\", \"thought\", \"thought\", \"time\", \"time\", \"time\", \"times\", \"times\", \"times\", \"told\", \"toronto\", \"trade\", \"treatment\", \"trial\", \"true\", \"true\", \"trusted\", \"truth\", \"try\", \"trying\", \"trying\", \"turkey\", \"turkish\", \"turks\", \"u\", \"u\", \"ub\", \"ub\", \"uk\", \"unit\", \"united_states\", \"univ\", \"university\", \"university\", \"university_illinois\", \"unix\", \"unix\", \"unknown\", \"unlikely\", \"unusual\", \"upgrade\", \"urbana\", \"usa\", \"useless\", \"user\", \"user\", \"users\", \"users\", \"users\", \"utility\", \"uunet\", \"ux\", \"v\", \"v\", \"v\", \"va\", \"van\", \"version\", \"version\", \"version_pl\", \"video\", \"villages\", \"vms_vnews\", \"vs\", \"vs\", \"vs\", \"w\", \"want\", \"wanted\", \"war\", \"war\", \"washington\", \"wasnt\", \"watch\", \"water\", \"way\", \"way\", \"way\", \"weapon\", \"weapons\", \"week\", \"weeks\", \"weight\", \"went\", \"western\", \"white\", \"win\", \"win\", \"window\", \"windows\", \"wings\", \"wk\", \"women\", \"won\", \"wont\", \"word\", \"word\", \"work\", \"work\", \"work\", \"working\", \"world\", \"world\", \"world\", \"world\", \"worry\", \"writer\", \"wrote\", \"wrote\", \"x\", \"x\", \"y\", \"year\", \"years\", \"years\", \"years\", \"years\", \"years_ago\", \"yes\", \"young\", \"youre\", \"zero\", \"zone\"]}, \"R\": 30, \"lambda.step\": 0.01, \"plot.opts\": {\"xlab\": \"PC1\", \"ylab\": \"PC2\"}, \"topic.order\": [10, 19, 20, 16, 12, 3, 18, 7, 6, 2, 13, 9, 17, 15, 11, 8, 5, 1, 4, 14]};\n",
       "\n",
       "function LDAvis_load_lib(url, callback){\n",
       "  var s = document.createElement('script');\n",
       "  s.src = url;\n",
       "  s.async = true;\n",
       "  s.onreadystatechange = s.onload = callback;\n",
       "  s.onerror = function(){console.warn(\"failed to load library \" + url);};\n",
       "  document.getElementsByTagName(\"head\")[0].appendChild(s);\n",
       "}\n",
       "\n",
       "if(typeof(LDAvis) !== \"undefined\"){\n",
       "   // already loaded: just create the visualization\n",
       "   !function(LDAvis){\n",
       "       new LDAvis(\"#\" + \"ldavis_el2152830311278474568751177716\", ldavis_el2152830311278474568751177716_data);\n",
       "   }(LDAvis);\n",
       "}else if(typeof define === \"function\" && define.amd){\n",
       "   // require.js is available: use it to load d3/LDAvis\n",
       "   require.config({paths: {d3: \"https://d3js.org/d3.v5\"}});\n",
       "   require([\"d3\"], function(d3){\n",
       "      window.d3 = d3;\n",
       "      LDAvis_load_lib(\"https://cdn.jsdelivr.net/gh/bmabey/pyLDAvis@3.4.0/pyLDAvis/js/ldavis.v3.0.0.js\", function(){\n",
       "        new LDAvis(\"#\" + \"ldavis_el2152830311278474568751177716\", ldavis_el2152830311278474568751177716_data);\n",
       "      });\n",
       "    });\n",
       "}else{\n",
       "    // require.js not available: dynamically load d3 & LDAvis\n",
       "    LDAvis_load_lib(\"https://d3js.org/d3.v5.js\", function(){\n",
       "         LDAvis_load_lib(\"https://cdn.jsdelivr.net/gh/bmabey/pyLDAvis@3.4.0/pyLDAvis/js/ldavis.v3.0.0.js\", function(){\n",
       "                 new LDAvis(\"#\" + \"ldavis_el2152830311278474568751177716\", ldavis_el2152830311278474568751177716_data);\n",
       "            })\n",
       "         });\n",
       "}\n",
       "</script>"
      ],
      "text/plain": [
       "<IPython.core.display.HTML object>"
      ]
     },
     "execution_count": 73,
     "metadata": {},
     "output_type": "execute_result"
    }
   ],
   "source": [
    "import pyLDAvis\n",
    "import pyLDAvis.gensim_models as gensimvis\n",
    "\n",
    "# Prepare the visualization\n",
    "pyLDAvis.enable_notebook()\n",
    "vis_data = gensimvis.prepare(lda_model, corpus, dictionary)\n",
    "pyLDAvis.display(vis_data)"
   ]
  },
  {
   "cell_type": "code",
   "execution_count": null,
   "metadata": {},
   "outputs": [],
   "source": []
  }
 ],
 "metadata": {
  "kernelspec": {
   "display_name": ".venv",
   "language": "python",
   "name": "python3"
  },
  "language_info": {
   "codemirror_mode": {
    "name": "ipython",
    "version": 3
   },
   "file_extension": ".py",
   "mimetype": "text/x-python",
   "name": "python",
   "nbconvert_exporter": "python",
   "pygments_lexer": "ipython3",
   "version": "3.11.3"
  }
 },
 "nbformat": 4,
 "nbformat_minor": 4
}
